{
 "cells": [
  {
   "cell_type": "code",
   "execution_count": 31,
   "metadata": {
    "collapsed": true
   },
   "outputs": [],
   "source": [
    "import pandas as pd\n",
    "import json\n"
   ]
  },
  {
   "cell_type": "code",
   "execution_count": 43,
   "metadata": {
    "collapsed": false
   },
   "outputs": [],
   "source": [
    "ws2015 = pd.read_json('scraped_races/WSER2015.csv')\n",
    "jj2011 = pd.read_json('scraped_races/JJ2011.csv')\n",
    "athletes = pd.read_csv('athlete_dataframe/athletes_features')"
   ]
  },
  {
   "cell_type": "code",
   "execution_count": 77,
   "metadata": {
    "collapsed": false
   },
   "outputs": [
    {
     "data": {
      "text/html": [
       "<div>\n",
       "<table border=\"1\" class=\"dataframe\">\n",
       "  <thead>\n",
       "    <tr style=\"text-align: right;\">\n",
       "      <th></th>\n",
       "      <th>Unnamed: 0</th>\n",
       "      <th>Unnamed: 0.1</th>\n",
       "      <th>Age</th>\n",
       "      <th>AgeRank</th>\n",
       "      <th>Gender</th>\n",
       "      <th>Id</th>\n",
       "      <th>Rank</th>\n",
       "      <th>race_total</th>\n",
       "    </tr>\n",
       "  </thead>\n",
       "  <tbody>\n",
       "    <tr>\n",
       "      <th>0</th>\n",
       "      <td>0</td>\n",
       "      <td>0</td>\n",
       "      <td>39</td>\n",
       "      <td>0.7174</td>\n",
       "      <td>M</td>\n",
       "      <td>412317</td>\n",
       "      <td>0.6806</td>\n",
       "      <td>23</td>\n",
       "    </tr>\n",
       "    <tr>\n",
       "      <th>1</th>\n",
       "      <td>0</td>\n",
       "      <td>0</td>\n",
       "      <td>49</td>\n",
       "      <td>0.8132</td>\n",
       "      <td>M</td>\n",
       "      <td>484146</td>\n",
       "      <td>0.6987</td>\n",
       "      <td>9</td>\n",
       "    </tr>\n",
       "    <tr>\n",
       "      <th>2</th>\n",
       "      <td>0</td>\n",
       "      <td>0</td>\n",
       "      <td>51</td>\n",
       "      <td>0.8272</td>\n",
       "      <td>M</td>\n",
       "      <td>16991</td>\n",
       "      <td>0.7145</td>\n",
       "      <td>17</td>\n",
       "    </tr>\n",
       "    <tr>\n",
       "      <th>3</th>\n",
       "      <td>0</td>\n",
       "      <td>0</td>\n",
       "      <td>37</td>\n",
       "      <td>0.8995</td>\n",
       "      <td>M</td>\n",
       "      <td>449859</td>\n",
       "      <td>0.8957</td>\n",
       "      <td>17</td>\n",
       "    </tr>\n",
       "    <tr>\n",
       "      <th>4</th>\n",
       "      <td>0</td>\n",
       "      <td>0</td>\n",
       "      <td>40</td>\n",
       "      <td>0.6807</td>\n",
       "      <td>M</td>\n",
       "      <td>335053</td>\n",
       "      <td>0.6522</td>\n",
       "      <td>8</td>\n",
       "    </tr>\n",
       "  </tbody>\n",
       "</table>\n",
       "</div>"
      ],
      "text/plain": [
       "   Unnamed: 0  Unnamed: 0.1  Age  AgeRank Gender      Id    Rank  race_total\n",
       "0           0             0   39   0.7174      M  412317  0.6806          23\n",
       "1           0             0   49   0.8132      M  484146  0.6987           9\n",
       "2           0             0   51   0.8272      M   16991  0.7145          17\n",
       "3           0             0   37   0.8995      M  449859  0.8957          17\n",
       "4           0             0   40   0.6807      M  335053  0.6522           8"
      ]
     },
     "execution_count": 77,
     "metadata": {},
     "output_type": "execute_result"
    }
   ],
   "source": [
    "athletes.head()"
   ]
  },
  {
   "cell_type": "code",
   "execution_count": 34,
   "metadata": {
    "collapsed": false
   },
   "outputs": [],
   "source": [
    "jj2011_c = jj2011.drop(['photo_count', 'firstname', 'lastname', 'drilldown', 'time', 'formattime', \n",
    "                        'race_count', 'bib'\n",
    "                       , 'age_rank', 'prior_count', 'city', 'state', 'agegroup', 'place', \n",
    "                        'gender_place'], axis=1)"
   ]
  },
  {
   "cell_type": "code",
   "execution_count": 61,
   "metadata": {
    "collapsed": false
   },
   "outputs": [
    {
     "name": "stdout",
     "output_type": "stream",
     "text": [
      "<class 'pandas.core.frame.DataFrame'>\n",
      "RangeIndex: 9574 entries, 0 to 9573\n",
      "Data columns (total 7 columns):\n",
      "Unnamed: 0        9574 non-null int64\n",
      "Unnamed: 0.1      9574 non-null int64\n",
      "age               9574 non-null int64\n",
      "gender            9574 non-null object\n",
      "participant_id    9574 non-null int64\n",
      "runner_rank       9574 non-null float64\n",
      "status            9574 non-null int64\n",
      "dtypes: float64(1), int64(5), object(1)\n",
      "memory usage: 523.6+ KB\n"
     ]
    }
   ],
   "source": [
    "race_db = pd.read_csv('race_master/master_list')\n",
    "race_db.info()\n"
   ]
  },
  {
   "cell_type": "code",
   "execution_count": 79,
   "metadata": {
    "collapsed": false
   },
   "outputs": [],
   "source": [
    "for race in race_db.participant_id:\n",
    "    for athlete in athletes.Id:\n",
    "        if race == athlete:\n",
    "            race_db['Age_Rank'] = athletes['AgeRank']\n",
    "            race_db['Gender_Rank'] = athletes['Rank']\n",
    "            race_db['Total_races'] = athletes['race_total']\n",
    "        else:\n",
    "            continue"
   ]
  },
  {
   "cell_type": "code",
   "execution_count": 80,
   "metadata": {
    "collapsed": false
   },
   "outputs": [
    {
     "data": {
      "text/html": [
       "<div>\n",
       "<table border=\"1\" class=\"dataframe\">\n",
       "  <thead>\n",
       "    <tr style=\"text-align: right;\">\n",
       "      <th></th>\n",
       "      <th>Unnamed: 0</th>\n",
       "      <th>Unnamed: 0.1</th>\n",
       "      <th>age</th>\n",
       "      <th>gender</th>\n",
       "      <th>participant_id</th>\n",
       "      <th>runner_rank</th>\n",
       "      <th>status</th>\n",
       "      <th>Age_Rank</th>\n",
       "      <th>Gender_Rank</th>\n",
       "      <th>Total_races</th>\n",
       "    </tr>\n",
       "  </thead>\n",
       "  <tbody>\n",
       "    <tr>\n",
       "      <th>0</th>\n",
       "      <td>0</td>\n",
       "      <td>0</td>\n",
       "      <td>26</td>\n",
       "      <td>M</td>\n",
       "      <td>7148</td>\n",
       "      <td>88.39</td>\n",
       "      <td>1</td>\n",
       "      <td>0.7174</td>\n",
       "      <td>0.6806</td>\n",
       "      <td>23</td>\n",
       "    </tr>\n",
       "    <tr>\n",
       "      <th>1</th>\n",
       "      <td>1</td>\n",
       "      <td>1</td>\n",
       "      <td>33</td>\n",
       "      <td>M</td>\n",
       "      <td>221721</td>\n",
       "      <td>90.00</td>\n",
       "      <td>1</td>\n",
       "      <td>0.8132</td>\n",
       "      <td>0.6987</td>\n",
       "      <td>9</td>\n",
       "    </tr>\n",
       "    <tr>\n",
       "      <th>2</th>\n",
       "      <td>2</td>\n",
       "      <td>2</td>\n",
       "      <td>43</td>\n",
       "      <td>M</td>\n",
       "      <td>20020</td>\n",
       "      <td>83.63</td>\n",
       "      <td>1</td>\n",
       "      <td>0.8272</td>\n",
       "      <td>0.7145</td>\n",
       "      <td>17</td>\n",
       "    </tr>\n",
       "    <tr>\n",
       "      <th>3</th>\n",
       "      <td>3</td>\n",
       "      <td>3</td>\n",
       "      <td>36</td>\n",
       "      <td>M</td>\n",
       "      <td>25441</td>\n",
       "      <td>73.22</td>\n",
       "      <td>1</td>\n",
       "      <td>0.8995</td>\n",
       "      <td>0.8957</td>\n",
       "      <td>17</td>\n",
       "    </tr>\n",
       "    <tr>\n",
       "      <th>4</th>\n",
       "      <td>4</td>\n",
       "      <td>4</td>\n",
       "      <td>33</td>\n",
       "      <td>M</td>\n",
       "      <td>22562</td>\n",
       "      <td>87.77</td>\n",
       "      <td>1</td>\n",
       "      <td>0.6807</td>\n",
       "      <td>0.6522</td>\n",
       "      <td>8</td>\n",
       "    </tr>\n",
       "  </tbody>\n",
       "</table>\n",
       "</div>"
      ],
      "text/plain": [
       "   Unnamed: 0  Unnamed: 0.1  age gender  participant_id  runner_rank  status  \\\n",
       "0           0             0   26      M            7148        88.39       1   \n",
       "1           1             1   33      M          221721        90.00       1   \n",
       "2           2             2   43      M           20020        83.63       1   \n",
       "3           3             3   36      M           25441        73.22       1   \n",
       "4           4             4   33      M           22562        87.77       1   \n",
       "\n",
       "   Age_Rank  Gender_Rank  Total_races  \n",
       "0    0.7174       0.6806           23  \n",
       "1    0.8132       0.6987            9  \n",
       "2    0.8272       0.7145           17  \n",
       "3    0.8995       0.8957           17  \n",
       "4    0.6807       0.6522            8  "
      ]
     },
     "execution_count": 80,
     "metadata": {},
     "output_type": "execute_result"
    }
   ],
   "source": [
    "race_db.head()"
   ]
  },
  {
   "cell_type": "code",
   "execution_count": null,
   "metadata": {
    "collapsed": true
   },
   "outputs": [],
   "source": []
  }
 ],
 "metadata": {
  "kernelspec": {
   "display_name": "Python 2",
   "language": "python",
   "name": "python2"
  },
  "language_info": {
   "codemirror_mode": {
    "name": "ipython",
    "version": 2
   },
   "file_extension": ".py",
   "mimetype": "text/x-python",
   "name": "python",
   "nbconvert_exporter": "python",
   "pygments_lexer": "ipython2",
   "version": "2.7.12"
  }
 },
 "nbformat": 4,
 "nbformat_minor": 0
}
