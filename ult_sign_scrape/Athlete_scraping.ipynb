{
 "cells": [
  {
   "cell_type": "code",
   "execution_count": 189,
   "metadata": {
    "collapsed": true
   },
   "outputs": [],
   "source": [
    "import pandas as pd\n",
    "from bs4 import BeautifulSoup\n",
    "import requests\n",
    "import json\n",
    "import sys\n",
    "import pandas as pd\n",
    "import os\n",
    "reload(sys)\n",
    "sys.setdefaultencoding('utf-8')"
   ]
  },
  {
   "cell_type": "code",
   "execution_count": 175,
   "metadata": {
    "collapsed": false
   },
   "outputs": [],
   "source": [
    "wser2015 = pd.read_json('race_results/WSER2015.csv')\n",
    "bear2016 = pd.read_json('race_results/Bear2016.csv')\n",
    "black2016 = pd.read_json('race_results/Black_Canyon2016.csv')\n",
    "es100 = pd.read_json('race_results/ES1002016.csv')\n",
    "fatdog100 = pd.read_json('race_results/FatDog2016.csv')\n",
    "sd100 = pd.read_json('race_results/SD2016.csv')"
   ]
  },
  {
   "cell_type": "code",
   "execution_count": 176,
   "metadata": {
    "collapsed": false
   },
   "outputs": [],
   "source": [
    "test_df = wser2015[['firstname','lastname']]"
   ]
  },
  {
   "cell_type": "code",
   "execution_count": 178,
   "metadata": {
    "collapsed": false
   },
   "outputs": [],
   "source": [
    "root_url = 'http://ultrasignup.com'\n",
    "name_dict = test_df.to_dict('records')\n",
    "racers = [(r['firstname'], r['lastname']) for r in name_dict]\n",
    "for racer in racers:\n",
    "     get_racer_results(root_url, racer[0], racer[1])"
   ]
  },
  {
   "cell_type": "code",
   "execution_count": 177,
   "metadata": {
    "collapsed": false
   },
   "outputs": [],
   "source": [
    "def get_racer_results(root_url, fname, lname):\n",
    "    '''Retrieve results data for a given racer'''\n",
    "    res_url = root_url + \\\n",
    "    \"/service/events.svc/history/%s/%s/\" % (fname, lname)\n",
    "    race_lst = requests.get(res_url).text\n",
    "    filename = fname + '_' + lname + '.csv'\n",
    "    f = open(filename, 'w')\n",
    "    f.write(race_lst)\n",
    "    f.close()"
   ]
  },
  {
   "cell_type": "code",
   "execution_count": 36,
   "metadata": {
    "collapsed": false
   },
   "outputs": [
    {
     "data": {
      "text/html": [
       "<div>\n",
       "<table border=\"1\" class=\"dataframe\">\n",
       "  <thead>\n",
       "    <tr style=\"text-align: right;\">\n",
       "      <th></th>\n",
       "      <th>Age</th>\n",
       "      <th>AgeRank</th>\n",
       "      <th>FirstName</th>\n",
       "      <th>Gender</th>\n",
       "      <th>Id</th>\n",
       "      <th>ImageId</th>\n",
       "      <th>LastName</th>\n",
       "      <th>Rank</th>\n",
       "      <th>Results</th>\n",
       "      <th>Status</th>\n",
       "    </tr>\n",
       "  </thead>\n",
       "  <tbody>\n",
       "    <tr>\n",
       "      <th>0</th>\n",
       "      <td>39</td>\n",
       "      <td>0.9991</td>\n",
       "      <td>Rob</td>\n",
       "      <td>M</td>\n",
       "      <td>374334</td>\n",
       "      <td>27622edf-049c-41e1-b145-3805786b8924</td>\n",
       "      <td>Krar</td>\n",
       "      <td>0.9981</td>\n",
       "      <td>[{u'status': 1, u'city': u'Park City', u'photo...</td>\n",
       "      <td>0</td>\n",
       "    </tr>\n",
       "  </tbody>\n",
       "</table>\n",
       "</div>"
      ],
      "text/plain": [
       "   Age  AgeRank FirstName Gender      Id  \\\n",
       "0   39   0.9991       Rob      M  374334   \n",
       "\n",
       "                                ImageId LastName    Rank  \\\n",
       "0  27622edf-049c-41e1-b145-3805786b8924     Krar  0.9981   \n",
       "\n",
       "                                             Results  Status  \n",
       "0  [{u'status': 1, u'city': u'Park City', u'photo...       0  "
      ]
     },
     "execution_count": 36,
     "metadata": {},
     "output_type": "execute_result"
    }
   ],
   "source": [
    "krar = pd.read_json('Rob_Krar.csv')\n",
    "krar.head()"
   ]
  },
  {
   "cell_type": "code",
   "execution_count": 115,
   "metadata": {
    "collapsed": false
   },
   "outputs": [],
   "source": [
    "results = krar['Results'].values"
   ]
  },
  {
   "cell_type": "code",
   "execution_count": 116,
   "metadata": {
    "collapsed": false
   },
   "outputs": [],
   "source": [
    "json1_data = json.dumps(results[0][1:])"
   ]
  },
  {
   "cell_type": "code",
   "execution_count": 117,
   "metadata": {
    "collapsed": false
   },
   "outputs": [],
   "source": [
    "results = json.loads(json1_data)"
   ]
  },
  {
   "cell_type": "code",
   "execution_count": 118,
   "metadata": {
    "collapsed": false
   },
   "outputs": [],
   "source": [
    "results_df = pd.DataFrame(results)"
   ]
  },
  {
   "cell_type": "code",
   "execution_count": 188,
   "metadata": {
    "collapsed": false
   },
   "outputs": [
    {
     "data": {
      "text/plain": [
       "1    17\n",
       "0     2\n",
       "Name: drilldown, dtype: int64"
      ]
     },
     "execution_count": 188,
     "metadata": {},
     "output_type": "execute_result"
    }
   ],
   "source": [
    "results_df.drilldown.value_counts()"
   ]
  },
  {
   "cell_type": "code",
   "execution_count": 193,
   "metadata": {
    "collapsed": false
   },
   "outputs": [],
   "source": [
    "directory = '/race_results'\n",
    "for p, dirs, files in os.walk(directory):\n",
    "        for ff in files:\n",
    "            "
   ]
  },
  {
   "cell_type": "code",
   "execution_count": 187,
   "metadata": {
    "collapsed": false
   },
   "outputs": [],
   "source": []
  },
  {
   "cell_type": "code",
   "execution_count": null,
   "metadata": {
    "collapsed": true
   },
   "outputs": [],
   "source": []
  }
 ],
 "metadata": {
  "kernelspec": {
   "display_name": "Python 2",
   "language": "python",
   "name": "python2"
  },
  "language_info": {
   "codemirror_mode": {
    "name": "ipython",
    "version": 2
   },
   "file_extension": ".py",
   "mimetype": "text/x-python",
   "name": "python",
   "nbconvert_exporter": "python",
   "pygments_lexer": "ipython2",
   "version": "2.7.12"
  }
 },
 "nbformat": 4,
 "nbformat_minor": 0
}
