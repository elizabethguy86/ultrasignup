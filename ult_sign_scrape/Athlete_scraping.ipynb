{
 "cells": [
  {
   "cell_type": "code",
   "execution_count": 78,
   "metadata": {
    "collapsed": true
   },
   "outputs": [],
   "source": [
    "import pandas as pd\n",
    "from bs4 import BeautifulSoup\n",
    "import requests\n",
    "import json\n",
    "import sys\n",
    "import pandas as pd\n",
    "import os\n",
    "reload(sys)\n",
    "sys.setdefaultencoding('utf-8')"
   ]
  },
  {
   "cell_type": "code",
   "execution_count": 79,
   "metadata": {
    "collapsed": false
   },
   "outputs": [],
   "source": [
    "directory = 'clean_athlete'\n",
    "athlete_list = []\n",
    "for p, dirs, files in os.walk(directory):\n",
    "        print [athlete_list.append(f) for f in files]"
   ]
  },
  {
   "cell_type": "code",
   "execution_count": 80,
   "metadata": {
    "collapsed": false
   },
   "outputs": [],
   "source": [
    "stef = pd.read_json('clean_athlete/Stefanie_Bernosky.csv_clean.csv')\n",
    "stef_raw = pd.read_json('racers/Stefanie_Bernosky.csv')"
   ]
  },
  {
   "cell_type": "code",
   "execution_count": 81,
   "metadata": {
    "collapsed": false
   },
   "outputs": [
    {
     "data": {
      "text/html": [
       "<div>\n",
       "<table border=\"1\" class=\"dataframe\">\n",
       "  <thead>\n",
       "    <tr style=\"text-align: right;\">\n",
       "      <th></th>\n",
       "      <th>Age</th>\n",
       "      <th>AgeRank</th>\n",
       "      <th>FirstName</th>\n",
       "      <th>Gender</th>\n",
       "      <th>Id</th>\n",
       "      <th>ImageId</th>\n",
       "      <th>LastName</th>\n",
       "      <th>Rank</th>\n",
       "      <th>Results</th>\n",
       "      <th>Status</th>\n",
       "    </tr>\n",
       "  </thead>\n",
       "  <tbody>\n",
       "    <tr>\n",
       "      <th>0</th>\n",
       "      <td>34</td>\n",
       "      <td>0.7972</td>\n",
       "      <td>Stefanie</td>\n",
       "      <td>F</td>\n",
       "      <td>287280</td>\n",
       "      <td>8e3501d5-8bb2-4746-921e-0aeb91764939</td>\n",
       "      <td>Bernosky</td>\n",
       "      <td>0.7627</td>\n",
       "      <td>[{u'status': -1, u'city': u'Silverton', u'phot...</td>\n",
       "      <td>0</td>\n",
       "    </tr>\n",
       "  </tbody>\n",
       "</table>\n",
       "</div>"
      ],
      "text/plain": [
       "   Age  AgeRank FirstName Gender      Id  \\\n",
       "0   34   0.7972  Stefanie      F  287280   \n",
       "\n",
       "                                ImageId  LastName    Rank  \\\n",
       "0  8e3501d5-8bb2-4746-921e-0aeb91764939  Bernosky  0.7627   \n",
       "\n",
       "                                             Results  Status  \n",
       "0  [{u'status': -1, u'city': u'Silverton', u'phot...       0  "
      ]
     },
     "execution_count": 81,
     "metadata": {},
     "output_type": "execute_result"
    }
   ],
   "source": [
    "stef_raw.head()"
   ]
  },
  {
   "cell_type": "code",
   "execution_count": 82,
   "metadata": {
    "collapsed": false
   },
   "outputs": [
    {
     "data": {
      "text/html": [
       "<div>\n",
       "<table border=\"1\" class=\"dataframe\">\n",
       "  <thead>\n",
       "    <tr style=\"text-align: right;\">\n",
       "      <th></th>\n",
       "      <th>age</th>\n",
       "      <th>age_rank</th>\n",
       "      <th>city</th>\n",
       "      <th>drilldown</th>\n",
       "      <th>event_distance_id</th>\n",
       "      <th>eventdate</th>\n",
       "      <th>eventname</th>\n",
       "      <th>formattime</th>\n",
       "      <th>gender_place</th>\n",
       "      <th>photo_count</th>\n",
       "      <th>place</th>\n",
       "      <th>prior_count</th>\n",
       "      <th>race_count</th>\n",
       "      <th>runner_rank</th>\n",
       "      <th>state</th>\n",
       "      <th>status</th>\n",
       "      <th>time</th>\n",
       "    </tr>\n",
       "  </thead>\n",
       "  <tbody>\n",
       "    <tr>\n",
       "      <th>0</th>\n",
       "      <td>35</td>\n",
       "      <td>0</td>\n",
       "      <td>Blairsville</td>\n",
       "      <td>1</td>\n",
       "      <td>38292</td>\n",
       "      <td>4/1/2017 12:00:00 AM</td>\n",
       "      <td>The Georgia Death Race - 68 Miler</td>\n",
       "      <td>0</td>\n",
       "      <td>0</td>\n",
       "      <td>0</td>\n",
       "      <td>0</td>\n",
       "      <td>0</td>\n",
       "      <td>0</td>\n",
       "      <td>0.0000</td>\n",
       "      <td>GA</td>\n",
       "      <td>-1</td>\n",
       "      <td>0</td>\n",
       "    </tr>\n",
       "    <tr>\n",
       "      <th>1</th>\n",
       "      <td>34</td>\n",
       "      <td>0</td>\n",
       "      <td>Easton</td>\n",
       "      <td>1</td>\n",
       "      <td>34327</td>\n",
       "      <td>8/27/2016 12:00:00 AM</td>\n",
       "      <td>Cascade Crest - 100 Miler</td>\n",
       "      <td>32:30:51</td>\n",
       "      <td>26</td>\n",
       "      <td>0</td>\n",
       "      <td>105</td>\n",
       "      <td>0</td>\n",
       "      <td>0</td>\n",
       "      <td>0.6881</td>\n",
       "      <td>WA</td>\n",
       "      <td>1</td>\n",
       "      <td>32:30:51</td>\n",
       "    </tr>\n",
       "    <tr>\n",
       "      <th>2</th>\n",
       "      <td>34</td>\n",
       "      <td>0</td>\n",
       "      <td>Sturgis</td>\n",
       "      <td>1</td>\n",
       "      <td>33530</td>\n",
       "      <td>6/24/2016 12:00:00 AM</td>\n",
       "      <td>Black Hills 100 - 50 Miler</td>\n",
       "      <td>11:27:36</td>\n",
       "      <td>6</td>\n",
       "      <td>0</td>\n",
       "      <td>16</td>\n",
       "      <td>0</td>\n",
       "      <td>0</td>\n",
       "      <td>0.8436</td>\n",
       "      <td>SD</td>\n",
       "      <td>1</td>\n",
       "      <td>11:27:36</td>\n",
       "    </tr>\n",
       "    <tr>\n",
       "      <th>3</th>\n",
       "      <td>34</td>\n",
       "      <td>0</td>\n",
       "      <td>Stinson Beach</td>\n",
       "      <td>0</td>\n",
       "      <td>33379</td>\n",
       "      <td>5/7/2016 12:00:00 AM</td>\n",
       "      <td>Miwok 100K - 100K</td>\n",
       "      <td>14:02:42</td>\n",
       "      <td>27</td>\n",
       "      <td>0</td>\n",
       "      <td>174</td>\n",
       "      <td>0</td>\n",
       "      <td>0</td>\n",
       "      <td>0.7420</td>\n",
       "      <td>CA</td>\n",
       "      <td>1</td>\n",
       "      <td>14:02:42</td>\n",
       "    </tr>\n",
       "    <tr>\n",
       "      <th>4</th>\n",
       "      <td>33</td>\n",
       "      <td>0</td>\n",
       "      <td>Huntsville</td>\n",
       "      <td>0</td>\n",
       "      <td>35690</td>\n",
       "      <td>2/6/2016 12:00:00 AM</td>\n",
       "      <td>Rocky Raccoon - 100 Miler</td>\n",
       "      <td>22:21:56</td>\n",
       "      <td>8</td>\n",
       "      <td>0</td>\n",
       "      <td>52</td>\n",
       "      <td>0</td>\n",
       "      <td>0</td>\n",
       "      <td>0.6676</td>\n",
       "      <td>TX</td>\n",
       "      <td>1</td>\n",
       "      <td>22:21:56</td>\n",
       "    </tr>\n",
       "  </tbody>\n",
       "</table>\n",
       "</div>"
      ],
      "text/plain": [
       "   age  age_rank           city  drilldown  event_distance_id  \\\n",
       "0   35         0    Blairsville          1              38292   \n",
       "1   34         0         Easton          1              34327   \n",
       "2   34         0        Sturgis          1              33530   \n",
       "3   34         0  Stinson Beach          0              33379   \n",
       "4   33         0     Huntsville          0              35690   \n",
       "\n",
       "               eventdate                          eventname formattime  \\\n",
       "0   4/1/2017 12:00:00 AM  The Georgia Death Race - 68 Miler          0   \n",
       "1  8/27/2016 12:00:00 AM          Cascade Crest - 100 Miler   32:30:51   \n",
       "2  6/24/2016 12:00:00 AM         Black Hills 100 - 50 Miler   11:27:36   \n",
       "3   5/7/2016 12:00:00 AM                  Miwok 100K - 100K   14:02:42   \n",
       "4   2/6/2016 12:00:00 AM          Rocky Raccoon - 100 Miler   22:21:56   \n",
       "\n",
       "   gender_place  photo_count  place  prior_count  race_count  runner_rank  \\\n",
       "0             0            0      0            0           0       0.0000   \n",
       "1            26            0    105            0           0       0.6881   \n",
       "2             6            0     16            0           0       0.8436   \n",
       "3            27            0    174            0           0       0.7420   \n",
       "4             8            0     52            0           0       0.6676   \n",
       "\n",
       "  state  status      time  \n",
       "0    GA      -1         0  \n",
       "1    WA       1  32:30:51  \n",
       "2    SD       1  11:27:36  \n",
       "3    CA       1  14:02:42  \n",
       "4    TX       1  22:21:56  "
      ]
     },
     "execution_count": 82,
     "metadata": {},
     "output_type": "execute_result"
    }
   ],
   "source": [
    "stef.head()"
   ]
  },
  {
   "cell_type": "code",
   "execution_count": 83,
   "metadata": {
    "collapsed": false
   },
   "outputs": [],
   "source": [
    "stef_raw = stef_raw.drop(['ImageId', 'Status', 'FirstName', 'LastName', 'Id', 'Results'], axis=1)\n",
    "#stef_raw['future'] = (stef['status'] == -1).count()"
   ]
  },
  {
   "cell_type": "code",
   "execution_count": 85,
   "metadata": {
    "collapsed": false
   },
   "outputs": [],
   "source": [
    "stef_raw['race_total'] = stef['status'].count()"
   ]
  },
  {
   "cell_type": "code",
   "execution_count": 86,
   "metadata": {
    "collapsed": false
   },
   "outputs": [
    {
     "data": {
      "text/html": [
       "<div>\n",
       "<table border=\"1\" class=\"dataframe\">\n",
       "  <thead>\n",
       "    <tr style=\"text-align: right;\">\n",
       "      <th></th>\n",
       "      <th>Age</th>\n",
       "      <th>AgeRank</th>\n",
       "      <th>Gender</th>\n",
       "      <th>Rank</th>\n",
       "      <th>race_total</th>\n",
       "    </tr>\n",
       "  </thead>\n",
       "  <tbody>\n",
       "    <tr>\n",
       "      <th>0</th>\n",
       "      <td>34</td>\n",
       "      <td>0.7972</td>\n",
       "      <td>F</td>\n",
       "      <td>0.7627</td>\n",
       "      <td>35</td>\n",
       "    </tr>\n",
       "  </tbody>\n",
       "</table>\n",
       "</div>"
      ],
      "text/plain": [
       "   Age  AgeRank Gender    Rank  race_total\n",
       "0   34   0.7972      F  0.7627          35"
      ]
     },
     "execution_count": 86,
     "metadata": {},
     "output_type": "execute_result"
    }
   ],
   "source": [
    "stef_raw.head()"
   ]
  },
  {
   "cell_type": "code",
   "execution_count": 91,
   "metadata": {
    "collapsed": false
   },
   "outputs": [],
   "source": [
    "value = stef[stef['status']== -1].count() "
   ]
  },
  {
   "cell_type": "code",
   "execution_count": 92,
   "metadata": {
    "collapsed": false
   },
   "outputs": [
    {
     "data": {
      "text/plain": [
       "age                  1\n",
       "age_rank             1\n",
       "city                 1\n",
       "drilldown            1\n",
       "event_distance_id    1\n",
       "eventdate            1\n",
       "eventname            1\n",
       "formattime           1\n",
       "gender_place         1\n",
       "photo_count          1\n",
       "place                1\n",
       "prior_count          1\n",
       "race_count           1\n",
       "runner_rank          1\n",
       "state                1\n",
       "status               1\n",
       "time                 1\n",
       "dtype: int64"
      ]
     },
     "execution_count": 92,
     "metadata": {},
     "output_type": "execute_result"
    }
   ],
   "source": [
    "value"
   ]
  },
  {
   "cell_type": "code",
   "execution_count": null,
   "metadata": {
    "collapsed": false
   },
   "outputs": [],
   "source": []
  },
  {
   "cell_type": "code",
   "execution_count": null,
   "metadata": {
    "collapsed": false
   },
   "outputs": [],
   "source": [
    "\n",
    "            "
   ]
  },
  {
   "cell_type": "code",
   "execution_count": 215,
   "metadata": {
    "collapsed": false
   },
   "outputs": [],
   "source": []
  },
  {
   "cell_type": "code",
   "execution_count": null,
   "metadata": {
    "collapsed": false
   },
   "outputs": [],
   "source": []
  },
  {
   "cell_type": "code",
   "execution_count": null,
   "metadata": {
    "collapsed": true
   },
   "outputs": [],
   "source": []
  }
 ],
 "metadata": {
  "kernelspec": {
   "display_name": "Python 2",
   "language": "python",
   "name": "python2"
  },
  "language_info": {
   "codemirror_mode": {
    "name": "ipython",
    "version": 2
   },
   "file_extension": ".py",
   "mimetype": "text/x-python",
   "name": "python",
   "nbconvert_exporter": "python",
   "pygments_lexer": "ipython2",
   "version": "2.7.12"
  }
 },
 "nbformat": 4,
 "nbformat_minor": 0
}
