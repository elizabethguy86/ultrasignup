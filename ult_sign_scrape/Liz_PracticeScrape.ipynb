{
 "cells": [
  {
   "cell_type": "code",
   "execution_count": 1,
   "metadata": {},
   "outputs": [],
   "source": [
    "import requests\n",
    "from selenium.webdriver import (Chrome)\n",
    "from string import ascii_lowercase\n",
    "from pymongo import MongoClient\n",
    "from bs4 import BeautifulSoup\n",
    "import json\n",
    "import sys\n",
    "import pandas as pd\n",
    "import time\n",
    "from scipy.stats import ttest_ind, kruskal\n",
    "import plotly.plotly as py\n",
    "import plotly.graph_objs as go"
   ]
  },
  {
   "cell_type": "code",
   "execution_count": 2,
   "metadata": {},
   "outputs": [],
   "source": [
    "def get_results(index_url):\n",
    "    '''Starts web scraper to get table\n",
    "    with runner results.  Returns column headers\n",
    "    and result data.'''\n",
    "    browser = Chrome()\n",
    "    browser.get(index_url)\n",
    "    sel = \"gbox_list\" \n",
    "    cascade100results=browser.find_element_by_id(sel) #setting a css selector\n",
    "    table_rows = cascade100results.text.split('\\n')\n",
    "    runner_rows = [row.split() for row in table_rows]\n",
    "    cols = runner_rows[0:10] #column headers\n",
    "    content = runner_rows[11:] #the actual runner results\n",
    "    return (cols, content)"
   ]
  },
  {
   "cell_type": "code",
   "execution_count": 3,
   "metadata": {},
   "outputs": [],
   "source": [
    "root_url = 'http://ultrasignup.com'\n",
    "index_url = root_url + '/results_event.aspx?did=41880'"
   ]
  },
  {
   "cell_type": "code",
   "execution_count": 4,
   "metadata": {},
   "outputs": [],
   "source": [
    "cols, content = get_results(index_url=index_url)"
   ]
  },
  {
   "cell_type": "code",
   "execution_count": null,
   "metadata": {},
   "outputs": [],
   "source": []
  },
  {
   "cell_type": "code",
   "execution_count": 5,
   "metadata": {},
   "outputs": [],
   "source": [
    "\n",
    "#find index of Did Not Finish and Did Not Start\n",
    "def find_idx(content):\n",
    "    indices = []\n",
    "    for idx, row in enumerate(content):\n",
    "        if row[0] == 'Did':\n",
    "            indices.append(idx)\n",
    "    return indices"
   ]
  },
  {
   "cell_type": "code",
   "execution_count": 6,
   "metadata": {},
   "outputs": [
    {
     "data": {
      "text/plain": [
       "[109, 163]"
      ]
     },
     "execution_count": 6,
     "metadata": {},
     "output_type": "execute_result"
    }
   ],
   "source": [
    "indices = find_idx(content)\n",
    "indices"
   ]
  },
  {
   "cell_type": "code",
   "execution_count": 7,
   "metadata": {},
   "outputs": [],
   "source": [
    "finished = content[0:109]"
   ]
  },
  {
   "cell_type": "code",
   "execution_count": 8,
   "metadata": {},
   "outputs": [],
   "source": [
    "DNF = content[111:163]"
   ]
  },
  {
   "cell_type": "code",
   "execution_count": 9,
   "metadata": {},
   "outputs": [],
   "source": [
    "DNS = content[163:]"
   ]
  },
  {
   "cell_type": "code",
   "execution_count": 10,
   "metadata": {},
   "outputs": [],
   "source": [
    "def make_finisher_df(content, idx_1):\n",
    "    '''take in runner row content and the index\n",
    "    indicating the end of the finishers list (idx_1).  \n",
    "    return dataframe with the male and female times.'''\n",
    "    finished = content[0:idx_1]\n",
    "    gender = []\n",
    "    times = []\n",
    "    for row in finished:\n",
    "        times.append(row[-2])\n",
    "        gender.append(row[-4])\n",
    "    df = pd.DataFrame({'Gender': gender, 'Time': times})\n",
    "    df['Time'] = df['Time'].str.split(':')\n",
    "    df['Time'] = df['Time'].apply(lambda x: int(x[0]) * 60 + int(x[1]) + float(x[2])/60)\n",
    "    return df"
   ]
  },
  {
   "cell_type": "code",
   "execution_count": 11,
   "metadata": {},
   "outputs": [],
   "source": [
    "cascade1002017 = make_finisher_df(content, indices[0])"
   ]
  },
  {
   "cell_type": "code",
   "execution_count": 12,
   "metadata": {},
   "outputs": [],
   "source": [
    "males = cascade1002017[cascade1002017['Gender'] == 'M']"
   ]
  },
  {
   "cell_type": "code",
   "execution_count": 13,
   "metadata": {},
   "outputs": [],
   "source": [
    "females = cascade1002017[cascade1002017['Gender'] == 'F']"
   ]
  },
  {
   "cell_type": "code",
   "execution_count": 14,
   "metadata": {},
   "outputs": [
    {
     "data": {
      "text/plain": [
       "32.17009942137171"
      ]
     },
     "execution_count": 14,
     "metadata": {},
     "output_type": "execute_result"
    }
   ],
   "source": [
    "females['Time'].mean()\n",
    "females['Time'].sem()"
   ]
  },
  {
   "cell_type": "code",
   "execution_count": 15,
   "metadata": {},
   "outputs": [
    {
     "data": {
      "text/plain": [
       "1762.6929824561405"
      ]
     },
     "execution_count": 15,
     "metadata": {},
     "output_type": "execute_result"
    }
   ],
   "source": [
    "males['Time'].mean()"
   ]
  },
  {
   "cell_type": "code",
   "execution_count": 16,
   "metadata": {},
   "outputs": [],
   "source": [
    "#t-test on males vs females finishing times\n",
    "cascade_ttest2017 = ttest_ind(females['Time'], males['Time'], equal_var=False)"
   ]
  },
  {
   "cell_type": "code",
   "execution_count": 17,
   "metadata": {},
   "outputs": [],
   "source": [
    "trace1 = [go.Bar(\n",
    "    x=['Male', 'Female'],\n",
    "    y=[males['Time'].mean(), females['Time'].mean()],\n",
    "    name='Cascade Crest 100',\n",
    "    error_y=dict(\n",
    "        type='data',\n",
    "        array=[males['Time'].sem(), females['Time'].sem()],\n",
    "        visible=True\n",
    "    )\n",
    ")\n",
    "         ]"
   ]
  },
  {
   "cell_type": "code",
   "execution_count": 18,
   "metadata": {},
   "outputs": [
    {
     "data": {
      "text/html": [
       "<iframe id=\"igraph\" scrolling=\"no\" style=\"border:none;\" seamless=\"seamless\" src=\"https://plot.ly/~elizabethguy86/8.embed\" height=\"525px\" width=\"100%\"></iframe>"
      ],
      "text/plain": [
       "<plotly.tools.PlotlyDisplay object>"
      ]
     },
     "execution_count": 18,
     "metadata": {},
     "output_type": "execute_result"
    }
   ],
   "source": [
    "\n",
    "py.iplot(trace1, filename='error-bar-bar')"
   ]
  },
  {
   "cell_type": "code",
   "execution_count": 19,
   "metadata": {},
   "outputs": [],
   "source": [
    "def make_DNF_counts(DNF):\n",
    "    '''Takes in the DNF list as an input\n",
    "    and returns the male and female proportional counts.'''\n",
    "    males = 0\n",
    "    females = 0\n",
    "    for row in DNF:\n",
    "        if row[-3] == 'M':\n",
    "            males +=1\n",
    "        else:\n",
    "            females += 1\n",
    "    return males/len(DNF), females/len(DNF)\n"
   ]
  },
  {
   "cell_type": "code",
   "execution_count": 20,
   "metadata": {},
   "outputs": [],
   "source": [
    "pct_male, pct_female = make_DNF_counts(DNF)"
   ]
  },
  {
   "cell_type": "code",
   "execution_count": 21,
   "metadata": {},
   "outputs": [
    {
     "data": {
      "text/plain": [
       "0.2"
      ]
     },
     "execution_count": 21,
     "metadata": {},
     "output_type": "execute_result"
    }
   ],
   "source": [
    "len(females)/len(content)"
   ]
  },
  {
   "cell_type": "code",
   "execution_count": 22,
   "metadata": {},
   "outputs": [
    {
     "data": {
      "text/plain": [
       "0.46060606060606063"
      ]
     },
     "execution_count": 22,
     "metadata": {},
     "output_type": "execute_result"
    }
   ],
   "source": [
    "len(males)/len(content)"
   ]
  },
  {
   "cell_type": "code",
   "execution_count": 23,
   "metadata": {},
   "outputs": [
    {
     "data": {
      "text/plain": [
       "113.0"
      ]
     },
     "execution_count": 23,
     "metadata": {},
     "output_type": "execute_result"
    }
   ],
   "source": [
    "len(males) + pct_male*len(DNF)"
   ]
  },
  {
   "cell_type": "code",
   "execution_count": 24,
   "metadata": {},
   "outputs": [
    {
     "data": {
      "text/plain": [
       "48.0"
      ]
     },
     "execution_count": 24,
     "metadata": {},
     "output_type": "execute_result"
    }
   ],
   "source": [
    "len(females) + pct_female*len(DNF)"
   ]
  },
  {
   "cell_type": "code",
   "execution_count": 25,
   "metadata": {},
   "outputs": [
    {
     "data": {
      "text/plain": [
       "0.2981366459627329"
      ]
     },
     "execution_count": 25,
     "metadata": {},
     "output_type": "execute_result"
    }
   ],
   "source": [
    "48/(113+48) #30 pct of the entire field is female, 29% of DNFs are female"
   ]
  },
  {
   "cell_type": "code",
   "execution_count": 26,
   "metadata": {},
   "outputs": [
    {
     "data": {
      "text/plain": [
       "0.7018633540372671"
      ]
     },
     "execution_count": 26,
     "metadata": {},
     "output_type": "execute_result"
    }
   ],
   "source": [
    "113/(113+48) #70 pct of the entire field is male, 71% of the DNFs are male"
   ]
  },
  {
   "cell_type": "code",
   "execution_count": 27,
   "metadata": {},
   "outputs": [
    {
     "data": {
      "text/plain": [
       "0.28846153846153844"
      ]
     },
     "execution_count": 27,
     "metadata": {},
     "output_type": "execute_result"
    }
   ],
   "source": [
    "pct_female"
   ]
  },
  {
   "cell_type": "code",
   "execution_count": 28,
   "metadata": {},
   "outputs": [
    {
     "data": {
      "text/plain": [
       "0.7115384615384616"
      ]
     },
     "execution_count": 28,
     "metadata": {},
     "output_type": "execute_result"
    }
   ],
   "source": [
    "pct_male"
   ]
  },
  {
   "cell_type": "code",
   "execution_count": 29,
   "metadata": {},
   "outputs": [],
   "source": [
    "cc100_2018_url = root_url + '/results_event.aspx?did=51691'"
   ]
  },
  {
   "cell_type": "code",
   "execution_count": 30,
   "metadata": {},
   "outputs": [],
   "source": [
    "cols_2, content_2 = get_results(cc100_2018_url)"
   ]
  },
  {
   "cell_type": "code",
   "execution_count": 31,
   "metadata": {},
   "outputs": [
    {
     "data": {
      "text/plain": [
       "[]"
      ]
     },
     "execution_count": 31,
     "metadata": {},
     "output_type": "execute_result"
    }
   ],
   "source": [
    "find_idx(content_2)"
   ]
  },
  {
   "cell_type": "code",
   "execution_count": 32,
   "metadata": {},
   "outputs": [
    {
     "data": {
      "text/plain": [
       "146"
      ]
     },
     "execution_count": 32,
     "metadata": {},
     "output_type": "execute_result"
    }
   ],
   "source": [
    "cascade1002018 = make_finisher_df(content_2, len(content_2))\n",
    "len(cascade1002018)"
   ]
  },
  {
   "cell_type": "code",
   "execution_count": 33,
   "metadata": {},
   "outputs": [],
   "source": [
    "males_2018 = cascade1002018[cascade1002018['Gender'] == 'M']"
   ]
  },
  {
   "cell_type": "code",
   "execution_count": 34,
   "metadata": {},
   "outputs": [],
   "source": [
    "females_2018 = cascade1002018[cascade1002018['Gender'] == 'F']"
   ]
  },
  {
   "cell_type": "code",
   "execution_count": 35,
   "metadata": {},
   "outputs": [],
   "source": [
    "#t-test on males vs females finishing times\n",
    "cascade_ttest2018 = ttest_ind(females_2018['Time'], males_2018['Time'], equal_var=False)"
   ]
  },
  {
   "cell_type": "code",
   "execution_count": 36,
   "metadata": {},
   "outputs": [],
   "source": [
    "trace4 = [go.Bar(\n",
    "    x=['Male', 'Female'],\n",
    "    y=[males_2018['Time'].mean(), females_2018['Time'].mean()],\n",
    "    name='Cascade Crest 100 2018',\n",
    "    error_y=dict(\n",
    "        type='data',\n",
    "        array=[males_2018['Time'].sem(), females_2018['Time'].sem()],\n",
    "        visible=True\n",
    "    )\n",
    ")\n",
    "         ]"
   ]
  },
  {
   "cell_type": "code",
   "execution_count": 37,
   "metadata": {},
   "outputs": [
    {
     "data": {
      "text/html": [
       "<iframe id=\"igraph\" scrolling=\"no\" style=\"border:none;\" seamless=\"seamless\" src=\"https://plot.ly/~elizabethguy86/14.embed\" height=\"525px\" width=\"100%\"></iframe>"
      ],
      "text/plain": [
       "<plotly.tools.PlotlyDisplay object>"
      ]
     },
     "execution_count": 37,
     "metadata": {},
     "output_type": "execute_result"
    }
   ],
   "source": [
    "py.iplot(trace4, filename='Cascade100_2018')"
   ]
  },
  {
   "cell_type": "code",
   "execution_count": 38,
   "metadata": {},
   "outputs": [],
   "source": [
    "RRR100_2018_tortoises = root_url + '/results_event.aspx?did=60025'"
   ]
  },
  {
   "cell_type": "code",
   "execution_count": 39,
   "metadata": {},
   "outputs": [],
   "source": [
    "cols_RRR, content_RRR = get_results(RRR100_2018_tortoises)"
   ]
  },
  {
   "cell_type": "code",
   "execution_count": 40,
   "metadata": {},
   "outputs": [
    {
     "data": {
      "text/plain": [
       "[]"
      ]
     },
     "execution_count": 40,
     "metadata": {},
     "output_type": "execute_result"
    }
   ],
   "source": [
    "find_idx(content_RRR)"
   ]
  },
  {
   "cell_type": "code",
   "execution_count": 41,
   "metadata": {},
   "outputs": [],
   "source": [
    "RRR2018_tortoises = make_finisher_df(content_RRR, len(content_RRR))"
   ]
  },
  {
   "cell_type": "code",
   "execution_count": 42,
   "metadata": {},
   "outputs": [],
   "source": [
    "male_tortoises = RRR2018_tortoises[RRR2018_tortoises['Gender'] == 'M']"
   ]
  },
  {
   "cell_type": "code",
   "execution_count": 43,
   "metadata": {},
   "outputs": [],
   "source": [
    "female_tortoises = RRR2018_tortoises[RRR2018_tortoises['Gender'] == 'F']"
   ]
  },
  {
   "cell_type": "code",
   "execution_count": 44,
   "metadata": {},
   "outputs": [],
   "source": [
    "RRR_tort_ttest = ttest_ind(female_tortoises['Time'], male_tortoises['Time'], equal_var=False)"
   ]
  },
  {
   "cell_type": "code",
   "execution_count": 45,
   "metadata": {},
   "outputs": [
    {
     "data": {
      "text/plain": [
       "166"
      ]
     },
     "execution_count": 45,
     "metadata": {},
     "output_type": "execute_result"
    }
   ],
   "source": [
    "len(RRR2018_tortoises)"
   ]
  },
  {
   "cell_type": "code",
   "execution_count": 46,
   "metadata": {},
   "outputs": [],
   "source": [
    "trace2 = go.Bar(\n",
    "    x=['Male', 'Female'],\n",
    "    y=[male_tortoises['Time'].mean(), female_tortoises['Time'].mean()],\n",
    "    name='RRR 100',\n",
    "    error_y=dict(\n",
    "        type='data',\n",
    "        array=[male_tortoises['Time'].sem(), female_tortoises['Time'].sem()],\n",
    "        visible=True\n",
    "    )\n",
    ")\n",
    "         "
   ]
  },
  {
   "cell_type": "code",
   "execution_count": 47,
   "metadata": {},
   "outputs": [
    {
     "name": "stderr",
     "output_type": "stream",
     "text": [
      "/anaconda3/lib/python3.6/site-packages/plotly/graph_objs/_deprecations.py:39: DeprecationWarning:\n",
      "\n",
      "plotly.graph_objs.Data is deprecated.\n",
      "Please replace it with a list or tuple of instances of the following types\n",
      "  - plotly.graph_objs.Scatter\n",
      "  - plotly.graph_objs.Bar\n",
      "  - plotly.graph_objs.Area\n",
      "  - plotly.graph_objs.Histogram\n",
      "  - etc.\n",
      "\n",
      "\n"
     ]
    }
   ],
   "source": [
    "data=go.Data([trace2])\n",
    "layout=go.Layout(title=\"RRR Tortoises 100\", xaxis={'title':'Gender'}, yaxis={'title':'Time(minutes)'})\n",
    "figure=go.Figure(data=data,layout=layout)"
   ]
  },
  {
   "cell_type": "code",
   "execution_count": 48,
   "metadata": {},
   "outputs": [
    {
     "data": {
      "text/html": [
       "<iframe id=\"igraph\" scrolling=\"no\" style=\"border:none;\" seamless=\"seamless\" src=\"https://plot.ly/~elizabethguy86/10.embed\" height=\"525px\" width=\"100%\"></iframe>"
      ],
      "text/plain": [
       "<plotly.tools.PlotlyDisplay object>"
      ]
     },
     "execution_count": 48,
     "metadata": {},
     "output_type": "execute_result"
    }
   ],
   "source": [
    "py.iplot(figure, filename='error-bar-RRR', layout=layout)"
   ]
  },
  {
   "cell_type": "code",
   "execution_count": 49,
   "metadata": {},
   "outputs": [],
   "source": [
    "hardrock100_url = root_url + '/results_event.aspx?did=51281'"
   ]
  },
  {
   "cell_type": "code",
   "execution_count": 50,
   "metadata": {},
   "outputs": [],
   "source": [
    "cols_HR, content_HR = get_results(hardrock100_url)"
   ]
  },
  {
   "cell_type": "code",
   "execution_count": 51,
   "metadata": {},
   "outputs": [],
   "source": [
    "indices = find_idx(content_HR)\n"
   ]
  },
  {
   "cell_type": "code",
   "execution_count": 52,
   "metadata": {},
   "outputs": [
    {
     "data": {
      "text/plain": [
       "113"
      ]
     },
     "execution_count": 52,
     "metadata": {},
     "output_type": "execute_result"
    }
   ],
   "source": [
    "HR_finishers = make_finisher_df(content_HR, indices[0])\n",
    "len(HR_finishers)"
   ]
  },
  {
   "cell_type": "code",
   "execution_count": 53,
   "metadata": {},
   "outputs": [],
   "source": [
    "DNF_HR = content_HR[indices[0]:]"
   ]
  },
  {
   "cell_type": "code",
   "execution_count": 54,
   "metadata": {},
   "outputs": [],
   "source": [
    "HR_males = HR_finishers[HR_finishers[\"Gender\"] == 'M']\n",
    "HR_females = HR_finishers[HR_finishers[\"Gender\"] == 'F']"
   ]
  },
  {
   "cell_type": "code",
   "execution_count": 55,
   "metadata": {},
   "outputs": [],
   "source": [
    "HR_ttest = ttest_ind(HR_females['Time'], HR_males['Time'], equal_var=False)"
   ]
  },
  {
   "cell_type": "code",
   "execution_count": 56,
   "metadata": {},
   "outputs": [],
   "source": [
    "def make_DNF_counts2(DNF):\n",
    "    '''Takes in the DNF list as an input\n",
    "    and returns the male and female proportional counts.'''\n",
    "    males = 0\n",
    "    females = 0\n",
    "    for row in DNF:\n",
    "        if row[-4] == 'M':\n",
    "            males +=1\n",
    "        else:\n",
    "            females += 1\n",
    "    return males/len(DNF), females/len(DNF)"
   ]
  },
  {
   "cell_type": "code",
   "execution_count": 57,
   "metadata": {},
   "outputs": [],
   "source": [
    "DNF_HR_male, DNF_HR_female = make_DNF_counts2(DNF_HR)"
   ]
  },
  {
   "cell_type": "code",
   "execution_count": 58,
   "metadata": {},
   "outputs": [
    {
     "data": {
      "text/plain": [
       "0.09090909090909091"
      ]
     },
     "execution_count": 58,
     "metadata": {},
     "output_type": "execute_result"
    }
   ],
   "source": [
    "DNF_HR_female"
   ]
  },
  {
   "cell_type": "code",
   "execution_count": 59,
   "metadata": {},
   "outputs": [
    {
     "data": {
      "text/plain": [
       "0.9090909090909091"
      ]
     },
     "execution_count": 59,
     "metadata": {},
     "output_type": "execute_result"
    }
   ],
   "source": [
    "DNF_HR_male"
   ]
  },
  {
   "cell_type": "code",
   "execution_count": 60,
   "metadata": {},
   "outputs": [
    {
     "data": {
      "text/plain": [
       "0.09734513274336283"
      ]
     },
     "execution_count": 60,
     "metadata": {},
     "output_type": "execute_result"
    }
   ],
   "source": [
    "len(HR_females)/len(HR_finishers)"
   ]
  },
  {
   "cell_type": "code",
   "execution_count": 61,
   "metadata": {},
   "outputs": [
    {
     "data": {
      "text/plain": [
       "0.9026548672566371"
      ]
     },
     "execution_count": 61,
     "metadata": {},
     "output_type": "execute_result"
    }
   ],
   "source": [
    "len(HR_males)/len(HR_finishers)"
   ]
  },
  {
   "cell_type": "code",
   "execution_count": 62,
   "metadata": {},
   "outputs": [],
   "source": [
    "HURT100url = root_url + '/results_event.aspx?did=56682'"
   ]
  },
  {
   "cell_type": "code",
   "execution_count": 63,
   "metadata": {},
   "outputs": [],
   "source": [
    "cols_HURT, content_HURT = get_results(HURT100url)"
   ]
  },
  {
   "cell_type": "code",
   "execution_count": 64,
   "metadata": {},
   "outputs": [
    {
     "data": {
      "text/plain": [
       "[68, 130]"
      ]
     },
     "execution_count": 64,
     "metadata": {},
     "output_type": "execute_result"
    }
   ],
   "source": [
    "idx_hurt = find_idx(content_HURT)\n",
    "idx_hurt"
   ]
  },
  {
   "cell_type": "code",
   "execution_count": 65,
   "metadata": {},
   "outputs": [
    {
     "data": {
      "text/plain": [
       "68"
      ]
     },
     "execution_count": 65,
     "metadata": {},
     "output_type": "execute_result"
    }
   ],
   "source": [
    "HURT_finishers = make_finisher_df(content_HURT, idx_hurt[0] )\n",
    "len(HURT_finishers)"
   ]
  },
  {
   "cell_type": "code",
   "execution_count": 66,
   "metadata": {},
   "outputs": [],
   "source": [
    "HURT_males = HURT_finishers[HURT_finishers[\"Gender\"] == 'M']\n",
    "HURT_females = HURT_finishers[HURT_finishers[\"Gender\"] == 'F']"
   ]
  },
  {
   "cell_type": "code",
   "execution_count": 67,
   "metadata": {},
   "outputs": [],
   "source": [
    "HURT_ttest = ttest_ind(HURT_females['Time'], HURT_males['Time'], equal_var=False)"
   ]
  },
  {
   "cell_type": "code",
   "execution_count": 68,
   "metadata": {},
   "outputs": [],
   "source": [
    "JJ_url = root_url + '/results_event.aspx?did=53326'"
   ]
  },
  {
   "cell_type": "code",
   "execution_count": 69,
   "metadata": {},
   "outputs": [],
   "source": [
    "JJ_cols, JJ_content = get_results(JJ_url)"
   ]
  },
  {
   "cell_type": "code",
   "execution_count": 70,
   "metadata": {},
   "outputs": [],
   "source": [
    "idx_JJ = find_idx(JJ_content)"
   ]
  },
  {
   "cell_type": "code",
   "execution_count": 71,
   "metadata": {},
   "outputs": [
    {
     "data": {
      "text/plain": [
       "367"
      ]
     },
     "execution_count": 71,
     "metadata": {},
     "output_type": "execute_result"
    }
   ],
   "source": [
    "JJ_finishers = make_finisher_df(JJ_content, idx_JJ[0])\n",
    "len(JJ_finishers)"
   ]
  },
  {
   "cell_type": "code",
   "execution_count": 72,
   "metadata": {},
   "outputs": [],
   "source": [
    "JJ_males = JJ_finishers[JJ_finishers['Gender'] == 'M']\n",
    "JJ_females = JJ_finishers[JJ_finishers['Gender'] == 'F']"
   ]
  },
  {
   "cell_type": "code",
   "execution_count": 73,
   "metadata": {},
   "outputs": [
    {
     "data": {
      "text/plain": [
       "Ttest_indResult(statistic=5.590100276884938, pvalue=5.351719513378266e-08)"
      ]
     },
     "execution_count": 73,
     "metadata": {},
     "output_type": "execute_result"
    }
   ],
   "source": [
    "JJ_ttest = ttest_ind(JJ_females['Time'], JJ_males['Time'], equal_var=False)\n",
    "JJ_ttest"
   ]
  },
  {
   "cell_type": "code",
   "execution_count": 74,
   "metadata": {},
   "outputs": [],
   "source": [
    "JJ_DNF = JJ_content[idx_JJ[0]:]\n"
   ]
  },
  {
   "cell_type": "code",
   "execution_count": 75,
   "metadata": {},
   "outputs": [],
   "source": [
    "JJ_DNF_M, JJ_DNF_F = make_DNF_counts2(JJ_DNF) "
   ]
  },
  {
   "cell_type": "code",
   "execution_count": 76,
   "metadata": {},
   "outputs": [
    {
     "data": {
      "text/plain": [
       "0.7142857142857143"
      ]
     },
     "execution_count": 76,
     "metadata": {},
     "output_type": "execute_result"
    }
   ],
   "source": [
    "JJ_DNF_M"
   ]
  },
  {
   "cell_type": "code",
   "execution_count": 77,
   "metadata": {},
   "outputs": [
    {
     "data": {
      "text/plain": [
       "0.6820603907637656"
      ]
     },
     "execution_count": 77,
     "metadata": {},
     "output_type": "execute_result"
    }
   ],
   "source": [
    "((JJ_DNF_M*len(JJ_DNF))+len(JJ_males))/len(JJ_content)"
   ]
  },
  {
   "cell_type": "code",
   "execution_count": 78,
   "metadata": {},
   "outputs": [
    {
     "data": {
      "text/plain": [
       "0.31793960923623443"
      ]
     },
     "execution_count": 78,
     "metadata": {},
     "output_type": "execute_result"
    }
   ],
   "source": [
    "((JJ_DNF_F*len(JJ_DNF))+ len(JJ_females))/len(JJ_content)"
   ]
  },
  {
   "cell_type": "code",
   "execution_count": 79,
   "metadata": {},
   "outputs": [],
   "source": [
    "Orcas_url = root_url + '/results_event.aspx?did=47664'"
   ]
  },
  {
   "cell_type": "code",
   "execution_count": 80,
   "metadata": {},
   "outputs": [],
   "source": [
    "Orcas_cols, Orcas_content = get_results(Orcas_url)"
   ]
  },
  {
   "cell_type": "code",
   "execution_count": 81,
   "metadata": {},
   "outputs": [
    {
     "data": {
      "text/plain": [
       "[68, 91]"
      ]
     },
     "execution_count": 81,
     "metadata": {},
     "output_type": "execute_result"
    }
   ],
   "source": [
    "idx_Orcas = find_idx(Orcas_content)\n",
    "idx_Orcas"
   ]
  },
  {
   "cell_type": "code",
   "execution_count": 82,
   "metadata": {},
   "outputs": [],
   "source": [
    "Orcas_finishers = make_finisher_df(Orcas_content, idx_Orcas[0])"
   ]
  },
  {
   "cell_type": "code",
   "execution_count": 83,
   "metadata": {},
   "outputs": [],
   "source": [
    "Orcas_males = Orcas_finishers[Orcas_finishers['Gender'] == 'M']\n",
    "Orcas_females = Orcas_finishers[Orcas_finishers['Gender'] == 'F']"
   ]
  },
  {
   "cell_type": "code",
   "execution_count": 84,
   "metadata": {},
   "outputs": [
    {
     "data": {
      "text/plain": [
       "Ttest_indResult(statistic=1.0244482021226133, pvalue=0.3115368992817924)"
      ]
     },
     "execution_count": 84,
     "metadata": {},
     "output_type": "execute_result"
    }
   ],
   "source": [
    "Orcas_ttest = ttest_ind(Orcas_females['Time'], Orcas_males['Time'], equal_var=False)\n",
    "Orcas_ttest"
   ]
  },
  {
   "cell_type": "code",
   "execution_count": 85,
   "metadata": {},
   "outputs": [
    {
     "data": {
      "text/plain": [
       "KruskalResult(statistic=0.28208214231983675, pvalue=0.5953397432309312)"
      ]
     },
     "execution_count": 85,
     "metadata": {},
     "output_type": "execute_result"
    }
   ],
   "source": [
    "#kruskal-wallis test of median differences\n",
    "KW_Orcas = kruskal(Orcas_females['Time'], Orcas_males['Time'])\n",
    "KW_Orcas"
   ]
  },
  {
   "cell_type": "code",
   "execution_count": 86,
   "metadata": {},
   "outputs": [
    {
     "data": {
      "text/plain": [
       "68"
      ]
     },
     "execution_count": 86,
     "metadata": {},
     "output_type": "execute_result"
    }
   ],
   "source": [
    "len(Orcas_finishers)"
   ]
  },
  {
   "cell_type": "code",
   "execution_count": 87,
   "metadata": {},
   "outputs": [],
   "source": [
    "DNF_Orcas = Orcas_content[idx_Orcas[0]:]"
   ]
  },
  {
   "cell_type": "code",
   "execution_count": 88,
   "metadata": {},
   "outputs": [],
   "source": [
    "DNF_M_ORCAS, DNF_F_ORCAS = make_DNF_counts(DNF_Orcas)"
   ]
  },
  {
   "cell_type": "code",
   "execution_count": 89,
   "metadata": {},
   "outputs": [
    {
     "data": {
      "text/plain": [
       "0.75"
      ]
     },
     "execution_count": 89,
     "metadata": {},
     "output_type": "execute_result"
    }
   ],
   "source": [
    "len(Orcas_males)/len(Orcas_finishers)"
   ]
  },
  {
   "cell_type": "code",
   "execution_count": 90,
   "metadata": {},
   "outputs": [
    {
     "data": {
      "text/plain": [
       "0.25"
      ]
     },
     "execution_count": 90,
     "metadata": {},
     "output_type": "execute_result"
    }
   ],
   "source": [
    "len(Orcas_females)/len(Orcas_finishers)"
   ]
  },
  {
   "cell_type": "code",
   "execution_count": 91,
   "metadata": {},
   "outputs": [
    {
     "data": {
      "text/plain": [
       "0.3163265306122449"
      ]
     },
     "execution_count": 91,
     "metadata": {},
     "output_type": "execute_result"
    }
   ],
   "source": [
    "(DNF_F_ORCAS*len(DNF_Orcas) + len(Orcas_females))/len(Orcas_content)"
   ]
  },
  {
   "cell_type": "code",
   "execution_count": 92,
   "metadata": {},
   "outputs": [
    {
     "data": {
      "text/plain": [
       "0.6836734693877551"
      ]
     },
     "execution_count": 92,
     "metadata": {},
     "output_type": "execute_result"
    }
   ],
   "source": [
    "(DNF_M_ORCAS*len(DNF_Orcas) + len(Orcas_males))/len(Orcas_content)"
   ]
  },
  {
   "cell_type": "code",
   "execution_count": 93,
   "metadata": {},
   "outputs": [],
   "source": [
    "trace3 = go.Bar(\n",
    "    x=['Male', 'Female'],\n",
    "    y=[Orcas_males['Time'].mean(), Orcas_females['Time'].mean()],\n",
    "    name='RRR 100',\n",
    "    error_y=dict(\n",
    "        type='data',\n",
    "        array=[Orcas_males['Time'].sem(), Orcas_females['Time'].sem()],\n",
    "        visible=True\n",
    "    )\n",
    ")\n",
    "   "
   ]
  },
  {
   "cell_type": "code",
   "execution_count": 94,
   "metadata": {},
   "outputs": [
    {
     "name": "stderr",
     "output_type": "stream",
     "text": [
      "/anaconda3/lib/python3.6/site-packages/plotly/graph_objs/_deprecations.py:39: DeprecationWarning:\n",
      "\n",
      "plotly.graph_objs.Data is deprecated.\n",
      "Please replace it with a list or tuple of instances of the following types\n",
      "  - plotly.graph_objs.Scatter\n",
      "  - plotly.graph_objs.Bar\n",
      "  - plotly.graph_objs.Area\n",
      "  - plotly.graph_objs.Histogram\n",
      "  - etc.\n",
      "\n",
      "\n"
     ]
    }
   ],
   "source": [
    "data=go.Data([trace3])\n",
    "layout=go.Layout(title=\"Orcas 100\", xaxis={'title':'Gender'}, yaxis={'title':'Time(minutes)'})\n",
    "figure=go.Figure(data=data,layout=layout)"
   ]
  },
  {
   "cell_type": "code",
   "execution_count": 95,
   "metadata": {},
   "outputs": [
    {
     "data": {
      "text/html": [
       "<iframe id=\"igraph\" scrolling=\"no\" style=\"border:none;\" seamless=\"seamless\" src=\"https://plot.ly/~elizabethguy86/12.embed\" height=\"525px\" width=\"100%\"></iframe>"
      ],
      "text/plain": [
       "<plotly.tools.PlotlyDisplay object>"
      ]
     },
     "execution_count": 95,
     "metadata": {},
     "output_type": "execute_result"
    }
   ],
   "source": [
    "py.iplot(figure, filename='error-bar-Orcas100', layout=layout)"
   ]
  },
  {
   "cell_type": "code",
   "execution_count": 96,
   "metadata": {},
   "outputs": [],
   "source": [
    "wasatch_url = root_url + '/results_event.aspx?did=52224'"
   ]
  },
  {
   "cell_type": "code",
   "execution_count": 97,
   "metadata": {},
   "outputs": [],
   "source": [
    "wasatch_cols, wasatch_content = get_results(wasatch_url)"
   ]
  },
  {
   "cell_type": "code",
   "execution_count": 98,
   "metadata": {},
   "outputs": [],
   "source": [
    "idx_wasatch = find_idx(wasatch_content)"
   ]
  },
  {
   "cell_type": "code",
   "execution_count": 99,
   "metadata": {},
   "outputs": [
    {
     "data": {
      "text/plain": [
       "[186]"
      ]
     },
     "execution_count": 99,
     "metadata": {},
     "output_type": "execute_result"
    }
   ],
   "source": [
    "idx_wasatch"
   ]
  },
  {
   "cell_type": "code",
   "execution_count": 100,
   "metadata": {},
   "outputs": [],
   "source": [
    "wasatch_finishers = make_finisher_df(wasatch_content, idx_wasatch[0])"
   ]
  },
  {
   "cell_type": "code",
   "execution_count": 101,
   "metadata": {},
   "outputs": [],
   "source": [
    "wasatch_finishers_M = wasatch_finishers[wasatch_finishers[\"Gender\"] == 'M']\n",
    "wasatch_finishers_F = wasatch_finishers[wasatch_finishers[\"Gender\"] == 'F']"
   ]
  },
  {
   "cell_type": "code",
   "execution_count": 102,
   "metadata": {},
   "outputs": [
    {
     "data": {
      "text/plain": [
       "Ttest_indResult(statistic=0.5360641108726018, pvalue=0.5943608058547083)"
      ]
     },
     "execution_count": 102,
     "metadata": {},
     "output_type": "execute_result"
    }
   ],
   "source": [
    "wasatch_ttest = ttest_ind(wasatch_finishers_F['Time'], wasatch_finishers_M['Time'], equal_var=False)\n",
    "wasatch_ttest"
   ]
  },
  {
   "cell_type": "code",
   "execution_count": 103,
   "metadata": {},
   "outputs": [
    {
     "data": {
      "text/plain": [
       "186"
      ]
     },
     "execution_count": 103,
     "metadata": {},
     "output_type": "execute_result"
    }
   ],
   "source": [
    "len(wasatch_finishers)"
   ]
  },
  {
   "cell_type": "code",
   "execution_count": 104,
   "metadata": {},
   "outputs": [],
   "source": [
    "bear_url = root_url + '/results_event.aspx?did=50900'"
   ]
  },
  {
   "cell_type": "code",
   "execution_count": 105,
   "metadata": {},
   "outputs": [],
   "source": [
    "bear_cols, bear_content = get_results(bear_url)"
   ]
  },
  {
   "cell_type": "code",
   "execution_count": 106,
   "metadata": {},
   "outputs": [
    {
     "data": {
      "text/plain": [
       "[220, 317]"
      ]
     },
     "execution_count": 106,
     "metadata": {},
     "output_type": "execute_result"
    }
   ],
   "source": [
    "idx_bear = find_idx(bear_content)\n",
    "idx_bear"
   ]
  },
  {
   "cell_type": "code",
   "execution_count": 107,
   "metadata": {},
   "outputs": [],
   "source": [
    "bear_finishers = make_finisher_df(bear_content, idx_bear[0])"
   ]
  },
  {
   "cell_type": "code",
   "execution_count": 108,
   "metadata": {},
   "outputs": [],
   "source": [
    "bear_M = bear_finishers[bear_finishers['Gender'] == 'M']\n",
    "bear_F = bear_finishers[bear_finishers['Gender'] == 'F']"
   ]
  },
  {
   "cell_type": "code",
   "execution_count": 109,
   "metadata": {},
   "outputs": [
    {
     "data": {
      "text/plain": [
       "Ttest_indResult(statistic=2.8621153843332463, pvalue=0.005218411498656486)"
      ]
     },
     "execution_count": 109,
     "metadata": {},
     "output_type": "execute_result"
    }
   ],
   "source": [
    "bear_ttest = ttest_ind(bear_F['Time'], bear_M['Time'], equal_var=False)\n",
    "bear_ttest"
   ]
  },
  {
   "cell_type": "code",
   "execution_count": 110,
   "metadata": {},
   "outputs": [
    {
     "data": {
      "text/plain": [
       "220"
      ]
     },
     "execution_count": 110,
     "metadata": {},
     "output_type": "execute_result"
    }
   ],
   "source": [
    "len(bear_finishers)"
   ]
  },
  {
   "cell_type": "code",
   "execution_count": 111,
   "metadata": {},
   "outputs": [],
   "source": [
    "GA_url = root_url + '/results_event.aspx?did=48295'"
   ]
  },
  {
   "cell_type": "code",
   "execution_count": 112,
   "metadata": {},
   "outputs": [],
   "source": [
    "GA_cols, GA_content = get_results(GA_url)"
   ]
  },
  {
   "cell_type": "code",
   "execution_count": 113,
   "metadata": {},
   "outputs": [],
   "source": [
    "idx_GA = find_idx(GA_content)"
   ]
  },
  {
   "cell_type": "code",
   "execution_count": 114,
   "metadata": {},
   "outputs": [],
   "source": [
    "GA_finishers = make_finisher_df(GA_content, idx_GA[0])"
   ]
  },
  {
   "cell_type": "code",
   "execution_count": 115,
   "metadata": {},
   "outputs": [],
   "source": [
    "GA_M = GA_finishers[GA_finishers['Gender'] == 'M']\n",
    "GA_F = GA_finishers[GA_finishers['Gender'] == 'F']"
   ]
  },
  {
   "cell_type": "code",
   "execution_count": 116,
   "metadata": {},
   "outputs": [
    {
     "data": {
      "text/plain": [
       "Ttest_indResult(statistic=1.120759069440516, pvalue=0.26861039619818877)"
      ]
     },
     "execution_count": 116,
     "metadata": {},
     "output_type": "execute_result"
    }
   ],
   "source": [
    "GA_ttest = ttest_ind(GA_F['Time'], GA_M['Time'], equal_var=False)\n",
    "GA_ttest"
   ]
  },
  {
   "cell_type": "code",
   "execution_count": 117,
   "metadata": {},
   "outputs": [
    {
     "data": {
      "text/plain": [
       "168"
      ]
     },
     "execution_count": 117,
     "metadata": {},
     "output_type": "execute_result"
    }
   ],
   "source": [
    "len(GA_finishers)"
   ]
  },
  {
   "cell_type": "code",
   "execution_count": 127,
   "metadata": {},
   "outputs": [],
   "source": [
    "frames = ([GA_finishers, Orcas_finishers, JJ_finishers, cascade1002017, cascade1002018, bear_finishers, wasatch_finishers,\n",
    "         HURT_finishers, HR_finishers, WSER_finishers])"
   ]
  },
  {
   "cell_type": "code",
   "execution_count": 128,
   "metadata": {},
   "outputs": [],
   "source": [
    "concatenated = pd.concat(frames, ignore_index=True)"
   ]
  },
  {
   "cell_type": "code",
   "execution_count": 129,
   "metadata": {},
   "outputs": [],
   "source": [
    "concatenated_M = concatenated[concatenated['Gender'] == \"M\"]\n",
    "concatenated_F = concatenated[concatenated['Gender'] == 'F']"
   ]
  },
  {
   "cell_type": "code",
   "execution_count": 130,
   "metadata": {},
   "outputs": [],
   "source": [
    "concatenated_ttest = ttest_ind(concatenated_F['Time'], concatenated_M['Time'], equal_var=False)"
   ]
  },
  {
   "cell_type": "code",
   "execution_count": 131,
   "metadata": {},
   "outputs": [
    {
     "data": {
      "text/plain": [
       "Ttest_indResult(statistic=0.7462965793805261, pvalue=0.45571627680154625)"
      ]
     },
     "execution_count": 131,
     "metadata": {},
     "output_type": "execute_result"
    }
   ],
   "source": [
    "concatenated_ttest"
   ]
  },
  {
   "cell_type": "code",
   "execution_count": 132,
   "metadata": {},
   "outputs": [
    {
     "data": {
      "text/plain": [
       "1743"
      ]
     },
     "execution_count": 132,
     "metadata": {},
     "output_type": "execute_result"
    }
   ],
   "source": [
    "len(concatenated)"
   ]
  },
  {
   "cell_type": "code",
   "execution_count": 133,
   "metadata": {},
   "outputs": [],
   "source": [
    "WSER_url = root_url + '/results_event.aspx?did=51243'"
   ]
  },
  {
   "cell_type": "code",
   "execution_count": 121,
   "metadata": {},
   "outputs": [],
   "source": [
    "WSER_cols, WSER_content = get_results(WSER_url)\n"
   ]
  },
  {
   "cell_type": "code",
   "execution_count": 122,
   "metadata": {},
   "outputs": [
    {
     "data": {
      "text/plain": [
       "[298]"
      ]
     },
     "execution_count": 122,
     "metadata": {},
     "output_type": "execute_result"
    }
   ],
   "source": [
    "idx_WSER = find_idx(WSER_content)\n",
    "idx_WSER"
   ]
  },
  {
   "cell_type": "code",
   "execution_count": 123,
   "metadata": {},
   "outputs": [],
   "source": [
    "WSER_finishers = make_finisher_df(WSER_content, idx_WSER[0])"
   ]
  },
  {
   "cell_type": "code",
   "execution_count": 124,
   "metadata": {},
   "outputs": [],
   "source": [
    "WSER_M = WSER_finishers[WSER_finishers['Gender'] == 'M']\n",
    "WSER_F = WSER_finishers[WSER_finishers['Gender'] == 'F']"
   ]
  },
  {
   "cell_type": "code",
   "execution_count": 125,
   "metadata": {},
   "outputs": [
    {
     "data": {
      "text/plain": [
       "Ttest_indResult(statistic=-0.5124951139890147, pvalue=0.6095880492932007)"
      ]
     },
     "execution_count": 125,
     "metadata": {},
     "output_type": "execute_result"
    }
   ],
   "source": [
    "WSER_ttest = ttest_ind(WSER_F['Time'], WSER_M['Time'], equal_var=False)\n",
    "WSER_ttest"
   ]
  },
  {
   "cell_type": "code",
   "execution_count": 134,
   "metadata": {},
   "outputs": [],
   "source": [
    "trace4 = go.Bar(\n",
    "    x=['Male', 'Female'],\n",
    "    y=[concatenated_M['Time'].mean(), concatenated_F['Time'].mean()],\n",
    "    name='Mean Finish Times for 100 mile (or similar) Races',\n",
    "    error_y=dict(\n",
    "        type='data',\n",
    "        array=[concatenated_M['Time'].sem(), concatenated_F['Time'].sem()],\n",
    "        visible=True\n",
    "    )\n",
    ")\n",
    "   "
   ]
  },
  {
   "cell_type": "code",
   "execution_count": 135,
   "metadata": {},
   "outputs": [
    {
     "name": "stderr",
     "output_type": "stream",
     "text": [
      "/anaconda3/lib/python3.6/site-packages/plotly/graph_objs/_deprecations.py:39: DeprecationWarning:\n",
      "\n",
      "plotly.graph_objs.Data is deprecated.\n",
      "Please replace it with a list or tuple of instances of the following types\n",
      "  - plotly.graph_objs.Scatter\n",
      "  - plotly.graph_objs.Bar\n",
      "  - plotly.graph_objs.Area\n",
      "  - plotly.graph_objs.Histogram\n",
      "  - etc.\n",
      "\n",
      "\n"
     ]
    }
   ],
   "source": [
    "data=go.Data([trace4])\n",
    "layout=go.Layout(title=\"Concatenated Mean Finish Times for 100 mile (or similar) Races\", xaxis={'title':'Gender'}, yaxis={'title':'Time (minutes)'})\n",
    "figure=go.Figure(data=data,layout=layout)"
   ]
  },
  {
   "cell_type": "code",
   "execution_count": 136,
   "metadata": {},
   "outputs": [
    {
     "data": {
      "text/html": [
       "<iframe id=\"igraph\" scrolling=\"no\" style=\"border:none;\" seamless=\"seamless\" src=\"https://plot.ly/~elizabethguy86/16.embed\" height=\"525px\" width=\"100%\"></iframe>"
      ],
      "text/plain": [
       "<plotly.tools.PlotlyDisplay object>"
      ]
     },
     "execution_count": 136,
     "metadata": {},
     "output_type": "execute_result"
    }
   ],
   "source": [
    "py.iplot(figure, filename='Concatenated 100', layout=layout)"
   ]
  },
  {
   "cell_type": "code",
   "execution_count": 137,
   "metadata": {},
   "outputs": [
    {
     "data": {
      "text/html": [
       "<div>\n",
       "<style scoped>\n",
       "    .dataframe tbody tr th:only-of-type {\n",
       "        vertical-align: middle;\n",
       "    }\n",
       "\n",
       "    .dataframe tbody tr th {\n",
       "        vertical-align: top;\n",
       "    }\n",
       "\n",
       "    .dataframe thead th {\n",
       "        text-align: right;\n",
       "    }\n",
       "</style>\n",
       "<table border=\"1\" class=\"dataframe\">\n",
       "  <thead>\n",
       "    <tr style=\"text-align: right;\">\n",
       "      <th></th>\n",
       "      <th>Gender</th>\n",
       "      <th>Time</th>\n",
       "    </tr>\n",
       "  </thead>\n",
       "  <tbody>\n",
       "    <tr>\n",
       "      <th>0</th>\n",
       "      <td>M</td>\n",
       "      <td>743.516667</td>\n",
       "    </tr>\n",
       "    <tr>\n",
       "      <th>1</th>\n",
       "      <td>M</td>\n",
       "      <td>746.883333</td>\n",
       "    </tr>\n",
       "    <tr>\n",
       "      <th>2</th>\n",
       "      <td>M</td>\n",
       "      <td>748.950000</td>\n",
       "    </tr>\n",
       "    <tr>\n",
       "      <th>3</th>\n",
       "      <td>M</td>\n",
       "      <td>763.183333</td>\n",
       "    </tr>\n",
       "    <tr>\n",
       "      <th>4</th>\n",
       "      <td>M</td>\n",
       "      <td>799.483333</td>\n",
       "    </tr>\n",
       "  </tbody>\n",
       "</table>\n",
       "</div>"
      ],
      "text/plain": [
       "  Gender        Time\n",
       "0      M  743.516667\n",
       "1      M  746.883333\n",
       "2      M  748.950000\n",
       "3      M  763.183333\n",
       "4      M  799.483333"
      ]
     },
     "execution_count": 137,
     "metadata": {},
     "output_type": "execute_result"
    }
   ],
   "source": [
    "concatenated.head()"
   ]
  },
  {
   "cell_type": "code",
   "execution_count": 142,
   "metadata": {},
   "outputs": [
    {
     "data": {
      "text/plain": [
       "Index(['Gender', 'Time'], dtype='object')"
      ]
     },
     "execution_count": 142,
     "metadata": {},
     "output_type": "execute_result"
    }
   ],
   "source": [
    "concatenated.columns"
   ]
  },
  {
   "cell_type": "code",
   "execution_count": 145,
   "metadata": {},
   "outputs": [],
   "source": [
    "sort_df = concatenated.sort_values(by=['Time'])"
   ]
  },
  {
   "cell_type": "code",
   "execution_count": 151,
   "metadata": {},
   "outputs": [],
   "source": [
    "sort_df = sort_df.reset_index()"
   ]
  },
  {
   "cell_type": "code",
   "execution_count": 169,
   "metadata": {},
   "outputs": [],
   "source": [
    "#analyzing the bottom 10% of WSER finishers"
   ]
  },
  {
   "cell_type": "code",
   "execution_count": 159,
   "metadata": {},
   "outputs": [
    {
     "data": {
      "text/plain": [
       "298"
      ]
     },
     "execution_count": 159,
     "metadata": {},
     "output_type": "execute_result"
    }
   ],
   "source": [
    "len(WSER_finishers)"
   ]
  },
  {
   "cell_type": "code",
   "execution_count": 165,
   "metadata": {},
   "outputs": [],
   "source": [
    "bottom_10_WSER = WSER_finishers.iloc[-29:]"
   ]
  },
  {
   "cell_type": "code",
   "execution_count": 168,
   "metadata": {},
   "outputs": [
    {
     "data": {
      "text/plain": [
       "Gender\n",
       "F    1785.148148\n",
       "M    1783.840000\n",
       "Name: Time, dtype: float64"
      ]
     },
     "execution_count": 168,
     "metadata": {},
     "output_type": "execute_result"
    }
   ],
   "source": [
    "bottom_10_WSER.groupby(['Gender'])['Time'].mean()"
   ]
  },
  {
   "cell_type": "code",
   "execution_count": 170,
   "metadata": {},
   "outputs": [
    {
     "data": {
      "text/plain": [
       "367"
      ]
     },
     "execution_count": 170,
     "metadata": {},
     "output_type": "execute_result"
    }
   ],
   "source": [
    "len(JJ_finishers)"
   ]
  },
  {
   "cell_type": "code",
   "execution_count": 171,
   "metadata": {},
   "outputs": [],
   "source": [
    "bottom_10_JJ = JJ_finishers.iloc[-36:]"
   ]
  },
  {
   "cell_type": "code",
   "execution_count": 172,
   "metadata": {},
   "outputs": [
    {
     "data": {
      "text/plain": [
       "Gender\n",
       "F    1763.247222\n",
       "M    1765.452778\n",
       "Name: Time, dtype: float64"
      ]
     },
     "execution_count": 172,
     "metadata": {},
     "output_type": "execute_result"
    }
   ],
   "source": [
    "bottom_10_JJ.groupby(['Gender'])['Time'].mean() #difference between men and women for JJ bottom 10% negligible"
   ]
  },
  {
   "cell_type": "code",
   "execution_count": 2,
   "metadata": {},
   "outputs": [],
   "source": [
    "barr_df = pd.read_csv('/Users/elizabethguy/Downloads/Barr Trail Mountain Race Results July 15, 2018.csv')"
   ]
  },
  {
   "cell_type": "code",
   "execution_count": 5,
   "metadata": {},
   "outputs": [],
   "source": [
    "barr_df_finishers = barr_df[barr_df['OA#'] != 'DNF']"
   ]
  },
  {
   "cell_type": "code",
   "execution_count": 10,
   "metadata": {},
   "outputs": [
    {
     "name": "stderr",
     "output_type": "stream",
     "text": [
      "/anaconda3/lib/python3.6/site-packages/ipykernel_launcher.py:1: SettingWithCopyWarning:\n",
      "\n",
      "\n",
      "A value is trying to be set on a copy of a slice from a DataFrame.\n",
      "Try using .loc[row_indexer,col_indexer] = value instead\n",
      "\n",
      "See the caveats in the documentation: http://pandas.pydata.org/pandas-docs/stable/indexing.html#indexing-view-versus-copy\n",
      "\n",
      "/anaconda3/lib/python3.6/site-packages/ipykernel_launcher.py:2: SettingWithCopyWarning:\n",
      "\n",
      "\n",
      "A value is trying to be set on a copy of a slice from a DataFrame.\n",
      "Try using .loc[row_indexer,col_indexer] = value instead\n",
      "\n",
      "See the caveats in the documentation: http://pandas.pydata.org/pandas-docs/stable/indexing.html#indexing-view-versus-copy\n",
      "\n"
     ]
    }
   ],
   "source": [
    "barr_df_finishers['Finish'] = barr_df_finishers['Finish'].str.split(':')\n",
    "barr_df_finishers['Finish'] = barr_df_finishers['Finish'].apply(lambda x: int(x[0]) * 60 + int(x[1]) + float(x[2])/60)"
   ]
  },
  {
   "cell_type": "code",
   "execution_count": 13,
   "metadata": {},
   "outputs": [],
   "source": [
    "barr_df_finishers_f = barr_df_finishers[barr_df_finishers['Sex'] == 'F']\n",
    "barr_df_finishers_m = barr_df_finishers[barr_df_finishers['Sex'] == 'M']"
   ]
  },
  {
   "cell_type": "code",
   "execution_count": 14,
   "metadata": {},
   "outputs": [],
   "source": [
    "barr_ttest = ttest_ind(barr_df_finishers_f['Finish'], barr_df_finishers_m['Finish'], equal_var=False)"
   ]
  },
  {
   "cell_type": "code",
   "execution_count": 15,
   "metadata": {},
   "outputs": [
    {
     "data": {
      "text/plain": [
       "Ttest_indResult(statistic=4.969078492824927, pvalue=1.8819775068031565e-06)"
      ]
     },
     "execution_count": 15,
     "metadata": {},
     "output_type": "execute_result"
    }
   ],
   "source": [
    "barr_ttest"
   ]
  },
  {
   "cell_type": "code",
   "execution_count": 18,
   "metadata": {},
   "outputs": [
    {
     "data": {
      "text/plain": [
       "Unnamed: 0           NaN\n",
       "Bib           165.028571\n",
       "Age            39.614286\n",
       "Finish        180.928810\n",
       "dtype: float64"
      ]
     },
     "execution_count": 18,
     "metadata": {},
     "output_type": "execute_result"
    }
   ],
   "source": [
    "barr_df_finishers_f.mean()"
   ]
  },
  {
   "cell_type": "code",
   "execution_count": 19,
   "metadata": {},
   "outputs": [
    {
     "data": {
      "text/plain": [
       "Unnamed: 0           NaN\n",
       "Bib           167.371728\n",
       "Age            39.947644\n",
       "Finish        162.036911\n",
       "dtype: float64"
      ]
     },
     "execution_count": 19,
     "metadata": {},
     "output_type": "execute_result"
    }
   ],
   "source": [
    "barr_df_finishers_m.mean()"
   ]
  },
  {
   "cell_type": "code",
   "execution_count": 20,
   "metadata": {},
   "outputs": [
    {
     "data": {
      "text/html": [
       "<div>\n",
       "<style scoped>\n",
       "    .dataframe tbody tr th:only-of-type {\n",
       "        vertical-align: middle;\n",
       "    }\n",
       "\n",
       "    .dataframe tbody tr th {\n",
       "        vertical-align: top;\n",
       "    }\n",
       "\n",
       "    .dataframe thead th {\n",
       "        text-align: right;\n",
       "    }\n",
       "</style>\n",
       "<table border=\"1\" class=\"dataframe\">\n",
       "  <thead>\n",
       "    <tr style=\"text-align: right;\">\n",
       "      <th></th>\n",
       "      <th>Unnamed: 0</th>\n",
       "      <th>OA#</th>\n",
       "      <th>SEX#</th>\n",
       "      <th>AG#</th>\n",
       "      <th>Bib</th>\n",
       "      <th>Age</th>\n",
       "      <th>Sex</th>\n",
       "      <th>AG</th>\n",
       "      <th>Name</th>\n",
       "      <th>First</th>\n",
       "      <th>...</th>\n",
       "      <th>NoName</th>\n",
       "      <th>Bobs Road</th>\n",
       "      <th>Barr Camp</th>\n",
       "      <th>Bobs Road DN</th>\n",
       "      <th>NoName DN</th>\n",
       "      <th>Ws DN</th>\n",
       "      <th>Uphill</th>\n",
       "      <th>Downhill</th>\n",
       "      <th>Finish</th>\n",
       "      <th>Pace</th>\n",
       "    </tr>\n",
       "  </thead>\n",
       "  <tbody>\n",
       "    <tr>\n",
       "      <th>0</th>\n",
       "      <td>NaN</td>\n",
       "      <td>1</td>\n",
       "      <td>1</td>\n",
       "      <td>1</td>\n",
       "      <td>373</td>\n",
       "      <td>39</td>\n",
       "      <td>M</td>\n",
       "      <td>35-39</td>\n",
       "      <td>Azarya Weldemariam</td>\n",
       "      <td>Azarya</td>\n",
       "      <td>...</td>\n",
       "      <td>0:30:36</td>\n",
       "      <td>0:40:48</td>\n",
       "      <td>0:58:43</td>\n",
       "      <td>1:11:03</td>\n",
       "      <td>1:17:26</td>\n",
       "      <td>1:24:26</td>\n",
       "      <td>0:58:43</td>\n",
       "      <td>0:36:51</td>\n",
       "      <td>95.566667</td>\n",
       "      <td>7:35/mi</td>\n",
       "    </tr>\n",
       "    <tr>\n",
       "      <th>1</th>\n",
       "      <td>NaN</td>\n",
       "      <td>2</td>\n",
       "      <td>2</td>\n",
       "      <td>1</td>\n",
       "      <td>307</td>\n",
       "      <td>24</td>\n",
       "      <td>M</td>\n",
       "      <td>20-24</td>\n",
       "      <td>Darren Thomas</td>\n",
       "      <td>Darren</td>\n",
       "      <td>...</td>\n",
       "      <td>0:31:16</td>\n",
       "      <td>0:41:46</td>\n",
       "      <td>1:00:09</td>\n",
       "      <td>1:12:26</td>\n",
       "      <td>1:18:39</td>\n",
       "      <td>1:25:23</td>\n",
       "      <td>1:00:09</td>\n",
       "      <td>0:35:50</td>\n",
       "      <td>96.000000</td>\n",
       "      <td>7:37/mi</td>\n",
       "    </tr>\n",
       "    <tr>\n",
       "      <th>2</th>\n",
       "      <td>NaN</td>\n",
       "      <td>3</td>\n",
       "      <td>3</td>\n",
       "      <td>2</td>\n",
       "      <td>143</td>\n",
       "      <td>36</td>\n",
       "      <td>M</td>\n",
       "      <td>35-39</td>\n",
       "      <td>Ben Payne</td>\n",
       "      <td>Ben</td>\n",
       "      <td>...</td>\n",
       "      <td>0:31:47</td>\n",
       "      <td>0:42:25</td>\n",
       "      <td>1:00:38</td>\n",
       "      <td>1:13:42</td>\n",
       "      <td>1:20:21</td>\n",
       "      <td>1:27:57</td>\n",
       "      <td>1:00:38</td>\n",
       "      <td>0:39:48</td>\n",
       "      <td>100.450000</td>\n",
       "      <td>7:58/mi</td>\n",
       "    </tr>\n",
       "    <tr>\n",
       "      <th>3</th>\n",
       "      <td>NaN</td>\n",
       "      <td>4</td>\n",
       "      <td>4</td>\n",
       "      <td>1</td>\n",
       "      <td>98</td>\n",
       "      <td>29</td>\n",
       "      <td>M</td>\n",
       "      <td>25-29</td>\n",
       "      <td>Andy Wacker</td>\n",
       "      <td>Andy</td>\n",
       "      <td>...</td>\n",
       "      <td>0:32:24</td>\n",
       "      <td>0:43:45</td>\n",
       "      <td>1:03:05</td>\n",
       "      <td>1:15:47</td>\n",
       "      <td>1:22:15</td>\n",
       "      <td>1:29:29</td>\n",
       "      <td>1:03:05</td>\n",
       "      <td>0:38:04</td>\n",
       "      <td>101.150000</td>\n",
       "      <td>8:02/mi</td>\n",
       "    </tr>\n",
       "    <tr>\n",
       "      <th>4</th>\n",
       "      <td>NaN</td>\n",
       "      <td>5</td>\n",
       "      <td>5</td>\n",
       "      <td>3</td>\n",
       "      <td>264</td>\n",
       "      <td>36</td>\n",
       "      <td>M</td>\n",
       "      <td>35-39</td>\n",
       "      <td>Dean Abel</td>\n",
       "      <td>Dean</td>\n",
       "      <td>...</td>\n",
       "      <td>0:34:02</td>\n",
       "      <td>0:45:28</td>\n",
       "      <td>1:05:52</td>\n",
       "      <td>1:19:26</td>\n",
       "      <td>1:26:18</td>\n",
       "      <td>1:33:40</td>\n",
       "      <td>1:05:52</td>\n",
       "      <td>0:39:52</td>\n",
       "      <td>105.750000</td>\n",
       "      <td>8:24/mi</td>\n",
       "    </tr>\n",
       "    <tr>\n",
       "      <th>5</th>\n",
       "      <td>NaN</td>\n",
       "      <td>6</td>\n",
       "      <td>6</td>\n",
       "      <td>2</td>\n",
       "      <td>82</td>\n",
       "      <td>26</td>\n",
       "      <td>M</td>\n",
       "      <td>25-29</td>\n",
       "      <td>Lindon David Powell</td>\n",
       "      <td>Lindon</td>\n",
       "      <td>...</td>\n",
       "      <td>0:37:01</td>\n",
       "      <td>NaN</td>\n",
       "      <td>1:08:18</td>\n",
       "      <td>1:21:34</td>\n",
       "      <td>1:28:08</td>\n",
       "      <td>1:35:21</td>\n",
       "      <td>1:08:18</td>\n",
       "      <td>0:38:32</td>\n",
       "      <td>106.850000</td>\n",
       "      <td>8:29/mi</td>\n",
       "    </tr>\n",
       "    <tr>\n",
       "      <th>6</th>\n",
       "      <td>NaN</td>\n",
       "      <td>7</td>\n",
       "      <td>7</td>\n",
       "      <td>1</td>\n",
       "      <td>113</td>\n",
       "      <td>30</td>\n",
       "      <td>M</td>\n",
       "      <td>30-34</td>\n",
       "      <td>Adam Doe</td>\n",
       "      <td>Adam</td>\n",
       "      <td>...</td>\n",
       "      <td>0:37:50</td>\n",
       "      <td>NaN</td>\n",
       "      <td>1:11:03</td>\n",
       "      <td>1:25:04</td>\n",
       "      <td>1:31:57</td>\n",
       "      <td>1:39:19</td>\n",
       "      <td>1:11:03</td>\n",
       "      <td>0:39:56</td>\n",
       "      <td>110.983333</td>\n",
       "      <td>8:49/mi</td>\n",
       "    </tr>\n",
       "    <tr>\n",
       "      <th>7</th>\n",
       "      <td>NaN</td>\n",
       "      <td>8</td>\n",
       "      <td>8</td>\n",
       "      <td>2</td>\n",
       "      <td>117</td>\n",
       "      <td>31</td>\n",
       "      <td>M</td>\n",
       "      <td>30-34</td>\n",
       "      <td>Brian A Folts</td>\n",
       "      <td>Brian</td>\n",
       "      <td>...</td>\n",
       "      <td>0:34:14</td>\n",
       "      <td>NaN</td>\n",
       "      <td>1:06:09</td>\n",
       "      <td>1:22:05</td>\n",
       "      <td>1:29:38</td>\n",
       "      <td>1:38:09</td>\n",
       "      <td>1:06:09</td>\n",
       "      <td>0:45:13</td>\n",
       "      <td>111.383333</td>\n",
       "      <td>8:50/mi</td>\n",
       "    </tr>\n",
       "    <tr>\n",
       "      <th>8</th>\n",
       "      <td>NaN</td>\n",
       "      <td>9</td>\n",
       "      <td>9</td>\n",
       "      <td>4</td>\n",
       "      <td>297</td>\n",
       "      <td>35</td>\n",
       "      <td>M</td>\n",
       "      <td>35-39</td>\n",
       "      <td>Levente Racz</td>\n",
       "      <td>Levente</td>\n",
       "      <td>...</td>\n",
       "      <td>0:35:52</td>\n",
       "      <td>NaN</td>\n",
       "      <td>1:09:16</td>\n",
       "      <td>1:24:25</td>\n",
       "      <td>1:31:37</td>\n",
       "      <td>1:39:28</td>\n",
       "      <td>1:09:16</td>\n",
       "      <td>0:42:29</td>\n",
       "      <td>111.766667</td>\n",
       "      <td>8:52/mi</td>\n",
       "    </tr>\n",
       "    <tr>\n",
       "      <th>9</th>\n",
       "      <td>NaN</td>\n",
       "      <td>10</td>\n",
       "      <td>10</td>\n",
       "      <td>3</td>\n",
       "      <td>28</td>\n",
       "      <td>28</td>\n",
       "      <td>M</td>\n",
       "      <td>25-29</td>\n",
       "      <td>Timothy Kojetin</td>\n",
       "      <td>Timothy</td>\n",
       "      <td>...</td>\n",
       "      <td>0:36:40</td>\n",
       "      <td>NaN</td>\n",
       "      <td>1:11:05</td>\n",
       "      <td>1:25:24</td>\n",
       "      <td>1:32:20</td>\n",
       "      <td>1:39:51</td>\n",
       "      <td>1:11:05</td>\n",
       "      <td>0:40:47</td>\n",
       "      <td>111.866667</td>\n",
       "      <td>8:53/mi</td>\n",
       "    </tr>\n",
       "    <tr>\n",
       "      <th>10</th>\n",
       "      <td>NaN</td>\n",
       "      <td>11</td>\n",
       "      <td>11</td>\n",
       "      <td>4</td>\n",
       "      <td>380</td>\n",
       "      <td>25</td>\n",
       "      <td>M</td>\n",
       "      <td>25-29</td>\n",
       "      <td>Connor Roche</td>\n",
       "      <td>Connor</td>\n",
       "      <td>...</td>\n",
       "      <td>0:39:09</td>\n",
       "      <td>NaN</td>\n",
       "      <td>1:13:21</td>\n",
       "      <td>1:26:50</td>\n",
       "      <td>1:33:26</td>\n",
       "      <td>1:40:38</td>\n",
       "      <td>1:13:21</td>\n",
       "      <td>0:38:42</td>\n",
       "      <td>112.066667</td>\n",
       "      <td>8:54/mi</td>\n",
       "    </tr>\n",
       "    <tr>\n",
       "      <th>11</th>\n",
       "      <td>NaN</td>\n",
       "      <td>12</td>\n",
       "      <td>12</td>\n",
       "      <td>5</td>\n",
       "      <td>70</td>\n",
       "      <td>25</td>\n",
       "      <td>M</td>\n",
       "      <td>25-29</td>\n",
       "      <td>Mark Allen Schenberger</td>\n",
       "      <td>Mark</td>\n",
       "      <td>...</td>\n",
       "      <td>0:36:31</td>\n",
       "      <td>NaN</td>\n",
       "      <td>1:09:52</td>\n",
       "      <td>1:24:20</td>\n",
       "      <td>1:32:04</td>\n",
       "      <td>1:40:14</td>\n",
       "      <td>1:09:52</td>\n",
       "      <td>0:42:48</td>\n",
       "      <td>112.683333</td>\n",
       "      <td>8:57/mi</td>\n",
       "    </tr>\n",
       "    <tr>\n",
       "      <th>12</th>\n",
       "      <td>NaN</td>\n",
       "      <td>13</td>\n",
       "      <td>13</td>\n",
       "      <td>2</td>\n",
       "      <td>22</td>\n",
       "      <td>22</td>\n",
       "      <td>M</td>\n",
       "      <td>20-24</td>\n",
       "      <td>Cooper Pauley</td>\n",
       "      <td>Cooper</td>\n",
       "      <td>...</td>\n",
       "      <td>0:35:53</td>\n",
       "      <td>NaN</td>\n",
       "      <td>1:10:31</td>\n",
       "      <td>1:25:15</td>\n",
       "      <td>1:32:29</td>\n",
       "      <td>1:40:28</td>\n",
       "      <td>1:10:31</td>\n",
       "      <td>0:42:10</td>\n",
       "      <td>112.700000</td>\n",
       "      <td>8:57/mi</td>\n",
       "    </tr>\n",
       "    <tr>\n",
       "      <th>13</th>\n",
       "      <td>NaN</td>\n",
       "      <td>14</td>\n",
       "      <td>14</td>\n",
       "      <td>1</td>\n",
       "      <td>293</td>\n",
       "      <td>19</td>\n",
       "      <td>M</td>\n",
       "      <td>15-19</td>\n",
       "      <td>Seth Michael Nolen</td>\n",
       "      <td>Seth</td>\n",
       "      <td>...</td>\n",
       "      <td>0:37:15</td>\n",
       "      <td>NaN</td>\n",
       "      <td>1:11:59</td>\n",
       "      <td>1:26:06</td>\n",
       "      <td>1:33:18</td>\n",
       "      <td>1:40:58</td>\n",
       "      <td>1:11:59</td>\n",
       "      <td>0:41:07</td>\n",
       "      <td>113.100000</td>\n",
       "      <td>8:59/mi</td>\n",
       "    </tr>\n",
       "    <tr>\n",
       "      <th>14</th>\n",
       "      <td>NaN</td>\n",
       "      <td>15</td>\n",
       "      <td>15</td>\n",
       "      <td>3</td>\n",
       "      <td>377</td>\n",
       "      <td>32</td>\n",
       "      <td>M</td>\n",
       "      <td>30-34</td>\n",
       "      <td>Jesse T Mascarenas</td>\n",
       "      <td>Jesse</td>\n",
       "      <td>...</td>\n",
       "      <td>0:37:20</td>\n",
       "      <td>NaN</td>\n",
       "      <td>1:11:24</td>\n",
       "      <td>1:26:24</td>\n",
       "      <td>1:33:50</td>\n",
       "      <td>1:41:39</td>\n",
       "      <td>1:11:24</td>\n",
       "      <td>0:42:41</td>\n",
       "      <td>114.083333</td>\n",
       "      <td>9:03/mi</td>\n",
       "    </tr>\n",
       "    <tr>\n",
       "      <th>15</th>\n",
       "      <td>NaN</td>\n",
       "      <td>16</td>\n",
       "      <td>16</td>\n",
       "      <td>1</td>\n",
       "      <td>210</td>\n",
       "      <td>45</td>\n",
       "      <td>M</td>\n",
       "      <td>45-49</td>\n",
       "      <td>CJ Hitz</td>\n",
       "      <td>CJ</td>\n",
       "      <td>...</td>\n",
       "      <td>0:36:05</td>\n",
       "      <td>NaN</td>\n",
       "      <td>1:10:37</td>\n",
       "      <td>1:26:06</td>\n",
       "      <td>1:33:30</td>\n",
       "      <td>1:41:31</td>\n",
       "      <td>1:10:37</td>\n",
       "      <td>0:43:51</td>\n",
       "      <td>114.466667</td>\n",
       "      <td>9:05/mi</td>\n",
       "    </tr>\n",
       "    <tr>\n",
       "      <th>16</th>\n",
       "      <td>NaN</td>\n",
       "      <td>17</td>\n",
       "      <td>17</td>\n",
       "      <td>3</td>\n",
       "      <td>288</td>\n",
       "      <td>20</td>\n",
       "      <td>M</td>\n",
       "      <td>20-24</td>\n",
       "      <td>Adam Mahler</td>\n",
       "      <td>Adam</td>\n",
       "      <td>...</td>\n",
       "      <td>0:37:37</td>\n",
       "      <td>NaN</td>\n",
       "      <td>1:11:38</td>\n",
       "      <td>1:26:33</td>\n",
       "      <td>1:34:02</td>\n",
       "      <td>1:42:50</td>\n",
       "      <td>1:11:38</td>\n",
       "      <td>0:44:54</td>\n",
       "      <td>116.533333</td>\n",
       "      <td>9:15/mi</td>\n",
       "    </tr>\n",
       "    <tr>\n",
       "      <th>17</th>\n",
       "      <td>NaN</td>\n",
       "      <td>18</td>\n",
       "      <td>18</td>\n",
       "      <td>1</td>\n",
       "      <td>286</td>\n",
       "      <td>40</td>\n",
       "      <td>M</td>\n",
       "      <td>40-44</td>\n",
       "      <td>Rob Kosick</td>\n",
       "      <td>Rob</td>\n",
       "      <td>...</td>\n",
       "      <td>0:38:09</td>\n",
       "      <td>NaN</td>\n",
       "      <td>1:13:02</td>\n",
       "      <td>1:28:31</td>\n",
       "      <td>1:36:02</td>\n",
       "      <td>1:44:29</td>\n",
       "      <td>1:13:02</td>\n",
       "      <td>0:44:50</td>\n",
       "      <td>117.866667</td>\n",
       "      <td>9:21/mi</td>\n",
       "    </tr>\n",
       "    <tr>\n",
       "      <th>18</th>\n",
       "      <td>NaN</td>\n",
       "      <td>19</td>\n",
       "      <td>19</td>\n",
       "      <td>4</td>\n",
       "      <td>289</td>\n",
       "      <td>32</td>\n",
       "      <td>M</td>\n",
       "      <td>30-34</td>\n",
       "      <td>Michael J Martinez</td>\n",
       "      <td>Michael</td>\n",
       "      <td>...</td>\n",
       "      <td>0:42:29</td>\n",
       "      <td>NaN</td>\n",
       "      <td>1:17:43</td>\n",
       "      <td>1:31:57</td>\n",
       "      <td>1:39:12</td>\n",
       "      <td>1:47:03</td>\n",
       "      <td>1:17:43</td>\n",
       "      <td>0:42:12</td>\n",
       "      <td>119.933333</td>\n",
       "      <td>9:31/mi</td>\n",
       "    </tr>\n",
       "    <tr>\n",
       "      <th>19</th>\n",
       "      <td>NaN</td>\n",
       "      <td>20</td>\n",
       "      <td>1</td>\n",
       "      <td>1</td>\n",
       "      <td>101</td>\n",
       "      <td>29</td>\n",
       "      <td>F</td>\n",
       "      <td>25-29</td>\n",
       "      <td>Kristina Marie Mascarenas</td>\n",
       "      <td>Kristina</td>\n",
       "      <td>...</td>\n",
       "      <td>0:41:36</td>\n",
       "      <td>NaN</td>\n",
       "      <td>1:19:38</td>\n",
       "      <td>1:33:53</td>\n",
       "      <td>1:40:56</td>\n",
       "      <td>1:48:23</td>\n",
       "      <td>1:19:38</td>\n",
       "      <td>0:40:50</td>\n",
       "      <td>120.483333</td>\n",
       "      <td>9:34/mi</td>\n",
       "    </tr>\n",
       "    <tr>\n",
       "      <th>20</th>\n",
       "      <td>NaN</td>\n",
       "      <td>21</td>\n",
       "      <td>20</td>\n",
       "      <td>2</td>\n",
       "      <td>176</td>\n",
       "      <td>41</td>\n",
       "      <td>M</td>\n",
       "      <td>40-44</td>\n",
       "      <td>Mathias Hasler</td>\n",
       "      <td>Mathias</td>\n",
       "      <td>...</td>\n",
       "      <td>0:39:56</td>\n",
       "      <td>NaN</td>\n",
       "      <td>1:16:55</td>\n",
       "      <td>1:32:05</td>\n",
       "      <td>1:40:06</td>\n",
       "      <td>1:48:24</td>\n",
       "      <td>1:16:55</td>\n",
       "      <td>0:44:39</td>\n",
       "      <td>121.566667</td>\n",
       "      <td>9:39/mi</td>\n",
       "    </tr>\n",
       "    <tr>\n",
       "      <th>21</th>\n",
       "      <td>NaN</td>\n",
       "      <td>22</td>\n",
       "      <td>2</td>\n",
       "      <td>1</td>\n",
       "      <td>269</td>\n",
       "      <td>38</td>\n",
       "      <td>F</td>\n",
       "      <td>35-39</td>\n",
       "      <td>Kim Rose Baugh</td>\n",
       "      <td>Kim</td>\n",
       "      <td>...</td>\n",
       "      <td>0:41:38</td>\n",
       "      <td>NaN</td>\n",
       "      <td>1:20:10</td>\n",
       "      <td>1:35:12</td>\n",
       "      <td>1:42:47</td>\n",
       "      <td>1:50:58</td>\n",
       "      <td>1:20:10</td>\n",
       "      <td>0:43:56</td>\n",
       "      <td>124.100000</td>\n",
       "      <td>9:51/mi</td>\n",
       "    </tr>\n",
       "    <tr>\n",
       "      <th>22</th>\n",
       "      <td>NaN</td>\n",
       "      <td>23</td>\n",
       "      <td>21</td>\n",
       "      <td>2</td>\n",
       "      <td>213</td>\n",
       "      <td>46</td>\n",
       "      <td>M</td>\n",
       "      <td>45-49</td>\n",
       "      <td>Gerald Romero</td>\n",
       "      <td>Gerald</td>\n",
       "      <td>...</td>\n",
       "      <td>0:41:04</td>\n",
       "      <td>NaN</td>\n",
       "      <td>1:17:53</td>\n",
       "      <td>1:33:58</td>\n",
       "      <td>1:41:55</td>\n",
       "      <td>1:50:34</td>\n",
       "      <td>1:17:53</td>\n",
       "      <td>0:46:56</td>\n",
       "      <td>124.833333</td>\n",
       "      <td>9:54/mi</td>\n",
       "    </tr>\n",
       "    <tr>\n",
       "      <th>23</th>\n",
       "      <td>NaN</td>\n",
       "      <td>24</td>\n",
       "      <td>22</td>\n",
       "      <td>3</td>\n",
       "      <td>181</td>\n",
       "      <td>42</td>\n",
       "      <td>M</td>\n",
       "      <td>40-44</td>\n",
       "      <td>Ryan McMullen</td>\n",
       "      <td>Ryan</td>\n",
       "      <td>...</td>\n",
       "      <td>0:38:08</td>\n",
       "      <td>NaN</td>\n",
       "      <td>1:15:33</td>\n",
       "      <td>1:32:46</td>\n",
       "      <td>1:41:11</td>\n",
       "      <td>1:50:22</td>\n",
       "      <td>1:15:33</td>\n",
       "      <td>0:49:26</td>\n",
       "      <td>125.000000</td>\n",
       "      <td>9:55/mi</td>\n",
       "    </tr>\n",
       "    <tr>\n",
       "      <th>24</th>\n",
       "      <td>NaN</td>\n",
       "      <td>25</td>\n",
       "      <td>23</td>\n",
       "      <td>4</td>\n",
       "      <td>17</td>\n",
       "      <td>22</td>\n",
       "      <td>M</td>\n",
       "      <td>20-24</td>\n",
       "      <td>Adam Holliday</td>\n",
       "      <td>Adam</td>\n",
       "      <td>...</td>\n",
       "      <td>0:40:48</td>\n",
       "      <td>NaN</td>\n",
       "      <td>1:18:25</td>\n",
       "      <td>1:33:50</td>\n",
       "      <td>1:41:56</td>\n",
       "      <td>1:51:13</td>\n",
       "      <td>1:18:25</td>\n",
       "      <td>0:46:50</td>\n",
       "      <td>125.250000</td>\n",
       "      <td>9:57/mi</td>\n",
       "    </tr>\n",
       "    <tr>\n",
       "      <th>25</th>\n",
       "      <td>NaN</td>\n",
       "      <td>26</td>\n",
       "      <td>24</td>\n",
       "      <td>6</td>\n",
       "      <td>379</td>\n",
       "      <td>28</td>\n",
       "      <td>M</td>\n",
       "      <td>25-29</td>\n",
       "      <td>Teo Jackson</td>\n",
       "      <td>Teo</td>\n",
       "      <td>...</td>\n",
       "      <td>0:41:56</td>\n",
       "      <td>NaN</td>\n",
       "      <td>1:20:13</td>\n",
       "      <td>1:35:56</td>\n",
       "      <td>1:44:08</td>\n",
       "      <td>1:52:37</td>\n",
       "      <td>1:20:13</td>\n",
       "      <td>0:45:03</td>\n",
       "      <td>125.283333</td>\n",
       "      <td>9:57/mi</td>\n",
       "    </tr>\n",
       "    <tr>\n",
       "      <th>26</th>\n",
       "      <td>NaN</td>\n",
       "      <td>27</td>\n",
       "      <td>3</td>\n",
       "      <td>2</td>\n",
       "      <td>65</td>\n",
       "      <td>25</td>\n",
       "      <td>F</td>\n",
       "      <td>25-29</td>\n",
       "      <td>Jessica Cygan</td>\n",
       "      <td>Jessica</td>\n",
       "      <td>...</td>\n",
       "      <td>0:40:29</td>\n",
       "      <td>NaN</td>\n",
       "      <td>1:18:33</td>\n",
       "      <td>1:34:39</td>\n",
       "      <td>1:42:50</td>\n",
       "      <td>1:51:53</td>\n",
       "      <td>1:18:33</td>\n",
       "      <td>0:47:09</td>\n",
       "      <td>125.700000</td>\n",
       "      <td>9:59/mi</td>\n",
       "    </tr>\n",
       "    <tr>\n",
       "      <th>27</th>\n",
       "      <td>NaN</td>\n",
       "      <td>28</td>\n",
       "      <td>25</td>\n",
       "      <td>7</td>\n",
       "      <td>84</td>\n",
       "      <td>27</td>\n",
       "      <td>M</td>\n",
       "      <td>25-29</td>\n",
       "      <td>Ryan Rebain</td>\n",
       "      <td>Ryan</td>\n",
       "      <td>...</td>\n",
       "      <td>0:41:17</td>\n",
       "      <td>NaN</td>\n",
       "      <td>1:21:00</td>\n",
       "      <td>1:37:45</td>\n",
       "      <td>1:45:32</td>\n",
       "      <td>1:53:59</td>\n",
       "      <td>1:21:00</td>\n",
       "      <td>0:45:38</td>\n",
       "      <td>126.633333</td>\n",
       "      <td>10:03/mi</td>\n",
       "    </tr>\n",
       "    <tr>\n",
       "      <th>28</th>\n",
       "      <td>NaN</td>\n",
       "      <td>29</td>\n",
       "      <td>26</td>\n",
       "      <td>5</td>\n",
       "      <td>140</td>\n",
       "      <td>36</td>\n",
       "      <td>M</td>\n",
       "      <td>35-39</td>\n",
       "      <td>Mark Lendzion</td>\n",
       "      <td>Mark</td>\n",
       "      <td>...</td>\n",
       "      <td>0:39:45</td>\n",
       "      <td>NaN</td>\n",
       "      <td>1:18:06</td>\n",
       "      <td>1:35:15</td>\n",
       "      <td>1:44:06</td>\n",
       "      <td>1:53:21</td>\n",
       "      <td>1:18:06</td>\n",
       "      <td>0:49:49</td>\n",
       "      <td>127.933333</td>\n",
       "      <td>10:09/mi</td>\n",
       "    </tr>\n",
       "    <tr>\n",
       "      <th>29</th>\n",
       "      <td>NaN</td>\n",
       "      <td>30</td>\n",
       "      <td>27</td>\n",
       "      <td>3</td>\n",
       "      <td>205</td>\n",
       "      <td>45</td>\n",
       "      <td>M</td>\n",
       "      <td>45-49</td>\n",
       "      <td>Sander Rigney</td>\n",
       "      <td>Sander</td>\n",
       "      <td>...</td>\n",
       "      <td>0:43:17</td>\n",
       "      <td>0:57:31</td>\n",
       "      <td>1:22:40</td>\n",
       "      <td>1:39:46</td>\n",
       "      <td>1:47:41</td>\n",
       "      <td>1:56:15</td>\n",
       "      <td>1:22:40</td>\n",
       "      <td>0:46:46</td>\n",
       "      <td>129.433333</td>\n",
       "      <td>10:16/mi</td>\n",
       "    </tr>\n",
       "    <tr>\n",
       "      <th>...</th>\n",
       "      <td>...</td>\n",
       "      <td>...</td>\n",
       "      <td>...</td>\n",
       "      <td>...</td>\n",
       "      <td>...</td>\n",
       "      <td>...</td>\n",
       "      <td>...</td>\n",
       "      <td>...</td>\n",
       "      <td>...</td>\n",
       "      <td>...</td>\n",
       "      <td>...</td>\n",
       "      <td>...</td>\n",
       "      <td>...</td>\n",
       "      <td>...</td>\n",
       "      <td>...</td>\n",
       "      <td>...</td>\n",
       "      <td>...</td>\n",
       "      <td>...</td>\n",
       "      <td>...</td>\n",
       "      <td>...</td>\n",
       "      <td>...</td>\n",
       "    </tr>\n",
       "    <tr>\n",
       "      <th>221</th>\n",
       "      <td>NaN</td>\n",
       "      <td>222</td>\n",
       "      <td>169</td>\n",
       "      <td>3</td>\n",
       "      <td>69</td>\n",
       "      <td>69</td>\n",
       "      <td>M</td>\n",
       "      <td>65-69</td>\n",
       "      <td>Gary Censoplano</td>\n",
       "      <td>Gary</td>\n",
       "      <td>...</td>\n",
       "      <td>1:04:20</td>\n",
       "      <td>1:25:47</td>\n",
       "      <td>2:04:20</td>\n",
       "      <td>2:31:06</td>\n",
       "      <td>2:43:07</td>\n",
       "      <td>2:57:27</td>\n",
       "      <td>2:04:20</td>\n",
       "      <td>1:17:01</td>\n",
       "      <td>201.350000</td>\n",
       "      <td>15:59/mi</td>\n",
       "    </tr>\n",
       "    <tr>\n",
       "      <th>222</th>\n",
       "      <td>NaN</td>\n",
       "      <td>222</td>\n",
       "      <td>169</td>\n",
       "      <td>7</td>\n",
       "      <td>61</td>\n",
       "      <td>61</td>\n",
       "      <td>M</td>\n",
       "      <td>60-64</td>\n",
       "      <td>Randal Cuccio</td>\n",
       "      <td>Randal</td>\n",
       "      <td>...</td>\n",
       "      <td>0:55:48</td>\n",
       "      <td>1:16:17</td>\n",
       "      <td>1:52:41</td>\n",
       "      <td>2:23:02</td>\n",
       "      <td>2:38:43</td>\n",
       "      <td>2:55:34</td>\n",
       "      <td>1:52:41</td>\n",
       "      <td>1:28:40</td>\n",
       "      <td>201.350000</td>\n",
       "      <td>15:59/mi</td>\n",
       "    </tr>\n",
       "    <tr>\n",
       "      <th>223</th>\n",
       "      <td>NaN</td>\n",
       "      <td>222</td>\n",
       "      <td>169</td>\n",
       "      <td>33</td>\n",
       "      <td>145</td>\n",
       "      <td>36</td>\n",
       "      <td>M</td>\n",
       "      <td>35-39</td>\n",
       "      <td>Brendan Simbeck</td>\n",
       "      <td>Brendan</td>\n",
       "      <td>...</td>\n",
       "      <td>1:01:08</td>\n",
       "      <td>1:23:18</td>\n",
       "      <td>2:02:04</td>\n",
       "      <td>2:30:55</td>\n",
       "      <td>2:43:34</td>\n",
       "      <td>2:58:22</td>\n",
       "      <td>2:02:04</td>\n",
       "      <td>1:19:16</td>\n",
       "      <td>201.350000</td>\n",
       "      <td>15:59/mi</td>\n",
       "    </tr>\n",
       "    <tr>\n",
       "      <th>224</th>\n",
       "      <td>NaN</td>\n",
       "      <td>225</td>\n",
       "      <td>172</td>\n",
       "      <td>22</td>\n",
       "      <td>215</td>\n",
       "      <td>46</td>\n",
       "      <td>M</td>\n",
       "      <td>45-49</td>\n",
       "      <td>Tony Raia</td>\n",
       "      <td>Tony</td>\n",
       "      <td>...</td>\n",
       "      <td>1:01:15</td>\n",
       "      <td>1:23:21</td>\n",
       "      <td>2:02:05</td>\n",
       "      <td>2:30:58</td>\n",
       "      <td>2:43:46</td>\n",
       "      <td>2:58:22</td>\n",
       "      <td>2:02:05</td>\n",
       "      <td>1:19:17</td>\n",
       "      <td>201.383333</td>\n",
       "      <td>15:59/mi</td>\n",
       "    </tr>\n",
       "    <tr>\n",
       "      <th>225</th>\n",
       "      <td>NaN</td>\n",
       "      <td>226</td>\n",
       "      <td>54</td>\n",
       "      <td>7</td>\n",
       "      <td>284</td>\n",
       "      <td>47</td>\n",
       "      <td>F</td>\n",
       "      <td>45-49</td>\n",
       "      <td>Claudia Kirby</td>\n",
       "      <td>Claudia</td>\n",
       "      <td>...</td>\n",
       "      <td>1:03:54</td>\n",
       "      <td>1:25:02</td>\n",
       "      <td>2:04:03</td>\n",
       "      <td>2:32:50</td>\n",
       "      <td>2:46:00</td>\n",
       "      <td>3:00:26</td>\n",
       "      <td>2:04:03</td>\n",
       "      <td>1:17:24</td>\n",
       "      <td>201.466667</td>\n",
       "      <td>15:59/mi</td>\n",
       "    </tr>\n",
       "    <tr>\n",
       "      <th>226</th>\n",
       "      <td>NaN</td>\n",
       "      <td>227</td>\n",
       "      <td>173</td>\n",
       "      <td>15</td>\n",
       "      <td>263</td>\n",
       "      <td>52</td>\n",
       "      <td>M</td>\n",
       "      <td>50-54</td>\n",
       "      <td>Michael Danowski</td>\n",
       "      <td>Michael</td>\n",
       "      <td>...</td>\n",
       "      <td>1:02:56</td>\n",
       "      <td>1:24:16</td>\n",
       "      <td>2:02:05</td>\n",
       "      <td>2:32:38</td>\n",
       "      <td>2:45:51</td>\n",
       "      <td>3:00:24</td>\n",
       "      <td>2:02:05</td>\n",
       "      <td>1:19:55</td>\n",
       "      <td>202.000000</td>\n",
       "      <td>16:02/mi</td>\n",
       "    </tr>\n",
       "    <tr>\n",
       "      <th>227</th>\n",
       "      <td>NaN</td>\n",
       "      <td>228</td>\n",
       "      <td>55</td>\n",
       "      <td>6</td>\n",
       "      <td>112</td>\n",
       "      <td>30</td>\n",
       "      <td>F</td>\n",
       "      <td>30-34</td>\n",
       "      <td>Melissa Hamilton</td>\n",
       "      <td>Melissa</td>\n",
       "      <td>...</td>\n",
       "      <td>0:59:14</td>\n",
       "      <td>1:20:28</td>\n",
       "      <td>1:59:27</td>\n",
       "      <td>2:29:17</td>\n",
       "      <td>2:43:17</td>\n",
       "      <td>2:58:25</td>\n",
       "      <td>1:59:27</td>\n",
       "      <td>1:24:03</td>\n",
       "      <td>203.516667</td>\n",
       "      <td>16:09/mi</td>\n",
       "    </tr>\n",
       "    <tr>\n",
       "      <th>228</th>\n",
       "      <td>NaN</td>\n",
       "      <td>229</td>\n",
       "      <td>56</td>\n",
       "      <td>7</td>\n",
       "      <td>376</td>\n",
       "      <td>33</td>\n",
       "      <td>F</td>\n",
       "      <td>30-34</td>\n",
       "      <td>Grace Lineberg</td>\n",
       "      <td>Grace</td>\n",
       "      <td>...</td>\n",
       "      <td>1:02:51</td>\n",
       "      <td>1:25:28</td>\n",
       "      <td>2:05:41</td>\n",
       "      <td>2:35:28</td>\n",
       "      <td>2:47:34</td>\n",
       "      <td>3:00:32</td>\n",
       "      <td>2:05:41</td>\n",
       "      <td>1:17:55</td>\n",
       "      <td>203.616667</td>\n",
       "      <td>16:10/mi</td>\n",
       "    </tr>\n",
       "    <tr>\n",
       "      <th>229</th>\n",
       "      <td>NaN</td>\n",
       "      <td>230</td>\n",
       "      <td>174</td>\n",
       "      <td>26</td>\n",
       "      <td>179</td>\n",
       "      <td>41</td>\n",
       "      <td>M</td>\n",
       "      <td>40-44</td>\n",
       "      <td>Brian Hogan</td>\n",
       "      <td>Brian</td>\n",
       "      <td>...</td>\n",
       "      <td>1:00:10</td>\n",
       "      <td>1:21:07</td>\n",
       "      <td>1:59:29</td>\n",
       "      <td>2:28:18</td>\n",
       "      <td>2:41:41</td>\n",
       "      <td>2:57:26</td>\n",
       "      <td>1:59:29</td>\n",
       "      <td>1:24:11</td>\n",
       "      <td>203.666667</td>\n",
       "      <td>16:10/mi</td>\n",
       "    </tr>\n",
       "    <tr>\n",
       "      <th>230</th>\n",
       "      <td>NaN</td>\n",
       "      <td>231</td>\n",
       "      <td>175</td>\n",
       "      <td>25</td>\n",
       "      <td>32</td>\n",
       "      <td>32</td>\n",
       "      <td>M</td>\n",
       "      <td>30-34</td>\n",
       "      <td>Keaton Williams</td>\n",
       "      <td>Keaton</td>\n",
       "      <td>...</td>\n",
       "      <td>1:03:14</td>\n",
       "      <td>1:26:50</td>\n",
       "      <td>2:09:34</td>\n",
       "      <td>2:35:14</td>\n",
       "      <td>2:47:37</td>\n",
       "      <td>3:02:20</td>\n",
       "      <td>2:09:34</td>\n",
       "      <td>1:14:08</td>\n",
       "      <td>203.716667</td>\n",
       "      <td>16:10/mi</td>\n",
       "    </tr>\n",
       "    <tr>\n",
       "      <th>231</th>\n",
       "      <td>NaN</td>\n",
       "      <td>232</td>\n",
       "      <td>176</td>\n",
       "      <td>27</td>\n",
       "      <td>41</td>\n",
       "      <td>41</td>\n",
       "      <td>M</td>\n",
       "      <td>40-44</td>\n",
       "      <td>David Brakefield</td>\n",
       "      <td>David</td>\n",
       "      <td>...</td>\n",
       "      <td>1:00:44</td>\n",
       "      <td>1:23:18</td>\n",
       "      <td>2:03:53</td>\n",
       "      <td>2:30:56</td>\n",
       "      <td>2:43:42</td>\n",
       "      <td>2:58:14</td>\n",
       "      <td>2:03:53</td>\n",
       "      <td>1:20:03</td>\n",
       "      <td>203.950000</td>\n",
       "      <td>16:11/mi</td>\n",
       "    </tr>\n",
       "    <tr>\n",
       "      <th>232</th>\n",
       "      <td>NaN</td>\n",
       "      <td>233</td>\n",
       "      <td>177</td>\n",
       "      <td>16</td>\n",
       "      <td>10</td>\n",
       "      <td>50</td>\n",
       "      <td>M</td>\n",
       "      <td>50-54</td>\n",
       "      <td>Kip Russell</td>\n",
       "      <td>Kip</td>\n",
       "      <td>...</td>\n",
       "      <td>1:04:35</td>\n",
       "      <td>1:26:58</td>\n",
       "      <td>2:06:46</td>\n",
       "      <td>2:33:27</td>\n",
       "      <td>2:46:19</td>\n",
       "      <td>3:01:14</td>\n",
       "      <td>2:06:46</td>\n",
       "      <td>1:17:36</td>\n",
       "      <td>204.383333</td>\n",
       "      <td>16:13/mi</td>\n",
       "    </tr>\n",
       "    <tr>\n",
       "      <th>233</th>\n",
       "      <td>NaN</td>\n",
       "      <td>234</td>\n",
       "      <td>178</td>\n",
       "      <td>24</td>\n",
       "      <td>29</td>\n",
       "      <td>29</td>\n",
       "      <td>M</td>\n",
       "      <td>25-29</td>\n",
       "      <td>Brent Erickson</td>\n",
       "      <td>Brent</td>\n",
       "      <td>...</td>\n",
       "      <td>1:00:58</td>\n",
       "      <td>1:21:16</td>\n",
       "      <td>1:59:45</td>\n",
       "      <td>2:28:41</td>\n",
       "      <td>2:42:21</td>\n",
       "      <td>2:58:51</td>\n",
       "      <td>1:59:45</td>\n",
       "      <td>1:25:34</td>\n",
       "      <td>205.316667</td>\n",
       "      <td>16:18/mi</td>\n",
       "    </tr>\n",
       "    <tr>\n",
       "      <th>234</th>\n",
       "      <td>NaN</td>\n",
       "      <td>235</td>\n",
       "      <td>57</td>\n",
       "      <td>8</td>\n",
       "      <td>174</td>\n",
       "      <td>41</td>\n",
       "      <td>F</td>\n",
       "      <td>40-44</td>\n",
       "      <td>Kari Taylor-Romero</td>\n",
       "      <td>Kari</td>\n",
       "      <td>...</td>\n",
       "      <td>1:08:47</td>\n",
       "      <td>1:32:31</td>\n",
       "      <td>2:13:54</td>\n",
       "      <td>2:40:32</td>\n",
       "      <td>2:52:20</td>\n",
       "      <td>3:05:22</td>\n",
       "      <td>2:13:54</td>\n",
       "      <td>1:12:33</td>\n",
       "      <td>206.466667</td>\n",
       "      <td>16:23/mi</td>\n",
       "    </tr>\n",
       "    <tr>\n",
       "      <th>235</th>\n",
       "      <td>NaN</td>\n",
       "      <td>236</td>\n",
       "      <td>58</td>\n",
       "      <td>8</td>\n",
       "      <td>228</td>\n",
       "      <td>49</td>\n",
       "      <td>F</td>\n",
       "      <td>45-49</td>\n",
       "      <td>Lynne Day</td>\n",
       "      <td>Lynne</td>\n",
       "      <td>...</td>\n",
       "      <td>1:03:41</td>\n",
       "      <td>1:26:23</td>\n",
       "      <td>2:08:08</td>\n",
       "      <td>2:36:31</td>\n",
       "      <td>2:50:16</td>\n",
       "      <td>3:04:50</td>\n",
       "      <td>2:08:08</td>\n",
       "      <td>1:18:36</td>\n",
       "      <td>206.733333</td>\n",
       "      <td>16:24/mi</td>\n",
       "    </tr>\n",
       "    <tr>\n",
       "      <th>236</th>\n",
       "      <td>NaN</td>\n",
       "      <td>237</td>\n",
       "      <td>179</td>\n",
       "      <td>9</td>\n",
       "      <td>253</td>\n",
       "      <td>58</td>\n",
       "      <td>M</td>\n",
       "      <td>55-59</td>\n",
       "      <td>Dennis Thies</td>\n",
       "      <td>Dennis</td>\n",
       "      <td>...</td>\n",
       "      <td>1:03:25</td>\n",
       "      <td>1:26:42</td>\n",
       "      <td>2:06:51</td>\n",
       "      <td>2:33:16</td>\n",
       "      <td>2:46:02</td>\n",
       "      <td>3:00:36</td>\n",
       "      <td>2:06:51</td>\n",
       "      <td>1:19:59</td>\n",
       "      <td>206.833333</td>\n",
       "      <td>16:25/mi</td>\n",
       "    </tr>\n",
       "    <tr>\n",
       "      <th>237</th>\n",
       "      <td>NaN</td>\n",
       "      <td>238</td>\n",
       "      <td>180</td>\n",
       "      <td>28</td>\n",
       "      <td>201</td>\n",
       "      <td>44</td>\n",
       "      <td>M</td>\n",
       "      <td>40-44</td>\n",
       "      <td>Nathan Lyons</td>\n",
       "      <td>Nathan</td>\n",
       "      <td>...</td>\n",
       "      <td>1:06:28</td>\n",
       "      <td>1:28:11</td>\n",
       "      <td>2:08:27</td>\n",
       "      <td>2:37:04</td>\n",
       "      <td>2:49:35</td>\n",
       "      <td>3:04:09</td>\n",
       "      <td>2:08:27</td>\n",
       "      <td>1:18:28</td>\n",
       "      <td>206.933333</td>\n",
       "      <td>16:25/mi</td>\n",
       "    </tr>\n",
       "    <tr>\n",
       "      <th>238</th>\n",
       "      <td>NaN</td>\n",
       "      <td>239</td>\n",
       "      <td>181</td>\n",
       "      <td>8</td>\n",
       "      <td>383</td>\n",
       "      <td>63</td>\n",
       "      <td>M</td>\n",
       "      <td>60-64</td>\n",
       "      <td>Gregg Randolph</td>\n",
       "      <td>Gregg</td>\n",
       "      <td>...</td>\n",
       "      <td>1:01:25</td>\n",
       "      <td>1:21:53</td>\n",
       "      <td>2:00:41</td>\n",
       "      <td>2:32:01</td>\n",
       "      <td>2:46:42</td>\n",
       "      <td>3:03:43</td>\n",
       "      <td>2:00:41</td>\n",
       "      <td>1:26:33</td>\n",
       "      <td>207.250000</td>\n",
       "      <td>16:27/mi</td>\n",
       "    </tr>\n",
       "    <tr>\n",
       "      <th>239</th>\n",
       "      <td>NaN</td>\n",
       "      <td>240</td>\n",
       "      <td>59</td>\n",
       "      <td>9</td>\n",
       "      <td>214</td>\n",
       "      <td>46</td>\n",
       "      <td>F</td>\n",
       "      <td>45-49</td>\n",
       "      <td>Jessica Lynn Leto</td>\n",
       "      <td>Jessica</td>\n",
       "      <td>...</td>\n",
       "      <td>1:03:50</td>\n",
       "      <td>1:25:53</td>\n",
       "      <td>2:07:25</td>\n",
       "      <td>2:36:56</td>\n",
       "      <td>2:50:45</td>\n",
       "      <td>3:05:40</td>\n",
       "      <td>2:07:25</td>\n",
       "      <td>1:20:56</td>\n",
       "      <td>208.350000</td>\n",
       "      <td>16:32/mi</td>\n",
       "    </tr>\n",
       "    <tr>\n",
       "      <th>240</th>\n",
       "      <td>NaN</td>\n",
       "      <td>241</td>\n",
       "      <td>182</td>\n",
       "      <td>9</td>\n",
       "      <td>62</td>\n",
       "      <td>62</td>\n",
       "      <td>M</td>\n",
       "      <td>60-64</td>\n",
       "      <td>Greg Gibbons</td>\n",
       "      <td>Greg</td>\n",
       "      <td>...</td>\n",
       "      <td>1:02:07</td>\n",
       "      <td>1:25:03</td>\n",
       "      <td>2:05:37</td>\n",
       "      <td>2:37:51</td>\n",
       "      <td>2:51:08</td>\n",
       "      <td>3:06:04</td>\n",
       "      <td>2:05:37</td>\n",
       "      <td>1:23:13</td>\n",
       "      <td>208.833333</td>\n",
       "      <td>16:34/mi</td>\n",
       "    </tr>\n",
       "    <tr>\n",
       "      <th>241</th>\n",
       "      <td>NaN</td>\n",
       "      <td>242</td>\n",
       "      <td>60</td>\n",
       "      <td>3</td>\n",
       "      <td>242</td>\n",
       "      <td>54</td>\n",
       "      <td>F</td>\n",
       "      <td>50-54</td>\n",
       "      <td>Kimberly Bodoh</td>\n",
       "      <td>Kimberly</td>\n",
       "      <td>...</td>\n",
       "      <td>1:05:06</td>\n",
       "      <td>1:27:49</td>\n",
       "      <td>2:10:25</td>\n",
       "      <td>2:39:51</td>\n",
       "      <td>2:52:29</td>\n",
       "      <td>3:07:18</td>\n",
       "      <td>2:10:25</td>\n",
       "      <td>1:19:28</td>\n",
       "      <td>209.900000</td>\n",
       "      <td>16:40/mi</td>\n",
       "    </tr>\n",
       "    <tr>\n",
       "      <th>242</th>\n",
       "      <td>NaN</td>\n",
       "      <td>OCO</td>\n",
       "      <td>~~</td>\n",
       "      <td>~~</td>\n",
       "      <td>197</td>\n",
       "      <td>44</td>\n",
       "      <td>M</td>\n",
       "      <td>40-44</td>\n",
       "      <td>Tino Kühne</td>\n",
       "      <td>Tino</td>\n",
       "      <td>...</td>\n",
       "      <td>1:00:40</td>\n",
       "      <td>1:21:28</td>\n",
       "      <td>2:01:24</td>\n",
       "      <td>2:31:53</td>\n",
       "      <td>2:47:34</td>\n",
       "      <td>3:04:24</td>\n",
       "      <td>2:01:24</td>\n",
       "      <td>1:29:06</td>\n",
       "      <td>210.500000</td>\n",
       "      <td>16:42/mi</td>\n",
       "    </tr>\n",
       "    <tr>\n",
       "      <th>243</th>\n",
       "      <td>NaN</td>\n",
       "      <td>OCO</td>\n",
       "      <td>~~</td>\n",
       "      <td>~~</td>\n",
       "      <td>375</td>\n",
       "      <td>36</td>\n",
       "      <td>M</td>\n",
       "      <td>35-39</td>\n",
       "      <td>Michael Quinene</td>\n",
       "      <td>Michael</td>\n",
       "      <td>...</td>\n",
       "      <td>1:06:33</td>\n",
       "      <td>1:30:16</td>\n",
       "      <td>2:13:54</td>\n",
       "      <td>2:42:34</td>\n",
       "      <td>2:54:38</td>\n",
       "      <td>3:09:13</td>\n",
       "      <td>2:13:54</td>\n",
       "      <td>1:17:22</td>\n",
       "      <td>211.266667</td>\n",
       "      <td>16:46/mi</td>\n",
       "    </tr>\n",
       "    <tr>\n",
       "      <th>244</th>\n",
       "      <td>NaN</td>\n",
       "      <td>OCO</td>\n",
       "      <td>~~</td>\n",
       "      <td>~~</td>\n",
       "      <td>163</td>\n",
       "      <td>39</td>\n",
       "      <td>F</td>\n",
       "      <td>35-39</td>\n",
       "      <td>Jeana Connaughton</td>\n",
       "      <td>Jeana</td>\n",
       "      <td>...</td>\n",
       "      <td>1:06:25</td>\n",
       "      <td>1:32:11</td>\n",
       "      <td>2:12:43</td>\n",
       "      <td>2:42:46</td>\n",
       "      <td>2:55:58</td>\n",
       "      <td>3:11:10</td>\n",
       "      <td>2:12:43</td>\n",
       "      <td>1:19:37</td>\n",
       "      <td>212.333333</td>\n",
       "      <td>16:51/mi</td>\n",
       "    </tr>\n",
       "    <tr>\n",
       "      <th>245</th>\n",
       "      <td>NaN</td>\n",
       "      <td>OCO</td>\n",
       "      <td>~~</td>\n",
       "      <td>~~</td>\n",
       "      <td>226</td>\n",
       "      <td>49</td>\n",
       "      <td>F</td>\n",
       "      <td>45-49</td>\n",
       "      <td>Maria Seman</td>\n",
       "      <td>Maria</td>\n",
       "      <td>...</td>\n",
       "      <td>1:03:17</td>\n",
       "      <td>1:26:19</td>\n",
       "      <td>2:11:22</td>\n",
       "      <td>2:40:44</td>\n",
       "      <td>2:54:14</td>\n",
       "      <td>3:09:25</td>\n",
       "      <td>2:11:22</td>\n",
       "      <td>1:21:19</td>\n",
       "      <td>212.700000</td>\n",
       "      <td>16:53/mi</td>\n",
       "    </tr>\n",
       "    <tr>\n",
       "      <th>246</th>\n",
       "      <td>NaN</td>\n",
       "      <td>OCO</td>\n",
       "      <td>~~</td>\n",
       "      <td>~~</td>\n",
       "      <td>185</td>\n",
       "      <td>42</td>\n",
       "      <td>F</td>\n",
       "      <td>40-44</td>\n",
       "      <td>Heidi Hayes</td>\n",
       "      <td>Heidi</td>\n",
       "      <td>...</td>\n",
       "      <td>1:11:19</td>\n",
       "      <td>1:36:43</td>\n",
       "      <td>2:21:39</td>\n",
       "      <td>2:48:23</td>\n",
       "      <td>2:59:44</td>\n",
       "      <td>3:12:46</td>\n",
       "      <td>2:21:39</td>\n",
       "      <td>1:12:23</td>\n",
       "      <td>214.050000</td>\n",
       "      <td>16:59/mi</td>\n",
       "    </tr>\n",
       "    <tr>\n",
       "      <th>247</th>\n",
       "      <td>NaN</td>\n",
       "      <td>OCO</td>\n",
       "      <td>~~</td>\n",
       "      <td>~~</td>\n",
       "      <td>171</td>\n",
       "      <td>41</td>\n",
       "      <td>F</td>\n",
       "      <td>40-44</td>\n",
       "      <td>Amy L Miller</td>\n",
       "      <td>Amy</td>\n",
       "      <td>...</td>\n",
       "      <td>1:10:59</td>\n",
       "      <td>1:36:46</td>\n",
       "      <td>2:21:18</td>\n",
       "      <td>2:48:34</td>\n",
       "      <td>2:59:51</td>\n",
       "      <td>3:12:51</td>\n",
       "      <td>2:21:18</td>\n",
       "      <td>1:12:44</td>\n",
       "      <td>214.050000</td>\n",
       "      <td>16:59/mi</td>\n",
       "    </tr>\n",
       "    <tr>\n",
       "      <th>248</th>\n",
       "      <td>NaN</td>\n",
       "      <td>OCO</td>\n",
       "      <td>~~</td>\n",
       "      <td>~~</td>\n",
       "      <td>83</td>\n",
       "      <td>27</td>\n",
       "      <td>F</td>\n",
       "      <td>25-29</td>\n",
       "      <td>Krystal Peeples</td>\n",
       "      <td>Krystal</td>\n",
       "      <td>...</td>\n",
       "      <td>1:07:00</td>\n",
       "      <td>1:32:19</td>\n",
       "      <td>2:16:22</td>\n",
       "      <td>2:43:50</td>\n",
       "      <td>2:57:24</td>\n",
       "      <td>3:12:21</td>\n",
       "      <td>2:16:22</td>\n",
       "      <td>1:19:43</td>\n",
       "      <td>216.083333</td>\n",
       "      <td>17:09/mi</td>\n",
       "    </tr>\n",
       "    <tr>\n",
       "      <th>249</th>\n",
       "      <td>NaN</td>\n",
       "      <td>OCO</td>\n",
       "      <td>~~</td>\n",
       "      <td>~~</td>\n",
       "      <td>302</td>\n",
       "      <td>53</td>\n",
       "      <td>M</td>\n",
       "      <td>50-54</td>\n",
       "      <td>J. D. Sandfort</td>\n",
       "      <td>J. D.</td>\n",
       "      <td>...</td>\n",
       "      <td>1:09:18</td>\n",
       "      <td>1:32:02</td>\n",
       "      <td>2:15:09</td>\n",
       "      <td>2:47:06</td>\n",
       "      <td>2:59:05</td>\n",
       "      <td>3:14:18</td>\n",
       "      <td>2:15:09</td>\n",
       "      <td>1:21:59</td>\n",
       "      <td>217.133333</td>\n",
       "      <td>17:14/mi</td>\n",
       "    </tr>\n",
       "    <tr>\n",
       "      <th>250</th>\n",
       "      <td>NaN</td>\n",
       "      <td>OCO</td>\n",
       "      <td>~~</td>\n",
       "      <td>~~</td>\n",
       "      <td>135</td>\n",
       "      <td>35</td>\n",
       "      <td>F</td>\n",
       "      <td>35-39</td>\n",
       "      <td>Kathleen S Berry</td>\n",
       "      <td>Kathleen</td>\n",
       "      <td>...</td>\n",
       "      <td>1:02:27</td>\n",
       "      <td>1:27:57</td>\n",
       "      <td>2:10:44</td>\n",
       "      <td>2:42:19</td>\n",
       "      <td>2:54:44</td>\n",
       "      <td>3:09:46</td>\n",
       "      <td>2:10:44</td>\n",
       "      <td>1:28:00</td>\n",
       "      <td>218.750000</td>\n",
       "      <td>17:22/mi</td>\n",
       "    </tr>\n",
       "  </tbody>\n",
       "</table>\n",
       "<p>251 rows × 26 columns</p>\n",
       "</div>"
      ],
      "text/plain": [
       "     Unnamed: 0  OA# SEX# AG#  Bib  Age Sex     AG                       Name  \\\n",
       "0           NaN    1    1   1  373   39   M  35-39         Azarya Weldemariam   \n",
       "1           NaN    2    2   1  307   24   M  20-24              Darren Thomas   \n",
       "2           NaN    3    3   2  143   36   M  35-39                  Ben Payne   \n",
       "3           NaN    4    4   1   98   29   M  25-29                Andy Wacker   \n",
       "4           NaN    5    5   3  264   36   M  35-39                  Dean Abel   \n",
       "5           NaN    6    6   2   82   26   M  25-29        Lindon David Powell   \n",
       "6           NaN    7    7   1  113   30   M  30-34                   Adam Doe   \n",
       "7           NaN    8    8   2  117   31   M  30-34              Brian A Folts   \n",
       "8           NaN    9    9   4  297   35   M  35-39               Levente Racz   \n",
       "9           NaN   10   10   3   28   28   M  25-29            Timothy Kojetin   \n",
       "10          NaN   11   11   4  380   25   M  25-29               Connor Roche   \n",
       "11          NaN   12   12   5   70   25   M  25-29     Mark Allen Schenberger   \n",
       "12          NaN   13   13   2   22   22   M  20-24              Cooper Pauley   \n",
       "13          NaN   14   14   1  293   19   M  15-19         Seth Michael Nolen   \n",
       "14          NaN   15   15   3  377   32   M  30-34         Jesse T Mascarenas   \n",
       "15          NaN   16   16   1  210   45   M  45-49                    CJ Hitz   \n",
       "16          NaN   17   17   3  288   20   M  20-24                Adam Mahler   \n",
       "17          NaN   18   18   1  286   40   M  40-44                 Rob Kosick   \n",
       "18          NaN   19   19   4  289   32   M  30-34         Michael J Martinez   \n",
       "19          NaN   20    1   1  101   29   F  25-29  Kristina Marie Mascarenas   \n",
       "20          NaN   21   20   2  176   41   M  40-44             Mathias Hasler   \n",
       "21          NaN   22    2   1  269   38   F  35-39             Kim Rose Baugh   \n",
       "22          NaN   23   21   2  213   46   M  45-49              Gerald Romero   \n",
       "23          NaN   24   22   3  181   42   M  40-44              Ryan McMullen   \n",
       "24          NaN   25   23   4   17   22   M  20-24              Adam Holliday   \n",
       "25          NaN   26   24   6  379   28   M  25-29                Teo Jackson   \n",
       "26          NaN   27    3   2   65   25   F  25-29              Jessica Cygan   \n",
       "27          NaN   28   25   7   84   27   M  25-29                Ryan Rebain   \n",
       "28          NaN   29   26   5  140   36   M  35-39              Mark Lendzion   \n",
       "29          NaN   30   27   3  205   45   M  45-49              Sander Rigney   \n",
       "..          ...  ...  ...  ..  ...  ...  ..    ...                        ...   \n",
       "221         NaN  222  169   3   69   69   M  65-69            Gary Censoplano   \n",
       "222         NaN  222  169   7   61   61   M  60-64              Randal Cuccio   \n",
       "223         NaN  222  169  33  145   36   M  35-39            Brendan Simbeck   \n",
       "224         NaN  225  172  22  215   46   M  45-49                  Tony Raia   \n",
       "225         NaN  226   54   7  284   47   F  45-49              Claudia Kirby   \n",
       "226         NaN  227  173  15  263   52   M  50-54           Michael Danowski   \n",
       "227         NaN  228   55   6  112   30   F  30-34           Melissa Hamilton   \n",
       "228         NaN  229   56   7  376   33   F  30-34             Grace Lineberg   \n",
       "229         NaN  230  174  26  179   41   M  40-44                Brian Hogan   \n",
       "230         NaN  231  175  25   32   32   M  30-34            Keaton Williams   \n",
       "231         NaN  232  176  27   41   41   M  40-44           David Brakefield   \n",
       "232         NaN  233  177  16   10   50   M  50-54                Kip Russell   \n",
       "233         NaN  234  178  24   29   29   M  25-29             Brent Erickson   \n",
       "234         NaN  235   57   8  174   41   F  40-44         Kari Taylor-Romero   \n",
       "235         NaN  236   58   8  228   49   F  45-49                  Lynne Day   \n",
       "236         NaN  237  179   9  253   58   M  55-59               Dennis Thies   \n",
       "237         NaN  238  180  28  201   44   M  40-44               Nathan Lyons   \n",
       "238         NaN  239  181   8  383   63   M  60-64             Gregg Randolph   \n",
       "239         NaN  240   59   9  214   46   F  45-49          Jessica Lynn Leto   \n",
       "240         NaN  241  182   9   62   62   M  60-64               Greg Gibbons   \n",
       "241         NaN  242   60   3  242   54   F  50-54             Kimberly Bodoh   \n",
       "242         NaN  OCO   ~~  ~~  197   44   M  40-44                 Tino Kühne   \n",
       "243         NaN  OCO   ~~  ~~  375   36   M  35-39            Michael Quinene   \n",
       "244         NaN  OCO   ~~  ~~  163   39   F  35-39          Jeana Connaughton   \n",
       "245         NaN  OCO   ~~  ~~  226   49   F  45-49                Maria Seman   \n",
       "246         NaN  OCO   ~~  ~~  185   42   F  40-44                Heidi Hayes   \n",
       "247         NaN  OCO   ~~  ~~  171   41   F  40-44               Amy L Miller   \n",
       "248         NaN  OCO   ~~  ~~   83   27   F  25-29            Krystal Peeples   \n",
       "249         NaN  OCO   ~~  ~~  302   53   M  50-54             J. D. Sandfort   \n",
       "250         NaN  OCO   ~~  ~~  135   35   F  35-39           Kathleen S Berry   \n",
       "\n",
       "        First    ...      NoName Bobs Road Barr Camp Bobs Road DN NoName DN  \\\n",
       "0      Azarya    ...     0:30:36   0:40:48   0:58:43      1:11:03   1:17:26   \n",
       "1      Darren    ...     0:31:16   0:41:46   1:00:09      1:12:26   1:18:39   \n",
       "2         Ben    ...     0:31:47   0:42:25   1:00:38      1:13:42   1:20:21   \n",
       "3        Andy    ...     0:32:24   0:43:45   1:03:05      1:15:47   1:22:15   \n",
       "4        Dean    ...     0:34:02   0:45:28   1:05:52      1:19:26   1:26:18   \n",
       "5      Lindon    ...     0:37:01       NaN   1:08:18      1:21:34   1:28:08   \n",
       "6        Adam    ...     0:37:50       NaN   1:11:03      1:25:04   1:31:57   \n",
       "7       Brian    ...     0:34:14       NaN   1:06:09      1:22:05   1:29:38   \n",
       "8     Levente    ...     0:35:52       NaN   1:09:16      1:24:25   1:31:37   \n",
       "9     Timothy    ...     0:36:40       NaN   1:11:05      1:25:24   1:32:20   \n",
       "10     Connor    ...     0:39:09       NaN   1:13:21      1:26:50   1:33:26   \n",
       "11       Mark    ...     0:36:31       NaN   1:09:52      1:24:20   1:32:04   \n",
       "12     Cooper    ...     0:35:53       NaN   1:10:31      1:25:15   1:32:29   \n",
       "13       Seth    ...     0:37:15       NaN   1:11:59      1:26:06   1:33:18   \n",
       "14      Jesse    ...     0:37:20       NaN   1:11:24      1:26:24   1:33:50   \n",
       "15         CJ    ...     0:36:05       NaN   1:10:37      1:26:06   1:33:30   \n",
       "16       Adam    ...     0:37:37       NaN   1:11:38      1:26:33   1:34:02   \n",
       "17        Rob    ...     0:38:09       NaN   1:13:02      1:28:31   1:36:02   \n",
       "18    Michael    ...     0:42:29       NaN   1:17:43      1:31:57   1:39:12   \n",
       "19   Kristina    ...     0:41:36       NaN   1:19:38      1:33:53   1:40:56   \n",
       "20    Mathias    ...     0:39:56       NaN   1:16:55      1:32:05   1:40:06   \n",
       "21        Kim    ...     0:41:38       NaN   1:20:10      1:35:12   1:42:47   \n",
       "22     Gerald    ...     0:41:04       NaN   1:17:53      1:33:58   1:41:55   \n",
       "23       Ryan    ...     0:38:08       NaN   1:15:33      1:32:46   1:41:11   \n",
       "24       Adam    ...     0:40:48       NaN   1:18:25      1:33:50   1:41:56   \n",
       "25        Teo    ...     0:41:56       NaN   1:20:13      1:35:56   1:44:08   \n",
       "26    Jessica    ...     0:40:29       NaN   1:18:33      1:34:39   1:42:50   \n",
       "27       Ryan    ...     0:41:17       NaN   1:21:00      1:37:45   1:45:32   \n",
       "28       Mark    ...     0:39:45       NaN   1:18:06      1:35:15   1:44:06   \n",
       "29     Sander    ...     0:43:17   0:57:31   1:22:40      1:39:46   1:47:41   \n",
       "..        ...    ...         ...       ...       ...          ...       ...   \n",
       "221      Gary    ...     1:04:20   1:25:47   2:04:20      2:31:06   2:43:07   \n",
       "222    Randal    ...     0:55:48   1:16:17   1:52:41      2:23:02   2:38:43   \n",
       "223   Brendan    ...     1:01:08   1:23:18   2:02:04      2:30:55   2:43:34   \n",
       "224      Tony    ...     1:01:15   1:23:21   2:02:05      2:30:58   2:43:46   \n",
       "225   Claudia    ...     1:03:54   1:25:02   2:04:03      2:32:50   2:46:00   \n",
       "226   Michael    ...     1:02:56   1:24:16   2:02:05      2:32:38   2:45:51   \n",
       "227   Melissa    ...     0:59:14   1:20:28   1:59:27      2:29:17   2:43:17   \n",
       "228     Grace    ...     1:02:51   1:25:28   2:05:41      2:35:28   2:47:34   \n",
       "229     Brian    ...     1:00:10   1:21:07   1:59:29      2:28:18   2:41:41   \n",
       "230    Keaton    ...     1:03:14   1:26:50   2:09:34      2:35:14   2:47:37   \n",
       "231     David    ...     1:00:44   1:23:18   2:03:53      2:30:56   2:43:42   \n",
       "232       Kip    ...     1:04:35   1:26:58   2:06:46      2:33:27   2:46:19   \n",
       "233     Brent    ...     1:00:58   1:21:16   1:59:45      2:28:41   2:42:21   \n",
       "234      Kari    ...     1:08:47   1:32:31   2:13:54      2:40:32   2:52:20   \n",
       "235     Lynne    ...     1:03:41   1:26:23   2:08:08      2:36:31   2:50:16   \n",
       "236    Dennis    ...     1:03:25   1:26:42   2:06:51      2:33:16   2:46:02   \n",
       "237    Nathan    ...     1:06:28   1:28:11   2:08:27      2:37:04   2:49:35   \n",
       "238     Gregg    ...     1:01:25   1:21:53   2:00:41      2:32:01   2:46:42   \n",
       "239   Jessica    ...     1:03:50   1:25:53   2:07:25      2:36:56   2:50:45   \n",
       "240      Greg    ...     1:02:07   1:25:03   2:05:37      2:37:51   2:51:08   \n",
       "241  Kimberly    ...     1:05:06   1:27:49   2:10:25      2:39:51   2:52:29   \n",
       "242      Tino    ...     1:00:40   1:21:28   2:01:24      2:31:53   2:47:34   \n",
       "243   Michael    ...     1:06:33   1:30:16   2:13:54      2:42:34   2:54:38   \n",
       "244     Jeana    ...     1:06:25   1:32:11   2:12:43      2:42:46   2:55:58   \n",
       "245     Maria    ...     1:03:17   1:26:19   2:11:22      2:40:44   2:54:14   \n",
       "246     Heidi    ...     1:11:19   1:36:43   2:21:39      2:48:23   2:59:44   \n",
       "247       Amy    ...     1:10:59   1:36:46   2:21:18      2:48:34   2:59:51   \n",
       "248   Krystal    ...     1:07:00   1:32:19   2:16:22      2:43:50   2:57:24   \n",
       "249     J. D.    ...     1:09:18   1:32:02   2:15:09      2:47:06   2:59:05   \n",
       "250  Kathleen    ...     1:02:27   1:27:57   2:10:44      2:42:19   2:54:44   \n",
       "\n",
       "       Ws DN   Uphill Downhill      Finish      Pace  \n",
       "0    1:24:26  0:58:43  0:36:51   95.566667   7:35/mi  \n",
       "1    1:25:23  1:00:09  0:35:50   96.000000   7:37/mi  \n",
       "2    1:27:57  1:00:38  0:39:48  100.450000   7:58/mi  \n",
       "3    1:29:29  1:03:05  0:38:04  101.150000   8:02/mi  \n",
       "4    1:33:40  1:05:52  0:39:52  105.750000   8:24/mi  \n",
       "5    1:35:21  1:08:18  0:38:32  106.850000   8:29/mi  \n",
       "6    1:39:19  1:11:03  0:39:56  110.983333   8:49/mi  \n",
       "7    1:38:09  1:06:09  0:45:13  111.383333   8:50/mi  \n",
       "8    1:39:28  1:09:16  0:42:29  111.766667   8:52/mi  \n",
       "9    1:39:51  1:11:05  0:40:47  111.866667   8:53/mi  \n",
       "10   1:40:38  1:13:21  0:38:42  112.066667   8:54/mi  \n",
       "11   1:40:14  1:09:52  0:42:48  112.683333   8:57/mi  \n",
       "12   1:40:28  1:10:31  0:42:10  112.700000   8:57/mi  \n",
       "13   1:40:58  1:11:59  0:41:07  113.100000   8:59/mi  \n",
       "14   1:41:39  1:11:24  0:42:41  114.083333   9:03/mi  \n",
       "15   1:41:31  1:10:37  0:43:51  114.466667   9:05/mi  \n",
       "16   1:42:50  1:11:38  0:44:54  116.533333   9:15/mi  \n",
       "17   1:44:29  1:13:02  0:44:50  117.866667   9:21/mi  \n",
       "18   1:47:03  1:17:43  0:42:12  119.933333   9:31/mi  \n",
       "19   1:48:23  1:19:38  0:40:50  120.483333   9:34/mi  \n",
       "20   1:48:24  1:16:55  0:44:39  121.566667   9:39/mi  \n",
       "21   1:50:58  1:20:10  0:43:56  124.100000   9:51/mi  \n",
       "22   1:50:34  1:17:53  0:46:56  124.833333   9:54/mi  \n",
       "23   1:50:22  1:15:33  0:49:26  125.000000   9:55/mi  \n",
       "24   1:51:13  1:18:25  0:46:50  125.250000   9:57/mi  \n",
       "25   1:52:37  1:20:13  0:45:03  125.283333   9:57/mi  \n",
       "26   1:51:53  1:18:33  0:47:09  125.700000   9:59/mi  \n",
       "27   1:53:59  1:21:00  0:45:38  126.633333  10:03/mi  \n",
       "28   1:53:21  1:18:06  0:49:49  127.933333  10:09/mi  \n",
       "29   1:56:15  1:22:40  0:46:46  129.433333  10:16/mi  \n",
       "..       ...      ...      ...         ...       ...  \n",
       "221  2:57:27  2:04:20  1:17:01  201.350000  15:59/mi  \n",
       "222  2:55:34  1:52:41  1:28:40  201.350000  15:59/mi  \n",
       "223  2:58:22  2:02:04  1:19:16  201.350000  15:59/mi  \n",
       "224  2:58:22  2:02:05  1:19:17  201.383333  15:59/mi  \n",
       "225  3:00:26  2:04:03  1:17:24  201.466667  15:59/mi  \n",
       "226  3:00:24  2:02:05  1:19:55  202.000000  16:02/mi  \n",
       "227  2:58:25  1:59:27  1:24:03  203.516667  16:09/mi  \n",
       "228  3:00:32  2:05:41  1:17:55  203.616667  16:10/mi  \n",
       "229  2:57:26  1:59:29  1:24:11  203.666667  16:10/mi  \n",
       "230  3:02:20  2:09:34  1:14:08  203.716667  16:10/mi  \n",
       "231  2:58:14  2:03:53  1:20:03  203.950000  16:11/mi  \n",
       "232  3:01:14  2:06:46  1:17:36  204.383333  16:13/mi  \n",
       "233  2:58:51  1:59:45  1:25:34  205.316667  16:18/mi  \n",
       "234  3:05:22  2:13:54  1:12:33  206.466667  16:23/mi  \n",
       "235  3:04:50  2:08:08  1:18:36  206.733333  16:24/mi  \n",
       "236  3:00:36  2:06:51  1:19:59  206.833333  16:25/mi  \n",
       "237  3:04:09  2:08:27  1:18:28  206.933333  16:25/mi  \n",
       "238  3:03:43  2:00:41  1:26:33  207.250000  16:27/mi  \n",
       "239  3:05:40  2:07:25  1:20:56  208.350000  16:32/mi  \n",
       "240  3:06:04  2:05:37  1:23:13  208.833333  16:34/mi  \n",
       "241  3:07:18  2:10:25  1:19:28  209.900000  16:40/mi  \n",
       "242  3:04:24  2:01:24  1:29:06  210.500000  16:42/mi  \n",
       "243  3:09:13  2:13:54  1:17:22  211.266667  16:46/mi  \n",
       "244  3:11:10  2:12:43  1:19:37  212.333333  16:51/mi  \n",
       "245  3:09:25  2:11:22  1:21:19  212.700000  16:53/mi  \n",
       "246  3:12:46  2:21:39  1:12:23  214.050000  16:59/mi  \n",
       "247  3:12:51  2:21:18  1:12:44  214.050000  16:59/mi  \n",
       "248  3:12:21  2:16:22  1:19:43  216.083333  17:09/mi  \n",
       "249  3:14:18  2:15:09  1:21:59  217.133333  17:14/mi  \n",
       "250  3:09:46  2:10:44  1:28:00  218.750000  17:22/mi  \n",
       "\n",
       "[251 rows x 26 columns]"
      ]
     },
     "execution_count": 20,
     "metadata": {},
     "output_type": "execute_result"
    }
   ],
   "source": [
    "barr_df_finishers.head(-10)"
   ]
  },
  {
   "cell_type": "code",
   "execution_count": null,
   "metadata": {},
   "outputs": [],
   "source": []
  }
 ],
 "metadata": {
  "kernelspec": {
   "display_name": "Python 3",
   "language": "python",
   "name": "python3"
  },
  "language_info": {
   "codemirror_mode": {
    "name": "ipython",
    "version": 3
   },
   "file_extension": ".py",
   "mimetype": "text/x-python",
   "name": "python",
   "nbconvert_exporter": "python",
   "pygments_lexer": "ipython3",
   "version": "3.6.7"
  }
 },
 "nbformat": 4,
 "nbformat_minor": 2
}
