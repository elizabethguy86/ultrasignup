{
 "cells": [
  {
   "cell_type": "code",
   "execution_count": 166,
   "metadata": {},
   "outputs": [],
   "source": [
    "import requests\n",
    "from selenium.webdriver import (Chrome)\n",
    "from string import ascii_lowercase\n",
    "from pymongo import MongoClient\n",
    "from bs4 import BeautifulSoup\n",
    "import json\n",
    "import sys\n",
    "import pandas as pd\n",
    "import time\n",
    "from scipy.stats import ttest_ind, kruskal\n",
    "import plotly.plotly as py\n",
    "import plotly.graph_objs as go"
   ]
  },
  {
   "cell_type": "code",
   "execution_count": 14,
   "metadata": {},
   "outputs": [],
   "source": [
    "\n",
    "r = requests.get(index_url)  # Fetch the web page\n",
    "html = r.content  # Store the HTML content as a string"
   ]
  },
  {
   "cell_type": "code",
   "execution_count": 15,
   "metadata": {},
   "outputs": [],
   "source": [
    "soup = BeautifulSoup(html, 'html.parser')"
   ]
  },
  {
   "cell_type": "code",
   "execution_count": null,
   "metadata": {},
   "outputs": [],
   "source": []
  },
  {
   "cell_type": "code",
   "execution_count": 18,
   "metadata": {},
   "outputs": [
    {
     "name": "stdout",
     "output_type": "stream",
     "text": [
      "<title>\r\n",
      "\t2017 Cascade Crest 100 Miler - Results\r\n",
      "</title>\n"
     ]
    }
   ],
   "source": [
    "print (soup.title)"
   ]
  },
  {
   "cell_type": "code",
   "execution_count": 20,
   "metadata": {},
   "outputs": [
    {
     "name": "stdout",
     "output_type": "stream",
     "text": [
      "/favicon.ico\n",
      "/css/jquery-ui-1.10.3.custom.min.css\n",
      "/content/acorn_css?v=NuZ1MsCSr_VTh4pgnSm7aC412gvnZ1GFo_FIpsbk7Fo1\n",
      "//maxcdn.bootstrapcdn.com/font-awesome/4.7.0/css/font-awesome.min.css\n",
      "/themes/ui.jqgrid.css\n"
     ]
    }
   ],
   "source": [
    "for a in soup.findAll('link'):\n",
    "    print (a['href'])\n"
   ]
  },
  {
   "cell_type": "code",
   "execution_count": 7,
   "metadata": {},
   "outputs": [],
   "source": [
    "def get_results(index_url):\n",
    "    '''Starts web scraper to get table\n",
    "    with runner results.  Returns column headers\n",
    "    and result data.'''\n",
    "    browser = Chrome()\n",
    "    browser.get(index_url)\n",
    "    sel = \"gbox_list\" \n",
    "    cascade100results=browser.find_element_by_id(sel) #setting a css selector\n",
    "    table_rows = cascade100results.text.split('\\n')\n",
    "    runner_rows = [row.split() for row in table_rows]\n",
    "    cols = runner_rows[0:10] #column headers\n",
    "    content = runner_rows[11:] #the actual runner results\n",
    "    return (cols, content)"
   ]
  },
  {
   "cell_type": "code",
   "execution_count": 10,
   "metadata": {},
   "outputs": [],
   "source": [
    "root_url = 'http://ultrasignup.com'\n",
    "index_url = root_url + '/results_event.aspx?did=41880'"
   ]
  },
  {
   "cell_type": "code",
   "execution_count": 11,
   "metadata": {},
   "outputs": [],
   "source": [
    "cols, content = get_results(index_url=index_url)"
   ]
  },
  {
   "cell_type": "code",
   "execution_count": 13,
   "metadata": {},
   "outputs": [
    {
     "data": {
      "text/plain": [
       "[['results',\n",
       "  '2',\n",
       "  'Matthew',\n",
       "  'Urbanski',\n",
       "  'Seattle',\n",
       "  'WA',\n",
       "  '36',\n",
       "  'M',\n",
       "  '2',\n",
       "  '20:11:25',\n",
       "  '85.67'],\n",
       " ['results',\n",
       "  '3',\n",
       "  'Ben',\n",
       "  'Koss',\n",
       "  'San',\n",
       "  'Francisco',\n",
       "  'CA',\n",
       "  '37',\n",
       "  'M',\n",
       "  '3',\n",
       "  '22:09:00',\n",
       "  '89.34'],\n",
       " ['results',\n",
       "  '4',\n",
       "  'Jesse',\n",
       "  'Rickert',\n",
       "  'Gunnison',\n",
       "  'CO',\n",
       "  '45',\n",
       "  'M',\n",
       "  '4',\n",
       "  '22:10:27',\n",
       "  '89.76'],\n",
       " ['results',\n",
       "  '5',\n",
       "  'Kaytlyn',\n",
       "  'Gerbin',\n",
       "  'Issaquah',\n",
       "  'WA',\n",
       "  '28',\n",
       "  'F',\n",
       "  '1',\n",
       "  '22:22:45',\n",
       "  '95.69'],\n",
       " ['results',\n",
       "  '6',\n",
       "  'Michael',\n",
       "  'Hauser',\n",
       "  'Olympia',\n",
       "  'WA',\n",
       "  '27',\n",
       "  'M',\n",
       "  '5',\n",
       "  '23:21:03',\n",
       "  '76.04'],\n",
       " ['results',\n",
       "  '7',\n",
       "  'Ashley',\n",
       "  'Nordell',\n",
       "  'Sisters',\n",
       "  'OR',\n",
       "  '37',\n",
       "  'F',\n",
       "  '2',\n",
       "  '23:21:07',\n",
       "  '97.99'],\n",
       " ['results',\n",
       "  '8',\n",
       "  'Phil',\n",
       "  'Shaw',\n",
       "  'Seattle',\n",
       "  'WA',\n",
       "  '31',\n",
       "  'M',\n",
       "  '6',\n",
       "  '23:22:54',\n",
       "  '91.2'],\n",
       " ['results',\n",
       "  '9',\n",
       "  'Kedric',\n",
       "  'Osborne',\n",
       "  'Klamath',\n",
       "  'Falls',\n",
       "  'OR',\n",
       "  '40',\n",
       "  'M',\n",
       "  '7',\n",
       "  '23:27:27',\n",
       "  '87.69'],\n",
       " ['results',\n",
       "  '10',\n",
       "  'Nicholas',\n",
       "  'Hanson',\n",
       "  'Kalamazoo',\n",
       "  'MI',\n",
       "  '35',\n",
       "  'M',\n",
       "  '8',\n",
       "  '23:30:48',\n",
       "  '89.74'],\n",
       " ['results',\n",
       "  '11',\n",
       "  'Adam',\n",
       "  'Harris',\n",
       "  'North',\n",
       "  'Vancouver',\n",
       "  'BC',\n",
       "  '30',\n",
       "  'M',\n",
       "  '9',\n",
       "  '23:45:43',\n",
       "  '86.8'],\n",
       " ['results',\n",
       "  '12',\n",
       "  'Ted',\n",
       "  'Bross',\n",
       "  'Dayton',\n",
       "  'OH',\n",
       "  '28',\n",
       "  'M',\n",
       "  '10',\n",
       "  '23:50:12',\n",
       "  '82.6'],\n",
       " ['results',\n",
       "  '13',\n",
       "  'Arthur',\n",
       "  'Martineau',\n",
       "  'Renton',\n",
       "  'WA',\n",
       "  '49',\n",
       "  'M',\n",
       "  '11',\n",
       "  '24:30:50',\n",
       "  '80.21'],\n",
       " ['results',\n",
       "  '14',\n",
       "  'Jeff',\n",
       "  'Pelletier',\n",
       "  'Vancouver',\n",
       "  'BC',\n",
       "  '36',\n",
       "  'M',\n",
       "  '12',\n",
       "  '24:38:37',\n",
       "  '79.31'],\n",
       " ['results',\n",
       "  '15',\n",
       "  'Jess',\n",
       "  'Mullen',\n",
       "  'Seattle',\n",
       "  'WA',\n",
       "  '42',\n",
       "  'F',\n",
       "  '3',\n",
       "  '24:42:36',\n",
       "  '83.32'],\n",
       " ['results',\n",
       "  '16',\n",
       "  'Chris',\n",
       "  'Dickey',\n",
       "  'Gunnison',\n",
       "  'CO',\n",
       "  '46',\n",
       "  'M',\n",
       "  '13',\n",
       "  '24:52:50',\n",
       "  '83.12'],\n",
       " ['results',\n",
       "  '17',\n",
       "  'Nathan',\n",
       "  'Kurz',\n",
       "  'Kenmore',\n",
       "  'WA',\n",
       "  '35',\n",
       "  'M',\n",
       "  '14',\n",
       "  '25:15:32',\n",
       "  '77.62'],\n",
       " ['results',\n",
       "  '18',\n",
       "  'Ryan',\n",
       "  'Dotson',\n",
       "  'Seattle',\n",
       "  'WA',\n",
       "  '41',\n",
       "  'M',\n",
       "  '15',\n",
       "  '25:52:41',\n",
       "  '78.02'],\n",
       " ['results',\n",
       "  '19',\n",
       "  'Carly',\n",
       "  'Koerner',\n",
       "  'Ashland',\n",
       "  'OR',\n",
       "  '36',\n",
       "  'F',\n",
       "  '4',\n",
       "  '25:54:25',\n",
       "  '79.03'],\n",
       " ['results',\n",
       "  '20',\n",
       "  'Tom',\n",
       "  'Craik',\n",
       "  'Coldstream',\n",
       "  'BC',\n",
       "  '43',\n",
       "  'M',\n",
       "  '16',\n",
       "  '25:55:18',\n",
       "  '82.75'],\n",
       " ['results',\n",
       "  '21',\n",
       "  'Steven',\n",
       "  'Kent',\n",
       "  'North',\n",
       "  'Bend',\n",
       "  'WA',\n",
       "  '50',\n",
       "  'M',\n",
       "  '17',\n",
       "  '26:07:43',\n",
       "  '84.76'],\n",
       " ['results',\n",
       "  '22',\n",
       "  'Robert',\n",
       "  'Lalus',\n",
       "  'Renton',\n",
       "  'WA',\n",
       "  '43',\n",
       "  'M',\n",
       "  '18',\n",
       "  '26:19:28',\n",
       "  '75.85'],\n",
       " ['results',\n",
       "  '23',\n",
       "  'Alex',\n",
       "  'Giebelhaus',\n",
       "  'Bellingham',\n",
       "  'WA',\n",
       "  '27',\n",
       "  'M',\n",
       "  '19',\n",
       "  '26:37:01',\n",
       "  '76.77'],\n",
       " ['results',\n",
       "  '24',\n",
       "  'Tim',\n",
       "  'Stroh',\n",
       "  'Arlington',\n",
       "  'WA',\n",
       "  '55',\n",
       "  'M',\n",
       "  '20',\n",
       "  '26:45:29',\n",
       "  '84.15'],\n",
       " ['results',\n",
       "  '25',\n",
       "  'Oleg',\n",
       "  'Tabelev',\n",
       "  'Calgary',\n",
       "  'AB',\n",
       "  '51',\n",
       "  'M',\n",
       "  '21',\n",
       "  '26:47:08',\n",
       "  '90.22'],\n",
       " ['results',\n",
       "  '26',\n",
       "  'Michael',\n",
       "  'Hinterberg',\n",
       "  'Loveland',\n",
       "  'CO',\n",
       "  '38',\n",
       "  'M',\n",
       "  '22',\n",
       "  '26:54:50',\n",
       "  '84.01'],\n",
       " ['results',\n",
       "  '27',\n",
       "  'Bibo',\n",
       "  'Gao',\n",
       "  'Buffalo',\n",
       "  'Grove',\n",
       "  'IL',\n",
       "  '39',\n",
       "  'F',\n",
       "  '5',\n",
       "  '27:02:18',\n",
       "  '91.1'],\n",
       " ['results',\n",
       "  '28',\n",
       "  'Stephanie',\n",
       "  'Gundel',\n",
       "  'Seattle',\n",
       "  'WA',\n",
       "  '37',\n",
       "  'F',\n",
       "  '6',\n",
       "  '27:05:17',\n",
       "  '86.19'],\n",
       " ['results',\n",
       "  '29',\n",
       "  'Max',\n",
       "  'Fulton',\n",
       "  'Wheat',\n",
       "  'Ridge',\n",
       "  'CO',\n",
       "  '41',\n",
       "  'M',\n",
       "  '23',\n",
       "  '27:17:50',\n",
       "  '77.16'],\n",
       " ['results',\n",
       "  '30',\n",
       "  'Jimmy',\n",
       "  'Dean',\n",
       "  'Freeman',\n",
       "  'Los',\n",
       "  'Angeles',\n",
       "  'CA',\n",
       "  '40',\n",
       "  'M',\n",
       "  '24',\n",
       "  '27:23:02',\n",
       "  '79.87'],\n",
       " ['results',\n",
       "  '31',\n",
       "  'Seth',\n",
       "  'Wolpin',\n",
       "  'Seattle',\n",
       "  'WA',\n",
       "  '45',\n",
       "  'M',\n",
       "  '25',\n",
       "  '27:32:16',\n",
       "  '65.16'],\n",
       " ['results',\n",
       "  '32',\n",
       "  'Jeramie',\n",
       "  'Mcdonough',\n",
       "  'Salt',\n",
       "  'Lake',\n",
       "  'City',\n",
       "  'UT',\n",
       "  '28',\n",
       "  'M',\n",
       "  '26',\n",
       "  '27:33:30',\n",
       "  '74.34'],\n",
       " ['results',\n",
       "  '33',\n",
       "  'Ashley',\n",
       "  'Clinthorne',\n",
       "  'Lakewood',\n",
       "  'CO',\n",
       "  '30',\n",
       "  'F',\n",
       "  '7',\n",
       "  '27:49:08',\n",
       "  '87.9'],\n",
       " ['results',\n",
       "  '34',\n",
       "  'Matt',\n",
       "  'Barry',\n",
       "  'North',\n",
       "  'Vancouver',\n",
       "  'BC',\n",
       "  '30',\n",
       "  'M',\n",
       "  '27',\n",
       "  '27:53:16',\n",
       "  '80.48'],\n",
       " ['results',\n",
       "  '35',\n",
       "  'Alexa',\n",
       "  'Laidlaw',\n",
       "  'North',\n",
       "  'Vancouver',\n",
       "  'BC',\n",
       "  '28',\n",
       "  'F',\n",
       "  '8',\n",
       "  '27:53:24',\n",
       "  '87.21'],\n",
       " ['results',\n",
       "  '36',\n",
       "  'Garry',\n",
       "  'Harrington',\n",
       "  'Swanzey',\n",
       "  'NH',\n",
       "  '57',\n",
       "  'M',\n",
       "  '28',\n",
       "  '27:57:09',\n",
       "  '78.62'],\n",
       " ['results',\n",
       "  '37',\n",
       "  'Jeff',\n",
       "  'Wolf',\n",
       "  'Seattle',\n",
       "  'WA',\n",
       "  '40',\n",
       "  'M',\n",
       "  '29',\n",
       "  '27:57:12',\n",
       "  '79.37'],\n",
       " ['results',\n",
       "  '38',\n",
       "  'Amy',\n",
       "  'Burton',\n",
       "  'San',\n",
       "  'Jose',\n",
       "  'CA',\n",
       "  '43',\n",
       "  'F',\n",
       "  '9',\n",
       "  '27:57:44',\n",
       "  '90.61'],\n",
       " ['results',\n",
       "  '39',\n",
       "  'Jean',\n",
       "  'Coulter',\n",
       "  'Boulder',\n",
       "  'CO',\n",
       "  '45',\n",
       "  'F',\n",
       "  '10',\n",
       "  '28:01:04',\n",
       "  '78.36'],\n",
       " ['results',\n",
       "  '40',\n",
       "  'Paul',\n",
       "  'Heffernan',\n",
       "  'Wenatchee',\n",
       "  'WA',\n",
       "  '43',\n",
       "  'M',\n",
       "  '30',\n",
       "  '28:26:07',\n",
       "  '71.04'],\n",
       " ['results',\n",
       "  '41',\n",
       "  'Kathleen',\n",
       "  'Egan',\n",
       "  'Seattle',\n",
       "  'WA',\n",
       "  '44',\n",
       "  'F',\n",
       "  '11',\n",
       "  '28:28:56',\n",
       "  '89.75'],\n",
       " ['results',\n",
       "  '42',\n",
       "  'Debbie',\n",
       "  'Livingston',\n",
       "  'Bolton',\n",
       "  'CT',\n",
       "  '42',\n",
       "  'F',\n",
       "  '12',\n",
       "  '28:36:58',\n",
       "  '92.86'],\n",
       " ['results',\n",
       "  '43',\n",
       "  'Diarmuid',\n",
       "  'Truax',\n",
       "  'Denver',\n",
       "  'CO',\n",
       "  '47',\n",
       "  'M',\n",
       "  '31',\n",
       "  '28:40:15',\n",
       "  '65.18'],\n",
       " ['results',\n",
       "  '44',\n",
       "  'Deron',\n",
       "  'Carter',\n",
       "  'Corvallis',\n",
       "  'OR',\n",
       "  '43',\n",
       "  'M',\n",
       "  '32',\n",
       "  '28:44:26',\n",
       "  '74.66'],\n",
       " ['results',\n",
       "  '45',\n",
       "  'Sean',\n",
       "  'Patrick',\n",
       "  'Aliso',\n",
       "  'Viejo',\n",
       "  'CA',\n",
       "  '37',\n",
       "  'M',\n",
       "  '33',\n",
       "  '28:55:24',\n",
       "  '65.79'],\n",
       " ['results',\n",
       "  '46',\n",
       "  'Kelsey',\n",
       "  'Wilmore',\n",
       "  'Bellingham',\n",
       "  'WA',\n",
       "  '30',\n",
       "  'F',\n",
       "  '13',\n",
       "  '28:57:27',\n",
       "  '83.81'],\n",
       " ['results',\n",
       "  '47',\n",
       "  'Anne',\n",
       "  'Miller',\n",
       "  'Corvallis',\n",
       "  'OR',\n",
       "  '52',\n",
       "  'F',\n",
       "  '14',\n",
       "  '29:04:25',\n",
       "  '73.72'],\n",
       " ['results',\n",
       "  '48',\n",
       "  'Rich',\n",
       "  'Ainley',\n",
       "  'Okuku',\n",
       "  'RD3',\n",
       "  '43',\n",
       "  'M',\n",
       "  '34',\n",
       "  '29:06:31',\n",
       "  '69.18'],\n",
       " ['results',\n",
       "  '49',\n",
       "  'Michael',\n",
       "  'Linscott',\n",
       "  'Bellevue',\n",
       "  'WA',\n",
       "  '46',\n",
       "  'M',\n",
       "  '35',\n",
       "  '29:19:23',\n",
       "  '76.7'],\n",
       " ['results',\n",
       "  '50',\n",
       "  'John',\n",
       "  'Rodakowski',\n",
       "  'Olympia',\n",
       "  'WA',\n",
       "  '52',\n",
       "  'M',\n",
       "  '36',\n",
       "  '29:37:24',\n",
       "  '77.87'],\n",
       " ['results',\n",
       "  '51',\n",
       "  'Christophe',\n",
       "  'Block',\n",
       "  'Roland',\n",
       "  'AR',\n",
       "  '36',\n",
       "  'M',\n",
       "  '37',\n",
       "  '29:42:20',\n",
       "  '85.74'],\n",
       " ['results',\n",
       "  '52',\n",
       "  'Deanna',\n",
       "  'Odell',\n",
       "  'Santa',\n",
       "  'Barbara',\n",
       "  'CA',\n",
       "  '50',\n",
       "  'F',\n",
       "  '15',\n",
       "  '29:43:25',\n",
       "  '87'],\n",
       " ['results',\n",
       "  '53',\n",
       "  'Steven',\n",
       "  'Pack',\n",
       "  'Brooklyn',\n",
       "  'NY',\n",
       "  '36',\n",
       "  'M',\n",
       "  '38',\n",
       "  '29:43:55',\n",
       "  '78.09'],\n",
       " ['results',\n",
       "  '54',\n",
       "  'Morgan',\n",
       "  'Henderson',\n",
       "  'Seattle',\n",
       "  'WA',\n",
       "  '39',\n",
       "  'M',\n",
       "  '39',\n",
       "  '29:54:22',\n",
       "  '69.92'],\n",
       " ['results',\n",
       "  '55',\n",
       "  'Nicholas',\n",
       "  'Bulson',\n",
       "  'Saint',\n",
       "  'Joseph',\n",
       "  'MI',\n",
       "  '32',\n",
       "  'M',\n",
       "  '40',\n",
       "  '30:34:57',\n",
       "  '75.88'],\n",
       " ['results',\n",
       "  '56',\n",
       "  'Emily',\n",
       "  'Halnon',\n",
       "  'Eugene',\n",
       "  'OR',\n",
       "  '32',\n",
       "  'F',\n",
       "  '16',\n",
       "  '30:58:19',\n",
       "  '85.11'],\n",
       " ['results',\n",
       "  '57',\n",
       "  'Monica',\n",
       "  'Ochs',\n",
       "  'Anacortes',\n",
       "  'WA',\n",
       "  '48',\n",
       "  'F',\n",
       "  '17',\n",
       "  '30:59:50',\n",
       "  '86.57'],\n",
       " ['results',\n",
       "  '58',\n",
       "  'Van',\n",
       "  'Phan',\n",
       "  'Maple',\n",
       "  'Valley',\n",
       "  'WA',\n",
       "  '46',\n",
       "  'F',\n",
       "  '18',\n",
       "  '30:59:50',\n",
       "  '85.52'],\n",
       " ['results',\n",
       "  '59',\n",
       "  'Shawn',\n",
       "  'McTaggart',\n",
       "  'Palmer',\n",
       "  'AK',\n",
       "  '40',\n",
       "  'F',\n",
       "  '19',\n",
       "  '31:05:46',\n",
       "  '82.5'],\n",
       " ['results',\n",
       "  '60',\n",
       "  'Ricardo',\n",
       "  'Hoffman',\n",
       "  'Seattle',\n",
       "  'WA',\n",
       "  '35',\n",
       "  'M',\n",
       "  '41',\n",
       "  '31:11:14',\n",
       "  '78.48'],\n",
       " ['results',\n",
       "  '61',\n",
       "  'Birgitte',\n",
       "  'Marthinsen',\n",
       "  'Squamish',\n",
       "  'BC',\n",
       "  '42',\n",
       "  'F',\n",
       "  '20',\n",
       "  '31:15:38',\n",
       "  '81.23'],\n",
       " ['results',\n",
       "  '62',\n",
       "  'Matt',\n",
       "  'Hall',\n",
       "  'Squamish',\n",
       "  'BC',\n",
       "  '35',\n",
       "  'M',\n",
       "  '42',\n",
       "  '31:16:14',\n",
       "  '81.24'],\n",
       " ['results',\n",
       "  '63',\n",
       "  'Ruchel',\n",
       "  'Stevens',\n",
       "  'Canmore',\n",
       "  'AB',\n",
       "  '30',\n",
       "  'F',\n",
       "  '21',\n",
       "  '31:16:14',\n",
       "  '80.83'],\n",
       " ['results',\n",
       "  '64',\n",
       "  'Neal',\n",
       "  'Saxe',\n",
       "  'Bellingham',\n",
       "  'WA',\n",
       "  '49',\n",
       "  'M',\n",
       "  '43',\n",
       "  '31:28:41',\n",
       "  '71.18'],\n",
       " ['results',\n",
       "  '65',\n",
       "  'Andreas',\n",
       "  'Aguirre',\n",
       "  'San',\n",
       "  'Diego',\n",
       "  'CA',\n",
       "  '38',\n",
       "  'M',\n",
       "  '44',\n",
       "  '31:29:10',\n",
       "  '74.29'],\n",
       " ['results',\n",
       "  '66',\n",
       "  'Jared',\n",
       "  'Friesen',\n",
       "  'Spokane',\n",
       "  'WA',\n",
       "  '35',\n",
       "  'M',\n",
       "  '45',\n",
       "  '31:30:10',\n",
       "  '69.94'],\n",
       " ['results',\n",
       "  '67',\n",
       "  'Emily',\n",
       "  'Compton',\n",
       "  'Canmore',\n",
       "  'AB',\n",
       "  '31',\n",
       "  'F',\n",
       "  '22',\n",
       "  '31:30:31',\n",
       "  '81.99'],\n",
       " ['results',\n",
       "  '68',\n",
       "  'Mike',\n",
       "  'Morcos',\n",
       "  'Redmond',\n",
       "  'WA',\n",
       "  '39',\n",
       "  'M',\n",
       "  '46',\n",
       "  '31:34:15',\n",
       "  '67.73'],\n",
       " ['results',\n",
       "  '69',\n",
       "  'Richard',\n",
       "  'Benoit',\n",
       "  'Portland',\n",
       "  'OR',\n",
       "  '49',\n",
       "  'M',\n",
       "  '47',\n",
       "  '31:34:39',\n",
       "  '65.14'],\n",
       " ['results',\n",
       "  '70',\n",
       "  'Rachel',\n",
       "  'Baird',\n",
       "  'Spokane',\n",
       "  'WA',\n",
       "  '42',\n",
       "  'F',\n",
       "  '23',\n",
       "  '31:37:33',\n",
       "  '85.09'],\n",
       " ['results',\n",
       "  '71',\n",
       "  'Noah',\n",
       "  'Pittard',\n",
       "  'Denver',\n",
       "  'CO',\n",
       "  '44',\n",
       "  'M',\n",
       "  '48',\n",
       "  '31:38:28',\n",
       "  '62.98'],\n",
       " ['results',\n",
       "  '72',\n",
       "  'James',\n",
       "  'Leask',\n",
       "  'London',\n",
       "  '36',\n",
       "  'M',\n",
       "  '49',\n",
       "  '31:39:59',\n",
       "  '65.7'],\n",
       " ['results',\n",
       "  '73',\n",
       "  'Geoffrey',\n",
       "  'Tripp',\n",
       "  'Bothell',\n",
       "  'WA',\n",
       "  '36',\n",
       "  'M',\n",
       "  '50',\n",
       "  '31:45:52',\n",
       "  '69.18'],\n",
       " ['results',\n",
       "  '74',\n",
       "  'Andy',\n",
       "  'Healey',\n",
       "  'Vancouver',\n",
       "  'BC',\n",
       "  '48',\n",
       "  'M',\n",
       "  '51',\n",
       "  '31:46:01',\n",
       "  '63.11'],\n",
       " ['results',\n",
       "  '75',\n",
       "  'Kelly',\n",
       "  'Bird',\n",
       "  'Bellingham',\n",
       "  'WA',\n",
       "  '34',\n",
       "  'F',\n",
       "  '24',\n",
       "  '31:48:45',\n",
       "  '76.98'],\n",
       " ['results',\n",
       "  '76',\n",
       "  'Travis',\n",
       "  'Lund',\n",
       "  'Pacific',\n",
       "  'Grove',\n",
       "  'CA',\n",
       "  '49',\n",
       "  'M',\n",
       "  '52',\n",
       "  '31:48:52',\n",
       "  '65.21'],\n",
       " ['results',\n",
       "  '77',\n",
       "  'Corey',\n",
       "  'Bransfield',\n",
       "  'Kelowna',\n",
       "  'BC',\n",
       "  '46',\n",
       "  'M',\n",
       "  '53',\n",
       "  '31:50:29',\n",
       "  '69.13'],\n",
       " ['results',\n",
       "  '78',\n",
       "  'Rick',\n",
       "  'Hoopes',\n",
       "  'Oceanside',\n",
       "  'CA',\n",
       "  '62',\n",
       "  'M',\n",
       "  '54',\n",
       "  '31:51:19',\n",
       "  '78.32'],\n",
       " ['results',\n",
       "  '79',\n",
       "  'Phillip',\n",
       "  'Nigh',\n",
       "  'Goleta',\n",
       "  'CA',\n",
       "  '55',\n",
       "  'M',\n",
       "  '55',\n",
       "  '31:57:07',\n",
       "  '71.54'],\n",
       " ['results',\n",
       "  '80',\n",
       "  'Brian',\n",
       "  'Landau',\n",
       "  'Seattle',\n",
       "  'WA',\n",
       "  '48',\n",
       "  'M',\n",
       "  '56',\n",
       "  '32:02:18',\n",
       "  '69.87'],\n",
       " ['results',\n",
       "  '81',\n",
       "  'Greg',\n",
       "  'Hanscom',\n",
       "  'Seattle',\n",
       "  'WA',\n",
       "  '44',\n",
       "  'M',\n",
       "  '57',\n",
       "  '32:03:09',\n",
       "  '73.4'],\n",
       " ['results',\n",
       "  '82',\n",
       "  'Janos',\n",
       "  'Orsos',\n",
       "  'Bishops',\n",
       "  'Stortford',\n",
       "  '32',\n",
       "  'M',\n",
       "  '58',\n",
       "  '32:04:21',\n",
       "  '69.16'],\n",
       " ['results',\n",
       "  '83',\n",
       "  'Ayumu',\n",
       "  'Tsukada',\n",
       "  'Osaka',\n",
       "  'city',\n",
       "  '46',\n",
       "  'M',\n",
       "  '59',\n",
       "  '32:24:49',\n",
       "  '55.54'],\n",
       " ['results',\n",
       "  '84',\n",
       "  'Lauren',\n",
       "  'Matosziuk',\n",
       "  'Corvallis',\n",
       "  'OR',\n",
       "  '30',\n",
       "  'F',\n",
       "  '25',\n",
       "  '32:39:10',\n",
       "  '75.4'],\n",
       " ['results',\n",
       "  '85',\n",
       "  'Terry',\n",
       "  'Gardiner',\n",
       "  'Seattle',\n",
       "  'WA',\n",
       "  '67',\n",
       "  'M',\n",
       "  '60',\n",
       "  '32:43:10',\n",
       "  '65.86'],\n",
       " ['results',\n",
       "  '86',\n",
       "  'David',\n",
       "  'Williamson',\n",
       "  'Issaquah',\n",
       "  'WA',\n",
       "  '44',\n",
       "  'M',\n",
       "  '61',\n",
       "  '32:45:45',\n",
       "  '57.86'],\n",
       " ['results',\n",
       "  '87',\n",
       "  'Genia',\n",
       "  'McKnight',\n",
       "  'Bothell',\n",
       "  'WA',\n",
       "  '41',\n",
       "  'F',\n",
       "  '26',\n",
       "  '32:49:07',\n",
       "  '84.59'],\n",
       " ['results',\n",
       "  '88',\n",
       "  'Tim',\n",
       "  'Melbourne',\n",
       "  'Ellensburg',\n",
       "  'WA',\n",
       "  '49',\n",
       "  'M',\n",
       "  '62',\n",
       "  '32:49:57',\n",
       "  '61.33'],\n",
       " ['results',\n",
       "  '89',\n",
       "  'George',\n",
       "  'Hitzfeld',\n",
       "  'Fort',\n",
       "  'Worth',\n",
       "  'TX',\n",
       "  '57',\n",
       "  'M',\n",
       "  '63',\n",
       "  '32:53:30',\n",
       "  '75.36'],\n",
       " ['results',\n",
       "  '90',\n",
       "  'Jacob',\n",
       "  'Royer',\n",
       "  'Hinesburg',\n",
       "  'VT',\n",
       "  '35',\n",
       "  'M',\n",
       "  '64',\n",
       "  '32:54:48',\n",
       "  '68.29'],\n",
       " ['results',\n",
       "  '91',\n",
       "  'Jennie',\n",
       "  'Eyring',\n",
       "  'Seattle',\n",
       "  'WA',\n",
       "  '43',\n",
       "  'F',\n",
       "  '27',\n",
       "  '32:57:44',\n",
       "  '76.46'],\n",
       " ['results',\n",
       "  '92',\n",
       "  'Bruce',\n",
       "  'Cyra',\n",
       "  'Vashon',\n",
       "  'Island',\n",
       "  'WA',\n",
       "  '59',\n",
       "  'M',\n",
       "  '65',\n",
       "  '33:01:57',\n",
       "  '73.58'],\n",
       " ['results',\n",
       "  '93',\n",
       "  'Linda',\n",
       "  'Samet',\n",
       "  'Corvallis',\n",
       "  'OR',\n",
       "  '51',\n",
       "  'F',\n",
       "  '28',\n",
       "  '33:03:48',\n",
       "  '87.18'],\n",
       " ['results',\n",
       "  '94',\n",
       "  'Joseph',\n",
       "  'Bearss',\n",
       "  'Wheat',\n",
       "  'Ridge',\n",
       "  'CO',\n",
       "  '47',\n",
       "  'M',\n",
       "  '66',\n",
       "  '33:05:46',\n",
       "  '56.09'],\n",
       " ['results',\n",
       "  '95',\n",
       "  'Jon',\n",
       "  'Armstrong',\n",
       "  'Seattle',\n",
       "  'WA',\n",
       "  '35',\n",
       "  'M',\n",
       "  '67',\n",
       "  '33:07:48',\n",
       "  '61.81'],\n",
       " ['results',\n",
       "  '96',\n",
       "  'Oren',\n",
       "  'Guttmann',\n",
       "  'Hinesburg',\n",
       "  'VT',\n",
       "  '31',\n",
       "  'M',\n",
       "  '68',\n",
       "  '33:08:54',\n",
       "  '67.64'],\n",
       " ['results',\n",
       "  '97',\n",
       "  'Panya',\n",
       "  'Somnhot',\n",
       "  'Mill',\n",
       "  'Valley',\n",
       "  'CA',\n",
       "  '36',\n",
       "  'M',\n",
       "  '69',\n",
       "  '33:09:55',\n",
       "  '64.56'],\n",
       " ['results',\n",
       "  '98',\n",
       "  'Bruce',\n",
       "  'Kellogg',\n",
       "  'Shoreline',\n",
       "  'WA',\n",
       "  '57',\n",
       "  'M',\n",
       "  '70',\n",
       "  '33:13:07',\n",
       "  '70.43'],\n",
       " ['results',\n",
       "  '99',\n",
       "  'Maudianne',\n",
       "  'Jordan',\n",
       "  'Issaquah',\n",
       "  'WA',\n",
       "  '26',\n",
       "  'F',\n",
       "  '29',\n",
       "  '33:16:30',\n",
       "  '70.48'],\n",
       " ['results',\n",
       "  '100',\n",
       "  'David',\n",
       "  'Mayo',\n",
       "  'Seattle',\n",
       "  'WA',\n",
       "  '41',\n",
       "  'M',\n",
       "  '71',\n",
       "  '33:18:17',\n",
       "  '68.46'],\n",
       " ['results',\n",
       "  '101',\n",
       "  'Gary',\n",
       "  'Dudney',\n",
       "  'Salinas',\n",
       "  'CA',\n",
       "  '64',\n",
       "  'M',\n",
       "  '72',\n",
       "  '33:20:50',\n",
       "  '65.05'],\n",
       " ['results',\n",
       "  '102',\n",
       "  'Brianna',\n",
       "  'Graves',\n",
       "  'Winthrop',\n",
       "  'WA',\n",
       "  '26',\n",
       "  'F',\n",
       "  '30',\n",
       "  '33:24:19',\n",
       "  '76.33'],\n",
       " ['results',\n",
       "  '103',\n",
       "  'Joshua',\n",
       "  'Barringer',\n",
       "  'Vancouver',\n",
       "  'BC',\n",
       "  '34',\n",
       "  'M',\n",
       "  '73',\n",
       "  '33:25:41',\n",
       "  '66.6'],\n",
       " ['results',\n",
       "  '104',\n",
       "  'Timothy',\n",
       "  'Beck',\n",
       "  'Ellsworth',\n",
       "  'AFB',\n",
       "  'SD',\n",
       "  '39',\n",
       "  'M',\n",
       "  '74',\n",
       "  '33:29:41',\n",
       "  '58.35'],\n",
       " ['results',\n",
       "  '105',\n",
       "  'Casey',\n",
       "  'Osmonovich',\n",
       "  'Sedona',\n",
       "  'AZ',\n",
       "  '49',\n",
       "  'M',\n",
       "  '75',\n",
       "  '33:29:41',\n",
       "  '60.48'],\n",
       " ['results',\n",
       "  '106',\n",
       "  'Joachim',\n",
       "  'Damstrom',\n",
       "  'Bellevue',\n",
       "  'WA',\n",
       "  '44',\n",
       "  'M',\n",
       "  '76',\n",
       "  '33:31:25',\n",
       "  '65.45'],\n",
       " ['results',\n",
       "  '107',\n",
       "  'Patrick',\n",
       "  'Grengs',\n",
       "  'West',\n",
       "  'Richland',\n",
       "  'WA',\n",
       "  '52',\n",
       "  'M',\n",
       "  '77',\n",
       "  '33:31:36',\n",
       "  '58.34'],\n",
       " ['results',\n",
       "  '108',\n",
       "  'Hideko',\n",
       "  'Opperman',\n",
       "  'Redmond',\n",
       "  'WA',\n",
       "  '49',\n",
       "  'F',\n",
       "  '31',\n",
       "  '33:48:18',\n",
       "  '74.12'],\n",
       " ['results',\n",
       "  '109',\n",
       "  'Lisa',\n",
       "  'Ainley',\n",
       "  'Okuku',\n",
       "  'RD3',\n",
       "  '49',\n",
       "  'F',\n",
       "  '32',\n",
       "  '33:49:22',\n",
       "  '88.18'],\n",
       " ['results',\n",
       "  '110',\n",
       "  'Janet',\n",
       "  'Rosenfeld',\n",
       "  'Vancouver',\n",
       "  'BC',\n",
       "  '51',\n",
       "  'F',\n",
       "  '33',\n",
       "  '33:58:16',\n",
       "  '74.56'],\n",
       " ['Did', 'Not', 'Finish', '-', '53'],\n",
       " ['results', '0', 'Brandon', 'Lott', 'Burbank', 'WA', '44', 'M', '0', '69.85'],\n",
       " ['results',\n",
       "  '0',\n",
       "  'Bill',\n",
       "  'Gengler',\n",
       "  'Saint',\n",
       "  'Paul',\n",
       "  'MN',\n",
       "  '63',\n",
       "  'M',\n",
       "  '0',\n",
       "  '69.35'],\n",
       " ['results',\n",
       "  '0',\n",
       "  'Gretchen',\n",
       "  'Evaul',\n",
       "  'San',\n",
       "  'Diego',\n",
       "  'CA',\n",
       "  '40',\n",
       "  'F',\n",
       "  '0',\n",
       "  '80.6'],\n",
       " ['results', '0', 'Alex', 'Schiewe', 'Camas', 'WA', '37', 'M', '0', '68.05'],\n",
       " ['results', '0', 'Fred', 'Abramowitz', 'Fort', 'CO', '65', 'M', '0', '65.12'],\n",
       " ['results',\n",
       "  '0',\n",
       "  'Eric',\n",
       "  'Hodges',\n",
       "  'Santa',\n",
       "  'Clarita',\n",
       "  'CA',\n",
       "  '68',\n",
       "  'M',\n",
       "  '0',\n",
       "  '61.9'],\n",
       " ['results',\n",
       "  '0',\n",
       "  'Chihping',\n",
       "  'Fu',\n",
       "  'Fremont',\n",
       "  'CA',\n",
       "  '51',\n",
       "  'M',\n",
       "  '0',\n",
       "  '0',\n",
       "  '62.09'],\n",
       " ['results',\n",
       "  '0',\n",
       "  'Davy',\n",
       "  'Crockett',\n",
       "  'Saratoga',\n",
       "  'Springs',\n",
       "  'UT',\n",
       "  '59',\n",
       "  'M',\n",
       "  '0',\n",
       "  '70.6'],\n",
       " ['results',\n",
       "  '0',\n",
       "  'Letha',\n",
       "  'Cruthirds',\n",
       "  'Biloxi',\n",
       "  'MS',\n",
       "  '64',\n",
       "  'F',\n",
       "  '0',\n",
       "  '76.98'],\n",
       " ['results', '0', 'Mike', 'Burke', 'Portland', 'OR', '67', 'M', '0', '75.84'],\n",
       " ['results',\n",
       "  '0',\n",
       "  'Scott',\n",
       "  'Lesieur',\n",
       "  'Woodland',\n",
       "  'WA',\n",
       "  '45',\n",
       "  'M',\n",
       "  '0',\n",
       "  '64.28'],\n",
       " ['results',\n",
       "  '0',\n",
       "  'Trevor',\n",
       "  'Griffith',\n",
       "  'Issaquah',\n",
       "  'WA',\n",
       "  '40',\n",
       "  'M',\n",
       "  '0',\n",
       "  '61.61'],\n",
       " ['results', '0', 'Mike', 'James', 'Juneau', 'AK', '46', 'M', '0', '66.49'],\n",
       " ['results',\n",
       "  '0',\n",
       "  'Steven',\n",
       "  'Payette',\n",
       "  'Woodacre',\n",
       "  'CA',\n",
       "  '53',\n",
       "  'M',\n",
       "  '0',\n",
       "  '60.5'],\n",
       " ['results',\n",
       "  '0',\n",
       "  'Jeffrey',\n",
       "  'Edwards',\n",
       "  'Queensbury',\n",
       "  'NY',\n",
       "  '47',\n",
       "  'M',\n",
       "  '0',\n",
       "  '67.43'],\n",
       " ['results',\n",
       "  '0',\n",
       "  'Bill',\n",
       "  'Geist',\n",
       "  'Los',\n",
       "  'Alamos',\n",
       "  'NM',\n",
       "  '46',\n",
       "  'M',\n",
       "  '0',\n",
       "  '71.95'],\n",
       " ['results', '0', 'Brett', 'Bauer', 'Bothell', 'WA', '36', 'M', '0', '72.22'],\n",
       " ['results', '0', 'Tracy', 'Brown', 'Seattle', 'WA', '56', 'F', '0', '71.39'],\n",
       " ['results',\n",
       "  '0',\n",
       "  'Charles',\n",
       "  'South',\n",
       "  'Rochester',\n",
       "  'WA',\n",
       "  '48',\n",
       "  'M',\n",
       "  '0',\n",
       "  '58.93'],\n",
       " ['results',\n",
       "  '0',\n",
       "  'Christopher',\n",
       "  'Calzetta',\n",
       "  'Monterey',\n",
       "  'CA',\n",
       "  '35',\n",
       "  'M',\n",
       "  '0',\n",
       "  '91.53'],\n",
       " ['results',\n",
       "  '0',\n",
       "  'Michael',\n",
       "  'McNeill',\n",
       "  'Richland',\n",
       "  'WA',\n",
       "  '35',\n",
       "  'M',\n",
       "  '0',\n",
       "  '79.56'],\n",
       " ['results',\n",
       "  '0',\n",
       "  'Bradford',\n",
       "  'Lombardi',\n",
       "  'Death',\n",
       "  'Valley',\n",
       "  'CA',\n",
       "  '48',\n",
       "  'M',\n",
       "  '0',\n",
       "  '76.24'],\n",
       " ['results',\n",
       "  '0',\n",
       "  'Jennifer',\n",
       "  'Shultis',\n",
       "  'Portland',\n",
       "  'OR',\n",
       "  '48',\n",
       "  'F',\n",
       "  '0',\n",
       "  '76.21'],\n",
       " ['results',\n",
       "  '0',\n",
       "  'Scott',\n",
       "  'Dunlap',\n",
       "  'Woodside',\n",
       "  'CA',\n",
       "  '48',\n",
       "  'M',\n",
       "  '0',\n",
       "  '83.25'],\n",
       " ['results',\n",
       "  '0',\n",
       "  'William',\n",
       "  'Onate',\n",
       "  'Woodland',\n",
       "  'CA',\n",
       "  '41',\n",
       "  'M',\n",
       "  '0',\n",
       "  '68.99'],\n",
       " ['results',\n",
       "  '0',\n",
       "  'Karl',\n",
       "  'Jensen',\n",
       "  'North',\n",
       "  'Vancouver',\n",
       "  'BC',\n",
       "  '67',\n",
       "  'M',\n",
       "  '0',\n",
       "  '69.14'],\n",
       " ['results',\n",
       "  '0',\n",
       "  'Michele',\n",
       "  'Pettinger',\n",
       "  'Seattle',\n",
       "  'WA',\n",
       "  '47',\n",
       "  'F',\n",
       "  '0',\n",
       "  '69.97'],\n",
       " ['results',\n",
       "  '0',\n",
       "  'Carole',\n",
       "  'Holley',\n",
       "  'Anchorage',\n",
       "  'AK',\n",
       "  '42',\n",
       "  'F',\n",
       "  '0',\n",
       "  '76.86'],\n",
       " ['results',\n",
       "  '0',\n",
       "  'Mike',\n",
       "  'Kuhlmann',\n",
       "  'Lakewood',\n",
       "  'WA',\n",
       "  '67',\n",
       "  'M',\n",
       "  '0',\n",
       "  '57.16'],\n",
       " ['results', '0', 'Chad', 'Wolf', 'Mason', 'OH', '28', 'M', '0', '69.84'],\n",
       " ['results',\n",
       "  '0',\n",
       "  'Rachel',\n",
       "  'Dillon',\n",
       "  'Snoqualmie',\n",
       "  'WA',\n",
       "  '38',\n",
       "  'F',\n",
       "  '0',\n",
       "  '85.28'],\n",
       " ['results',\n",
       "  '0',\n",
       "  'Alex',\n",
       "  'Wiener',\n",
       "  'Palm',\n",
       "  'Beach',\n",
       "  'Gardens',\n",
       "  'FL',\n",
       "  '36',\n",
       "  'M',\n",
       "  '0',\n",
       "  '74.3'],\n",
       " ['results',\n",
       "  '0',\n",
       "  'Taryn',\n",
       "  'Graham',\n",
       "  'North',\n",
       "  'Bend',\n",
       "  'WA',\n",
       "  '38',\n",
       "  'F',\n",
       "  '0',\n",
       "  '64.37'],\n",
       " ['results',\n",
       "  '0',\n",
       "  'Chris',\n",
       "  'Bellevie',\n",
       "  'Kirkland',\n",
       "  'WA',\n",
       "  '45',\n",
       "  'M',\n",
       "  '0',\n",
       "  '53.93'],\n",
       " ['results', '0', 'Tho', 'Le', 'Issaquah', 'WA', '36', 'M', '0', '63.75'],\n",
       " ['results',\n",
       "  '0',\n",
       "  'Jennifer',\n",
       "  'Maccormack',\n",
       "  'Seattle',\n",
       "  'WA',\n",
       "  '46',\n",
       "  'F',\n",
       "  '0',\n",
       "  '72.16'],\n",
       " ['results', '0', 'Todd', 'Evans', 'Newberg', 'OR', '48', 'M', '0', '64.38'],\n",
       " ['results',\n",
       "  '0',\n",
       "  'Jeremy',\n",
       "  'Hinshaw',\n",
       "  'Anchorage',\n",
       "  'AK',\n",
       "  '42',\n",
       "  'M',\n",
       "  '0',\n",
       "  '68.44'],\n",
       " ['results',\n",
       "  '0',\n",
       "  'Matt',\n",
       "  'Newton',\n",
       "  'Richland',\n",
       "  'WA',\n",
       "  '44',\n",
       "  'M',\n",
       "  '0',\n",
       "  '0',\n",
       "  '67.11'],\n",
       " ['results',\n",
       "  '0',\n",
       "  'Alexander',\n",
       "  'Stroup',\n",
       "  'San',\n",
       "  'Leandro',\n",
       "  'CA',\n",
       "  '42',\n",
       "  'M',\n",
       "  '0',\n",
       "  '60.76'],\n",
       " ['results',\n",
       "  '0',\n",
       "  'Roger',\n",
       "  'Levesque',\n",
       "  'Vashon',\n",
       "  'WA',\n",
       "  '36',\n",
       "  'M',\n",
       "  '0',\n",
       "  '86.56'],\n",
       " ['results', '0', 'John', 'Wros', 'Girdwood', 'AK', '28', 'M', '0', '86.26'],\n",
       " ['results', '0', 'Mark', 'Lahaie', 'Olympia', 'WA', '57', 'M', '0', '51.85'],\n",
       " ['results', '0', 'Jade', 'Carter', 'Victoria', 'BC', '43', 'M', '0', '61.43'],\n",
       " ['results', '0', 'Tess', 'Harvey', 'Brighton', 'MA', '27', 'F', '0', '75.71'],\n",
       " ['results',\n",
       "  '0',\n",
       "  'Sara',\n",
       "  'Foster',\n",
       "  'Denver',\n",
       "  'CO',\n",
       "  '42',\n",
       "  'F',\n",
       "  '0',\n",
       "  '0',\n",
       "  '69.45'],\n",
       " ['results', '0', 'Rob', 'Mann', 'Monterey', 'CA', '45', 'M', '0', '65.1'],\n",
       " ['results',\n",
       "  '0',\n",
       "  'Dale',\n",
       "  'Peterson',\n",
       "  'Snoqualmie',\n",
       "  'WA',\n",
       "  '45',\n",
       "  'M',\n",
       "  '0',\n",
       "  '79.85'],\n",
       " ['results',\n",
       "  '0',\n",
       "  'Steve',\n",
       "  'Berardi',\n",
       "  'Seattle',\n",
       "  'WA',\n",
       "  '34',\n",
       "  'M',\n",
       "  '0',\n",
       "  '89.36'],\n",
       " ['results',\n",
       "  '0',\n",
       "  'Kimberley',\n",
       "  'Teshima',\n",
       "  'Newberry',\n",
       "  'Los',\n",
       "  'Angeles',\n",
       "  'CA',\n",
       "  '36',\n",
       "  'F',\n",
       "  '0',\n",
       "  '60.62'],\n",
       " ['results',\n",
       "  '0',\n",
       "  'Scott',\n",
       "  'Jensen',\n",
       "  'Fall',\n",
       "  'City',\n",
       "  'WA',\n",
       "  '34',\n",
       "  'M',\n",
       "  '0',\n",
       "  '61.1'],\n",
       " ['results',\n",
       "  '0',\n",
       "  'Linsey',\n",
       "  'Laplant',\n",
       "  'North',\n",
       "  'Bend',\n",
       "  'WA',\n",
       "  '41',\n",
       "  'F',\n",
       "  '0',\n",
       "  '69.01'],\n",
       " ['results', '0', 'Scott', 'Crain', 'Seattle', 'WA', '38', 'M', '0', '58.7'],\n",
       " ['Did', 'Not', 'Start', '-', '1'],\n",
       " ['results',\n",
       "  '0',\n",
       "  'Keith',\n",
       "  'Shishido',\n",
       "  'Corbett',\n",
       "  'OR',\n",
       "  '39',\n",
       "  'M',\n",
       "  '0',\n",
       "  '77.1']]"
      ]
     },
     "execution_count": 13,
     "metadata": {},
     "output_type": "execute_result"
    }
   ],
   "source": [
    "content"
   ]
  },
  {
   "cell_type": "code",
   "execution_count": 17,
   "metadata": {},
   "outputs": [],
   "source": [
    "\n",
    "#find index of Did Not Finish and Did Not Start\n",
    "def find_idx(content):\n",
    "    indices = []\n",
    "    for idx, row in enumerate(content):\n",
    "        if row[0] == 'Did':\n",
    "            indices.append(idx)\n",
    "    return indices"
   ]
  },
  {
   "cell_type": "code",
   "execution_count": 19,
   "metadata": {},
   "outputs": [
    {
     "data": {
      "text/plain": [
       "[109, 163]"
      ]
     },
     "execution_count": 19,
     "metadata": {},
     "output_type": "execute_result"
    }
   ],
   "source": [
    "indices = find_idx(content)\n",
    "indices"
   ]
  },
  {
   "cell_type": "code",
   "execution_count": 20,
   "metadata": {},
   "outputs": [],
   "source": [
    "finished = content[0:109]"
   ]
  },
  {
   "cell_type": "code",
   "execution_count": 21,
   "metadata": {},
   "outputs": [],
   "source": [
    "DNF = content[111:163]"
   ]
  },
  {
   "cell_type": "code",
   "execution_count": 22,
   "metadata": {},
   "outputs": [],
   "source": [
    "DNS = content[163:]"
   ]
  },
  {
   "cell_type": "code",
   "execution_count": 25,
   "metadata": {},
   "outputs": [],
   "source": [
    "def make_finisher_df(content, idx_1):\n",
    "    '''take in runner row content and the index\n",
    "    indicating the end of the finishers list (idx_1).  \n",
    "    return dataframe with the male and female times.'''\n",
    "    finished = content[0:idx_1]\n",
    "    gender = []\n",
    "    times = []\n",
    "    for row in finished:\n",
    "        times.append(row[-2])\n",
    "        gender.append(row[-4])\n",
    "    df = pd.DataFrame({'Gender': gender, 'Time': times})\n",
    "    df['Time'] = df['Time'].str.split(':')\n",
    "    df['Time'] = df['Time'].apply(lambda x: int(x[0]) * 60 + int(x[1]) + float(x[2])/60)\n",
    "    return df"
   ]
  },
  {
   "cell_type": "code",
   "execution_count": 26,
   "metadata": {},
   "outputs": [],
   "source": [
    "cascade1002017 = make_finisher_df(content, indices[0])"
   ]
  },
  {
   "cell_type": "code",
   "execution_count": 27,
   "metadata": {},
   "outputs": [],
   "source": [
    "males = cascade1002017[cascade1002017['Gender'] == 'M']"
   ]
  },
  {
   "cell_type": "code",
   "execution_count": 28,
   "metadata": {},
   "outputs": [],
   "source": [
    "females = cascade1002017[cascade1002017['Gender'] == 'F']"
   ]
  },
  {
   "cell_type": "code",
   "execution_count": 29,
   "metadata": {},
   "outputs": [
    {
     "data": {
      "text/plain": [
       "32.17009942137171"
      ]
     },
     "execution_count": 29,
     "metadata": {},
     "output_type": "execute_result"
    }
   ],
   "source": [
    "females['Time'].mean()\n",
    "females['Time'].sem()"
   ]
  },
  {
   "cell_type": "code",
   "execution_count": 30,
   "metadata": {},
   "outputs": [
    {
     "data": {
      "text/plain": [
       "1762.6929824561405"
      ]
     },
     "execution_count": 30,
     "metadata": {},
     "output_type": "execute_result"
    }
   ],
   "source": [
    "males['Time'].mean()"
   ]
  },
  {
   "cell_type": "code",
   "execution_count": 33,
   "metadata": {},
   "outputs": [
    {
     "data": {
      "text/plain": [
       "Ttest_indResult(statistic=0.8494337393385061, pvalue=0.3985578448626709)"
      ]
     },
     "execution_count": 33,
     "metadata": {},
     "output_type": "execute_result"
    }
   ],
   "source": [
    "#t-test on males vs females finishing times\n",
    "cascade_ttest2017 = ttest_ind(females['Time'], males['Time'], equal_var=False)"
   ]
  },
  {
   "cell_type": "code",
   "execution_count": 34,
   "metadata": {},
   "outputs": [],
   "source": [
    "trace1 = [go.Bar(\n",
    "    x=['Male', 'Female'],\n",
    "    y=[males['Time'].mean(), females['Time'].mean()],\n",
    "    name='Cascade Crest 100',\n",
    "    error_y=dict(\n",
    "        type='data',\n",
    "        array=[males['Time'].sem(), females['Time'].sem()],\n",
    "        visible=True\n",
    "    )\n",
    ")\n",
    "         ]"
   ]
  },
  {
   "cell_type": "code",
   "execution_count": 35,
   "metadata": {},
   "outputs": [
    {
     "data": {
      "text/html": [
       "<iframe id=\"igraph\" scrolling=\"no\" style=\"border:none;\" seamless=\"seamless\" src=\"https://plot.ly/~elizabethguy86/8.embed\" height=\"525px\" width=\"100%\"></iframe>"
      ],
      "text/plain": [
       "<plotly.tools.PlotlyDisplay object>"
      ]
     },
     "execution_count": 35,
     "metadata": {},
     "output_type": "execute_result"
    }
   ],
   "source": [
    "\n",
    "py.iplot(trace1, filename='error-bar-bar')"
   ]
  },
  {
   "cell_type": "code",
   "execution_count": 37,
   "metadata": {},
   "outputs": [],
   "source": [
    "def make_DNF_counts(DNF):\n",
    "    '''Takes in the DNF list as an input\n",
    "    and returns the male and female proportional counts.'''\n",
    "    males = 0\n",
    "    females = 0\n",
    "    for row in DNF:\n",
    "        if row[-3] == 'M':\n",
    "            males +=1\n",
    "        else:\n",
    "            females += 1\n",
    "    return males/len(DNF), females/len(DNF)\n"
   ]
  },
  {
   "cell_type": "code",
   "execution_count": 44,
   "metadata": {},
   "outputs": [],
   "source": [
    "pct_male, pct_female = make_DNF_counts(DNF)"
   ]
  },
  {
   "cell_type": "code",
   "execution_count": 39,
   "metadata": {},
   "outputs": [
    {
     "data": {
      "text/plain": [
       "0.2"
      ]
     },
     "execution_count": 39,
     "metadata": {},
     "output_type": "execute_result"
    }
   ],
   "source": [
    "len(females)/len(content)"
   ]
  },
  {
   "cell_type": "code",
   "execution_count": 41,
   "metadata": {},
   "outputs": [
    {
     "data": {
      "text/plain": [
       "0.46060606060606063"
      ]
     },
     "execution_count": 41,
     "metadata": {},
     "output_type": "execute_result"
    }
   ],
   "source": [
    "len(males)/len(content)"
   ]
  },
  {
   "cell_type": "code",
   "execution_count": 45,
   "metadata": {},
   "outputs": [
    {
     "data": {
      "text/plain": [
       "113.0"
      ]
     },
     "execution_count": 45,
     "metadata": {},
     "output_type": "execute_result"
    }
   ],
   "source": [
    "len(males) + pct_male*len(DNF)"
   ]
  },
  {
   "cell_type": "code",
   "execution_count": 46,
   "metadata": {},
   "outputs": [
    {
     "data": {
      "text/plain": [
       "48.0"
      ]
     },
     "execution_count": 46,
     "metadata": {},
     "output_type": "execute_result"
    }
   ],
   "source": [
    "len(females) + pct_female*len(DNF)"
   ]
  },
  {
   "cell_type": "code",
   "execution_count": 48,
   "metadata": {},
   "outputs": [
    {
     "data": {
      "text/plain": [
       "0.2981366459627329"
      ]
     },
     "execution_count": 48,
     "metadata": {},
     "output_type": "execute_result"
    }
   ],
   "source": [
    "48/(113+48) #30 pct of the entire field is female, 29% of DNFs are female"
   ]
  },
  {
   "cell_type": "code",
   "execution_count": 49,
   "metadata": {},
   "outputs": [
    {
     "data": {
      "text/plain": [
       "0.7018633540372671"
      ]
     },
     "execution_count": 49,
     "metadata": {},
     "output_type": "execute_result"
    }
   ],
   "source": [
    "113/(113+48) #70 pct of the entire field is male, 71% of the DNFs are male"
   ]
  },
  {
   "cell_type": "code",
   "execution_count": 51,
   "metadata": {},
   "outputs": [
    {
     "data": {
      "text/plain": [
       "0.28846153846153844"
      ]
     },
     "execution_count": 51,
     "metadata": {},
     "output_type": "execute_result"
    }
   ],
   "source": [
    "pct_female"
   ]
  },
  {
   "cell_type": "code",
   "execution_count": 52,
   "metadata": {},
   "outputs": [
    {
     "data": {
      "text/plain": [
       "0.7115384615384616"
      ]
     },
     "execution_count": 52,
     "metadata": {},
     "output_type": "execute_result"
    }
   ],
   "source": [
    "pct_male"
   ]
  },
  {
   "cell_type": "code",
   "execution_count": 53,
   "metadata": {},
   "outputs": [],
   "source": [
    "cc100_2018_url = root_url + '/results_event.aspx?did=51691'"
   ]
  },
  {
   "cell_type": "code",
   "execution_count": 54,
   "metadata": {},
   "outputs": [],
   "source": [
    "cols_2, content_2 = get_results(cc100_2018_url)"
   ]
  },
  {
   "cell_type": "code",
   "execution_count": 55,
   "metadata": {},
   "outputs": [
    {
     "data": {
      "text/plain": [
       "[]"
      ]
     },
     "execution_count": 55,
     "metadata": {},
     "output_type": "execute_result"
    }
   ],
   "source": [
    "find_idx(content_2)"
   ]
  },
  {
   "cell_type": "code",
   "execution_count": 181,
   "metadata": {},
   "outputs": [
    {
     "data": {
      "text/plain": [
       "146"
      ]
     },
     "execution_count": 181,
     "metadata": {},
     "output_type": "execute_result"
    }
   ],
   "source": [
    "cascade1002018 = make_finisher_df(content_2, len(content_2))\n",
    "len(cascade1002018)"
   ]
  },
  {
   "cell_type": "code",
   "execution_count": 60,
   "metadata": {},
   "outputs": [],
   "source": [
    "males_2018 = cascade1002018[cascade1002018['Gender'] == 'M']"
   ]
  },
  {
   "cell_type": "code",
   "execution_count": 61,
   "metadata": {},
   "outputs": [],
   "source": [
    "females_2018 = cascade1002018[cascade1002018['Gender'] == 'F']"
   ]
  },
  {
   "cell_type": "code",
   "execution_count": 62,
   "metadata": {},
   "outputs": [
    {
     "data": {
      "text/plain": [
       "Ttest_indResult(statistic=0.16824113676306918, pvalue=0.8674406192664971)"
      ]
     },
     "execution_count": 62,
     "metadata": {},
     "output_type": "execute_result"
    }
   ],
   "source": [
    "#t-test on males vs females finishing times\n",
    "cascade_ttest2018 = ttest_ind(females_2018['Time'], males_2018['Time'], equal_var=False)"
   ]
  },
  {
   "cell_type": "code",
   "execution_count": 176,
   "metadata": {},
   "outputs": [],
   "source": [
    "trace4 = [go.Bar(\n",
    "    x=['Male', 'Female'],\n",
    "    y=[males_2018['Time'].mean(), females_2018['Time'].mean()],\n",
    "    name='Cascade Crest 100 2018',\n",
    "    error_y=dict(\n",
    "        type='data',\n",
    "        array=[males_2018['Time'].sem(), females_2018['Time'].sem()],\n",
    "        visible=True\n",
    "    )\n",
    ")\n",
    "         ]"
   ]
  },
  {
   "cell_type": "code",
   "execution_count": 177,
   "metadata": {},
   "outputs": [
    {
     "data": {
      "text/html": [
       "<iframe id=\"igraph\" scrolling=\"no\" style=\"border:none;\" seamless=\"seamless\" src=\"https://plot.ly/~elizabethguy86/14.embed\" height=\"525px\" width=\"100%\"></iframe>"
      ],
      "text/plain": [
       "<plotly.tools.PlotlyDisplay object>"
      ]
     },
     "execution_count": 177,
     "metadata": {},
     "output_type": "execute_result"
    }
   ],
   "source": [
    "py.iplot(trace4, filename='Cascade100_2018')"
   ]
  },
  {
   "cell_type": "code",
   "execution_count": 63,
   "metadata": {},
   "outputs": [],
   "source": [
    "RRR100_2018_tortoises = root_url + '/results_event.aspx?did=60025'"
   ]
  },
  {
   "cell_type": "code",
   "execution_count": 64,
   "metadata": {},
   "outputs": [],
   "source": [
    "cols_RRR, content_RRR = get_results(RRR100_2018_tortoises)"
   ]
  },
  {
   "cell_type": "code",
   "execution_count": 65,
   "metadata": {},
   "outputs": [
    {
     "data": {
      "text/plain": [
       "[]"
      ]
     },
     "execution_count": 65,
     "metadata": {},
     "output_type": "execute_result"
    }
   ],
   "source": [
    "find_idx(content_RRR)"
   ]
  },
  {
   "cell_type": "code",
   "execution_count": 66,
   "metadata": {},
   "outputs": [],
   "source": [
    "RRR2018_tortoises = make_finisher_df(content_RRR, len(content_RRR))"
   ]
  },
  {
   "cell_type": "code",
   "execution_count": 67,
   "metadata": {},
   "outputs": [],
   "source": [
    "male_tortoises = RRR2018_tortoises[RRR2018_tortoises['Gender'] == 'M']"
   ]
  },
  {
   "cell_type": "code",
   "execution_count": 68,
   "metadata": {},
   "outputs": [],
   "source": [
    "female_tortoises = RRR2018_tortoises[RRR2018_tortoises['Gender'] == 'F']"
   ]
  },
  {
   "cell_type": "code",
   "execution_count": 69,
   "metadata": {},
   "outputs": [
    {
     "data": {
      "text/plain": [
       "Ttest_indResult(statistic=2.129305498390613, pvalue=0.039445612238984275)"
      ]
     },
     "execution_count": 69,
     "metadata": {},
     "output_type": "execute_result"
    }
   ],
   "source": [
    "RRR_tort_ttest = ttest_ind(female_tortoises['Time'], male_tortoises['Time'], equal_var=False)"
   ]
  },
  {
   "cell_type": "code",
   "execution_count": 178,
   "metadata": {},
   "outputs": [
    {
     "data": {
      "text/plain": [
       "166"
      ]
     },
     "execution_count": 178,
     "metadata": {},
     "output_type": "execute_result"
    }
   ],
   "source": [
    "len(RRR2018_tortoises)"
   ]
  },
  {
   "cell_type": "code",
   "execution_count": 79,
   "metadata": {},
   "outputs": [],
   "source": [
    "trace2 = go.Bar(\n",
    "    x=['Male', 'Female'],\n",
    "    y=[male_tortoises['Time'].mean(), female_tortoises['Time'].mean()],\n",
    "    name='RRR 100',\n",
    "    error_y=dict(\n",
    "        type='data',\n",
    "        array=[male_tortoises['Time'].sem(), female_tortoises['Time'].sem()],\n",
    "        visible=True\n",
    "    )\n",
    ")\n",
    "         "
   ]
  },
  {
   "cell_type": "code",
   "execution_count": 80,
   "metadata": {},
   "outputs": [
    {
     "name": "stderr",
     "output_type": "stream",
     "text": [
      "/anaconda3/lib/python3.6/site-packages/plotly/graph_objs/_deprecations.py:39: DeprecationWarning:\n",
      "\n",
      "plotly.graph_objs.Data is deprecated.\n",
      "Please replace it with a list or tuple of instances of the following types\n",
      "  - plotly.graph_objs.Scatter\n",
      "  - plotly.graph_objs.Bar\n",
      "  - plotly.graph_objs.Area\n",
      "  - plotly.graph_objs.Histogram\n",
      "  - etc.\n",
      "\n",
      "\n"
     ]
    }
   ],
   "source": [
    "data=go.Data([trace2])\n",
    "layout=go.Layout(title=\"RRR Tortoises 100\", xaxis={'title':'Gender'}, yaxis={'title':'Time(minutes)'})\n",
    "figure=go.Figure(data=data,layout=layout)"
   ]
  },
  {
   "cell_type": "code",
   "execution_count": 81,
   "metadata": {},
   "outputs": [
    {
     "data": {
      "text/html": [
       "<iframe id=\"igraph\" scrolling=\"no\" style=\"border:none;\" seamless=\"seamless\" src=\"https://plot.ly/~elizabethguy86/10.embed\" height=\"525px\" width=\"100%\"></iframe>"
      ],
      "text/plain": [
       "<plotly.tools.PlotlyDisplay object>"
      ]
     },
     "execution_count": 81,
     "metadata": {},
     "output_type": "execute_result"
    }
   ],
   "source": [
    "py.iplot(figure, filename='error-bar-RRR', layout=layout)"
   ]
  },
  {
   "cell_type": "code",
   "execution_count": 82,
   "metadata": {},
   "outputs": [],
   "source": [
    "hardrock100_url = root_url + '/results_event.aspx?did=51281'"
   ]
  },
  {
   "cell_type": "code",
   "execution_count": 83,
   "metadata": {},
   "outputs": [],
   "source": [
    "cols_HR, content_HR = get_results(hardrock100_url)"
   ]
  },
  {
   "cell_type": "code",
   "execution_count": 86,
   "metadata": {},
   "outputs": [],
   "source": [
    "indices = find_idx(content_HR)\n"
   ]
  },
  {
   "cell_type": "code",
   "execution_count": 182,
   "metadata": {},
   "outputs": [
    {
     "data": {
      "text/plain": [
       "113"
      ]
     },
     "execution_count": 182,
     "metadata": {},
     "output_type": "execute_result"
    }
   ],
   "source": [
    "HR_finishers = make_finisher_df(content_HR, indices[0])\n",
    "len(HR_finishers)"
   ]
  },
  {
   "cell_type": "code",
   "execution_count": 91,
   "metadata": {},
   "outputs": [],
   "source": [
    "DNF_HR = content_HR[indices[0]:]"
   ]
  },
  {
   "cell_type": "code",
   "execution_count": 89,
   "metadata": {},
   "outputs": [],
   "source": [
    "HR_males = HR_finishers[HR_finishers[\"Gender\"] == 'M']\n",
    "HR_females = HR_finishers[HR_finishers[\"Gender\"] == 'F']"
   ]
  },
  {
   "cell_type": "code",
   "execution_count": 90,
   "metadata": {},
   "outputs": [
    {
     "data": {
      "text/plain": [
       "Ttest_indResult(statistic=-0.1543399387113303, pvalue=0.8799521753311719)"
      ]
     },
     "execution_count": 90,
     "metadata": {},
     "output_type": "execute_result"
    }
   ],
   "source": [
    "HR_ttest = ttest_ind(HR_females['Time'], HR_males['Time'], equal_var=False)"
   ]
  },
  {
   "cell_type": "code",
   "execution_count": 96,
   "metadata": {},
   "outputs": [],
   "source": [
    "def make_DNF_counts2(DNF):\n",
    "    '''Takes in the DNF list as an input\n",
    "    and returns the male and female proportional counts.'''\n",
    "    males = 0\n",
    "    females = 0\n",
    "    for row in DNF:\n",
    "        if row[-4] == 'M':\n",
    "            males +=1\n",
    "        else:\n",
    "            females += 1\n",
    "    return males/len(DNF), females/len(DNF)"
   ]
  },
  {
   "cell_type": "code",
   "execution_count": 97,
   "metadata": {},
   "outputs": [],
   "source": [
    "DNF_HR_male, DNF_HR_female = make_DNF_counts2(DNF_HR)"
   ]
  },
  {
   "cell_type": "code",
   "execution_count": 98,
   "metadata": {},
   "outputs": [
    {
     "data": {
      "text/plain": [
       "0.09090909090909091"
      ]
     },
     "execution_count": 98,
     "metadata": {},
     "output_type": "execute_result"
    }
   ],
   "source": [
    "DNF_HR_female"
   ]
  },
  {
   "cell_type": "code",
   "execution_count": 99,
   "metadata": {},
   "outputs": [
    {
     "data": {
      "text/plain": [
       "0.9090909090909091"
      ]
     },
     "execution_count": 99,
     "metadata": {},
     "output_type": "execute_result"
    }
   ],
   "source": [
    "DNF_HR_male"
   ]
  },
  {
   "cell_type": "code",
   "execution_count": 100,
   "metadata": {},
   "outputs": [
    {
     "data": {
      "text/plain": [
       "0.09734513274336283"
      ]
     },
     "execution_count": 100,
     "metadata": {},
     "output_type": "execute_result"
    }
   ],
   "source": [
    "len(HR_females)/len(HR_finishers)"
   ]
  },
  {
   "cell_type": "code",
   "execution_count": 101,
   "metadata": {},
   "outputs": [
    {
     "data": {
      "text/plain": [
       "0.9026548672566371"
      ]
     },
     "execution_count": 101,
     "metadata": {},
     "output_type": "execute_result"
    }
   ],
   "source": [
    "len(HR_males)/len(HR_finishers)"
   ]
  },
  {
   "cell_type": "code",
   "execution_count": 102,
   "metadata": {},
   "outputs": [],
   "source": [
    "HURT100url = root_url + '/results_event.aspx?did=56682'"
   ]
  },
  {
   "cell_type": "code",
   "execution_count": 103,
   "metadata": {},
   "outputs": [],
   "source": [
    "cols_HURT, content_HURT = get_results(HURT100url)"
   ]
  },
  {
   "cell_type": "code",
   "execution_count": 106,
   "metadata": {},
   "outputs": [
    {
     "data": {
      "text/plain": [
       "[68, 130]"
      ]
     },
     "execution_count": 106,
     "metadata": {},
     "output_type": "execute_result"
    }
   ],
   "source": [
    "idx_hurt = find_idx(content_HURT)\n",
    "idx_hurt"
   ]
  },
  {
   "cell_type": "code",
   "execution_count": 183,
   "metadata": {},
   "outputs": [
    {
     "data": {
      "text/plain": [
       "68"
      ]
     },
     "execution_count": 183,
     "metadata": {},
     "output_type": "execute_result"
    }
   ],
   "source": [
    "HURT_finishers = make_finisher_df(content_HURT, idx_hurt[0] )\n",
    "len(HURT_finishers)"
   ]
  },
  {
   "cell_type": "code",
   "execution_count": 109,
   "metadata": {},
   "outputs": [],
   "source": [
    "HURT_males = HURT_finishers[HURT_finishers[\"Gender\"] == 'M']\n",
    "HURT_females = HURT_finishers[HURT_finishers[\"Gender\"] == 'F']"
   ]
  },
  {
   "cell_type": "code",
   "execution_count": 111,
   "metadata": {},
   "outputs": [
    {
     "data": {
      "text/plain": [
       "Ttest_indResult(statistic=1.8014922204184567, pvalue=0.08120005920076435)"
      ]
     },
     "execution_count": 111,
     "metadata": {},
     "output_type": "execute_result"
    }
   ],
   "source": [
    "HURT_ttest = ttest_ind(HURT_females['Time'], HURT_males['Time'], equal_var=False)"
   ]
  },
  {
   "cell_type": "code",
   "execution_count": 152,
   "metadata": {},
   "outputs": [],
   "source": [
    "JJ_url = root_url + '/results_event.aspx?did=53326'"
   ]
  },
  {
   "cell_type": "code",
   "execution_count": 153,
   "metadata": {},
   "outputs": [],
   "source": [
    "JJ_cols, JJ_content = get_results(JJ_url)"
   ]
  },
  {
   "cell_type": "code",
   "execution_count": 154,
   "metadata": {},
   "outputs": [],
   "source": [
    "idx_JJ = find_idx(JJ_content)"
   ]
  },
  {
   "cell_type": "code",
   "execution_count": 184,
   "metadata": {},
   "outputs": [
    {
     "data": {
      "text/plain": [
       "367"
      ]
     },
     "execution_count": 184,
     "metadata": {},
     "output_type": "execute_result"
    }
   ],
   "source": [
    "JJ_finishers = make_finisher_df(JJ_content, idx_JJ[0])\n",
    "len(JJ_finishers)"
   ]
  },
  {
   "cell_type": "code",
   "execution_count": 156,
   "metadata": {},
   "outputs": [],
   "source": [
    "JJ_males = JJ_finishers[JJ_finishers['Gender'] == 'M']\n",
    "JJ_females = JJ_finishers[JJ_finishers['Gender'] == 'F']"
   ]
  },
  {
   "cell_type": "code",
   "execution_count": 157,
   "metadata": {},
   "outputs": [
    {
     "data": {
      "text/plain": [
       "Ttest_indResult(statistic=5.590100276884938, pvalue=5.351719513378266e-08)"
      ]
     },
     "execution_count": 157,
     "metadata": {},
     "output_type": "execute_result"
    }
   ],
   "source": [
    "JJ_ttest = ttest_ind(JJ_females['Time'], JJ_males['Time'], equal_var=False)\n",
    "JJ_ttest"
   ]
  },
  {
   "cell_type": "code",
   "execution_count": 158,
   "metadata": {},
   "outputs": [],
   "source": [
    "JJ_DNF = JJ_content[idx_JJ[0]:]\n"
   ]
  },
  {
   "cell_type": "code",
   "execution_count": 159,
   "metadata": {},
   "outputs": [],
   "source": [
    "JJ_DNF_M, JJ_DNF_F = make_DNF_counts2(JJ_DNF) "
   ]
  },
  {
   "cell_type": "code",
   "execution_count": 163,
   "metadata": {},
   "outputs": [
    {
     "data": {
      "text/plain": [
       "0.7142857142857143"
      ]
     },
     "execution_count": 163,
     "metadata": {},
     "output_type": "execute_result"
    }
   ],
   "source": [
    "JJ_DNF_M"
   ]
  },
  {
   "cell_type": "code",
   "execution_count": 161,
   "metadata": {},
   "outputs": [
    {
     "data": {
      "text/plain": [
       "0.6820603907637656"
      ]
     },
     "execution_count": 161,
     "metadata": {},
     "output_type": "execute_result"
    }
   ],
   "source": [
    "((JJ_DNF_M*len(JJ_DNF))+len(JJ_males))/len(JJ_content)"
   ]
  },
  {
   "cell_type": "code",
   "execution_count": 162,
   "metadata": {},
   "outputs": [
    {
     "data": {
      "text/plain": [
       "0.31793960923623443"
      ]
     },
     "execution_count": 162,
     "metadata": {},
     "output_type": "execute_result"
    }
   ],
   "source": [
    "((JJ_DNF_F*len(JJ_DNF))+ len(JJ_females))/len(JJ_content)"
   ]
  },
  {
   "cell_type": "code",
   "execution_count": 121,
   "metadata": {},
   "outputs": [],
   "source": [
    "Orcas_url = root_url + '/results_event.aspx?did=47664'"
   ]
  },
  {
   "cell_type": "code",
   "execution_count": 122,
   "metadata": {},
   "outputs": [],
   "source": [
    "Orcas_cols, Orcas_content = get_results(Orcas_url)"
   ]
  },
  {
   "cell_type": "code",
   "execution_count": 129,
   "metadata": {},
   "outputs": [
    {
     "data": {
      "text/plain": [
       "[68, 91]"
      ]
     },
     "execution_count": 129,
     "metadata": {},
     "output_type": "execute_result"
    }
   ],
   "source": [
    "idx_Orcas = find_idx(Orcas_content)\n",
    "idx_Orcas"
   ]
  },
  {
   "cell_type": "code",
   "execution_count": 125,
   "metadata": {},
   "outputs": [],
   "source": [
    "Orcas_finishers = make_finisher_df(Orcas_content, idx_Orcas[0])"
   ]
  },
  {
   "cell_type": "code",
   "execution_count": 126,
   "metadata": {},
   "outputs": [],
   "source": [
    "Orcas_males = Orcas_finishers[Orcas_finishers['Gender'] == 'M']\n",
    "Orcas_females = Orcas_finishers[Orcas_finishers['Gender'] == 'F']"
   ]
  },
  {
   "cell_type": "code",
   "execution_count": 128,
   "metadata": {},
   "outputs": [
    {
     "data": {
      "text/plain": [
       "Ttest_indResult(statistic=1.0244482021226133, pvalue=0.3115368992817924)"
      ]
     },
     "execution_count": 128,
     "metadata": {},
     "output_type": "execute_result"
    }
   ],
   "source": [
    "Orcas_ttest = ttest_ind(Orcas_females['Time'], Orcas_males['Time'], equal_var=False)\n",
    "Orcas_ttest"
   ]
  },
  {
   "cell_type": "code",
   "execution_count": 171,
   "metadata": {},
   "outputs": [
    {
     "data": {
      "text/plain": [
       "KruskalResult(statistic=0.28208214231983675, pvalue=0.5953397432309312)"
      ]
     },
     "execution_count": 171,
     "metadata": {},
     "output_type": "execute_result"
    }
   ],
   "source": [
    "#kruskal-wallis test of median differences\n",
    "KW_Orcas = kruskal(Orcas_females['Time'], Orcas_males['Time'])\n",
    "KW_Orcas"
   ]
  },
  {
   "cell_type": "code",
   "execution_count": 175,
   "metadata": {},
   "outputs": [
    {
     "data": {
      "text/plain": [
       "68"
      ]
     },
     "execution_count": 175,
     "metadata": {},
     "output_type": "execute_result"
    }
   ],
   "source": [
    "len(Orcas_finishers)"
   ]
  },
  {
   "cell_type": "code",
   "execution_count": 130,
   "metadata": {},
   "outputs": [],
   "source": [
    "DNF_Orcas = Orcas_content[idx_Orcas[0]:]"
   ]
  },
  {
   "cell_type": "code",
   "execution_count": 136,
   "metadata": {},
   "outputs": [],
   "source": [
    "DNF_M_ORCAS, DNF_F_ORCAS = make_DNF_counts(DNF_Orcas)"
   ]
  },
  {
   "cell_type": "code",
   "execution_count": 134,
   "metadata": {},
   "outputs": [
    {
     "data": {
      "text/plain": [
       "0.75"
      ]
     },
     "execution_count": 134,
     "metadata": {},
     "output_type": "execute_result"
    }
   ],
   "source": [
    "len(Orcas_males)/len(Orcas_finishers)"
   ]
  },
  {
   "cell_type": "code",
   "execution_count": 135,
   "metadata": {},
   "outputs": [
    {
     "data": {
      "text/plain": [
       "0.25"
      ]
     },
     "execution_count": 135,
     "metadata": {},
     "output_type": "execute_result"
    }
   ],
   "source": [
    "len(Orcas_females)/len(Orcas_finishers)"
   ]
  },
  {
   "cell_type": "code",
   "execution_count": 139,
   "metadata": {},
   "outputs": [
    {
     "data": {
      "text/plain": [
       "0.3163265306122449"
      ]
     },
     "execution_count": 139,
     "metadata": {},
     "output_type": "execute_result"
    }
   ],
   "source": [
    "(DNF_F_ORCAS*len(DNF_Orcas) + len(Orcas_females))/len(Orcas_content)"
   ]
  },
  {
   "cell_type": "code",
   "execution_count": 140,
   "metadata": {},
   "outputs": [
    {
     "data": {
      "text/plain": [
       "0.6836734693877551"
      ]
     },
     "execution_count": 140,
     "metadata": {},
     "output_type": "execute_result"
    }
   ],
   "source": [
    "(DNF_M_ORCAS*len(DNF_Orcas) + len(Orcas_males))/len(Orcas_content)"
   ]
  },
  {
   "cell_type": "code",
   "execution_count": 172,
   "metadata": {},
   "outputs": [],
   "source": [
    "trace3 = go.Bar(\n",
    "    x=['Male', 'Female'],\n",
    "    y=[Orcas_males['Time'].mean(), Orcas_females['Time'].mean()],\n",
    "    name='RRR 100',\n",
    "    error_y=dict(\n",
    "        type='data',\n",
    "        array=[Orcas_males['Time'].sem(), Orcas_females['Time'].sem()],\n",
    "        visible=True\n",
    "    )\n",
    ")\n",
    "   "
   ]
  },
  {
   "cell_type": "code",
   "execution_count": 173,
   "metadata": {},
   "outputs": [
    {
     "name": "stderr",
     "output_type": "stream",
     "text": [
      "/anaconda3/lib/python3.6/site-packages/plotly/graph_objs/_deprecations.py:39: DeprecationWarning:\n",
      "\n",
      "plotly.graph_objs.Data is deprecated.\n",
      "Please replace it with a list or tuple of instances of the following types\n",
      "  - plotly.graph_objs.Scatter\n",
      "  - plotly.graph_objs.Bar\n",
      "  - plotly.graph_objs.Area\n",
      "  - plotly.graph_objs.Histogram\n",
      "  - etc.\n",
      "\n",
      "\n"
     ]
    }
   ],
   "source": [
    "data=go.Data([trace3])\n",
    "layout=go.Layout(title=\"Orcas 100\", xaxis={'title':'Gender'}, yaxis={'title':'Time(minutes)'})\n",
    "figure=go.Figure(data=data,layout=layout)"
   ]
  },
  {
   "cell_type": "code",
   "execution_count": 174,
   "metadata": {},
   "outputs": [
    {
     "data": {
      "text/html": [
       "<iframe id=\"igraph\" scrolling=\"no\" style=\"border:none;\" seamless=\"seamless\" src=\"https://plot.ly/~elizabethguy86/12.embed\" height=\"525px\" width=\"100%\"></iframe>"
      ],
      "text/plain": [
       "<plotly.tools.PlotlyDisplay object>"
      ]
     },
     "execution_count": 174,
     "metadata": {},
     "output_type": "execute_result"
    }
   ],
   "source": [
    "py.iplot(figure, filename='error-bar-Orcas100', layout=layout)"
   ]
  },
  {
   "cell_type": "code",
   "execution_count": null,
   "metadata": {},
   "outputs": [],
   "source": []
  }
 ],
 "metadata": {
  "kernelspec": {
   "display_name": "Python 3",
   "language": "python",
   "name": "python3"
  },
  "language_info": {
   "codemirror_mode": {
    "name": "ipython",
    "version": 3
   },
   "file_extension": ".py",
   "mimetype": "text/x-python",
   "name": "python",
   "nbconvert_exporter": "python",
   "pygments_lexer": "ipython3",
   "version": "3.6.7"
  }
 },
 "nbformat": 4,
 "nbformat_minor": 2
}
