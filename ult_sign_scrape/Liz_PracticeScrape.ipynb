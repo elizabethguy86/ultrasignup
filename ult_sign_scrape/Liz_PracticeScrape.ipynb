{
 "cells": [
  {
   "cell_type": "code",
   "execution_count": 23,
   "metadata": {},
   "outputs": [],
   "source": [
    "import requests\n",
    "from selenium.webdriver import (Chrome)\n",
    "from string import ascii_lowercase\n",
    "from pymongo import MongoClient\n",
    "from bs4 import BeautifulSoup\n",
    "import json\n",
    "import sys\n",
    "import pandas as pd\n",
    "import time"
   ]
  },
  {
   "cell_type": "code",
   "execution_count": 13,
   "metadata": {},
   "outputs": [],
   "source": [
    "root_url = 'http://ultrasignup.com'\n",
    "index_url = root_url + '/results_event.aspx?did=41880'\n",
    "years_dict = {2015:31333}\n",
    "file_lst = []"
   ]
  },
  {
   "cell_type": "code",
   "execution_count": 14,
   "metadata": {},
   "outputs": [],
   "source": [
    "\n",
    "r = requests.get(index_url)  # Fetch the web page\n",
    "html = r.content  # Store the HTML content as a string"
   ]
  },
  {
   "cell_type": "code",
   "execution_count": 15,
   "metadata": {},
   "outputs": [],
   "source": [
    "soup = BeautifulSoup(html, 'html.parser')"
   ]
  },
  {
   "cell_type": "code",
   "execution_count": null,
   "metadata": {},
   "outputs": [],
   "source": []
  },
  {
   "cell_type": "code",
   "execution_count": 18,
   "metadata": {},
   "outputs": [
    {
     "name": "stdout",
     "output_type": "stream",
     "text": [
      "<title>\r\n",
      "\t2017 Cascade Crest 100 Miler - Results\r\n",
      "</title>\n"
     ]
    }
   ],
   "source": [
    "print (soup.title)"
   ]
  },
  {
   "cell_type": "code",
   "execution_count": 20,
   "metadata": {},
   "outputs": [
    {
     "name": "stdout",
     "output_type": "stream",
     "text": [
      "/favicon.ico\n",
      "/css/jquery-ui-1.10.3.custom.min.css\n",
      "/content/acorn_css?v=NuZ1MsCSr_VTh4pgnSm7aC412gvnZ1GFo_FIpsbk7Fo1\n",
      "//maxcdn.bootstrapcdn.com/font-awesome/4.7.0/css/font-awesome.min.css\n",
      "/themes/ui.jqgrid.css\n"
     ]
    }
   ],
   "source": [
    "for a in soup.findAll('link'):\n",
    "    print (a['href'])\n"
   ]
  },
  {
   "cell_type": "code",
   "execution_count": 24,
   "metadata": {},
   "outputs": [],
   "source": [
    "browser = Chrome()"
   ]
  },
  {
   "cell_type": "code",
   "execution_count": 25,
   "metadata": {},
   "outputs": [],
   "source": [
    "browser.get(index_url)"
   ]
  },
  {
   "cell_type": "code",
   "execution_count": 30,
   "metadata": {},
   "outputs": [],
   "source": [
    "sel = \"gbox_list\" \n",
    "cascade100results=browser.find_element_by_id(sel) #setting a css selector"
   ]
  },
  {
   "cell_type": "code",
   "execution_count": 73,
   "metadata": {},
   "outputs": [],
   "source": [
    "table_rows = cascade100results.text.split('\\n')"
   ]
  },
  {
   "cell_type": "code",
   "execution_count": 74,
   "metadata": {},
   "outputs": [
    {
     "data": {
      "text/plain": [
       "['   Place',\n",
       " ' First',\n",
       " ' Last',\n",
       " ' City',\n",
       " '   Age',\n",
       " ' Gender',\n",
       " ' GP',\n",
       " ' Time',\n",
       " ' Rank',\n",
       " 'Finishers - 110',\n",
       " 'results 1 Lindsay Hamoudi San Diego CA 37 M 1 20:08:13 84.38',\n",
       " 'results 2 Matthew Urbanski Seattle WA 36 M 2 20:11:25 85.67',\n",
       " 'results 3 Ben Koss San Francisco CA 37 M 3 22:09:00 89.34',\n",
       " 'results 4 Jesse Rickert Gunnison CO 45 M 4 22:10:27 89.76',\n",
       " 'results 5 Kaytlyn Gerbin Issaquah WA 28 F 1 22:22:45 95.69',\n",
       " 'results 6 Michael Hauser Olympia WA 27 M 5 23:21:03 76.04',\n",
       " 'results 7 Ashley Nordell Sisters OR 37 F 2 23:21:07 97.99',\n",
       " 'results 8 Phil Shaw Seattle WA 31 M 6 23:22:54 91.2',\n",
       " 'results 9 Kedric Osborne Klamath Falls OR 40 M 7 23:27:27 87.69',\n",
       " 'results 10 Nicholas Hanson Kalamazoo MI 35 M 8 23:30:48 89.74',\n",
       " 'results 11 Adam Harris North Vancouver BC 30 M 9 23:45:43 86.8',\n",
       " 'results 12 Ted Bross Dayton OH 28 M 10 23:50:12 82.6',\n",
       " 'results 13 Arthur Martineau Renton WA 49 M 11 24:30:50 80.21',\n",
       " 'results 14 Jeff Pelletier Vancouver BC 36 M 12 24:38:37 79.31',\n",
       " 'results 15 Jess Mullen Seattle WA 42 F 3 24:42:36 83.32',\n",
       " 'results 16 Chris Dickey Gunnison CO 46 M 13 24:52:50 83.12',\n",
       " 'results 17 Nathan Kurz Kenmore WA 35 M 14 25:15:32 77.62',\n",
       " 'results 18 Ryan Dotson Seattle WA 41 M 15 25:52:41 78.02',\n",
       " 'results 19 Carly Koerner Ashland OR 36 F 4 25:54:25 79.03',\n",
       " 'results 20 Tom Craik Coldstream BC 43 M 16 25:55:18 82.75',\n",
       " 'results 21 Steven Kent North Bend WA 50 M 17 26:07:43 84.76',\n",
       " 'results 22 Robert Lalus Renton WA 43 M 18 26:19:28 75.85',\n",
       " 'results 23 Alex Giebelhaus Bellingham WA 27 M 19 26:37:01 76.77',\n",
       " 'results 24 Tim Stroh Arlington WA 55 M 20 26:45:29 84.15',\n",
       " 'results 25 Oleg Tabelev Calgary AB 51 M 21 26:47:08 90.22',\n",
       " 'results 26 Michael Hinterberg Loveland CO 38 M 22 26:54:50 84.01',\n",
       " 'results 27 Bibo Gao Buffalo Grove IL 39 F 5 27:02:18 91.1',\n",
       " 'results 28 Stephanie Gundel Seattle WA 37 F 6 27:05:17 86.19',\n",
       " 'results 29 Max Fulton Wheat Ridge CO 41 M 23 27:17:50 77.16',\n",
       " 'results 30 Jimmy Dean Freeman Los Angeles CA 40 M 24 27:23:02 79.87',\n",
       " 'results 31 Seth Wolpin Seattle WA 45 M 25 27:32:16 65.16',\n",
       " 'results 32 Jeramie Mcdonough Salt Lake City UT 28 M 26 27:33:30 74.34',\n",
       " 'results 33 Ashley Clinthorne Lakewood CO 30 F 7 27:49:08 87.9',\n",
       " 'results 34 Matt Barry North Vancouver BC 30 M 27 27:53:16 80.48',\n",
       " 'results 35 Alexa Laidlaw North Vancouver BC 28 F 8 27:53:24 87.21',\n",
       " 'results 36 Garry Harrington Swanzey NH 57 M 28 27:57:09 78.62',\n",
       " 'results 37 Jeff Wolf Seattle WA 40 M 29 27:57:12 79.37',\n",
       " 'results 38 Amy Burton San Jose CA 43 F 9 27:57:44 90.61',\n",
       " 'results 39 Jean Coulter Boulder CO 45 F 10 28:01:04 78.36',\n",
       " 'results 40 Paul Heffernan Wenatchee WA 43 M 30 28:26:07 71.04',\n",
       " 'results 41 Kathleen Egan Seattle WA 44 F 11 28:28:56 89.75',\n",
       " 'results 42 Debbie Livingston Bolton CT 42 F 12 28:36:58 92.86',\n",
       " 'results 43 Diarmuid Truax Denver CO 47 M 31 28:40:15 65.18',\n",
       " 'results 44 Deron Carter Corvallis OR 43 M 32 28:44:26 74.66',\n",
       " 'results 45 Sean Patrick Aliso Viejo CA 37 M 33 28:55:24 65.79',\n",
       " 'results 46 Kelsey Wilmore Bellingham WA 30 F 13 28:57:27 83.81',\n",
       " 'results 47 Anne Miller Corvallis OR 52 F 14 29:04:25 73.72',\n",
       " 'results 48 Rich Ainley Okuku RD3   43 M 34 29:06:31 69.18',\n",
       " 'results 49 Michael Linscott Bellevue WA 46 M 35 29:19:23 76.7',\n",
       " 'results 50 John Rodakowski Olympia WA 52 M 36 29:37:24 77.87',\n",
       " 'results 51 Christophe Block Roland AR 36 M 37 29:42:20 85.74',\n",
       " 'results 52 Deanna Odell Santa Barbara CA 50 F 15 29:43:25 87',\n",
       " 'results 53 Steven Pack Brooklyn NY 36 M 38 29:43:55 78.09',\n",
       " 'results 54 Morgan Henderson Seattle WA 39 M 39 29:54:22 69.92',\n",
       " 'results 55 Nicholas Bulson Saint Joseph MI 32 M 40 30:34:57 75.88',\n",
       " 'results 56 Emily Halnon Eugene OR 32 F 16 30:58:19 85.11',\n",
       " 'results 57 Monica Ochs Anacortes WA 48 F 17 30:59:50 86.57',\n",
       " 'results 58 Van Phan Maple Valley WA 46 F 18 30:59:50 85.52',\n",
       " 'results 59 Shawn McTaggart Palmer AK 40 F 19 31:05:46 82.5',\n",
       " 'results 60 Ricardo Hoffman Seattle WA 35 M 41 31:11:14 78.48',\n",
       " 'results 61 Birgitte Marthinsen Squamish BC 42 F 20 31:15:38 81.23',\n",
       " 'results 62 Matt Hall Squamish BC 35 M 42 31:16:14 81.24',\n",
       " 'results 63 Ruchel Stevens Canmore AB 30 F 21 31:16:14 80.83',\n",
       " 'results 64 Neal Saxe Bellingham WA 49 M 43 31:28:41 71.18',\n",
       " 'results 65 Andreas Aguirre San Diego CA 38 M 44 31:29:10 74.28',\n",
       " 'results 66 Jared Friesen Spokane WA 35 M 45 31:30:10 69.94',\n",
       " 'results 67 Emily Compton Canmore AB 31 F 22 31:30:31 81.99',\n",
       " 'results 68 Mike Morcos Redmond WA 39 M 46 31:34:15 67.73',\n",
       " 'results 69 Richard Benoit Portland OR 49 M 47 31:34:39 65.14',\n",
       " 'results 70 Rachel Baird Spokane WA 42 F 23 31:37:33 85.09',\n",
       " 'results 71 Noah Pittard Denver CO 44 M 48 31:38:28 62.98',\n",
       " 'results 72 James Leask London   36 M 49 31:39:59 65.7',\n",
       " 'results 73 Geoffrey Tripp Bothell WA 36 M 50 31:45:52 69.18',\n",
       " 'results 74 Andy Healey Vancouver BC 48 M 51 31:46:01 63.52',\n",
       " 'results 75 Kelly Bird Bellingham WA 34 F 24 31:48:45 76.98',\n",
       " 'results 76 Travis Lund Pacific Grove CA 49 M 52 31:48:52 65.21',\n",
       " 'results 77 Corey Bransfield Kelowna BC 46 M 53 31:50:29 69.13',\n",
       " 'results 78 Rick Hoopes Oceanside CA 62 M 54 31:51:19 78.32',\n",
       " 'results 79 Phillip Nigh Goleta CA 55 M 55 31:57:07 71.54',\n",
       " 'results 80 Brian Landau Seattle WA 48 M 56 32:02:18 69.87',\n",
       " 'results 81 Greg Hanscom Seattle WA 44 M 57 32:03:09 73.4',\n",
       " 'results 82 Janos Orsos Bishops Stortford   32 M 58 32:04:21 69.16',\n",
       " 'results 83 Ayumu Tsukada Osaka city   46 M 59 32:24:49 55.54',\n",
       " 'results 84 Lauren Matosziuk Corvallis OR 30 F 25 32:39:10 75.4',\n",
       " 'results 85 Terry Gardiner Seattle WA 67 M 60 32:43:10 65.86',\n",
       " 'results 86 David Williamson Issaquah WA 44 M 61 32:45:45 57.86',\n",
       " 'results 87 Genia McKnight Bothell WA 41 F 26 32:49:07 84.59',\n",
       " 'results 88 Tim Melbourne Ellensburg WA 49 M 62 32:49:57 61.33',\n",
       " 'results 89 George Hitzfeld Fort Worth TX 57 M 63 32:53:30 75.36',\n",
       " 'results 90 Jacob Royer Hinesburg VT 35 M 64 32:54:48 68.29',\n",
       " 'results 91 Jennie Eyring Seattle WA 43 F 27 32:57:44 76.46',\n",
       " 'results 92 Bruce Cyra Vashon Island WA 59 M 65 33:01:57 73.58',\n",
       " 'results 93 Linda Samet Corvallis OR 51 F 28 33:03:48 87.18',\n",
       " 'results 94 Joseph Bearss Wheat Ridge CO 47 M 66 33:05:46 56.09',\n",
       " 'results 95 Jon Armstrong Seattle WA 35 M 67 33:07:48 61.81',\n",
       " 'results 96 Oren Guttmann Hinesburg VT 31 M 68 33:08:54 67.64',\n",
       " 'results 97 Panya Somnhot Mill Valley CA 36 M 69 33:09:55 64.56',\n",
       " 'results 98 Bruce Kellogg Shoreline WA 57 M 70 33:13:07 70.43',\n",
       " 'results 99 Maudianne Jordan Issaquah WA 26 F 29 33:16:30 70.48',\n",
       " 'results 100 David Mayo Seattle WA 41 M 71 33:18:17 68.46',\n",
       " 'results 101 Gary Dudney Salinas CA 64 M 72 33:20:50 65.05',\n",
       " 'results 102 Brianna Graves Winthrop WA 26 F 30 33:24:19 76.33',\n",
       " 'results 103 Joshua Barringer Vancouver BC 34 M 73 33:25:41 66.6',\n",
       " 'results 104 Timothy Beck Ellsworth AFB SD 39 M 74 33:29:41 58.35',\n",
       " 'results 105 Casey Osmonovich Sedona AZ 49 M 75 33:29:41 60.48',\n",
       " 'results 106 Joachim Damstrom Bellevue WA 44 M 76 33:31:25 65.45',\n",
       " 'results 107 Patrick Grengs West Richland WA 52 M 77 33:31:36 58.34',\n",
       " 'results 108 Hideko Opperman Redmond WA 49 F 31 33:48:18 74.12',\n",
       " 'results 109 Lisa Ainley Okuku RD3   49 F 32 33:49:22 88.18',\n",
       " 'results 110 Janet Rosenfeld Vancouver BC 51 F 33 33:58:16 74.56',\n",
       " 'Did Not Finish - 53',\n",
       " 'results 0 Brandon Lott Burbank WA 44 M 0   69.85',\n",
       " 'results 0 Bill Gengler Saint Paul MN 63 M 0   69.35',\n",
       " 'results 0 Gretchen Evaul San Diego CA 40 F 0   80.6',\n",
       " 'results 0 Alex Schiewe Camas WA 37 M 0   68.05',\n",
       " 'results 0 Fred Abramowitz Fort CO 65 M 0   65.12',\n",
       " 'results 0 Eric Hodges Santa Clarita CA 68 M 0   61.9',\n",
       " 'results 0 Chihping Fu Fremont CA 51 M 0 0 62.09',\n",
       " 'results 0 Davy Crockett Saratoga Springs UT 59 M 0   70.6',\n",
       " 'results 0 Letha Cruthirds Biloxi MS 64 F 0   76.98',\n",
       " 'results 0 Mike Burke Portland OR 67 M 0   75.84',\n",
       " 'results 0 Scott Lesieur Woodland WA 45 M 0   64.28',\n",
       " 'results 0 Trevor Griffith Issaquah WA 40 M 0   61.61',\n",
       " 'results 0 Mike James Juneau AK 46 M 0   66.49',\n",
       " 'results 0 Steven Payette Woodacre CA 53 M 0   60.5',\n",
       " 'results 0 Jeffrey Edwards Queensbury NY 47 M 0   67.43',\n",
       " 'results 0 Bill Geist Los Alamos NM 46 M 0   71.95',\n",
       " 'results 0 Brett Bauer Bothell WA 36 M 0   72.22',\n",
       " 'results 0 Tracy Brown Seattle WA 56 F 0   71.39',\n",
       " 'results 0 Charles South Rochester WA 48 M 0   58.93',\n",
       " 'results 0 Christopher Calzetta Monterey CA 35 M 0   91.53',\n",
       " 'results 0 Michael McNeill Richland WA 35 M 0   79.56',\n",
       " 'results 0 Bradford Lombardi Death Valley CA 48 M 0   76.24',\n",
       " 'results 0 Jennifer Shultis Portland OR 48 F 0   76.21',\n",
       " 'results 0 Scott Dunlap Woodside CA 48 M 0   83.25',\n",
       " 'results 0 William Onate Woodland CA 41 M 0   68.99',\n",
       " 'results 0 Karl Jensen North Vancouver BC 67 M 0   69.14',\n",
       " 'results 0 Michele Pettinger Seattle WA 47 F 0   69.97',\n",
       " 'results 0 Carole Holley Anchorage AK 42 F 0   76.86',\n",
       " 'results 0 Mike Kuhlmann Lakewood WA 67 M 0   57.16',\n",
       " 'results 0 Chad Wolf Mason OH 28 M 0   69.84',\n",
       " 'results 0 Rachel Dillon Snoqualmie WA 38 F 0   85.28',\n",
       " 'results 0 Alex Wiener Palm Beach Gardens FL 36 M 0   74.3',\n",
       " 'results 0 Taryn Graham North Bend WA 38 F 0   64.37',\n",
       " 'results 0 Chris Bellevie Kirkland WA 45 M 0   53.93',\n",
       " 'results 0 Tho Le Issaquah WA 36 M 0   63.75',\n",
       " 'results 0 Jennifer Maccormack Seattle WA 46 F 0   72.16',\n",
       " 'results 0 Todd Evans Newberg OR 48 M 0   64.38',\n",
       " 'results 0 Jeremy Hinshaw Anchorage AK 42 M 0   68.44',\n",
       " 'results 0 Matt Newton Richland WA 44 M 0 0 67.11',\n",
       " 'results 0 Alexander Stroup San Leandro CA 42 M 0   60.76',\n",
       " 'results 0 Roger Levesque Vashon WA 36 M 0   86.56',\n",
       " 'results 0 John Wros Girdwood AK 28 M 0   86.26',\n",
       " 'results 0 Mark Lahaie Olympia WA 57 M 0   51.85',\n",
       " 'results 0 Jade Carter Victoria BC 43 M 0   61.43',\n",
       " 'results 0 Tess Harvey Brighton MA 27 F 0   75.71',\n",
       " 'results 0 Sara Foster Denver CO 42 F 0 0 69.45',\n",
       " 'results 0 Rob Mann Monterey CA 45 M 0   65.1',\n",
       " 'results 0 Dale Peterson Snoqualmie WA 45 M 0   79.85',\n",
       " 'results 0 Steve Berardi Seattle WA 34 M 0   89.36',\n",
       " 'results 0 Kimberley Teshima Newberry Los Angeles CA 36 F 0   59.73',\n",
       " 'results 0 Scott Jensen Fall City WA 34 M 0   61.1',\n",
       " 'results 0 Linsey Laplant North Bend WA 41 F 0   69.01',\n",
       " 'results 0 Scott Crain Seattle WA 38 M 0   58.7',\n",
       " 'Did Not Start - 1',\n",
       " 'results 0 Keith Shishido Corbett OR 39 M 0   77.1']"
      ]
     },
     "execution_count": 74,
     "metadata": {},
     "output_type": "execute_result"
    }
   ],
   "source": [
    "table_rows"
   ]
  },
  {
   "cell_type": "code",
   "execution_count": 106,
   "metadata": {},
   "outputs": [],
   "source": [
    "runner_rows = [row.split() for row in table_rows]"
   ]
  },
  {
   "cell_type": "code",
   "execution_count": null,
   "metadata": {},
   "outputs": [],
   "source": []
  },
  {
   "cell_type": "code",
   "execution_count": 77,
   "metadata": {},
   "outputs": [],
   "source": [
    "cols = runner_rows[0:10]"
   ]
  },
  {
   "cell_type": "code",
   "execution_count": 79,
   "metadata": {},
   "outputs": [],
   "source": [
    "cols = [x[0] for x in cols]"
   ]
  },
  {
   "cell_type": "code",
   "execution_count": null,
   "metadata": {},
   "outputs": [],
   "source": [
    "content = runner_rows[11:]"
   ]
  },
  {
   "cell_type": "code",
   "execution_count": 90,
   "metadata": {},
   "outputs": [
    {
     "data": {
      "text/plain": [
       "'2'"
      ]
     },
     "execution_count": 90,
     "metadata": {},
     "output_type": "execute_result"
    }
   ],
   "source": [
    "content[0][1]"
   ]
  },
  {
   "cell_type": "code",
   "execution_count": 91,
   "metadata": {},
   "outputs": [
    {
     "ename": "IndexError",
     "evalue": "list index out of range",
     "output_type": "error",
     "traceback": [
      "\u001b[0;31m---------------------------------------------------------------------------\u001b[0m",
      "\u001b[0;31mIndexError\u001b[0m                                Traceback (most recent call last)",
      "\u001b[0;32m<ipython-input-91-724660a9ba4b>\u001b[0m in \u001b[0;36m<module>\u001b[0;34m()\u001b[0m\n\u001b[1;32m      5\u001b[0m \u001b[0;32mfor\u001b[0m \u001b[0mrow\u001b[0m \u001b[0;32min\u001b[0m \u001b[0mcontent\u001b[0m\u001b[0;34m:\u001b[0m\u001b[0;34m\u001b[0m\u001b[0;34m\u001b[0m\u001b[0m\n\u001b[1;32m      6\u001b[0m     \u001b[0mplace\u001b[0m\u001b[0;34m.\u001b[0m\u001b[0mappend\u001b[0m\u001b[0;34m(\u001b[0m\u001b[0mrow\u001b[0m\u001b[0;34m[\u001b[0m\u001b[0;36m1\u001b[0m\u001b[0;34m]\u001b[0m\u001b[0;34m)\u001b[0m\u001b[0;34m\u001b[0m\u001b[0;34m\u001b[0m\u001b[0m\n\u001b[0;32m----> 7\u001b[0;31m     \u001b[0mgender\u001b[0m\u001b[0;34m.\u001b[0m\u001b[0mappend\u001b[0m\u001b[0;34m(\u001b[0m\u001b[0mrow\u001b[0m\u001b[0;34m[\u001b[0m\u001b[0;36m7\u001b[0m\u001b[0;34m]\u001b[0m\u001b[0;34m)\u001b[0m\u001b[0;34m\u001b[0m\u001b[0;34m\u001b[0m\u001b[0m\n\u001b[0m\u001b[1;32m      8\u001b[0m     \u001b[0mtime\u001b[0m\u001b[0;34m.\u001b[0m\u001b[0mappend\u001b[0m\u001b[0;34m(\u001b[0m\u001b[0mrow\u001b[0m\u001b[0;34m[\u001b[0m\u001b[0;36m9\u001b[0m\u001b[0;34m]\u001b[0m\u001b[0;34m)\u001b[0m\u001b[0;34m\u001b[0m\u001b[0;34m\u001b[0m\u001b[0m\n",
      "\u001b[0;31mIndexError\u001b[0m: list index out of range"
     ]
    }
   ],
   "source": [
    "place = []\n",
    "gender = []\n",
    "time = []\n",
    "\n",
    "for row in content:\n",
    "    place.append(row[1])\n",
    "    gender.append(row[7])\n",
    "    time.append(row[9])"
   ]
  },
  {
   "cell_type": "code",
   "execution_count": 96,
   "metadata": {},
   "outputs": [],
   "source": [
    "flattened_list = [y for x in content for y in x]"
   ]
  },
  {
   "cell_type": "code",
   "execution_count": 112,
   "metadata": {},
   "outputs": [
    {
     "name": "stdout",
     "output_type": "stream",
     "text": [
      "109\n",
      "163\n"
     ]
    }
   ],
   "source": [
    "for idx, row in enumerate(content):\n",
    "    if row[0] == 'Did':\n",
    "        print(idx)"
   ]
  },
  {
   "cell_type": "code",
   "execution_count": 116,
   "metadata": {},
   "outputs": [],
   "source": [
    "finished = content[0:109]"
   ]
  },
  {
   "cell_type": "code",
   "execution_count": 119,
   "metadata": {},
   "outputs": [],
   "source": [
    "DNF = content[111:163]"
   ]
  },
  {
   "cell_type": "code",
   "execution_count": 121,
   "metadata": {},
   "outputs": [],
   "source": [
    "DNS = content[163:]"
   ]
  },
  {
   "cell_type": "code",
   "execution_count": null,
   "metadata": {},
   "outputs": [],
   "source": []
  },
  {
   "cell_type": "code",
   "execution_count": null,
   "metadata": {},
   "outputs": [],
   "source": []
  }
 ],
 "metadata": {
  "kernelspec": {
   "display_name": "Python 3",
   "language": "python",
   "name": "python3"
  },
  "language_info": {
   "codemirror_mode": {
    "name": "ipython",
    "version": 3
   },
   "file_extension": ".py",
   "mimetype": "text/x-python",
   "name": "python",
   "nbconvert_exporter": "python",
   "pygments_lexer": "ipython3",
   "version": "3.6.7"
  }
 },
 "nbformat": 4,
 "nbformat_minor": 2
}
