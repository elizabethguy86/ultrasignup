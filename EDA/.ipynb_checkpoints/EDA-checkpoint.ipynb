{
 "cells": [
  {
   "cell_type": "code",
   "execution_count": 972,
   "metadata": {
    "collapsed": false
   },
   "outputs": [],
   "source": [
    "import pandas as pd\n",
    "import matplotlib.pyplot as plt\n",
    "from sklearn.linear_model import LogisticRegression as LR\n",
    "from sklearn.ensemble import RandomForestClassifier as RFC\n",
    "from sklearn.ensemble import GradientBoostingClassifier as GBC\n",
    "from sklearn.cross_validation import train_test_split\n",
    "from sklearn.metrics import log_loss, auc, roc_curve, roc_auc_score\n",
    "from sklearn.neighbors import KNeighborsClassifier as knn\n",
    "from sklearn.multiclass import OneVsOneClassifier\n",
    "from sklearn.metrics import accuracy_score\n",
    "from sklearn.metrics import confusion_matrix\n",
    "from sklearn.svm import LinearSVC\n",
    "from sklearn.metrics import classification_report\n",
    "from sklearn.cross_validation import cross_val_score\n",
    "from sklearn.pipeline import Pipeline\n",
    "from sklearn.tree import DecisionTreeClassifier\n",
    "from sklearn.preprocessing import StandardScaler\n",
    "from sklearn.grid_search import GridSearchCV\n",
    "import numpy as np\n",
    "%matplotlib inline\n",
    "from matplotlib.pylab import rcParams\n",
    "rcParams['figure.figsize'] = 12, 4"
   ]
  },
  {
   "cell_type": "code",
   "execution_count": 931,
   "metadata": {
    "collapsed": false
   },
   "outputs": [],
   "source": [
    "#data = pd.read_csv('../ult_sign_scrape/race_master/master_database.csv')\n",
    "fe4 = pd.read_csv('../ult_sign_scrape/race_master/master_database_fe4.csv')\n",
    "athletes = pd.read_csv('../ult_sign_scrape/athlete_dataframe/concat')\n",
    "races = pd.read_csv('../ult_sign_scrape/race_master/master_list.csv')"
   ]
  },
  {
   "cell_type": "code",
   "execution_count": 932,
   "metadata": {
    "collapsed": false
   },
   "outputs": [],
   "source": [
    "#clean = data.drop(['Unnamed: 0', 'Unnamed: 0.1'], axis=1)\n",
    "fe4_clean = fe4.drop(['Unnamed: 0', 'Unnamed: 0.1'], axis=1)\n",
    "fe4 = fe4_clean.dropna()"
   ]
  },
  {
   "cell_type": "code",
   "execution_count": 933,
   "metadata": {
    "collapsed": false
   },
   "outputs": [
    {
     "data": {
      "text/html": [
       "<div>\n",
       "<table border=\"1\" class=\"dataframe\">\n",
       "  <thead>\n",
       "    <tr style=\"text-align: right;\">\n",
       "      <th></th>\n",
       "      <th>age</th>\n",
       "      <th>participant_id</th>\n",
       "      <th>runner_rank</th>\n",
       "      <th>status</th>\n",
       "      <th>race_id</th>\n",
       "      <th>Season</th>\n",
       "      <th>Metro_area</th>\n",
       "      <th>WL_SO</th>\n",
       "      <th>Entry_fee</th>\n",
       "      <th>PPM</th>\n",
       "      <th>Age_Rank</th>\n",
       "      <th>Gender_Rank</th>\n",
       "      <th>Total_races</th>\n",
       "    </tr>\n",
       "  </thead>\n",
       "  <tbody>\n",
       "    <tr>\n",
       "      <th>age</th>\n",
       "      <td>1.000000</td>\n",
       "      <td>-0.270411</td>\n",
       "      <td>-0.216783</td>\n",
       "      <td>0.075115</td>\n",
       "      <td>-0.010206</td>\n",
       "      <td>0.047769</td>\n",
       "      <td>0.018868</td>\n",
       "      <td>-0.043341</td>\n",
       "      <td>0.043721</td>\n",
       "      <td>-0.016771</td>\n",
       "      <td>-0.007417</td>\n",
       "      <td>0.000602</td>\n",
       "      <td>0.011360</td>\n",
       "    </tr>\n",
       "    <tr>\n",
       "      <th>participant_id</th>\n",
       "      <td>-0.270411</td>\n",
       "      <td>1.000000</td>\n",
       "      <td>-0.194335</td>\n",
       "      <td>-0.001664</td>\n",
       "      <td>0.386143</td>\n",
       "      <td>-0.020922</td>\n",
       "      <td>0.029178</td>\n",
       "      <td>-0.089945</td>\n",
       "      <td>-0.122077</td>\n",
       "      <td>-0.070901</td>\n",
       "      <td>-0.005315</td>\n",
       "      <td>-0.005174</td>\n",
       "      <td>-0.015240</td>\n",
       "    </tr>\n",
       "    <tr>\n",
       "      <th>runner_rank</th>\n",
       "      <td>-0.216783</td>\n",
       "      <td>-0.194335</td>\n",
       "      <td>1.000000</td>\n",
       "      <td>-0.190380</td>\n",
       "      <td>0.020117</td>\n",
       "      <td>-0.074137</td>\n",
       "      <td>-0.018915</td>\n",
       "      <td>0.115371</td>\n",
       "      <td>-0.045335</td>\n",
       "      <td>0.113499</td>\n",
       "      <td>-0.003333</td>\n",
       "      <td>-0.008166</td>\n",
       "      <td>0.007546</td>\n",
       "    </tr>\n",
       "    <tr>\n",
       "      <th>status</th>\n",
       "      <td>0.075115</td>\n",
       "      <td>-0.001664</td>\n",
       "      <td>-0.190380</td>\n",
       "      <td>1.000000</td>\n",
       "      <td>0.032448</td>\n",
       "      <td>0.079697</td>\n",
       "      <td>-0.038195</td>\n",
       "      <td>-0.150429</td>\n",
       "      <td>-0.094013</td>\n",
       "      <td>-0.118026</td>\n",
       "      <td>0.007557</td>\n",
       "      <td>0.009809</td>\n",
       "      <td>-0.000989</td>\n",
       "    </tr>\n",
       "    <tr>\n",
       "      <th>race_id</th>\n",
       "      <td>-0.010206</td>\n",
       "      <td>0.386143</td>\n",
       "      <td>0.020117</td>\n",
       "      <td>0.032448</td>\n",
       "      <td>1.000000</td>\n",
       "      <td>-0.058049</td>\n",
       "      <td>0.130348</td>\n",
       "      <td>-0.123373</td>\n",
       "      <td>-0.212501</td>\n",
       "      <td>0.017266</td>\n",
       "      <td>-0.015521</td>\n",
       "      <td>-0.024019</td>\n",
       "      <td>-0.029799</td>\n",
       "    </tr>\n",
       "    <tr>\n",
       "      <th>Season</th>\n",
       "      <td>0.047769</td>\n",
       "      <td>-0.020922</td>\n",
       "      <td>-0.074137</td>\n",
       "      <td>0.079697</td>\n",
       "      <td>-0.058049</td>\n",
       "      <td>1.000000</td>\n",
       "      <td>-0.229057</td>\n",
       "      <td>-0.543905</td>\n",
       "      <td>-0.242692</td>\n",
       "      <td>-0.293994</td>\n",
       "      <td>-0.004094</td>\n",
       "      <td>-0.006021</td>\n",
       "      <td>0.019240</td>\n",
       "    </tr>\n",
       "    <tr>\n",
       "      <th>Metro_area</th>\n",
       "      <td>0.018868</td>\n",
       "      <td>0.029178</td>\n",
       "      <td>-0.018915</td>\n",
       "      <td>-0.038195</td>\n",
       "      <td>0.130348</td>\n",
       "      <td>-0.229057</td>\n",
       "      <td>1.000000</td>\n",
       "      <td>-0.292363</td>\n",
       "      <td>0.117692</td>\n",
       "      <td>0.406314</td>\n",
       "      <td>-0.010899</td>\n",
       "      <td>-0.017804</td>\n",
       "      <td>-0.007776</td>\n",
       "    </tr>\n",
       "    <tr>\n",
       "      <th>WL_SO</th>\n",
       "      <td>-0.043341</td>\n",
       "      <td>-0.089945</td>\n",
       "      <td>0.115371</td>\n",
       "      <td>-0.150429</td>\n",
       "      <td>-0.123373</td>\n",
       "      <td>-0.543905</td>\n",
       "      <td>-0.292363</td>\n",
       "      <td>1.000000</td>\n",
       "      <td>0.413294</td>\n",
       "      <td>0.319025</td>\n",
       "      <td>0.028082</td>\n",
       "      <td>0.026839</td>\n",
       "      <td>0.006227</td>\n",
       "    </tr>\n",
       "    <tr>\n",
       "      <th>Entry_fee</th>\n",
       "      <td>0.043721</td>\n",
       "      <td>-0.122077</td>\n",
       "      <td>-0.045335</td>\n",
       "      <td>-0.094013</td>\n",
       "      <td>-0.212501</td>\n",
       "      <td>-0.242692</td>\n",
       "      <td>0.117692</td>\n",
       "      <td>0.413294</td>\n",
       "      <td>1.000000</td>\n",
       "      <td>0.334784</td>\n",
       "      <td>0.001548</td>\n",
       "      <td>-0.006640</td>\n",
       "      <td>-0.006176</td>\n",
       "    </tr>\n",
       "    <tr>\n",
       "      <th>PPM</th>\n",
       "      <td>-0.016771</td>\n",
       "      <td>-0.070901</td>\n",
       "      <td>0.113499</td>\n",
       "      <td>-0.118026</td>\n",
       "      <td>0.017266</td>\n",
       "      <td>-0.293994</td>\n",
       "      <td>0.406314</td>\n",
       "      <td>0.319025</td>\n",
       "      <td>0.334784</td>\n",
       "      <td>1.000000</td>\n",
       "      <td>0.003491</td>\n",
       "      <td>-0.017046</td>\n",
       "      <td>0.017571</td>\n",
       "    </tr>\n",
       "    <tr>\n",
       "      <th>Age_Rank</th>\n",
       "      <td>-0.007417</td>\n",
       "      <td>-0.005315</td>\n",
       "      <td>-0.003333</td>\n",
       "      <td>0.007557</td>\n",
       "      <td>-0.015521</td>\n",
       "      <td>-0.004094</td>\n",
       "      <td>-0.010899</td>\n",
       "      <td>0.028082</td>\n",
       "      <td>0.001548</td>\n",
       "      <td>0.003491</td>\n",
       "      <td>1.000000</td>\n",
       "      <td>0.766592</td>\n",
       "      <td>0.177129</td>\n",
       "    </tr>\n",
       "    <tr>\n",
       "      <th>Gender_Rank</th>\n",
       "      <td>0.000602</td>\n",
       "      <td>-0.005174</td>\n",
       "      <td>-0.008166</td>\n",
       "      <td>0.009809</td>\n",
       "      <td>-0.024019</td>\n",
       "      <td>-0.006021</td>\n",
       "      <td>-0.017804</td>\n",
       "      <td>0.026839</td>\n",
       "      <td>-0.006640</td>\n",
       "      <td>-0.017046</td>\n",
       "      <td>0.766592</td>\n",
       "      <td>1.000000</td>\n",
       "      <td>0.157633</td>\n",
       "    </tr>\n",
       "    <tr>\n",
       "      <th>Total_races</th>\n",
       "      <td>0.011360</td>\n",
       "      <td>-0.015240</td>\n",
       "      <td>0.007546</td>\n",
       "      <td>-0.000989</td>\n",
       "      <td>-0.029799</td>\n",
       "      <td>0.019240</td>\n",
       "      <td>-0.007776</td>\n",
       "      <td>0.006227</td>\n",
       "      <td>-0.006176</td>\n",
       "      <td>0.017571</td>\n",
       "      <td>0.177129</td>\n",
       "      <td>0.157633</td>\n",
       "      <td>1.000000</td>\n",
       "    </tr>\n",
       "  </tbody>\n",
       "</table>\n",
       "</div>"
      ],
      "text/plain": [
       "                     age  participant_id  runner_rank    status   race_id  \\\n",
       "age             1.000000       -0.270411    -0.216783  0.075115 -0.010206   \n",
       "participant_id -0.270411        1.000000    -0.194335 -0.001664  0.386143   \n",
       "runner_rank    -0.216783       -0.194335     1.000000 -0.190380  0.020117   \n",
       "status          0.075115       -0.001664    -0.190380  1.000000  0.032448   \n",
       "race_id        -0.010206        0.386143     0.020117  0.032448  1.000000   \n",
       "Season          0.047769       -0.020922    -0.074137  0.079697 -0.058049   \n",
       "Metro_area      0.018868        0.029178    -0.018915 -0.038195  0.130348   \n",
       "WL_SO          -0.043341       -0.089945     0.115371 -0.150429 -0.123373   \n",
       "Entry_fee       0.043721       -0.122077    -0.045335 -0.094013 -0.212501   \n",
       "PPM            -0.016771       -0.070901     0.113499 -0.118026  0.017266   \n",
       "Age_Rank       -0.007417       -0.005315    -0.003333  0.007557 -0.015521   \n",
       "Gender_Rank     0.000602       -0.005174    -0.008166  0.009809 -0.024019   \n",
       "Total_races     0.011360       -0.015240     0.007546 -0.000989 -0.029799   \n",
       "\n",
       "                  Season  Metro_area     WL_SO  Entry_fee       PPM  Age_Rank  \\\n",
       "age             0.047769    0.018868 -0.043341   0.043721 -0.016771 -0.007417   \n",
       "participant_id -0.020922    0.029178 -0.089945  -0.122077 -0.070901 -0.005315   \n",
       "runner_rank    -0.074137   -0.018915  0.115371  -0.045335  0.113499 -0.003333   \n",
       "status          0.079697   -0.038195 -0.150429  -0.094013 -0.118026  0.007557   \n",
       "race_id        -0.058049    0.130348 -0.123373  -0.212501  0.017266 -0.015521   \n",
       "Season          1.000000   -0.229057 -0.543905  -0.242692 -0.293994 -0.004094   \n",
       "Metro_area     -0.229057    1.000000 -0.292363   0.117692  0.406314 -0.010899   \n",
       "WL_SO          -0.543905   -0.292363  1.000000   0.413294  0.319025  0.028082   \n",
       "Entry_fee      -0.242692    0.117692  0.413294   1.000000  0.334784  0.001548   \n",
       "PPM            -0.293994    0.406314  0.319025   0.334784  1.000000  0.003491   \n",
       "Age_Rank       -0.004094   -0.010899  0.028082   0.001548  0.003491  1.000000   \n",
       "Gender_Rank    -0.006021   -0.017804  0.026839  -0.006640 -0.017046  0.766592   \n",
       "Total_races     0.019240   -0.007776  0.006227  -0.006176  0.017571  0.177129   \n",
       "\n",
       "                Gender_Rank  Total_races  \n",
       "age                0.000602     0.011360  \n",
       "participant_id    -0.005174    -0.015240  \n",
       "runner_rank       -0.008166     0.007546  \n",
       "status             0.009809    -0.000989  \n",
       "race_id           -0.024019    -0.029799  \n",
       "Season            -0.006021     0.019240  \n",
       "Metro_area        -0.017804    -0.007776  \n",
       "WL_SO              0.026839     0.006227  \n",
       "Entry_fee         -0.006640    -0.006176  \n",
       "PPM               -0.017046     0.017571  \n",
       "Age_Rank           0.766592     0.177129  \n",
       "Gender_Rank        1.000000     0.157633  \n",
       "Total_races        0.157633     1.000000  "
      ]
     },
     "execution_count": 933,
     "metadata": {},
     "output_type": "execute_result"
    }
   ],
   "source": [
    "fe4.corr()"
   ]
  },
  {
   "cell_type": "markdown",
   "metadata": {},
   "source": [
    "Interesting observation - Very little spread between 25-75% in age of entrants (35-49). Max is 79 and min is ~12 (some cleaning of 0/1 ages may be necessary). 39-44 is the most common ages with nearly 400 in each category. Mid-life crisis???\n"
   ]
  },
  {
   "cell_type": "markdown",
   "metadata": {},
   "source": [
    "Interesting observation - Appears that runner rank and age have the strongest relationships to the status column. Gender rank and age rank are similar in their relationship. Total races appears to have the weakest relationship for these features."
   ]
  },
  {
   "cell_type": "code",
   "execution_count": 934,
   "metadata": {
    "collapsed": false
   },
   "outputs": [],
   "source": [
    "gender_dummies_fe = pd.get_dummies(fe4.gender, prefix='gender')\n",
    "#state_dummies = pd.get_dummies(fe2_clean.state, prefix='Home_State')\n",
    "fe4 = fe4.join(gender_dummies_fe)\n",
    "#fe4_clean = fe4_clean.join(state_dummies)"
   ]
  },
  {
   "cell_type": "code",
   "execution_count": 935,
   "metadata": {
    "collapsed": false
   },
   "outputs": [
    {
     "name": "stdout",
     "output_type": "stream",
     "text": [
      "Before Coding:\n",
      "1    6291\n",
      "2    3930\n",
      "3     540\n",
      "Name: status, dtype: int64\n",
      "\n",
      "After Coding:\n",
      "1    10221\n",
      "0      540\n",
      "Name: status_coded, dtype: int64\n"
     ]
    },
    {
     "data": {
      "text/html": [
       "<div>\n",
       "<table border=\"1\" class=\"dataframe\">\n",
       "  <thead>\n",
       "    <tr style=\"text-align: right;\">\n",
       "      <th></th>\n",
       "      <th>age</th>\n",
       "      <th>gender</th>\n",
       "      <th>participant_id</th>\n",
       "      <th>runner_rank</th>\n",
       "      <th>race_id</th>\n",
       "      <th>race_name</th>\n",
       "      <th>Season</th>\n",
       "      <th>Metro_area</th>\n",
       "      <th>WL_SO</th>\n",
       "      <th>Entry_fee</th>\n",
       "      <th>PPM</th>\n",
       "      <th>Age_Rank</th>\n",
       "      <th>Gender_Rank</th>\n",
       "      <th>Total_races</th>\n",
       "      <th>gender_F</th>\n",
       "      <th>gender_M</th>\n",
       "      <th>status_coded</th>\n",
       "    </tr>\n",
       "  </thead>\n",
       "  <tbody>\n",
       "    <tr>\n",
       "      <th>0</th>\n",
       "      <td>26</td>\n",
       "      <td>M</td>\n",
       "      <td>7148</td>\n",
       "      <td>88.39</td>\n",
       "      <td>11470</td>\n",
       "      <td>Bear</td>\n",
       "      <td>3</td>\n",
       "      <td>0</td>\n",
       "      <td>1</td>\n",
       "      <td>1</td>\n",
       "      <td>2.5</td>\n",
       "      <td>0.7174</td>\n",
       "      <td>0.6806</td>\n",
       "      <td>23.0</td>\n",
       "      <td>0.0</td>\n",
       "      <td>1.0</td>\n",
       "      <td>1</td>\n",
       "    </tr>\n",
       "    <tr>\n",
       "      <th>1</th>\n",
       "      <td>33</td>\n",
       "      <td>M</td>\n",
       "      <td>221721</td>\n",
       "      <td>90.00</td>\n",
       "      <td>11470</td>\n",
       "      <td>Bear</td>\n",
       "      <td>3</td>\n",
       "      <td>0</td>\n",
       "      <td>1</td>\n",
       "      <td>1</td>\n",
       "      <td>2.5</td>\n",
       "      <td>0.8132</td>\n",
       "      <td>0.6987</td>\n",
       "      <td>9.0</td>\n",
       "      <td>0.0</td>\n",
       "      <td>1.0</td>\n",
       "      <td>1</td>\n",
       "    </tr>\n",
       "    <tr>\n",
       "      <th>2</th>\n",
       "      <td>43</td>\n",
       "      <td>M</td>\n",
       "      <td>20020</td>\n",
       "      <td>83.63</td>\n",
       "      <td>11470</td>\n",
       "      <td>Bear</td>\n",
       "      <td>3</td>\n",
       "      <td>0</td>\n",
       "      <td>1</td>\n",
       "      <td>1</td>\n",
       "      <td>2.5</td>\n",
       "      <td>0.8272</td>\n",
       "      <td>0.7145</td>\n",
       "      <td>17.0</td>\n",
       "      <td>0.0</td>\n",
       "      <td>1.0</td>\n",
       "      <td>1</td>\n",
       "    </tr>\n",
       "    <tr>\n",
       "      <th>3</th>\n",
       "      <td>36</td>\n",
       "      <td>M</td>\n",
       "      <td>25441</td>\n",
       "      <td>73.22</td>\n",
       "      <td>11470</td>\n",
       "      <td>Bear</td>\n",
       "      <td>3</td>\n",
       "      <td>0</td>\n",
       "      <td>1</td>\n",
       "      <td>1</td>\n",
       "      <td>2.5</td>\n",
       "      <td>0.8995</td>\n",
       "      <td>0.8957</td>\n",
       "      <td>18.0</td>\n",
       "      <td>0.0</td>\n",
       "      <td>1.0</td>\n",
       "      <td>1</td>\n",
       "    </tr>\n",
       "    <tr>\n",
       "      <th>4</th>\n",
       "      <td>33</td>\n",
       "      <td>M</td>\n",
       "      <td>22562</td>\n",
       "      <td>87.77</td>\n",
       "      <td>11470</td>\n",
       "      <td>Bear</td>\n",
       "      <td>3</td>\n",
       "      <td>0</td>\n",
       "      <td>1</td>\n",
       "      <td>1</td>\n",
       "      <td>2.5</td>\n",
       "      <td>0.6807</td>\n",
       "      <td>0.6522</td>\n",
       "      <td>8.0</td>\n",
       "      <td>0.0</td>\n",
       "      <td>1.0</td>\n",
       "      <td>1</td>\n",
       "    </tr>\n",
       "  </tbody>\n",
       "</table>\n",
       "</div>"
      ],
      "text/plain": [
       "   age gender  participant_id  runner_rank  race_id race_name  Season  \\\n",
       "0   26      M            7148        88.39    11470      Bear       3   \n",
       "1   33      M          221721        90.00    11470      Bear       3   \n",
       "2   43      M           20020        83.63    11470      Bear       3   \n",
       "3   36      M           25441        73.22    11470      Bear       3   \n",
       "4   33      M           22562        87.77    11470      Bear       3   \n",
       "\n",
       "   Metro_area  WL_SO  Entry_fee  PPM  Age_Rank  Gender_Rank  Total_races  \\\n",
       "0           0      1          1  2.5    0.7174       0.6806         23.0   \n",
       "1           0      1          1  2.5    0.8132       0.6987          9.0   \n",
       "2           0      1          1  2.5    0.8272       0.7145         17.0   \n",
       "3           0      1          1  2.5    0.8995       0.8957         18.0   \n",
       "4           0      1          1  2.5    0.6807       0.6522          8.0   \n",
       "\n",
       "   gender_F  gender_M  status_coded  \n",
       "0       0.0       1.0             1  \n",
       "1       0.0       1.0             1  \n",
       "2       0.0       1.0             1  \n",
       "3       0.0       1.0             1  \n",
       "4       0.0       1.0             1  "
      ]
     },
     "execution_count": 935,
     "metadata": {},
     "output_type": "execute_result"
    }
   ],
   "source": [
    "def coding(col, codeDict):\n",
    "    colCoded = pd.Series(col, copy=True)\n",
    "    for key, value in codeDict.items():\n",
    "        colCoded.replace(key, value, inplace=True)\n",
    "    return colCoded\n",
    " \n",
    "\n",
    "print 'Before Coding:'\n",
    "print pd.value_counts(fe4[\"status\"])\n",
    "fe4[\"status_coded\"] = coding(fe4[\"status\"], {'1':1,'2':1, '3':0})\n",
    "print '\\nAfter Coding:'\n",
    "print pd.value_counts(fe4[\"status_coded\"])\n",
    "fe4 = fe4.drop(['status'], axis=1)\n",
    "fe4.head()"
   ]
  },
  {
   "cell_type": "code",
   "execution_count": 936,
   "metadata": {
    "collapsed": false
   },
   "outputs": [
    {
     "data": {
      "text/html": [
       "<div>\n",
       "<table border=\"1\" class=\"dataframe\">\n",
       "  <thead>\n",
       "    <tr style=\"text-align: right;\">\n",
       "      <th></th>\n",
       "      <th>age</th>\n",
       "      <th>participant_id</th>\n",
       "      <th>runner_rank</th>\n",
       "      <th>race_id</th>\n",
       "      <th>Season</th>\n",
       "      <th>Metro_area</th>\n",
       "      <th>WL_SO</th>\n",
       "      <th>Entry_fee</th>\n",
       "      <th>PPM</th>\n",
       "      <th>Age_Rank</th>\n",
       "      <th>Gender_Rank</th>\n",
       "      <th>Total_races</th>\n",
       "      <th>gender_F</th>\n",
       "      <th>gender_M</th>\n",
       "      <th>status_coded</th>\n",
       "    </tr>\n",
       "  </thead>\n",
       "  <tbody>\n",
       "    <tr>\n",
       "      <th>age</th>\n",
       "      <td>1.000000</td>\n",
       "      <td>-0.270411</td>\n",
       "      <td>-0.216783</td>\n",
       "      <td>-0.010206</td>\n",
       "      <td>0.047769</td>\n",
       "      <td>0.018868</td>\n",
       "      <td>-0.043341</td>\n",
       "      <td>0.043721</td>\n",
       "      <td>-0.016771</td>\n",
       "      <td>-0.007417</td>\n",
       "      <td>0.000602</td>\n",
       "      <td>0.011360</td>\n",
       "      <td>-0.050618</td>\n",
       "      <td>0.050618</td>\n",
       "      <td>0.011733</td>\n",
       "    </tr>\n",
       "    <tr>\n",
       "      <th>participant_id</th>\n",
       "      <td>-0.270411</td>\n",
       "      <td>1.000000</td>\n",
       "      <td>-0.194335</td>\n",
       "      <td>0.386143</td>\n",
       "      <td>-0.020922</td>\n",
       "      <td>0.029178</td>\n",
       "      <td>-0.089945</td>\n",
       "      <td>-0.122077</td>\n",
       "      <td>-0.070901</td>\n",
       "      <td>-0.005315</td>\n",
       "      <td>-0.005174</td>\n",
       "      <td>-0.015240</td>\n",
       "      <td>-0.026327</td>\n",
       "      <td>0.026327</td>\n",
       "      <td>-0.019896</td>\n",
       "    </tr>\n",
       "    <tr>\n",
       "      <th>runner_rank</th>\n",
       "      <td>-0.216783</td>\n",
       "      <td>-0.194335</td>\n",
       "      <td>1.000000</td>\n",
       "      <td>0.020117</td>\n",
       "      <td>-0.074137</td>\n",
       "      <td>-0.018915</td>\n",
       "      <td>0.115371</td>\n",
       "      <td>-0.045335</td>\n",
       "      <td>0.113499</td>\n",
       "      <td>-0.003333</td>\n",
       "      <td>-0.008166</td>\n",
       "      <td>0.007546</td>\n",
       "      <td>0.197594</td>\n",
       "      <td>-0.197594</td>\n",
       "      <td>0.002527</td>\n",
       "    </tr>\n",
       "    <tr>\n",
       "      <th>race_id</th>\n",
       "      <td>-0.010206</td>\n",
       "      <td>0.386143</td>\n",
       "      <td>0.020117</td>\n",
       "      <td>1.000000</td>\n",
       "      <td>-0.058049</td>\n",
       "      <td>0.130348</td>\n",
       "      <td>-0.123373</td>\n",
       "      <td>-0.212501</td>\n",
       "      <td>0.017266</td>\n",
       "      <td>-0.015521</td>\n",
       "      <td>-0.024019</td>\n",
       "      <td>-0.029799</td>\n",
       "      <td>-0.021824</td>\n",
       "      <td>0.021824</td>\n",
       "      <td>-0.081115</td>\n",
       "    </tr>\n",
       "    <tr>\n",
       "      <th>Season</th>\n",
       "      <td>0.047769</td>\n",
       "      <td>-0.020922</td>\n",
       "      <td>-0.074137</td>\n",
       "      <td>-0.058049</td>\n",
       "      <td>1.000000</td>\n",
       "      <td>-0.229057</td>\n",
       "      <td>-0.543905</td>\n",
       "      <td>-0.242692</td>\n",
       "      <td>-0.293994</td>\n",
       "      <td>-0.004094</td>\n",
       "      <td>-0.006021</td>\n",
       "      <td>0.019240</td>\n",
       "      <td>0.011332</td>\n",
       "      <td>-0.011332</td>\n",
       "      <td>-0.035099</td>\n",
       "    </tr>\n",
       "    <tr>\n",
       "      <th>Metro_area</th>\n",
       "      <td>0.018868</td>\n",
       "      <td>0.029178</td>\n",
       "      <td>-0.018915</td>\n",
       "      <td>0.130348</td>\n",
       "      <td>-0.229057</td>\n",
       "      <td>1.000000</td>\n",
       "      <td>-0.292363</td>\n",
       "      <td>0.117692</td>\n",
       "      <td>0.406314</td>\n",
       "      <td>-0.010899</td>\n",
       "      <td>-0.017804</td>\n",
       "      <td>-0.007776</td>\n",
       "      <td>0.072808</td>\n",
       "      <td>-0.072808</td>\n",
       "      <td>0.063267</td>\n",
       "    </tr>\n",
       "    <tr>\n",
       "      <th>WL_SO</th>\n",
       "      <td>-0.043341</td>\n",
       "      <td>-0.089945</td>\n",
       "      <td>0.115371</td>\n",
       "      <td>-0.123373</td>\n",
       "      <td>-0.543905</td>\n",
       "      <td>-0.292363</td>\n",
       "      <td>1.000000</td>\n",
       "      <td>0.413294</td>\n",
       "      <td>0.319025</td>\n",
       "      <td>0.028082</td>\n",
       "      <td>0.026839</td>\n",
       "      <td>0.006227</td>\n",
       "      <td>-0.052848</td>\n",
       "      <td>0.052848</td>\n",
       "      <td>0.053033</td>\n",
       "    </tr>\n",
       "    <tr>\n",
       "      <th>Entry_fee</th>\n",
       "      <td>0.043721</td>\n",
       "      <td>-0.122077</td>\n",
       "      <td>-0.045335</td>\n",
       "      <td>-0.212501</td>\n",
       "      <td>-0.242692</td>\n",
       "      <td>0.117692</td>\n",
       "      <td>0.413294</td>\n",
       "      <td>1.000000</td>\n",
       "      <td>0.334784</td>\n",
       "      <td>0.001548</td>\n",
       "      <td>-0.006640</td>\n",
       "      <td>-0.006176</td>\n",
       "      <td>0.036295</td>\n",
       "      <td>-0.036295</td>\n",
       "      <td>0.150438</td>\n",
       "    </tr>\n",
       "    <tr>\n",
       "      <th>PPM</th>\n",
       "      <td>-0.016771</td>\n",
       "      <td>-0.070901</td>\n",
       "      <td>0.113499</td>\n",
       "      <td>0.017266</td>\n",
       "      <td>-0.293994</td>\n",
       "      <td>0.406314</td>\n",
       "      <td>0.319025</td>\n",
       "      <td>0.334784</td>\n",
       "      <td>1.000000</td>\n",
       "      <td>0.003491</td>\n",
       "      <td>-0.017046</td>\n",
       "      <td>0.017571</td>\n",
       "      <td>0.000985</td>\n",
       "      <td>-0.000985</td>\n",
       "      <td>0.066751</td>\n",
       "    </tr>\n",
       "    <tr>\n",
       "      <th>Age_Rank</th>\n",
       "      <td>-0.007417</td>\n",
       "      <td>-0.005315</td>\n",
       "      <td>-0.003333</td>\n",
       "      <td>-0.015521</td>\n",
       "      <td>-0.004094</td>\n",
       "      <td>-0.010899</td>\n",
       "      <td>0.028082</td>\n",
       "      <td>0.001548</td>\n",
       "      <td>0.003491</td>\n",
       "      <td>1.000000</td>\n",
       "      <td>0.766592</td>\n",
       "      <td>0.177129</td>\n",
       "      <td>0.000289</td>\n",
       "      <td>-0.000289</td>\n",
       "      <td>0.007534</td>\n",
       "    </tr>\n",
       "    <tr>\n",
       "      <th>Gender_Rank</th>\n",
       "      <td>0.000602</td>\n",
       "      <td>-0.005174</td>\n",
       "      <td>-0.008166</td>\n",
       "      <td>-0.024019</td>\n",
       "      <td>-0.006021</td>\n",
       "      <td>-0.017804</td>\n",
       "      <td>0.026839</td>\n",
       "      <td>-0.006640</td>\n",
       "      <td>-0.017046</td>\n",
       "      <td>0.766592</td>\n",
       "      <td>1.000000</td>\n",
       "      <td>0.157633</td>\n",
       "      <td>0.003349</td>\n",
       "      <td>-0.003349</td>\n",
       "      <td>0.002545</td>\n",
       "    </tr>\n",
       "    <tr>\n",
       "      <th>Total_races</th>\n",
       "      <td>0.011360</td>\n",
       "      <td>-0.015240</td>\n",
       "      <td>0.007546</td>\n",
       "      <td>-0.029799</td>\n",
       "      <td>0.019240</td>\n",
       "      <td>-0.007776</td>\n",
       "      <td>0.006227</td>\n",
       "      <td>-0.006176</td>\n",
       "      <td>0.017571</td>\n",
       "      <td>0.177129</td>\n",
       "      <td>0.157633</td>\n",
       "      <td>1.000000</td>\n",
       "      <td>-0.001369</td>\n",
       "      <td>0.001369</td>\n",
       "      <td>0.008308</td>\n",
       "    </tr>\n",
       "    <tr>\n",
       "      <th>gender_F</th>\n",
       "      <td>-0.050618</td>\n",
       "      <td>-0.026327</td>\n",
       "      <td>0.197594</td>\n",
       "      <td>-0.021824</td>\n",
       "      <td>0.011332</td>\n",
       "      <td>0.072808</td>\n",
       "      <td>-0.052848</td>\n",
       "      <td>0.036295</td>\n",
       "      <td>0.000985</td>\n",
       "      <td>0.000289</td>\n",
       "      <td>0.003349</td>\n",
       "      <td>-0.001369</td>\n",
       "      <td>1.000000</td>\n",
       "      <td>-1.000000</td>\n",
       "      <td>0.015681</td>\n",
       "    </tr>\n",
       "    <tr>\n",
       "      <th>gender_M</th>\n",
       "      <td>0.050618</td>\n",
       "      <td>0.026327</td>\n",
       "      <td>-0.197594</td>\n",
       "      <td>0.021824</td>\n",
       "      <td>-0.011332</td>\n",
       "      <td>-0.072808</td>\n",
       "      <td>0.052848</td>\n",
       "      <td>-0.036295</td>\n",
       "      <td>-0.000985</td>\n",
       "      <td>-0.000289</td>\n",
       "      <td>-0.003349</td>\n",
       "      <td>0.001369</td>\n",
       "      <td>-1.000000</td>\n",
       "      <td>1.000000</td>\n",
       "      <td>-0.015681</td>\n",
       "    </tr>\n",
       "    <tr>\n",
       "      <th>status_coded</th>\n",
       "      <td>0.011733</td>\n",
       "      <td>-0.019896</td>\n",
       "      <td>0.002527</td>\n",
       "      <td>-0.081115</td>\n",
       "      <td>-0.035099</td>\n",
       "      <td>0.063267</td>\n",
       "      <td>0.053033</td>\n",
       "      <td>0.150438</td>\n",
       "      <td>0.066751</td>\n",
       "      <td>0.007534</td>\n",
       "      <td>0.002545</td>\n",
       "      <td>0.008308</td>\n",
       "      <td>0.015681</td>\n",
       "      <td>-0.015681</td>\n",
       "      <td>1.000000</td>\n",
       "    </tr>\n",
       "  </tbody>\n",
       "</table>\n",
       "</div>"
      ],
      "text/plain": [
       "                     age  participant_id  runner_rank   race_id    Season  \\\n",
       "age             1.000000       -0.270411    -0.216783 -0.010206  0.047769   \n",
       "participant_id -0.270411        1.000000    -0.194335  0.386143 -0.020922   \n",
       "runner_rank    -0.216783       -0.194335     1.000000  0.020117 -0.074137   \n",
       "race_id        -0.010206        0.386143     0.020117  1.000000 -0.058049   \n",
       "Season          0.047769       -0.020922    -0.074137 -0.058049  1.000000   \n",
       "Metro_area      0.018868        0.029178    -0.018915  0.130348 -0.229057   \n",
       "WL_SO          -0.043341       -0.089945     0.115371 -0.123373 -0.543905   \n",
       "Entry_fee       0.043721       -0.122077    -0.045335 -0.212501 -0.242692   \n",
       "PPM            -0.016771       -0.070901     0.113499  0.017266 -0.293994   \n",
       "Age_Rank       -0.007417       -0.005315    -0.003333 -0.015521 -0.004094   \n",
       "Gender_Rank     0.000602       -0.005174    -0.008166 -0.024019 -0.006021   \n",
       "Total_races     0.011360       -0.015240     0.007546 -0.029799  0.019240   \n",
       "gender_F       -0.050618       -0.026327     0.197594 -0.021824  0.011332   \n",
       "gender_M        0.050618        0.026327    -0.197594  0.021824 -0.011332   \n",
       "status_coded    0.011733       -0.019896     0.002527 -0.081115 -0.035099   \n",
       "\n",
       "                Metro_area     WL_SO  Entry_fee       PPM  Age_Rank  \\\n",
       "age               0.018868 -0.043341   0.043721 -0.016771 -0.007417   \n",
       "participant_id    0.029178 -0.089945  -0.122077 -0.070901 -0.005315   \n",
       "runner_rank      -0.018915  0.115371  -0.045335  0.113499 -0.003333   \n",
       "race_id           0.130348 -0.123373  -0.212501  0.017266 -0.015521   \n",
       "Season           -0.229057 -0.543905  -0.242692 -0.293994 -0.004094   \n",
       "Metro_area        1.000000 -0.292363   0.117692  0.406314 -0.010899   \n",
       "WL_SO            -0.292363  1.000000   0.413294  0.319025  0.028082   \n",
       "Entry_fee         0.117692  0.413294   1.000000  0.334784  0.001548   \n",
       "PPM               0.406314  0.319025   0.334784  1.000000  0.003491   \n",
       "Age_Rank         -0.010899  0.028082   0.001548  0.003491  1.000000   \n",
       "Gender_Rank      -0.017804  0.026839  -0.006640 -0.017046  0.766592   \n",
       "Total_races      -0.007776  0.006227  -0.006176  0.017571  0.177129   \n",
       "gender_F          0.072808 -0.052848   0.036295  0.000985  0.000289   \n",
       "gender_M         -0.072808  0.052848  -0.036295 -0.000985 -0.000289   \n",
       "status_coded      0.063267  0.053033   0.150438  0.066751  0.007534   \n",
       "\n",
       "                Gender_Rank  Total_races  gender_F  gender_M  status_coded  \n",
       "age                0.000602     0.011360 -0.050618  0.050618      0.011733  \n",
       "participant_id    -0.005174    -0.015240 -0.026327  0.026327     -0.019896  \n",
       "runner_rank       -0.008166     0.007546  0.197594 -0.197594      0.002527  \n",
       "race_id           -0.024019    -0.029799 -0.021824  0.021824     -0.081115  \n",
       "Season            -0.006021     0.019240  0.011332 -0.011332     -0.035099  \n",
       "Metro_area        -0.017804    -0.007776  0.072808 -0.072808      0.063267  \n",
       "WL_SO              0.026839     0.006227 -0.052848  0.052848      0.053033  \n",
       "Entry_fee         -0.006640    -0.006176  0.036295 -0.036295      0.150438  \n",
       "PPM               -0.017046     0.017571  0.000985 -0.000985      0.066751  \n",
       "Age_Rank           0.766592     0.177129  0.000289 -0.000289      0.007534  \n",
       "Gender_Rank        1.000000     0.157633  0.003349 -0.003349      0.002545  \n",
       "Total_races        0.157633     1.000000 -0.001369  0.001369      0.008308  \n",
       "gender_F           0.003349    -0.001369  1.000000 -1.000000      0.015681  \n",
       "gender_M          -0.003349     0.001369 -1.000000  1.000000     -0.015681  \n",
       "status_coded       0.002545     0.008308  0.015681 -0.015681      1.000000  "
      ]
     },
     "execution_count": 936,
     "metadata": {},
     "output_type": "execute_result"
    }
   ],
   "source": [
    "fe4.corr()"
   ]
  },
  {
   "cell_type": "markdown",
   "metadata": {},
   "source": [
    "Once adding gender dummies, it appears that gender in and of itself may not be a great predictor of race status. Appears to be ~75% male and 25% female particitation in these races."
   ]
  },
  {
   "cell_type": "code",
   "execution_count": 937,
   "metadata": {
    "collapsed": false
   },
   "outputs": [],
   "source": [
    "y = fe4.pop('status_coded')\n",
    "clean = fe4.drop(['gender', 'participant_id', 'race_name', 'race_id', 'Age_Rank', 'Gender_Rank', 'Total_races'\\\n",
    "                 , 'gender_M'], axis=1)\n",
    "X = clean\n",
    "\n",
    "X_train,X_test,y_train,y_test = train_test_split(X, y, test_size=0.3)"
   ]
  },
  {
   "cell_type": "code",
   "execution_count": 938,
   "metadata": {
    "collapsed": false
   },
   "outputs": [
    {
     "data": {
      "text/plain": [
       "0        1\n",
       "1        1\n",
       "2        1\n",
       "3        1\n",
       "4        1\n",
       "5        1\n",
       "6        1\n",
       "7        1\n",
       "8        1\n",
       "9        1\n",
       "10       1\n",
       "11       1\n",
       "12       1\n",
       "13       1\n",
       "14       1\n",
       "15       1\n",
       "16       1\n",
       "17       1\n",
       "18       1\n",
       "19       1\n",
       "20       1\n",
       "21       1\n",
       "22       1\n",
       "23       1\n",
       "24       1\n",
       "25       1\n",
       "26       1\n",
       "27       1\n",
       "28       1\n",
       "29       1\n",
       "        ..\n",
       "10731    0\n",
       "10732    1\n",
       "10733    1\n",
       "10734    1\n",
       "10735    1\n",
       "10736    1\n",
       "10737    1\n",
       "10738    1\n",
       "10739    1\n",
       "10740    1\n",
       "10741    1\n",
       "10742    1\n",
       "10743    1\n",
       "10744    1\n",
       "10745    1\n",
       "10746    1\n",
       "10747    1\n",
       "10748    1\n",
       "10749    1\n",
       "10750    1\n",
       "10751    1\n",
       "10752    1\n",
       "10753    1\n",
       "10754    1\n",
       "10755    1\n",
       "10756    1\n",
       "10757    1\n",
       "10758    1\n",
       "10759    1\n",
       "10760    1\n",
       "Name: status_coded, dtype: int64"
      ]
     },
     "execution_count": 938,
     "metadata": {},
     "output_type": "execute_result"
    }
   ],
   "source": [
    "y"
   ]
  },
  {
   "cell_type": "code",
   "execution_count": 997,
   "metadata": {
    "collapsed": false
   },
   "outputs": [
    {
     "data": {
      "text/plain": [
       "LogisticRegression(C=100, class_weight=None, dual=False, fit_intercept=True,\n",
       "          intercept_scaling=1, max_iter=100, multi_class='ovr', n_jobs=1,\n",
       "          penalty='l2', random_state=None, solver='liblinear', tol=0.0001,\n",
       "          verbose=0, warm_start=False)"
      ]
     },
     "execution_count": 997,
     "metadata": {},
     "output_type": "execute_result"
    }
   ],
   "source": [
    "model = LR(C=100)\n",
    "model.fit(X_train, y_train)"
   ]
  },
  {
   "cell_type": "code",
   "execution_count": 963,
   "metadata": {
    "collapsed": false
   },
   "outputs": [],
   "source": [
    "predicted = model.predict_proba(X_test)"
   ]
  },
  {
   "cell_type": "code",
   "execution_count": 964,
   "metadata": {
    "collapsed": false
   },
   "outputs": [
    {
     "data": {
      "text/plain": [
       "0.18193173934874815"
      ]
     },
     "execution_count": 964,
     "metadata": {},
     "output_type": "execute_result"
    }
   ],
   "source": [
    "log_loss(y_test, predicted)"
   ]
  },
  {
   "cell_type": "code",
   "execution_count": 895,
   "metadata": {
    "collapsed": false
   },
   "outputs": [
    {
     "data": {
      "text/plain": [
       "array([[ 0.00313166,  0.00720216, -0.00917138,  0.52803735, -0.01952979,\n",
       "         1.35559661,  0.12900909,  0.0734006 ]])"
      ]
     },
     "execution_count": 895,
     "metadata": {},
     "output_type": "execute_result"
    }
   ],
   "source": [
    "model.coef_"
   ]
  },
  {
   "cell_type": "code",
   "execution_count": 943,
   "metadata": {
    "collapsed": false
   },
   "outputs": [
    {
     "data": {
      "text/plain": [
       "0.41773504712657211"
      ]
     },
     "execution_count": 943,
     "metadata": {},
     "output_type": "execute_result"
    }
   ],
   "source": [
    "model2 = RFC(n_estimators=500, criterion='entropy', random_state=1, n_jobs=2)\n",
    "model2.fit(X_train, y_train)\n",
    "predicted2 = model2.predict_proba(X_test)\n",
    "log_loss(y_test, predicted2)"
   ]
  },
  {
   "cell_type": "code",
   "execution_count": 966,
   "metadata": {
    "collapsed": false
   },
   "outputs": [
    {
     "data": {
      "text/plain": [
       "0.17930912304169588"
      ]
     },
     "execution_count": 966,
     "metadata": {},
     "output_type": "execute_result"
    }
   ],
   "source": [
    "model3 = GBC()\n",
    "model3.fit(X_train, y_train)\n",
    "predictions = model3.predict_proba(X_test)\n",
    "log_loss(y_test, predictions)"
   ]
  },
  {
   "cell_type": "code",
   "execution_count": 794,
   "metadata": {
    "collapsed": false
   },
   "outputs": [],
   "source": [
    "#X_test"
   ]
  },
  {
   "cell_type": "code",
   "execution_count": 965,
   "metadata": {
    "collapsed": false
   },
   "outputs": [
    {
     "data": {
      "text/plain": [
       "0.63141062189842678"
      ]
     },
     "execution_count": 965,
     "metadata": {},
     "output_type": "execute_result"
    }
   ],
   "source": [
    "#Logistic Regression\n",
    "roc_auc_score(y_test, predicted[:,1])"
   ]
  },
  {
   "cell_type": "code",
   "execution_count": 944,
   "metadata": {
    "collapsed": false
   },
   "outputs": [
    {
     "data": {
      "text/plain": [
       "0.71275472494984693"
      ]
     },
     "execution_count": 944,
     "metadata": {},
     "output_type": "execute_result"
    }
   ],
   "source": [
    "#Random Forest\n",
    "roc_auc_score(y_test, predicted2[:,1])"
   ]
  },
  {
   "cell_type": "code",
   "execution_count": 971,
   "metadata": {
    "collapsed": false
   },
   "outputs": [
    {
     "name": "stdout",
     "output_type": "stream",
     "text": [
      "0.716626544188\n"
     ]
    },
    {
     "ename": "ValueError",
     "evalue": "Can't handle mix of binary and continuous-multioutput",
     "output_type": "error",
     "traceback": [
      "\u001b[0;31m---------------------------------------------------------------------------\u001b[0m",
      "\u001b[0;31mValueError\u001b[0m                                Traceback (most recent call last)",
      "\u001b[0;32m<ipython-input-971-5d0dde6d4238>\u001b[0m in \u001b[0;36m<module>\u001b[0;34m()\u001b[0m\n\u001b[1;32m      2\u001b[0m \u001b[0mfpr\u001b[0m\u001b[0;34m,\u001b[0m \u001b[0mtpr\u001b[0m\u001b[0;34m,\u001b[0m \u001b[0mthresholds\u001b[0m \u001b[0;34m=\u001b[0m \u001b[0mroc_curve\u001b[0m\u001b[0;34m(\u001b[0m\u001b[0my_test\u001b[0m\u001b[0;34m,\u001b[0m \u001b[0mpredictions\u001b[0m\u001b[0;34m[\u001b[0m\u001b[0;34m:\u001b[0m\u001b[0;34m,\u001b[0m\u001b[0;36m1\u001b[0m\u001b[0;34m]\u001b[0m\u001b[0;34m)\u001b[0m\u001b[0;34m\u001b[0m\u001b[0m\n\u001b[1;32m      3\u001b[0m \u001b[0;32mprint\u001b[0m \u001b[0mauc\u001b[0m\u001b[0;34m(\u001b[0m\u001b[0mfpr\u001b[0m\u001b[0;34m,\u001b[0m \u001b[0mtpr\u001b[0m\u001b[0;34m)\u001b[0m\u001b[0;34m\u001b[0m\u001b[0m\n\u001b[0;32m----> 4\u001b[0;31m \u001b[0maccuracy_score\u001b[0m\u001b[0;34m(\u001b[0m\u001b[0my_test\u001b[0m\u001b[0;34m,\u001b[0m \u001b[0mpredictions\u001b[0m\u001b[0;34m)\u001b[0m\u001b[0;34m\u001b[0m\u001b[0m\n\u001b[0m",
      "\u001b[0;32m/Users/stef/anaconda2/lib/python2.7/site-packages/sklearn/metrics/classification.pyc\u001b[0m in \u001b[0;36maccuracy_score\u001b[0;34m(y_true, y_pred, normalize, sample_weight)\u001b[0m\n\u001b[1;32m    170\u001b[0m \u001b[0;34m\u001b[0m\u001b[0m\n\u001b[1;32m    171\u001b[0m     \u001b[0;31m# Compute accuracy for each possible representation\u001b[0m\u001b[0;34m\u001b[0m\u001b[0;34m\u001b[0m\u001b[0m\n\u001b[0;32m--> 172\u001b[0;31m     \u001b[0my_type\u001b[0m\u001b[0;34m,\u001b[0m \u001b[0my_true\u001b[0m\u001b[0;34m,\u001b[0m \u001b[0my_pred\u001b[0m \u001b[0;34m=\u001b[0m \u001b[0m_check_targets\u001b[0m\u001b[0;34m(\u001b[0m\u001b[0my_true\u001b[0m\u001b[0;34m,\u001b[0m \u001b[0my_pred\u001b[0m\u001b[0;34m)\u001b[0m\u001b[0;34m\u001b[0m\u001b[0m\n\u001b[0m\u001b[1;32m    173\u001b[0m     \u001b[0;32mif\u001b[0m \u001b[0my_type\u001b[0m\u001b[0;34m.\u001b[0m\u001b[0mstartswith\u001b[0m\u001b[0;34m(\u001b[0m\u001b[0;34m'multilabel'\u001b[0m\u001b[0;34m)\u001b[0m\u001b[0;34m:\u001b[0m\u001b[0;34m\u001b[0m\u001b[0m\n\u001b[1;32m    174\u001b[0m         \u001b[0mdiffering_labels\u001b[0m \u001b[0;34m=\u001b[0m \u001b[0mcount_nonzero\u001b[0m\u001b[0;34m(\u001b[0m\u001b[0my_true\u001b[0m \u001b[0;34m-\u001b[0m \u001b[0my_pred\u001b[0m\u001b[0;34m,\u001b[0m \u001b[0maxis\u001b[0m\u001b[0;34m=\u001b[0m\u001b[0;36m1\u001b[0m\u001b[0;34m)\u001b[0m\u001b[0;34m\u001b[0m\u001b[0m\n",
      "\u001b[0;32m/Users/stef/anaconda2/lib/python2.7/site-packages/sklearn/metrics/classification.pyc\u001b[0m in \u001b[0;36m_check_targets\u001b[0;34m(y_true, y_pred)\u001b[0m\n\u001b[1;32m     80\u001b[0m     \u001b[0;32mif\u001b[0m \u001b[0mlen\u001b[0m\u001b[0;34m(\u001b[0m\u001b[0my_type\u001b[0m\u001b[0;34m)\u001b[0m \u001b[0;34m>\u001b[0m \u001b[0;36m1\u001b[0m\u001b[0;34m:\u001b[0m\u001b[0;34m\u001b[0m\u001b[0m\n\u001b[1;32m     81\u001b[0m         raise ValueError(\"Can't handle mix of {0} and {1}\"\n\u001b[0;32m---> 82\u001b[0;31m                          \"\".format(type_true, type_pred))\n\u001b[0m\u001b[1;32m     83\u001b[0m \u001b[0;34m\u001b[0m\u001b[0m\n\u001b[1;32m     84\u001b[0m     \u001b[0;31m# We can't have more than one value on y_type => The set is no more needed\u001b[0m\u001b[0;34m\u001b[0m\u001b[0;34m\u001b[0m\u001b[0m\n",
      "\u001b[0;31mValueError\u001b[0m: Can't handle mix of binary and continuous-multioutput"
     ]
    }
   ],
   "source": [
    "#GBC\n",
    "fpr, tpr, thresholds = roc_curve(y_test, predictions[:,1])\n",
    "print auc(fpr, tpr)\n",
    "accuracy_score(y_test, predictions)"
   ]
  },
  {
   "cell_type": "code",
   "execution_count": 947,
   "metadata": {
    "collapsed": false
   },
   "outputs": [
    {
     "data": {
      "text/plain": [
       "0.19156055380727771"
      ]
     },
     "execution_count": 947,
     "metadata": {},
     "output_type": "execute_result"
    }
   ],
   "source": [
    "neighbor = knn(n_neighbors=1000, p=2, metric='minkowski')\n",
    "neighbor.fit(X_train, y_train)\n",
    "knn_predict = neighbor.predict_proba(X_test)\n",
    "log_loss(y_test, knn_predict)"
   ]
  },
  {
   "cell_type": "code",
   "execution_count": 948,
   "metadata": {
    "collapsed": false
   },
   "outputs": [
    {
     "data": {
      "text/plain": [
       "(array([ 0.59713107,  0.55606957,  0.68337816,  0.7326161 ,  0.542227  ,\n",
       "         0.61545634,  0.67569659,  0.62030075,  0.60791685,  0.64392599]),\n",
       " array([ 0.63496503,  0.72270038,  0.68402367,  0.77342657,  0.57394657,\n",
       "         0.66989421,  0.69841884,  0.67245319,  0.65990344,  0.75128999]),\n",
       " array([ 0.67077282,  0.62538999,  0.72969338,  0.75006276,  0.59453111,\n",
       "         0.64055944,  0.69900855,  0.66626124,  0.66707209,  0.72541648]))"
      ]
     },
     "execution_count": 948,
     "metadata": {},
     "output_type": "execute_result"
    }
   ],
   "source": [
    "LR_cvscores = cross_val_score(estimator=model, X=X_train, y=y_train, cv=10, scoring='roc_auc')\n",
    "RF_cvscores = cross_val_score(estimator=model2, X=X_train, y=y_train, cv=10, scoring='roc_auc')\n",
    "GBC_cvscores = cross_val_score(estimator=model3, X=X_train, y=y_train, cv=10, scoring='roc_auc')\n",
    "LR_cvscores, RF_cvscores, GBC_cvscores"
   ]
  },
  {
   "cell_type": "code",
   "execution_count": 949,
   "metadata": {
    "collapsed": false
   },
   "outputs": [
    {
     "data": {
      "text/plain": [
       "(0.62747184386622334, 0.684102188594925, 0.67687678698216913)"
      ]
     },
     "execution_count": 949,
     "metadata": {},
     "output_type": "execute_result"
    }
   ],
   "source": [
    "LR_cvscores.mean(), RF_cvscores.mean(), GBC_cvscores.mean()"
   ]
  },
  {
   "cell_type": "code",
   "execution_count": null,
   "metadata": {
    "collapsed": false
   },
   "outputs": [],
   "source": []
  },
  {
   "cell_type": "code",
   "execution_count": 957,
   "metadata": {
    "collapsed": false
   },
   "outputs": [
    {
     "name": "stdout",
     "output_type": "stream",
     "text": [
      "10-fold cross validation:\n",
      "ROC AUC: 0.63 (+/- 0.05) [Logistic Regression]\n",
      "ROC AUC: 0.68 (+/- 0.05) [Random Forest]\n",
      "ROC AUC: 0.68 (+/- 0.05) [Gradient Boost]\n"
     ]
    }
   ],
   "source": [
    "clf1 = LR(C=10, random_state=0)\n",
    "clf2 = RFC(n_estimators=500, criterion='entropy', random_state=1, n_jobs=2)\n",
    "clf3 = GBC()\n",
    "pipe1 = Pipeline([['sc', StandardScaler()], ['clf', clf1]])\n",
    "pipe3 = Pipeline([['sc', StandardScaler()], ['clf', clf3]])\n",
    "clf_labels = ['Logistic Regression', 'Random Forest', 'Gradient Boost']\n",
    "print '10-fold cross validation:'\n",
    "for clf, label in zip([pipe1, clf2, pipe3], clf_labels):\n",
    "    scores = cross_val_score(estimator=clf, X=X_train, y=y_train, cv=10, scoring='roc_auc')\n",
    "    print 'ROC AUC: %0.2f (+/- %0.2f) [%s]' % (scores.mean(), scores.std(), label)"
   ]
  },
  {
   "cell_type": "code",
   "execution_count": 955,
   "metadata": {
    "collapsed": false
   },
   "outputs": [],
   "source": [
    "# lst = ['r', 'b']\n",
    "# new = ['r' if each == 1 else 'b' for each in y_test]\n",
    "# plt.scatter(X_test['age'], y_test, c=new)"
   ]
  },
  {
   "cell_type": "code",
   "execution_count": 866,
   "metadata": {
    "collapsed": false
   },
   "outputs": [
    {
     "name": "stdout",
     "output_type": "stream",
     "text": [
      "0.199248924202\n",
      "0.557000588285\n"
     ]
    }
   ],
   "source": [
    "param_grid = {'C': [0.001, 0.01, 0.1, 1, 10, 100, 1000] }\n",
    "LR_GS = GridSearchCV(model, param_grid=param_grid)\n",
    "LR_GS.fit(X_train, y_train)\n",
    "LR_GS_pred = LR_GS.predict_proba(X_test)\n",
    "print log_loss(y_test, LR_GS_pred)\n",
    "fpr, tpr, thresholds = roc_curve(y_test, LR_GS_pred[:,1], pos_label=1)\n",
    "print auc(fpr, tpr)"
   ]
  },
  {
   "cell_type": "code",
   "execution_count": 861,
   "metadata": {
    "collapsed": false
   },
   "outputs": [
    {
     "name": "stdout",
     "output_type": "stream",
     "text": [
      "0.332532940743\n",
      "0.713905530277\n"
     ]
    }
   ],
   "source": [
    "param_grid = {\"max_depth\": [3, None],\n",
    "              \"max_features\": [1, 4, 8],\n",
    "              \"min_samples_split\": [1, 4, 8],\n",
    "              \"min_samples_leaf\": [1, 4, 8],\n",
    "              \"bootstrap\": [True, False],\n",
    "              \"criterion\": [\"gini\", \"entropy\"]}\n",
    "RF_GS = GridSearchCV(model2, param_grid=param_grid)\n",
    "RF_GS.fit(X_train, y_train)\n",
    "RF_GS_pred = RF_GS.predict_proba(X_test)\n",
    "print log_loss(y_test, RF_GS_pred)\n",
    "fpr, tpr, thresholds = roc_curve(y_test, RF_GS_pred[:,1])\n",
    "print auc(fpr, tpr)"
   ]
  },
  {
   "cell_type": "code",
   "execution_count": 867,
   "metadata": {
    "collapsed": false
   },
   "outputs": [
    {
     "name": "stdout",
     "output_type": "stream",
     "text": [
      "0.212166156317\n",
      "0.658629776812\n"
     ]
    }
   ],
   "source": [
    "param_grid = {'n_estimators':[100, 500, 1000],\n",
    "              'max_depth':[1,4,8], 'min_samples_split':[1,4,8], \"max_features\": [1, 4, 8],\n",
    "             'subsample':[0.6,0.7,0.75,0.8,0.85,0.9]}\n",
    "GBC_GS = GridSearchCV(model3, param_grid=param_grid)\n",
    "GBC_GS.fit(X_train, y_train)\n",
    "GBC_GS_pred = GBC_GS.predict_proba(X_test)\n",
    "print log_loss(y_test, GBC_GS_pred)\n",
    "fpr, tpr, thresholds = roc_curve(y_test, GBC_GS_pred[:,1])\n",
    "print auc(fpr, tpr)"
   ]
  },
  {
   "cell_type": "code",
   "execution_count": 872,
   "metadata": {
    "collapsed": false
   },
   "outputs": [],
   "source": [
    "fpr, tpr, thresholds = roc_curve(y_test, RF_GS_pred[:,1])"
   ]
  },
  {
   "cell_type": "code",
   "execution_count": 904,
   "metadata": {
    "collapsed": false
   },
   "outputs": [
    {
     "data": {
      "text/plain": [
       "array([[  9.74516667e-01,   2.54833333e-02],\n",
       "       [  9.67238095e-01,   3.27619048e-02],\n",
       "       [  9.98000000e-01,   2.00000000e-03],\n",
       "       ..., \n",
       "       [  9.78900000e-01,   2.11000000e-02],\n",
       "       [  9.99500000e-01,   5.00000000e-04],\n",
       "       [  9.94857143e-01,   5.14285714e-03]])"
      ]
     },
     "execution_count": 904,
     "metadata": {},
     "output_type": "execute_result"
    }
   ],
   "source": [
    "RF_GS_pred"
   ]
  },
  {
   "cell_type": "code",
   "execution_count": 1007,
   "metadata": {
    "collapsed": false
   },
   "outputs": [],
   "source": [
    "def modelfit(alg, X_train, y_train, X_test, y_test, performCV=True, printFeatureImportance=True, cv_folds=5):\n",
    "    #Fit the algorithm on the data\n",
    "    alg.fit(X_train, y_train)\n",
    "        \n",
    "    #Predict training set:\n",
    "    dtrain_predictions = alg.predict(X_test)\n",
    "    dtrain_predprob = alg.predict_proba(X_test)[:,1]\n",
    "    \n",
    "    #Perform cross-validation:\n",
    "    if performCV:\n",
    "        cv_score = cross_val_score(alg, X_train, y_train, cv=cv_folds, scoring='roc_auc')\n",
    "    \n",
    "    #Print model report:\n",
    "    print \"\\nModel Report\"\n",
    "    print \"Accuracy : %.4g\" % accuracy_score(y_test, dtrain_predictions)\n",
    "    print \"AUC Score (Train): %f\" % roc_auc_score(y_test, dtrain_predprob)\n",
    "    \n",
    "    if performCV:\n",
    "        print \"CV Score : Mean - %.7g | Std - %.7g | Min - %.7g | Max - %.7g\" % (np.mean(cv_score),np.std(cv_score),np.min(cv_score),np.max(cv_score))\n",
    "        \n",
    "    #Print Feature Importance:\n",
    "    if printFeatureImportance:\n",
    "        feat_imp = pd.Series(alg.feature_importances_).sort_values(ascending=False)\n",
    "        feat_imp.plot(kind='bar', title='Feature Importances')\n",
    "        plt.ylabel('Feature Importance Score')"
   ]
  },
  {
   "cell_type": "code",
   "execution_count": 1008,
   "metadata": {
    "collapsed": false
   },
   "outputs": [
    {
     "name": "stdout",
     "output_type": "stream",
     "text": [
      "\n",
      "Model Report\n",
      "Accuracy : 0.9523\n",
      "AUC Score (Train): 0.712755\n",
      "CV Score : Mean - 0.6775739 | Std - 0.0409849 | Min - 0.6148746 | Max - 0.7440904\n"
     ]
    },
    {
     "ename": "TypeError",
     "evalue": "'DataFrame' object is not callable",
     "output_type": "error",
     "traceback": [
      "\u001b[0;31m---------------------------------------------------------------------------\u001b[0m",
      "\u001b[0;31mTypeError\u001b[0m                                 Traceback (most recent call last)",
      "\u001b[0;32m<ipython-input-1008-8c6938ef0efc>\u001b[0m in \u001b[0;36m<module>\u001b[0;34m()\u001b[0m\n\u001b[1;32m      1\u001b[0m \u001b[0mmodels\u001b[0m \u001b[0;34m=\u001b[0m \u001b[0;34m[\u001b[0m\u001b[0mmodel2\u001b[0m\u001b[0;34m,\u001b[0m \u001b[0mmodel3\u001b[0m\u001b[0;34m]\u001b[0m\u001b[0;34m\u001b[0m\u001b[0m\n\u001b[1;32m      2\u001b[0m \u001b[0;32mfor\u001b[0m \u001b[0mmodel\u001b[0m \u001b[0;32min\u001b[0m \u001b[0mmodels\u001b[0m\u001b[0;34m:\u001b[0m\u001b[0;34m\u001b[0m\u001b[0m\n\u001b[0;32m----> 3\u001b[0;31m     \u001b[0mmodelfit\u001b[0m\u001b[0;34m(\u001b[0m\u001b[0mmodel\u001b[0m\u001b[0;34m,\u001b[0m \u001b[0mX_train\u001b[0m\u001b[0;34m,\u001b[0m \u001b[0my_train\u001b[0m\u001b[0;34m,\u001b[0m \u001b[0mX_test\u001b[0m\u001b[0;34m,\u001b[0m \u001b[0my_test\u001b[0m\u001b[0;34m)\u001b[0m\u001b[0;34m\u001b[0m\u001b[0m\n\u001b[0m",
      "\u001b[0;32m<ipython-input-1007-56d0e838a8fd>\u001b[0m in \u001b[0;36mmodelfit\u001b[0;34m(alg, X_train, y_train, X_test, y_test, performCV, printFeatureImportance, cv_folds)\u001b[0m\n\u001b[1;32m     21\u001b[0m     \u001b[0;31m#Print Feature Importance:\u001b[0m\u001b[0;34m\u001b[0m\u001b[0;34m\u001b[0m\u001b[0m\n\u001b[1;32m     22\u001b[0m     \u001b[0;32mif\u001b[0m \u001b[0mprintFeatureImportance\u001b[0m\u001b[0;34m:\u001b[0m\u001b[0;34m\u001b[0m\u001b[0m\n\u001b[0;32m---> 23\u001b[0;31m         \u001b[0mfeat_imp\u001b[0m \u001b[0;34m=\u001b[0m \u001b[0mpd\u001b[0m\u001b[0;34m.\u001b[0m\u001b[0mSeries\u001b[0m\u001b[0;34m(\u001b[0m\u001b[0malg\u001b[0m\u001b[0;34m.\u001b[0m\u001b[0mfeature_importances_\u001b[0m\u001b[0;34m,\u001b[0m \u001b[0mfe4\u001b[0m\u001b[0;34m(\u001b[0m\u001b[0maxis\u001b[0m\u001b[0;34m=\u001b[0m\u001b[0;36m0\u001b[0m\u001b[0;34m)\u001b[0m\u001b[0;34m)\u001b[0m\u001b[0;34m.\u001b[0m\u001b[0msort_values\u001b[0m\u001b[0;34m(\u001b[0m\u001b[0mascending\u001b[0m\u001b[0;34m=\u001b[0m\u001b[0mFalse\u001b[0m\u001b[0;34m)\u001b[0m\u001b[0;34m\u001b[0m\u001b[0m\n\u001b[0m\u001b[1;32m     24\u001b[0m         \u001b[0mfeat_imp\u001b[0m\u001b[0;34m.\u001b[0m\u001b[0mplot\u001b[0m\u001b[0;34m(\u001b[0m\u001b[0mkind\u001b[0m\u001b[0;34m=\u001b[0m\u001b[0;34m'bar'\u001b[0m\u001b[0;34m,\u001b[0m \u001b[0mtitle\u001b[0m\u001b[0;34m=\u001b[0m\u001b[0;34m'Feature Importances'\u001b[0m\u001b[0;34m)\u001b[0m\u001b[0;34m\u001b[0m\u001b[0m\n\u001b[1;32m     25\u001b[0m         \u001b[0mplt\u001b[0m\u001b[0;34m.\u001b[0m\u001b[0mylabel\u001b[0m\u001b[0;34m(\u001b[0m\u001b[0;34m'Feature Importance Score'\u001b[0m\u001b[0;34m)\u001b[0m\u001b[0;34m\u001b[0m\u001b[0m\n",
      "\u001b[0;31mTypeError\u001b[0m: 'DataFrame' object is not callable"
     ]
    }
   ],
   "source": [
    "models = [model2, model3]\n",
    "for model in models:\n",
    "    modelfit(model, X_train, y_train, X_test, y_test)"
   ]
  },
  {
   "cell_type": "code",
   "execution_count": null,
   "metadata": {
    "collapsed": false
   },
   "outputs": [],
   "source": []
  },
  {
   "cell_type": "code",
   "execution_count": null,
   "metadata": {
    "collapsed": true
   },
   "outputs": [],
   "source": []
  }
 ],
 "metadata": {
  "kernelspec": {
   "display_name": "Python 2",
   "language": "python",
   "name": "python2"
  },
  "language_info": {
   "codemirror_mode": {
    "name": "ipython",
    "version": 2
   },
   "file_extension": ".py",
   "mimetype": "text/x-python",
   "name": "python",
   "nbconvert_exporter": "python",
   "pygments_lexer": "ipython2",
   "version": "2.7.12"
  }
 },
 "nbformat": 4,
 "nbformat_minor": 0
}
