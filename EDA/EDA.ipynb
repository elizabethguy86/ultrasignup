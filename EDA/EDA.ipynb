{
 "cells": [
  {
   "cell_type": "code",
   "execution_count": 98,
   "metadata": {
    "collapsed": false
   },
   "outputs": [],
   "source": [
    "import pandas as pd\n",
    "import matplotlib.pyplot as plt\n",
    "from sklearn.linear_model import LogisticRegression as LR\n",
    "from sklearn.ensemble import RandomForestClassifier as RFC\n",
    "from sklearn.ensemble import GradientBoostingClassifier as GBC\n",
    "from sklearn.cross_validation import train_test_split\n",
    "from sklearn.metrics import log_loss\n",
    "%matplotlib inline"
   ]
  },
  {
   "cell_type": "code",
   "execution_count": 115,
   "metadata": {
    "collapsed": true
   },
   "outputs": [],
   "source": [
    "data = pd.read_csv('../ult_sign_scrape/race_master/master_database.csv')\n",
    "fe2 = pd.read_csv('../ult_sign_scrape/race_master/master_database_fe2.csv')"
   ]
  },
  {
   "cell_type": "code",
   "execution_count": 119,
   "metadata": {
    "collapsed": false
   },
   "outputs": [
    {
     "data": {
      "text/html": [
       "<div>\n",
       "<table border=\"1\" class=\"dataframe\">\n",
       "  <thead>\n",
       "    <tr style=\"text-align: right;\">\n",
       "      <th></th>\n",
       "      <th>Unnamed: 0</th>\n",
       "      <th>Unnamed: 0.1</th>\n",
       "      <th>Unnamed: 0.1</th>\n",
       "      <th>age</th>\n",
       "      <th>age_rank</th>\n",
       "      <th>city</th>\n",
       "      <th>gender</th>\n",
       "      <th>participant_id</th>\n",
       "      <th>runner_rank</th>\n",
       "      <th>state</th>\n",
       "      <th>status</th>\n",
       "      <th>time</th>\n",
       "      <th>Age_Rank</th>\n",
       "      <th>Gender_Rank</th>\n",
       "      <th>Total_races</th>\n",
       "    </tr>\n",
       "  </thead>\n",
       "  <tbody>\n",
       "    <tr>\n",
       "      <th>0</th>\n",
       "      <td>0</td>\n",
       "      <td>0</td>\n",
       "      <td>0</td>\n",
       "      <td>26</td>\n",
       "      <td>NaN</td>\n",
       "      <td>NaN</td>\n",
       "      <td>M</td>\n",
       "      <td>7148</td>\n",
       "      <td>88.39</td>\n",
       "      <td>NaN</td>\n",
       "      <td>1</td>\n",
       "      <td>NaN</td>\n",
       "      <td>0.7174</td>\n",
       "      <td>0.6806</td>\n",
       "      <td>23.0</td>\n",
       "    </tr>\n",
       "    <tr>\n",
       "      <th>1</th>\n",
       "      <td>1</td>\n",
       "      <td>1</td>\n",
       "      <td>1</td>\n",
       "      <td>33</td>\n",
       "      <td>NaN</td>\n",
       "      <td>NaN</td>\n",
       "      <td>M</td>\n",
       "      <td>221721</td>\n",
       "      <td>90.00</td>\n",
       "      <td>NaN</td>\n",
       "      <td>1</td>\n",
       "      <td>NaN</td>\n",
       "      <td>0.8132</td>\n",
       "      <td>0.6987</td>\n",
       "      <td>9.0</td>\n",
       "    </tr>\n",
       "    <tr>\n",
       "      <th>2</th>\n",
       "      <td>2</td>\n",
       "      <td>2</td>\n",
       "      <td>2</td>\n",
       "      <td>43</td>\n",
       "      <td>NaN</td>\n",
       "      <td>NaN</td>\n",
       "      <td>M</td>\n",
       "      <td>20020</td>\n",
       "      <td>83.63</td>\n",
       "      <td>NaN</td>\n",
       "      <td>1</td>\n",
       "      <td>NaN</td>\n",
       "      <td>0.8272</td>\n",
       "      <td>0.7145</td>\n",
       "      <td>17.0</td>\n",
       "    </tr>\n",
       "    <tr>\n",
       "      <th>3</th>\n",
       "      <td>3</td>\n",
       "      <td>3</td>\n",
       "      <td>3</td>\n",
       "      <td>36</td>\n",
       "      <td>NaN</td>\n",
       "      <td>NaN</td>\n",
       "      <td>M</td>\n",
       "      <td>25441</td>\n",
       "      <td>73.22</td>\n",
       "      <td>NaN</td>\n",
       "      <td>1</td>\n",
       "      <td>NaN</td>\n",
       "      <td>0.8995</td>\n",
       "      <td>0.8957</td>\n",
       "      <td>17.0</td>\n",
       "    </tr>\n",
       "    <tr>\n",
       "      <th>4</th>\n",
       "      <td>4</td>\n",
       "      <td>4</td>\n",
       "      <td>4</td>\n",
       "      <td>33</td>\n",
       "      <td>NaN</td>\n",
       "      <td>NaN</td>\n",
       "      <td>M</td>\n",
       "      <td>22562</td>\n",
       "      <td>87.77</td>\n",
       "      <td>NaN</td>\n",
       "      <td>1</td>\n",
       "      <td>NaN</td>\n",
       "      <td>0.6807</td>\n",
       "      <td>0.6522</td>\n",
       "      <td>8.0</td>\n",
       "    </tr>\n",
       "  </tbody>\n",
       "</table>\n",
       "</div>"
      ],
      "text/plain": [
       "   Unnamed: 0  Unnamed: 0.1  Unnamed: 0.1  age  age_rank city gender  \\\n",
       "0           0             0             0   26       NaN  NaN      M   \n",
       "1           1             1             1   33       NaN  NaN      M   \n",
       "2           2             2             2   43       NaN  NaN      M   \n",
       "3           3             3             3   36       NaN  NaN      M   \n",
       "4           4             4             4   33       NaN  NaN      M   \n",
       "\n",
       "   participant_id  runner_rank state  status  time  Age_Rank  Gender_Rank  \\\n",
       "0            7148        88.39   NaN       1   NaN    0.7174       0.6806   \n",
       "1          221721        90.00   NaN       1   NaN    0.8132       0.6987   \n",
       "2           20020        83.63   NaN       1   NaN    0.8272       0.7145   \n",
       "3           25441        73.22   NaN       1   NaN    0.8995       0.8957   \n",
       "4           22562        87.77   NaN       1   NaN    0.6807       0.6522   \n",
       "\n",
       "   Total_races  \n",
       "0         23.0  \n",
       "1          9.0  \n",
       "2         17.0  \n",
       "3         17.0  \n",
       "4          8.0  "
      ]
     },
     "execution_count": 119,
     "metadata": {},
     "output_type": "execute_result"
    }
   ],
   "source": [
    "clean = data.drop(['Unnamed: 0', 'Unnamed: 0.1'], axis=1)\n",
    "fe2_clean = fe2.drop(['Unnamed: 0', 'Unnamed: 0.1'], axis=1)\n",
    "fe2.head()"
   ]
  },
  {
   "cell_type": "code",
   "execution_count": 114,
   "metadata": {
    "collapsed": false
   },
   "outputs": [
    {
     "data": {
      "text/plain": [
       "1    5579\n",
       "2    3526\n",
       "3     469\n",
       "Name: status, dtype: int64"
      ]
     },
     "execution_count": 114,
     "metadata": {},
     "output_type": "execute_result"
    }
   ],
   "source": [
    "clean.status.value_counts()"
   ]
  },
  {
   "cell_type": "code",
   "execution_count": 102,
   "metadata": {
    "collapsed": false
   },
   "outputs": [
    {
     "data": {
      "text/html": [
       "<div>\n",
       "<table border=\"1\" class=\"dataframe\">\n",
       "  <thead>\n",
       "    <tr style=\"text-align: right;\">\n",
       "      <th></th>\n",
       "      <th>age</th>\n",
       "      <th>participant_id</th>\n",
       "      <th>runner_rank</th>\n",
       "      <th>status</th>\n",
       "      <th>Age_Rank</th>\n",
       "      <th>Gender_Rank</th>\n",
       "      <th>Total_races</th>\n",
       "    </tr>\n",
       "  </thead>\n",
       "  <tbody>\n",
       "    <tr>\n",
       "      <th>count</th>\n",
       "      <td>9574.000000</td>\n",
       "      <td>9.574000e+03</td>\n",
       "      <td>9574.000000</td>\n",
       "      <td>9574.000000</td>\n",
       "      <td>9574.000000</td>\n",
       "      <td>9574.000000</td>\n",
       "      <td>9574.000000</td>\n",
       "    </tr>\n",
       "    <tr>\n",
       "      <th>mean</th>\n",
       "      <td>42.769375</td>\n",
       "      <td>2.786174e+05</td>\n",
       "      <td>69.932166</td>\n",
       "      <td>1.466263</td>\n",
       "      <td>0.728514</td>\n",
       "      <td>0.665302</td>\n",
       "      <td>11.602883</td>\n",
       "    </tr>\n",
       "    <tr>\n",
       "      <th>std</th>\n",
       "      <td>9.827515</td>\n",
       "      <td>2.952671e+05</td>\n",
       "      <td>12.998598</td>\n",
       "      <td>0.588958</td>\n",
       "      <td>0.207281</td>\n",
       "      <td>0.174149</td>\n",
       "      <td>19.769396</td>\n",
       "    </tr>\n",
       "    <tr>\n",
       "      <th>min</th>\n",
       "      <td>0.000000</td>\n",
       "      <td>4.890000e+02</td>\n",
       "      <td>0.000000</td>\n",
       "      <td>1.000000</td>\n",
       "      <td>0.000000</td>\n",
       "      <td>0.000000</td>\n",
       "      <td>1.000000</td>\n",
       "    </tr>\n",
       "    <tr>\n",
       "      <th>25%</th>\n",
       "      <td>35.000000</td>\n",
       "      <td>2.421525e+04</td>\n",
       "      <td>63.010000</td>\n",
       "      <td>1.000000</td>\n",
       "      <td>0.672900</td>\n",
       "      <td>0.600425</td>\n",
       "      <td>1.000000</td>\n",
       "    </tr>\n",
       "    <tr>\n",
       "      <th>50%</th>\n",
       "      <td>42.000000</td>\n",
       "      <td>1.849000e+05</td>\n",
       "      <td>69.840000</td>\n",
       "      <td>1.000000</td>\n",
       "      <td>0.761450</td>\n",
       "      <td>0.678550</td>\n",
       "      <td>2.000000</td>\n",
       "    </tr>\n",
       "    <tr>\n",
       "      <th>75%</th>\n",
       "      <td>49.000000</td>\n",
       "      <td>4.457022e+05</td>\n",
       "      <td>77.460000</td>\n",
       "      <td>2.000000</td>\n",
       "      <td>0.848900</td>\n",
       "      <td>0.764200</td>\n",
       "      <td>15.000000</td>\n",
       "    </tr>\n",
       "    <tr>\n",
       "      <th>max</th>\n",
       "      <td>79.000000</td>\n",
       "      <td>1.180368e+06</td>\n",
       "      <td>100.000000</td>\n",
       "      <td>3.000000</td>\n",
       "      <td>1.000000</td>\n",
       "      <td>1.000000</td>\n",
       "      <td>247.000000</td>\n",
       "    </tr>\n",
       "  </tbody>\n",
       "</table>\n",
       "</div>"
      ],
      "text/plain": [
       "               age  participant_id  runner_rank       status     Age_Rank  \\\n",
       "count  9574.000000    9.574000e+03  9574.000000  9574.000000  9574.000000   \n",
       "mean     42.769375    2.786174e+05    69.932166     1.466263     0.728514   \n",
       "std       9.827515    2.952671e+05    12.998598     0.588958     0.207281   \n",
       "min       0.000000    4.890000e+02     0.000000     1.000000     0.000000   \n",
       "25%      35.000000    2.421525e+04    63.010000     1.000000     0.672900   \n",
       "50%      42.000000    1.849000e+05    69.840000     1.000000     0.761450   \n",
       "75%      49.000000    4.457022e+05    77.460000     2.000000     0.848900   \n",
       "max      79.000000    1.180368e+06   100.000000     3.000000     1.000000   \n",
       "\n",
       "       Gender_Rank  Total_races  \n",
       "count  9574.000000  9574.000000  \n",
       "mean      0.665302    11.602883  \n",
       "std       0.174149    19.769396  \n",
       "min       0.000000     1.000000  \n",
       "25%       0.600425     1.000000  \n",
       "50%       0.678550     2.000000  \n",
       "75%       0.764200    15.000000  \n",
       "max       1.000000   247.000000  "
      ]
     },
     "execution_count": 102,
     "metadata": {},
     "output_type": "execute_result"
    }
   ],
   "source": [
    "clean.describe()"
   ]
  },
  {
   "cell_type": "markdown",
   "metadata": {},
   "source": [
    "Interesting observation - Very little spread between 25-75% in age of entrants (35-49). Max is 79 and min is ~12 (some cleaning of 0/1 ages may be necessary). 39-44 is the most common ages with nearly 400 in each category. Mid-life crisis???\n"
   ]
  },
  {
   "cell_type": "code",
   "execution_count": 103,
   "metadata": {
    "collapsed": false
   },
   "outputs": [
    {
     "data": {
      "text/html": [
       "<div>\n",
       "<table border=\"1\" class=\"dataframe\">\n",
       "  <thead>\n",
       "    <tr style=\"text-align: right;\">\n",
       "      <th></th>\n",
       "      <th>age</th>\n",
       "      <th>participant_id</th>\n",
       "      <th>runner_rank</th>\n",
       "      <th>status</th>\n",
       "      <th>Age_Rank</th>\n",
       "      <th>Gender_Rank</th>\n",
       "      <th>Total_races</th>\n",
       "    </tr>\n",
       "  </thead>\n",
       "  <tbody>\n",
       "    <tr>\n",
       "      <th>age</th>\n",
       "      <td>1.000000</td>\n",
       "      <td>-0.279364</td>\n",
       "      <td>-0.217579</td>\n",
       "      <td>0.070143</td>\n",
       "      <td>-0.013940</td>\n",
       "      <td>-0.009565</td>\n",
       "      <td>-0.004130</td>\n",
       "    </tr>\n",
       "    <tr>\n",
       "      <th>participant_id</th>\n",
       "      <td>-0.279364</td>\n",
       "      <td>1.000000</td>\n",
       "      <td>-0.188576</td>\n",
       "      <td>-0.009449</td>\n",
       "      <td>-0.016588</td>\n",
       "      <td>-0.022745</td>\n",
       "      <td>-0.001725</td>\n",
       "    </tr>\n",
       "    <tr>\n",
       "      <th>runner_rank</th>\n",
       "      <td>-0.217579</td>\n",
       "      <td>-0.188576</td>\n",
       "      <td>1.000000</td>\n",
       "      <td>-0.189949</td>\n",
       "      <td>0.018092</td>\n",
       "      <td>0.014470</td>\n",
       "      <td>-0.001125</td>\n",
       "    </tr>\n",
       "    <tr>\n",
       "      <th>status</th>\n",
       "      <td>0.070143</td>\n",
       "      <td>-0.009449</td>\n",
       "      <td>-0.189949</td>\n",
       "      <td>1.000000</td>\n",
       "      <td>0.010826</td>\n",
       "      <td>0.013578</td>\n",
       "      <td>0.007525</td>\n",
       "    </tr>\n",
       "    <tr>\n",
       "      <th>Age_Rank</th>\n",
       "      <td>-0.013940</td>\n",
       "      <td>-0.016588</td>\n",
       "      <td>0.018092</td>\n",
       "      <td>0.010826</td>\n",
       "      <td>1.000000</td>\n",
       "      <td>0.772400</td>\n",
       "      <td>0.180406</td>\n",
       "    </tr>\n",
       "    <tr>\n",
       "      <th>Gender_Rank</th>\n",
       "      <td>-0.009565</td>\n",
       "      <td>-0.022745</td>\n",
       "      <td>0.014470</td>\n",
       "      <td>0.013578</td>\n",
       "      <td>0.772400</td>\n",
       "      <td>1.000000</td>\n",
       "      <td>0.162115</td>\n",
       "    </tr>\n",
       "    <tr>\n",
       "      <th>Total_races</th>\n",
       "      <td>-0.004130</td>\n",
       "      <td>-0.001725</td>\n",
       "      <td>-0.001125</td>\n",
       "      <td>0.007525</td>\n",
       "      <td>0.180406</td>\n",
       "      <td>0.162115</td>\n",
       "      <td>1.000000</td>\n",
       "    </tr>\n",
       "  </tbody>\n",
       "</table>\n",
       "</div>"
      ],
      "text/plain": [
       "                     age  participant_id  runner_rank    status  Age_Rank  \\\n",
       "age             1.000000       -0.279364    -0.217579  0.070143 -0.013940   \n",
       "participant_id -0.279364        1.000000    -0.188576 -0.009449 -0.016588   \n",
       "runner_rank    -0.217579       -0.188576     1.000000 -0.189949  0.018092   \n",
       "status          0.070143       -0.009449    -0.189949  1.000000  0.010826   \n",
       "Age_Rank       -0.013940       -0.016588     0.018092  0.010826  1.000000   \n",
       "Gender_Rank    -0.009565       -0.022745     0.014470  0.013578  0.772400   \n",
       "Total_races    -0.004130       -0.001725    -0.001125  0.007525  0.180406   \n",
       "\n",
       "                Gender_Rank  Total_races  \n",
       "age               -0.009565    -0.004130  \n",
       "participant_id    -0.022745    -0.001725  \n",
       "runner_rank        0.014470    -0.001125  \n",
       "status             0.013578     0.007525  \n",
       "Age_Rank           0.772400     0.180406  \n",
       "Gender_Rank        1.000000     0.162115  \n",
       "Total_races        0.162115     1.000000  "
      ]
     },
     "execution_count": 103,
     "metadata": {},
     "output_type": "execute_result"
    }
   ],
   "source": [
    "clean.corr()"
   ]
  },
  {
   "cell_type": "markdown",
   "metadata": {},
   "source": [
    "Interesting observation - Appears that runner rank and age have the strongest relationships to the status column. Gender rank and age rank are similar in their relationship. Total races appears to have the weakest relationship for these features."
   ]
  },
  {
   "cell_type": "code",
   "execution_count": 104,
   "metadata": {
    "collapsed": false
   },
   "outputs": [
    {
     "data": {
      "text/plain": [
       "0       M\n",
       "1       M\n",
       "2       M\n",
       "3       M\n",
       "4       M\n",
       "5       F\n",
       "6       M\n",
       "7       M\n",
       "8       M\n",
       "9       M\n",
       "10      M\n",
       "11      M\n",
       "12      F\n",
       "13      M\n",
       "14      M\n",
       "15      M\n",
       "16      M\n",
       "17      M\n",
       "18      F\n",
       "19      M\n",
       "20      M\n",
       "21      M\n",
       "22      M\n",
       "23      M\n",
       "24      M\n",
       "25      M\n",
       "26      M\n",
       "27      M\n",
       "28      F\n",
       "29      M\n",
       "       ..\n",
       "9544    M\n",
       "9545    M\n",
       "9546    M\n",
       "9547    M\n",
       "9548    M\n",
       "9549    M\n",
       "9550    M\n",
       "9551    M\n",
       "9552    M\n",
       "9553    F\n",
       "9554    M\n",
       "9555    M\n",
       "9556    M\n",
       "9557    F\n",
       "9558    M\n",
       "9559    M\n",
       "9560    F\n",
       "9561    F\n",
       "9562    M\n",
       "9563    M\n",
       "9564    M\n",
       "9565    M\n",
       "9566    M\n",
       "9567    F\n",
       "9568    M\n",
       "9569    F\n",
       "9570    M\n",
       "9571    F\n",
       "9572    M\n",
       "9573    M\n",
       "Name: gender, dtype: object"
      ]
     },
     "execution_count": 104,
     "metadata": {},
     "output_type": "execute_result"
    }
   ],
   "source": [
    "gender_dummies = pd.get_dummies(clean.gender, prefix='gender')\n",
    "clean = clean.join(gender_dummies)\n",
    "clean.head() \n",
    "clean.pop('gender')"
   ]
  },
  {
   "cell_type": "code",
   "execution_count": 105,
   "metadata": {
    "collapsed": false
   },
   "outputs": [
    {
     "data": {
      "text/html": [
       "<div>\n",
       "<table border=\"1\" class=\"dataframe\">\n",
       "  <thead>\n",
       "    <tr style=\"text-align: right;\">\n",
       "      <th></th>\n",
       "      <th>age</th>\n",
       "      <th>participant_id</th>\n",
       "      <th>runner_rank</th>\n",
       "      <th>status</th>\n",
       "      <th>Age_Rank</th>\n",
       "      <th>Gender_Rank</th>\n",
       "      <th>Total_races</th>\n",
       "      <th>gender_F</th>\n",
       "      <th>gender_M</th>\n",
       "    </tr>\n",
       "  </thead>\n",
       "  <tbody>\n",
       "    <tr>\n",
       "      <th>age</th>\n",
       "      <td>1.000000</td>\n",
       "      <td>-0.279364</td>\n",
       "      <td>-0.217579</td>\n",
       "      <td>0.070143</td>\n",
       "      <td>-0.013940</td>\n",
       "      <td>-0.009565</td>\n",
       "      <td>-0.004130</td>\n",
       "      <td>-0.048496</td>\n",
       "      <td>0.048496</td>\n",
       "    </tr>\n",
       "    <tr>\n",
       "      <th>participant_id</th>\n",
       "      <td>-0.279364</td>\n",
       "      <td>1.000000</td>\n",
       "      <td>-0.188576</td>\n",
       "      <td>-0.009449</td>\n",
       "      <td>-0.016588</td>\n",
       "      <td>-0.022745</td>\n",
       "      <td>-0.001725</td>\n",
       "      <td>-0.027851</td>\n",
       "      <td>0.027851</td>\n",
       "    </tr>\n",
       "    <tr>\n",
       "      <th>runner_rank</th>\n",
       "      <td>-0.217579</td>\n",
       "      <td>-0.188576</td>\n",
       "      <td>1.000000</td>\n",
       "      <td>-0.189949</td>\n",
       "      <td>0.018092</td>\n",
       "      <td>0.014470</td>\n",
       "      <td>-0.001125</td>\n",
       "      <td>0.191374</td>\n",
       "      <td>-0.191374</td>\n",
       "    </tr>\n",
       "    <tr>\n",
       "      <th>status</th>\n",
       "      <td>0.070143</td>\n",
       "      <td>-0.009449</td>\n",
       "      <td>-0.189949</td>\n",
       "      <td>1.000000</td>\n",
       "      <td>0.010826</td>\n",
       "      <td>0.013578</td>\n",
       "      <td>0.007525</td>\n",
       "      <td>-0.002032</td>\n",
       "      <td>0.002032</td>\n",
       "    </tr>\n",
       "    <tr>\n",
       "      <th>Age_Rank</th>\n",
       "      <td>-0.013940</td>\n",
       "      <td>-0.016588</td>\n",
       "      <td>0.018092</td>\n",
       "      <td>0.010826</td>\n",
       "      <td>1.000000</td>\n",
       "      <td>0.772400</td>\n",
       "      <td>0.180406</td>\n",
       "      <td>-0.006912</td>\n",
       "      <td>0.006912</td>\n",
       "    </tr>\n",
       "    <tr>\n",
       "      <th>Gender_Rank</th>\n",
       "      <td>-0.009565</td>\n",
       "      <td>-0.022745</td>\n",
       "      <td>0.014470</td>\n",
       "      <td>0.013578</td>\n",
       "      <td>0.772400</td>\n",
       "      <td>1.000000</td>\n",
       "      <td>0.162115</td>\n",
       "      <td>-0.011807</td>\n",
       "      <td>0.011807</td>\n",
       "    </tr>\n",
       "    <tr>\n",
       "      <th>Total_races</th>\n",
       "      <td>-0.004130</td>\n",
       "      <td>-0.001725</td>\n",
       "      <td>-0.001125</td>\n",
       "      <td>0.007525</td>\n",
       "      <td>0.180406</td>\n",
       "      <td>0.162115</td>\n",
       "      <td>1.000000</td>\n",
       "      <td>0.007073</td>\n",
       "      <td>-0.007073</td>\n",
       "    </tr>\n",
       "    <tr>\n",
       "      <th>gender_F</th>\n",
       "      <td>-0.048496</td>\n",
       "      <td>-0.027851</td>\n",
       "      <td>0.191374</td>\n",
       "      <td>-0.002032</td>\n",
       "      <td>-0.006912</td>\n",
       "      <td>-0.011807</td>\n",
       "      <td>0.007073</td>\n",
       "      <td>1.000000</td>\n",
       "      <td>-1.000000</td>\n",
       "    </tr>\n",
       "    <tr>\n",
       "      <th>gender_M</th>\n",
       "      <td>0.048496</td>\n",
       "      <td>0.027851</td>\n",
       "      <td>-0.191374</td>\n",
       "      <td>0.002032</td>\n",
       "      <td>0.006912</td>\n",
       "      <td>0.011807</td>\n",
       "      <td>-0.007073</td>\n",
       "      <td>-1.000000</td>\n",
       "      <td>1.000000</td>\n",
       "    </tr>\n",
       "  </tbody>\n",
       "</table>\n",
       "</div>"
      ],
      "text/plain": [
       "                     age  participant_id  runner_rank    status  Age_Rank  \\\n",
       "age             1.000000       -0.279364    -0.217579  0.070143 -0.013940   \n",
       "participant_id -0.279364        1.000000    -0.188576 -0.009449 -0.016588   \n",
       "runner_rank    -0.217579       -0.188576     1.000000 -0.189949  0.018092   \n",
       "status          0.070143       -0.009449    -0.189949  1.000000  0.010826   \n",
       "Age_Rank       -0.013940       -0.016588     0.018092  0.010826  1.000000   \n",
       "Gender_Rank    -0.009565       -0.022745     0.014470  0.013578  0.772400   \n",
       "Total_races    -0.004130       -0.001725    -0.001125  0.007525  0.180406   \n",
       "gender_F       -0.048496       -0.027851     0.191374 -0.002032 -0.006912   \n",
       "gender_M        0.048496        0.027851    -0.191374  0.002032  0.006912   \n",
       "\n",
       "                Gender_Rank  Total_races  gender_F  gender_M  \n",
       "age               -0.009565    -0.004130 -0.048496  0.048496  \n",
       "participant_id    -0.022745    -0.001725 -0.027851  0.027851  \n",
       "runner_rank        0.014470    -0.001125  0.191374 -0.191374  \n",
       "status             0.013578     0.007525 -0.002032  0.002032  \n",
       "Age_Rank           0.772400     0.180406 -0.006912  0.006912  \n",
       "Gender_Rank        1.000000     0.162115 -0.011807  0.011807  \n",
       "Total_races        0.162115     1.000000  0.007073 -0.007073  \n",
       "gender_F          -0.011807     0.007073  1.000000 -1.000000  \n",
       "gender_M           0.011807    -0.007073 -1.000000  1.000000  "
      ]
     },
     "execution_count": 105,
     "metadata": {},
     "output_type": "execute_result"
    }
   ],
   "source": [
    "clean.corr()"
   ]
  },
  {
   "cell_type": "markdown",
   "metadata": {},
   "source": [
    "Once adding gender dummies, it appears that gender in and of itself may not be a great predictor of race status. Appears to be ~75% male and 25% female particitation in these races."
   ]
  },
  {
   "cell_type": "code",
   "execution_count": 106,
   "metadata": {
    "collapsed": false
   },
   "outputs": [],
   "source": [
    "y = clean.pop('status')\n",
    "clean.pop('participant_id')\n",
    "X = clean\n",
    "\n",
    "X_train,X_test,y_train,y_test = train_test_split(X, y, test_size=0.3)"
   ]
  },
  {
   "cell_type": "code",
   "execution_count": 107,
   "metadata": {
    "collapsed": false
   },
   "outputs": [
    {
     "name": "stderr",
     "output_type": "stream",
     "text": [
      "/Users/stef/anaconda2/lib/python2.7/site-packages/sklearn/utils/deprecation.py:70: DeprecationWarning: Function transform is deprecated; Support to use estimators as feature selectors will be removed in version 0.19. Use SelectFromModel instead.\n",
      "  warnings.warn(msg, category=DeprecationWarning)\n"
     ]
    },
    {
     "data": {
      "text/plain": [
       "array([[ 1.,  0.],\n",
       "       [ 0.,  1.],\n",
       "       [ 0.,  1.],\n",
       "       ..., \n",
       "       [ 0.,  1.],\n",
       "       [ 0.,  1.],\n",
       "       [ 1.,  0.]])"
      ]
     },
     "execution_count": 107,
     "metadata": {},
     "output_type": "execute_result"
    }
   ],
   "source": [
    "model = LR()\n",
    "model.fit_transform(X_train, y_train)"
   ]
  },
  {
   "cell_type": "code",
   "execution_count": 108,
   "metadata": {
    "collapsed": false
   },
   "outputs": [],
   "source": [
    "predicted = model.predict_proba(X_test)"
   ]
  },
  {
   "cell_type": "code",
   "execution_count": 109,
   "metadata": {
    "collapsed": false
   },
   "outputs": [
    {
     "data": {
      "text/plain": [
       "0.80008236700101576"
      ]
     },
     "execution_count": 109,
     "metadata": {},
     "output_type": "execute_result"
    }
   ],
   "source": [
    "log_loss(y_test, predicted)"
   ]
  },
  {
   "cell_type": "code",
   "execution_count": 110,
   "metadata": {
    "collapsed": false
   },
   "outputs": [
    {
     "data": {
      "text/plain": [
       "2.2519645050116615"
      ]
     },
     "execution_count": 110,
     "metadata": {},
     "output_type": "execute_result"
    }
   ],
   "source": [
    "model2 = RFC()\n",
    "model2.fit(X_train, y_train)\n",
    "predicted2 = model2.predict_proba(X_test)\n",
    "log_loss(y_test, predicted2)"
   ]
  },
  {
   "cell_type": "code",
   "execution_count": 111,
   "metadata": {
    "collapsed": false
   },
   "outputs": [
    {
     "name": "stderr",
     "output_type": "stream",
     "text": [
      "/Users/stef/anaconda2/lib/python2.7/site-packages/sklearn/utils/deprecation.py:70: DeprecationWarning: Function transform is deprecated; Support to use estimators as feature selectors will be removed in version 0.19. Use SelectFromModel instead.\n",
      "  warnings.warn(msg, category=DeprecationWarning)\n"
     ]
    },
    {
     "data": {
      "text/plain": [
       "array([[ 80.19  ,   0.7965,   0.7065],\n",
       "       [  0.    ,   0.663 ,   0.598 ],\n",
       "       [ 78.95  ,   0.7693,   0.6814],\n",
       "       ..., \n",
       "       [ 87.09  ,   0.8765,   0.6224],\n",
       "       [ 59.49  ,   0.7184,   0.6224],\n",
       "       [ 71.58  ,   0.6326,   0.6148]])"
      ]
     },
     "execution_count": 111,
     "metadata": {},
     "output_type": "execute_result"
    }
   ],
   "source": [
    "model3 = GBC(loss='deviance', learning_rate=0.01, \\\n",
    "        n_estimators=4700, subsample=0.75, criterion='friedman_mse')\n",
    "model3.fit_transform(X_train, y_train)"
   ]
  },
  {
   "cell_type": "code",
   "execution_count": 93,
   "metadata": {
    "collapsed": true
   },
   "outputs": [],
   "source": [
    "predictions = model3.predict_proba(X_test)"
   ]
  },
  {
   "cell_type": "code",
   "execution_count": 94,
   "metadata": {
    "collapsed": false
   },
   "outputs": [
    {
     "data": {
      "text/plain": [
       "0.79572770724168207"
      ]
     },
     "execution_count": 94,
     "metadata": {},
     "output_type": "execute_result"
    }
   ],
   "source": [
    "log_loss(y_test, predictions)"
   ]
  },
  {
   "cell_type": "code",
   "execution_count": null,
   "metadata": {
    "collapsed": false
   },
   "outputs": [],
   "source": []
  },
  {
   "cell_type": "code",
   "execution_count": null,
   "metadata": {
    "collapsed": true
   },
   "outputs": [],
   "source": []
  }
 ],
 "metadata": {
  "kernelspec": {
   "display_name": "Python 2",
   "language": "python",
   "name": "python2"
  },
  "language_info": {
   "codemirror_mode": {
    "name": "ipython",
    "version": 2
   },
   "file_extension": ".py",
   "mimetype": "text/x-python",
   "name": "python",
   "nbconvert_exporter": "python",
   "pygments_lexer": "ipython2",
   "version": "2.7.12"
  }
 },
 "nbformat": 4,
 "nbformat_minor": 0
}
