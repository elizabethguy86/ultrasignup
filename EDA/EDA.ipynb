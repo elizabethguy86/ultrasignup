{
 "cells": [
  {
   "cell_type": "code",
   "execution_count": 1177,
   "metadata": {
    "collapsed": false
   },
   "outputs": [],
   "source": [
    "import pandas as pd\n",
    "import matplotlib.pyplot as plt\n",
    "from sklearn.linear_model import LogisticRegression as LR\n",
    "from sklearn.ensemble import RandomForestClassifier as RFC\n",
    "from sklearn.ensemble import GradientBoostingClassifier as GBC\n",
    "from sklearn.cross_validation import train_test_split\n",
    "from sklearn.metrics import log_loss, auc, roc_curve, roc_auc_score\n",
    "from sklearn.neighbors import KNeighborsClassifier as knn\n",
    "from sklearn.multiclass import OneVsOneClassifier\n",
    "from sklearn.metrics import accuracy_score\n",
    "from sklearn.metrics import confusion_matrix\n",
    "from sklearn.svm import LinearSVC\n",
    "from sklearn.metrics import classification_report\n",
    "from sklearn.cross_validation import cross_val_score\n",
    "from sklearn.pipeline import Pipeline\n",
    "from sklearn.tree import DecisionTreeClassifier\n",
    "from sklearn.preprocessing import StandardScaler\n",
    "from sklearn.grid_search import GridSearchCV\n",
    "import numpy as np\n",
    "%matplotlib inline\n",
    "from matplotlib.pylab import rcParams\n",
    "rcParams['figure.figsize'] = 12, 4"
   ]
  },
  {
   "cell_type": "code",
   "execution_count": 1178,
   "metadata": {
    "collapsed": false
   },
   "outputs": [],
   "source": [
    "#data = pd.read_csv('../ult_sign_scrape/race_master/master_database.csv')\n",
    "fe4 = pd.read_csv('../ult_sign_scrape/race_master/master_database_fe4.csv')\n",
    "athletes = pd.read_csv('../ult_sign_scrape/athlete_dataframe/concat')\n",
    "races = pd.read_csv('../ult_sign_scrape/race_master/master_list.csv')"
   ]
  },
  {
   "cell_type": "code",
   "execution_count": 1179,
   "metadata": {
    "collapsed": false
   },
   "outputs": [],
   "source": [
    "#clean = data.drop(['Unnamed: 0', 'Unnamed: 0.1'], axis=1)\n",
    "fe4_clean = fe4.drop(['Unnamed: 0', 'Unnamed: 0.1'], axis=1)\n",
    "fe4 = fe4_clean.dropna()"
   ]
  },
  {
   "cell_type": "code",
   "execution_count": 1180,
   "metadata": {
    "collapsed": false
   },
   "outputs": [
    {
     "data": {
      "text/html": [
       "<div>\n",
       "<table border=\"1\" class=\"dataframe\">\n",
       "  <thead>\n",
       "    <tr style=\"text-align: right;\">\n",
       "      <th></th>\n",
       "      <th>age</th>\n",
       "      <th>participant_id</th>\n",
       "      <th>runner_rank</th>\n",
       "      <th>status</th>\n",
       "      <th>race_id</th>\n",
       "      <th>Season</th>\n",
       "      <th>Metro_area</th>\n",
       "      <th>WL_SO</th>\n",
       "      <th>Entry_fee</th>\n",
       "      <th>PPM</th>\n",
       "      <th>Age_Rank</th>\n",
       "      <th>Gender_Rank</th>\n",
       "      <th>Total_races</th>\n",
       "    </tr>\n",
       "  </thead>\n",
       "  <tbody>\n",
       "    <tr>\n",
       "      <th>age</th>\n",
       "      <td>1.000000</td>\n",
       "      <td>-0.270411</td>\n",
       "      <td>-0.216783</td>\n",
       "      <td>0.075115</td>\n",
       "      <td>-0.010206</td>\n",
       "      <td>0.047769</td>\n",
       "      <td>0.018868</td>\n",
       "      <td>-0.043341</td>\n",
       "      <td>0.043721</td>\n",
       "      <td>-0.016771</td>\n",
       "      <td>-0.007417</td>\n",
       "      <td>0.000602</td>\n",
       "      <td>0.011360</td>\n",
       "    </tr>\n",
       "    <tr>\n",
       "      <th>participant_id</th>\n",
       "      <td>-0.270411</td>\n",
       "      <td>1.000000</td>\n",
       "      <td>-0.194335</td>\n",
       "      <td>-0.001664</td>\n",
       "      <td>0.386143</td>\n",
       "      <td>-0.020922</td>\n",
       "      <td>0.029178</td>\n",
       "      <td>-0.089945</td>\n",
       "      <td>-0.122077</td>\n",
       "      <td>-0.070901</td>\n",
       "      <td>-0.005315</td>\n",
       "      <td>-0.005174</td>\n",
       "      <td>-0.015240</td>\n",
       "    </tr>\n",
       "    <tr>\n",
       "      <th>runner_rank</th>\n",
       "      <td>-0.216783</td>\n",
       "      <td>-0.194335</td>\n",
       "      <td>1.000000</td>\n",
       "      <td>-0.190380</td>\n",
       "      <td>0.020117</td>\n",
       "      <td>-0.074137</td>\n",
       "      <td>-0.018915</td>\n",
       "      <td>0.115371</td>\n",
       "      <td>-0.045335</td>\n",
       "      <td>0.113499</td>\n",
       "      <td>-0.003333</td>\n",
       "      <td>-0.008166</td>\n",
       "      <td>0.007546</td>\n",
       "    </tr>\n",
       "    <tr>\n",
       "      <th>status</th>\n",
       "      <td>0.075115</td>\n",
       "      <td>-0.001664</td>\n",
       "      <td>-0.190380</td>\n",
       "      <td>1.000000</td>\n",
       "      <td>0.032448</td>\n",
       "      <td>0.079697</td>\n",
       "      <td>-0.038195</td>\n",
       "      <td>-0.150429</td>\n",
       "      <td>-0.094013</td>\n",
       "      <td>-0.118026</td>\n",
       "      <td>0.007557</td>\n",
       "      <td>0.009809</td>\n",
       "      <td>-0.000989</td>\n",
       "    </tr>\n",
       "    <tr>\n",
       "      <th>race_id</th>\n",
       "      <td>-0.010206</td>\n",
       "      <td>0.386143</td>\n",
       "      <td>0.020117</td>\n",
       "      <td>0.032448</td>\n",
       "      <td>1.000000</td>\n",
       "      <td>-0.058049</td>\n",
       "      <td>0.130348</td>\n",
       "      <td>-0.123373</td>\n",
       "      <td>-0.212501</td>\n",
       "      <td>0.017266</td>\n",
       "      <td>-0.015521</td>\n",
       "      <td>-0.024019</td>\n",
       "      <td>-0.029799</td>\n",
       "    </tr>\n",
       "    <tr>\n",
       "      <th>Season</th>\n",
       "      <td>0.047769</td>\n",
       "      <td>-0.020922</td>\n",
       "      <td>-0.074137</td>\n",
       "      <td>0.079697</td>\n",
       "      <td>-0.058049</td>\n",
       "      <td>1.000000</td>\n",
       "      <td>-0.229057</td>\n",
       "      <td>-0.543905</td>\n",
       "      <td>-0.242692</td>\n",
       "      <td>-0.293994</td>\n",
       "      <td>-0.004094</td>\n",
       "      <td>-0.006021</td>\n",
       "      <td>0.019240</td>\n",
       "    </tr>\n",
       "    <tr>\n",
       "      <th>Metro_area</th>\n",
       "      <td>0.018868</td>\n",
       "      <td>0.029178</td>\n",
       "      <td>-0.018915</td>\n",
       "      <td>-0.038195</td>\n",
       "      <td>0.130348</td>\n",
       "      <td>-0.229057</td>\n",
       "      <td>1.000000</td>\n",
       "      <td>-0.292363</td>\n",
       "      <td>0.117692</td>\n",
       "      <td>0.406314</td>\n",
       "      <td>-0.010899</td>\n",
       "      <td>-0.017804</td>\n",
       "      <td>-0.007776</td>\n",
       "    </tr>\n",
       "    <tr>\n",
       "      <th>WL_SO</th>\n",
       "      <td>-0.043341</td>\n",
       "      <td>-0.089945</td>\n",
       "      <td>0.115371</td>\n",
       "      <td>-0.150429</td>\n",
       "      <td>-0.123373</td>\n",
       "      <td>-0.543905</td>\n",
       "      <td>-0.292363</td>\n",
       "      <td>1.000000</td>\n",
       "      <td>0.413294</td>\n",
       "      <td>0.319025</td>\n",
       "      <td>0.028082</td>\n",
       "      <td>0.026839</td>\n",
       "      <td>0.006227</td>\n",
       "    </tr>\n",
       "    <tr>\n",
       "      <th>Entry_fee</th>\n",
       "      <td>0.043721</td>\n",
       "      <td>-0.122077</td>\n",
       "      <td>-0.045335</td>\n",
       "      <td>-0.094013</td>\n",
       "      <td>-0.212501</td>\n",
       "      <td>-0.242692</td>\n",
       "      <td>0.117692</td>\n",
       "      <td>0.413294</td>\n",
       "      <td>1.000000</td>\n",
       "      <td>0.334784</td>\n",
       "      <td>0.001548</td>\n",
       "      <td>-0.006640</td>\n",
       "      <td>-0.006176</td>\n",
       "    </tr>\n",
       "    <tr>\n",
       "      <th>PPM</th>\n",
       "      <td>-0.016771</td>\n",
       "      <td>-0.070901</td>\n",
       "      <td>0.113499</td>\n",
       "      <td>-0.118026</td>\n",
       "      <td>0.017266</td>\n",
       "      <td>-0.293994</td>\n",
       "      <td>0.406314</td>\n",
       "      <td>0.319025</td>\n",
       "      <td>0.334784</td>\n",
       "      <td>1.000000</td>\n",
       "      <td>0.003491</td>\n",
       "      <td>-0.017046</td>\n",
       "      <td>0.017571</td>\n",
       "    </tr>\n",
       "    <tr>\n",
       "      <th>Age_Rank</th>\n",
       "      <td>-0.007417</td>\n",
       "      <td>-0.005315</td>\n",
       "      <td>-0.003333</td>\n",
       "      <td>0.007557</td>\n",
       "      <td>-0.015521</td>\n",
       "      <td>-0.004094</td>\n",
       "      <td>-0.010899</td>\n",
       "      <td>0.028082</td>\n",
       "      <td>0.001548</td>\n",
       "      <td>0.003491</td>\n",
       "      <td>1.000000</td>\n",
       "      <td>0.766592</td>\n",
       "      <td>0.177129</td>\n",
       "    </tr>\n",
       "    <tr>\n",
       "      <th>Gender_Rank</th>\n",
       "      <td>0.000602</td>\n",
       "      <td>-0.005174</td>\n",
       "      <td>-0.008166</td>\n",
       "      <td>0.009809</td>\n",
       "      <td>-0.024019</td>\n",
       "      <td>-0.006021</td>\n",
       "      <td>-0.017804</td>\n",
       "      <td>0.026839</td>\n",
       "      <td>-0.006640</td>\n",
       "      <td>-0.017046</td>\n",
       "      <td>0.766592</td>\n",
       "      <td>1.000000</td>\n",
       "      <td>0.157633</td>\n",
       "    </tr>\n",
       "    <tr>\n",
       "      <th>Total_races</th>\n",
       "      <td>0.011360</td>\n",
       "      <td>-0.015240</td>\n",
       "      <td>0.007546</td>\n",
       "      <td>-0.000989</td>\n",
       "      <td>-0.029799</td>\n",
       "      <td>0.019240</td>\n",
       "      <td>-0.007776</td>\n",
       "      <td>0.006227</td>\n",
       "      <td>-0.006176</td>\n",
       "      <td>0.017571</td>\n",
       "      <td>0.177129</td>\n",
       "      <td>0.157633</td>\n",
       "      <td>1.000000</td>\n",
       "    </tr>\n",
       "  </tbody>\n",
       "</table>\n",
       "</div>"
      ],
      "text/plain": [
       "                     age  participant_id  runner_rank    status   race_id  \\\n",
       "age             1.000000       -0.270411    -0.216783  0.075115 -0.010206   \n",
       "participant_id -0.270411        1.000000    -0.194335 -0.001664  0.386143   \n",
       "runner_rank    -0.216783       -0.194335     1.000000 -0.190380  0.020117   \n",
       "status          0.075115       -0.001664    -0.190380  1.000000  0.032448   \n",
       "race_id        -0.010206        0.386143     0.020117  0.032448  1.000000   \n",
       "Season          0.047769       -0.020922    -0.074137  0.079697 -0.058049   \n",
       "Metro_area      0.018868        0.029178    -0.018915 -0.038195  0.130348   \n",
       "WL_SO          -0.043341       -0.089945     0.115371 -0.150429 -0.123373   \n",
       "Entry_fee       0.043721       -0.122077    -0.045335 -0.094013 -0.212501   \n",
       "PPM            -0.016771       -0.070901     0.113499 -0.118026  0.017266   \n",
       "Age_Rank       -0.007417       -0.005315    -0.003333  0.007557 -0.015521   \n",
       "Gender_Rank     0.000602       -0.005174    -0.008166  0.009809 -0.024019   \n",
       "Total_races     0.011360       -0.015240     0.007546 -0.000989 -0.029799   \n",
       "\n",
       "                  Season  Metro_area     WL_SO  Entry_fee       PPM  Age_Rank  \\\n",
       "age             0.047769    0.018868 -0.043341   0.043721 -0.016771 -0.007417   \n",
       "participant_id -0.020922    0.029178 -0.089945  -0.122077 -0.070901 -0.005315   \n",
       "runner_rank    -0.074137   -0.018915  0.115371  -0.045335  0.113499 -0.003333   \n",
       "status          0.079697   -0.038195 -0.150429  -0.094013 -0.118026  0.007557   \n",
       "race_id        -0.058049    0.130348 -0.123373  -0.212501  0.017266 -0.015521   \n",
       "Season          1.000000   -0.229057 -0.543905  -0.242692 -0.293994 -0.004094   \n",
       "Metro_area     -0.229057    1.000000 -0.292363   0.117692  0.406314 -0.010899   \n",
       "WL_SO          -0.543905   -0.292363  1.000000   0.413294  0.319025  0.028082   \n",
       "Entry_fee      -0.242692    0.117692  0.413294   1.000000  0.334784  0.001548   \n",
       "PPM            -0.293994    0.406314  0.319025   0.334784  1.000000  0.003491   \n",
       "Age_Rank       -0.004094   -0.010899  0.028082   0.001548  0.003491  1.000000   \n",
       "Gender_Rank    -0.006021   -0.017804  0.026839  -0.006640 -0.017046  0.766592   \n",
       "Total_races     0.019240   -0.007776  0.006227  -0.006176  0.017571  0.177129   \n",
       "\n",
       "                Gender_Rank  Total_races  \n",
       "age                0.000602     0.011360  \n",
       "participant_id    -0.005174    -0.015240  \n",
       "runner_rank       -0.008166     0.007546  \n",
       "status             0.009809    -0.000989  \n",
       "race_id           -0.024019    -0.029799  \n",
       "Season            -0.006021     0.019240  \n",
       "Metro_area        -0.017804    -0.007776  \n",
       "WL_SO              0.026839     0.006227  \n",
       "Entry_fee         -0.006640    -0.006176  \n",
       "PPM               -0.017046     0.017571  \n",
       "Age_Rank           0.766592     0.177129  \n",
       "Gender_Rank        1.000000     0.157633  \n",
       "Total_races        0.157633     1.000000  "
      ]
     },
     "execution_count": 1180,
     "metadata": {},
     "output_type": "execute_result"
    }
   ],
   "source": [
    "fe4.corr()"
   ]
  },
  {
   "cell_type": "markdown",
   "metadata": {},
   "source": [
    "Interesting observation - Very little spread between 25-75% in age of entrants (35-49). Max is 79 and min is ~12 (some cleaning of 0/1 ages may be necessary). 39-44 is the most common ages with nearly 400 in each category. Mid-life crisis???\n"
   ]
  },
  {
   "cell_type": "markdown",
   "metadata": {},
   "source": [
    "Interesting observation - Appears that runner rank and age have the strongest relationships to the status column. Gender rank and age rank are similar in their relationship. Total races appears to have the weakest relationship for these features."
   ]
  },
  {
   "cell_type": "code",
   "execution_count": 1181,
   "metadata": {
    "collapsed": false
   },
   "outputs": [],
   "source": [
    "gender_dummies_fe = pd.get_dummies(fe4.gender, prefix='gender')\n",
    "#state_dummies = pd.get_dummies(fe2_clean.state, prefix='Home_State')\n",
    "fe4 = fe4.join(gender_dummies_fe)\n",
    "#fe4_clean = fe4_clean.join(state_dummies)"
   ]
  },
  {
   "cell_type": "code",
   "execution_count": 1182,
   "metadata": {
    "collapsed": false
   },
   "outputs": [
    {
     "name": "stdout",
     "output_type": "stream",
     "text": [
      "Before Coding:\n",
      "1    6291\n",
      "2    3930\n",
      "3     540\n",
      "Name: status, dtype: int64\n",
      "\n",
      "After Coding:\n",
      "1    10221\n",
      "0      540\n",
      "Name: status_coded, dtype: int64\n"
     ]
    },
    {
     "data": {
      "text/html": [
       "<div>\n",
       "<table border=\"1\" class=\"dataframe\">\n",
       "  <thead>\n",
       "    <tr style=\"text-align: right;\">\n",
       "      <th></th>\n",
       "      <th>age</th>\n",
       "      <th>gender</th>\n",
       "      <th>participant_id</th>\n",
       "      <th>runner_rank</th>\n",
       "      <th>race_id</th>\n",
       "      <th>race_name</th>\n",
       "      <th>Season</th>\n",
       "      <th>Metro_area</th>\n",
       "      <th>WL_SO</th>\n",
       "      <th>Entry_fee</th>\n",
       "      <th>PPM</th>\n",
       "      <th>Age_Rank</th>\n",
       "      <th>Gender_Rank</th>\n",
       "      <th>Total_races</th>\n",
       "      <th>gender_F</th>\n",
       "      <th>gender_M</th>\n",
       "      <th>status_coded</th>\n",
       "    </tr>\n",
       "  </thead>\n",
       "  <tbody>\n",
       "    <tr>\n",
       "      <th>0</th>\n",
       "      <td>26</td>\n",
       "      <td>M</td>\n",
       "      <td>7148</td>\n",
       "      <td>88.39</td>\n",
       "      <td>11470</td>\n",
       "      <td>Bear</td>\n",
       "      <td>3</td>\n",
       "      <td>0</td>\n",
       "      <td>1</td>\n",
       "      <td>1</td>\n",
       "      <td>2.5</td>\n",
       "      <td>0.7174</td>\n",
       "      <td>0.6806</td>\n",
       "      <td>23.0</td>\n",
       "      <td>0.0</td>\n",
       "      <td>1.0</td>\n",
       "      <td>1</td>\n",
       "    </tr>\n",
       "    <tr>\n",
       "      <th>1</th>\n",
       "      <td>33</td>\n",
       "      <td>M</td>\n",
       "      <td>221721</td>\n",
       "      <td>90.00</td>\n",
       "      <td>11470</td>\n",
       "      <td>Bear</td>\n",
       "      <td>3</td>\n",
       "      <td>0</td>\n",
       "      <td>1</td>\n",
       "      <td>1</td>\n",
       "      <td>2.5</td>\n",
       "      <td>0.8132</td>\n",
       "      <td>0.6987</td>\n",
       "      <td>9.0</td>\n",
       "      <td>0.0</td>\n",
       "      <td>1.0</td>\n",
       "      <td>1</td>\n",
       "    </tr>\n",
       "    <tr>\n",
       "      <th>2</th>\n",
       "      <td>43</td>\n",
       "      <td>M</td>\n",
       "      <td>20020</td>\n",
       "      <td>83.63</td>\n",
       "      <td>11470</td>\n",
       "      <td>Bear</td>\n",
       "      <td>3</td>\n",
       "      <td>0</td>\n",
       "      <td>1</td>\n",
       "      <td>1</td>\n",
       "      <td>2.5</td>\n",
       "      <td>0.8272</td>\n",
       "      <td>0.7145</td>\n",
       "      <td>17.0</td>\n",
       "      <td>0.0</td>\n",
       "      <td>1.0</td>\n",
       "      <td>1</td>\n",
       "    </tr>\n",
       "    <tr>\n",
       "      <th>3</th>\n",
       "      <td>36</td>\n",
       "      <td>M</td>\n",
       "      <td>25441</td>\n",
       "      <td>73.22</td>\n",
       "      <td>11470</td>\n",
       "      <td>Bear</td>\n",
       "      <td>3</td>\n",
       "      <td>0</td>\n",
       "      <td>1</td>\n",
       "      <td>1</td>\n",
       "      <td>2.5</td>\n",
       "      <td>0.8995</td>\n",
       "      <td>0.8957</td>\n",
       "      <td>18.0</td>\n",
       "      <td>0.0</td>\n",
       "      <td>1.0</td>\n",
       "      <td>1</td>\n",
       "    </tr>\n",
       "    <tr>\n",
       "      <th>4</th>\n",
       "      <td>33</td>\n",
       "      <td>M</td>\n",
       "      <td>22562</td>\n",
       "      <td>87.77</td>\n",
       "      <td>11470</td>\n",
       "      <td>Bear</td>\n",
       "      <td>3</td>\n",
       "      <td>0</td>\n",
       "      <td>1</td>\n",
       "      <td>1</td>\n",
       "      <td>2.5</td>\n",
       "      <td>0.6807</td>\n",
       "      <td>0.6522</td>\n",
       "      <td>8.0</td>\n",
       "      <td>0.0</td>\n",
       "      <td>1.0</td>\n",
       "      <td>1</td>\n",
       "    </tr>\n",
       "  </tbody>\n",
       "</table>\n",
       "</div>"
      ],
      "text/plain": [
       "   age gender  participant_id  runner_rank  race_id race_name  Season  \\\n",
       "0   26      M            7148        88.39    11470      Bear       3   \n",
       "1   33      M          221721        90.00    11470      Bear       3   \n",
       "2   43      M           20020        83.63    11470      Bear       3   \n",
       "3   36      M           25441        73.22    11470      Bear       3   \n",
       "4   33      M           22562        87.77    11470      Bear       3   \n",
       "\n",
       "   Metro_area  WL_SO  Entry_fee  PPM  Age_Rank  Gender_Rank  Total_races  \\\n",
       "0           0      1          1  2.5    0.7174       0.6806         23.0   \n",
       "1           0      1          1  2.5    0.8132       0.6987          9.0   \n",
       "2           0      1          1  2.5    0.8272       0.7145         17.0   \n",
       "3           0      1          1  2.5    0.8995       0.8957         18.0   \n",
       "4           0      1          1  2.5    0.6807       0.6522          8.0   \n",
       "\n",
       "   gender_F  gender_M  status_coded  \n",
       "0       0.0       1.0             1  \n",
       "1       0.0       1.0             1  \n",
       "2       0.0       1.0             1  \n",
       "3       0.0       1.0             1  \n",
       "4       0.0       1.0             1  "
      ]
     },
     "execution_count": 1182,
     "metadata": {},
     "output_type": "execute_result"
    }
   ],
   "source": [
    "def coding(col, codeDict):\n",
    "    colCoded = pd.Series(col, copy=True)\n",
    "    for key, value in codeDict.items():\n",
    "        colCoded.replace(key, value, inplace=True)\n",
    "    return colCoded\n",
    " \n",
    "\n",
    "print 'Before Coding:'\n",
    "print pd.value_counts(fe4[\"status\"])\n",
    "fe4[\"status_coded\"] = coding(fe4[\"status\"], {'1':1,'2':1, '3':0})\n",
    "print '\\nAfter Coding:'\n",
    "print pd.value_counts(fe4[\"status_coded\"])\n",
    "fe4 = fe4.drop(['status'], axis=1)\n",
    "fe4.head()"
   ]
  },
  {
   "cell_type": "code",
   "execution_count": 1183,
   "metadata": {
    "collapsed": false
   },
   "outputs": [
    {
     "data": {
      "text/html": [
       "<div>\n",
       "<table border=\"1\" class=\"dataframe\">\n",
       "  <thead>\n",
       "    <tr style=\"text-align: right;\">\n",
       "      <th></th>\n",
       "      <th>age</th>\n",
       "      <th>participant_id</th>\n",
       "      <th>runner_rank</th>\n",
       "      <th>race_id</th>\n",
       "      <th>Season</th>\n",
       "      <th>Metro_area</th>\n",
       "      <th>WL_SO</th>\n",
       "      <th>Entry_fee</th>\n",
       "      <th>PPM</th>\n",
       "      <th>Age_Rank</th>\n",
       "      <th>Gender_Rank</th>\n",
       "      <th>Total_races</th>\n",
       "      <th>gender_F</th>\n",
       "      <th>gender_M</th>\n",
       "      <th>status_coded</th>\n",
       "    </tr>\n",
       "  </thead>\n",
       "  <tbody>\n",
       "    <tr>\n",
       "      <th>age</th>\n",
       "      <td>1.000000</td>\n",
       "      <td>-0.270411</td>\n",
       "      <td>-0.216783</td>\n",
       "      <td>-0.010206</td>\n",
       "      <td>0.047769</td>\n",
       "      <td>0.018868</td>\n",
       "      <td>-0.043341</td>\n",
       "      <td>0.043721</td>\n",
       "      <td>-0.016771</td>\n",
       "      <td>-0.007417</td>\n",
       "      <td>0.000602</td>\n",
       "      <td>0.011360</td>\n",
       "      <td>-0.050618</td>\n",
       "      <td>0.050618</td>\n",
       "      <td>0.011733</td>\n",
       "    </tr>\n",
       "    <tr>\n",
       "      <th>participant_id</th>\n",
       "      <td>-0.270411</td>\n",
       "      <td>1.000000</td>\n",
       "      <td>-0.194335</td>\n",
       "      <td>0.386143</td>\n",
       "      <td>-0.020922</td>\n",
       "      <td>0.029178</td>\n",
       "      <td>-0.089945</td>\n",
       "      <td>-0.122077</td>\n",
       "      <td>-0.070901</td>\n",
       "      <td>-0.005315</td>\n",
       "      <td>-0.005174</td>\n",
       "      <td>-0.015240</td>\n",
       "      <td>-0.026327</td>\n",
       "      <td>0.026327</td>\n",
       "      <td>-0.019896</td>\n",
       "    </tr>\n",
       "    <tr>\n",
       "      <th>runner_rank</th>\n",
       "      <td>-0.216783</td>\n",
       "      <td>-0.194335</td>\n",
       "      <td>1.000000</td>\n",
       "      <td>0.020117</td>\n",
       "      <td>-0.074137</td>\n",
       "      <td>-0.018915</td>\n",
       "      <td>0.115371</td>\n",
       "      <td>-0.045335</td>\n",
       "      <td>0.113499</td>\n",
       "      <td>-0.003333</td>\n",
       "      <td>-0.008166</td>\n",
       "      <td>0.007546</td>\n",
       "      <td>0.197594</td>\n",
       "      <td>-0.197594</td>\n",
       "      <td>0.002527</td>\n",
       "    </tr>\n",
       "    <tr>\n",
       "      <th>race_id</th>\n",
       "      <td>-0.010206</td>\n",
       "      <td>0.386143</td>\n",
       "      <td>0.020117</td>\n",
       "      <td>1.000000</td>\n",
       "      <td>-0.058049</td>\n",
       "      <td>0.130348</td>\n",
       "      <td>-0.123373</td>\n",
       "      <td>-0.212501</td>\n",
       "      <td>0.017266</td>\n",
       "      <td>-0.015521</td>\n",
       "      <td>-0.024019</td>\n",
       "      <td>-0.029799</td>\n",
       "      <td>-0.021824</td>\n",
       "      <td>0.021824</td>\n",
       "      <td>-0.081115</td>\n",
       "    </tr>\n",
       "    <tr>\n",
       "      <th>Season</th>\n",
       "      <td>0.047769</td>\n",
       "      <td>-0.020922</td>\n",
       "      <td>-0.074137</td>\n",
       "      <td>-0.058049</td>\n",
       "      <td>1.000000</td>\n",
       "      <td>-0.229057</td>\n",
       "      <td>-0.543905</td>\n",
       "      <td>-0.242692</td>\n",
       "      <td>-0.293994</td>\n",
       "      <td>-0.004094</td>\n",
       "      <td>-0.006021</td>\n",
       "      <td>0.019240</td>\n",
       "      <td>0.011332</td>\n",
       "      <td>-0.011332</td>\n",
       "      <td>-0.035099</td>\n",
       "    </tr>\n",
       "    <tr>\n",
       "      <th>Metro_area</th>\n",
       "      <td>0.018868</td>\n",
       "      <td>0.029178</td>\n",
       "      <td>-0.018915</td>\n",
       "      <td>0.130348</td>\n",
       "      <td>-0.229057</td>\n",
       "      <td>1.000000</td>\n",
       "      <td>-0.292363</td>\n",
       "      <td>0.117692</td>\n",
       "      <td>0.406314</td>\n",
       "      <td>-0.010899</td>\n",
       "      <td>-0.017804</td>\n",
       "      <td>-0.007776</td>\n",
       "      <td>0.072808</td>\n",
       "      <td>-0.072808</td>\n",
       "      <td>0.063267</td>\n",
       "    </tr>\n",
       "    <tr>\n",
       "      <th>WL_SO</th>\n",
       "      <td>-0.043341</td>\n",
       "      <td>-0.089945</td>\n",
       "      <td>0.115371</td>\n",
       "      <td>-0.123373</td>\n",
       "      <td>-0.543905</td>\n",
       "      <td>-0.292363</td>\n",
       "      <td>1.000000</td>\n",
       "      <td>0.413294</td>\n",
       "      <td>0.319025</td>\n",
       "      <td>0.028082</td>\n",
       "      <td>0.026839</td>\n",
       "      <td>0.006227</td>\n",
       "      <td>-0.052848</td>\n",
       "      <td>0.052848</td>\n",
       "      <td>0.053033</td>\n",
       "    </tr>\n",
       "    <tr>\n",
       "      <th>Entry_fee</th>\n",
       "      <td>0.043721</td>\n",
       "      <td>-0.122077</td>\n",
       "      <td>-0.045335</td>\n",
       "      <td>-0.212501</td>\n",
       "      <td>-0.242692</td>\n",
       "      <td>0.117692</td>\n",
       "      <td>0.413294</td>\n",
       "      <td>1.000000</td>\n",
       "      <td>0.334784</td>\n",
       "      <td>0.001548</td>\n",
       "      <td>-0.006640</td>\n",
       "      <td>-0.006176</td>\n",
       "      <td>0.036295</td>\n",
       "      <td>-0.036295</td>\n",
       "      <td>0.150438</td>\n",
       "    </tr>\n",
       "    <tr>\n",
       "      <th>PPM</th>\n",
       "      <td>-0.016771</td>\n",
       "      <td>-0.070901</td>\n",
       "      <td>0.113499</td>\n",
       "      <td>0.017266</td>\n",
       "      <td>-0.293994</td>\n",
       "      <td>0.406314</td>\n",
       "      <td>0.319025</td>\n",
       "      <td>0.334784</td>\n",
       "      <td>1.000000</td>\n",
       "      <td>0.003491</td>\n",
       "      <td>-0.017046</td>\n",
       "      <td>0.017571</td>\n",
       "      <td>0.000985</td>\n",
       "      <td>-0.000985</td>\n",
       "      <td>0.066751</td>\n",
       "    </tr>\n",
       "    <tr>\n",
       "      <th>Age_Rank</th>\n",
       "      <td>-0.007417</td>\n",
       "      <td>-0.005315</td>\n",
       "      <td>-0.003333</td>\n",
       "      <td>-0.015521</td>\n",
       "      <td>-0.004094</td>\n",
       "      <td>-0.010899</td>\n",
       "      <td>0.028082</td>\n",
       "      <td>0.001548</td>\n",
       "      <td>0.003491</td>\n",
       "      <td>1.000000</td>\n",
       "      <td>0.766592</td>\n",
       "      <td>0.177129</td>\n",
       "      <td>0.000289</td>\n",
       "      <td>-0.000289</td>\n",
       "      <td>0.007534</td>\n",
       "    </tr>\n",
       "    <tr>\n",
       "      <th>Gender_Rank</th>\n",
       "      <td>0.000602</td>\n",
       "      <td>-0.005174</td>\n",
       "      <td>-0.008166</td>\n",
       "      <td>-0.024019</td>\n",
       "      <td>-0.006021</td>\n",
       "      <td>-0.017804</td>\n",
       "      <td>0.026839</td>\n",
       "      <td>-0.006640</td>\n",
       "      <td>-0.017046</td>\n",
       "      <td>0.766592</td>\n",
       "      <td>1.000000</td>\n",
       "      <td>0.157633</td>\n",
       "      <td>0.003349</td>\n",
       "      <td>-0.003349</td>\n",
       "      <td>0.002545</td>\n",
       "    </tr>\n",
       "    <tr>\n",
       "      <th>Total_races</th>\n",
       "      <td>0.011360</td>\n",
       "      <td>-0.015240</td>\n",
       "      <td>0.007546</td>\n",
       "      <td>-0.029799</td>\n",
       "      <td>0.019240</td>\n",
       "      <td>-0.007776</td>\n",
       "      <td>0.006227</td>\n",
       "      <td>-0.006176</td>\n",
       "      <td>0.017571</td>\n",
       "      <td>0.177129</td>\n",
       "      <td>0.157633</td>\n",
       "      <td>1.000000</td>\n",
       "      <td>-0.001369</td>\n",
       "      <td>0.001369</td>\n",
       "      <td>0.008308</td>\n",
       "    </tr>\n",
       "    <tr>\n",
       "      <th>gender_F</th>\n",
       "      <td>-0.050618</td>\n",
       "      <td>-0.026327</td>\n",
       "      <td>0.197594</td>\n",
       "      <td>-0.021824</td>\n",
       "      <td>0.011332</td>\n",
       "      <td>0.072808</td>\n",
       "      <td>-0.052848</td>\n",
       "      <td>0.036295</td>\n",
       "      <td>0.000985</td>\n",
       "      <td>0.000289</td>\n",
       "      <td>0.003349</td>\n",
       "      <td>-0.001369</td>\n",
       "      <td>1.000000</td>\n",
       "      <td>-1.000000</td>\n",
       "      <td>0.015681</td>\n",
       "    </tr>\n",
       "    <tr>\n",
       "      <th>gender_M</th>\n",
       "      <td>0.050618</td>\n",
       "      <td>0.026327</td>\n",
       "      <td>-0.197594</td>\n",
       "      <td>0.021824</td>\n",
       "      <td>-0.011332</td>\n",
       "      <td>-0.072808</td>\n",
       "      <td>0.052848</td>\n",
       "      <td>-0.036295</td>\n",
       "      <td>-0.000985</td>\n",
       "      <td>-0.000289</td>\n",
       "      <td>-0.003349</td>\n",
       "      <td>0.001369</td>\n",
       "      <td>-1.000000</td>\n",
       "      <td>1.000000</td>\n",
       "      <td>-0.015681</td>\n",
       "    </tr>\n",
       "    <tr>\n",
       "      <th>status_coded</th>\n",
       "      <td>0.011733</td>\n",
       "      <td>-0.019896</td>\n",
       "      <td>0.002527</td>\n",
       "      <td>-0.081115</td>\n",
       "      <td>-0.035099</td>\n",
       "      <td>0.063267</td>\n",
       "      <td>0.053033</td>\n",
       "      <td>0.150438</td>\n",
       "      <td>0.066751</td>\n",
       "      <td>0.007534</td>\n",
       "      <td>0.002545</td>\n",
       "      <td>0.008308</td>\n",
       "      <td>0.015681</td>\n",
       "      <td>-0.015681</td>\n",
       "      <td>1.000000</td>\n",
       "    </tr>\n",
       "  </tbody>\n",
       "</table>\n",
       "</div>"
      ],
      "text/plain": [
       "                     age  participant_id  runner_rank   race_id    Season  \\\n",
       "age             1.000000       -0.270411    -0.216783 -0.010206  0.047769   \n",
       "participant_id -0.270411        1.000000    -0.194335  0.386143 -0.020922   \n",
       "runner_rank    -0.216783       -0.194335     1.000000  0.020117 -0.074137   \n",
       "race_id        -0.010206        0.386143     0.020117  1.000000 -0.058049   \n",
       "Season          0.047769       -0.020922    -0.074137 -0.058049  1.000000   \n",
       "Metro_area      0.018868        0.029178    -0.018915  0.130348 -0.229057   \n",
       "WL_SO          -0.043341       -0.089945     0.115371 -0.123373 -0.543905   \n",
       "Entry_fee       0.043721       -0.122077    -0.045335 -0.212501 -0.242692   \n",
       "PPM            -0.016771       -0.070901     0.113499  0.017266 -0.293994   \n",
       "Age_Rank       -0.007417       -0.005315    -0.003333 -0.015521 -0.004094   \n",
       "Gender_Rank     0.000602       -0.005174    -0.008166 -0.024019 -0.006021   \n",
       "Total_races     0.011360       -0.015240     0.007546 -0.029799  0.019240   \n",
       "gender_F       -0.050618       -0.026327     0.197594 -0.021824  0.011332   \n",
       "gender_M        0.050618        0.026327    -0.197594  0.021824 -0.011332   \n",
       "status_coded    0.011733       -0.019896     0.002527 -0.081115 -0.035099   \n",
       "\n",
       "                Metro_area     WL_SO  Entry_fee       PPM  Age_Rank  \\\n",
       "age               0.018868 -0.043341   0.043721 -0.016771 -0.007417   \n",
       "participant_id    0.029178 -0.089945  -0.122077 -0.070901 -0.005315   \n",
       "runner_rank      -0.018915  0.115371  -0.045335  0.113499 -0.003333   \n",
       "race_id           0.130348 -0.123373  -0.212501  0.017266 -0.015521   \n",
       "Season           -0.229057 -0.543905  -0.242692 -0.293994 -0.004094   \n",
       "Metro_area        1.000000 -0.292363   0.117692  0.406314 -0.010899   \n",
       "WL_SO            -0.292363  1.000000   0.413294  0.319025  0.028082   \n",
       "Entry_fee         0.117692  0.413294   1.000000  0.334784  0.001548   \n",
       "PPM               0.406314  0.319025   0.334784  1.000000  0.003491   \n",
       "Age_Rank         -0.010899  0.028082   0.001548  0.003491  1.000000   \n",
       "Gender_Rank      -0.017804  0.026839  -0.006640 -0.017046  0.766592   \n",
       "Total_races      -0.007776  0.006227  -0.006176  0.017571  0.177129   \n",
       "gender_F          0.072808 -0.052848   0.036295  0.000985  0.000289   \n",
       "gender_M         -0.072808  0.052848  -0.036295 -0.000985 -0.000289   \n",
       "status_coded      0.063267  0.053033   0.150438  0.066751  0.007534   \n",
       "\n",
       "                Gender_Rank  Total_races  gender_F  gender_M  status_coded  \n",
       "age                0.000602     0.011360 -0.050618  0.050618      0.011733  \n",
       "participant_id    -0.005174    -0.015240 -0.026327  0.026327     -0.019896  \n",
       "runner_rank       -0.008166     0.007546  0.197594 -0.197594      0.002527  \n",
       "race_id           -0.024019    -0.029799 -0.021824  0.021824     -0.081115  \n",
       "Season            -0.006021     0.019240  0.011332 -0.011332     -0.035099  \n",
       "Metro_area        -0.017804    -0.007776  0.072808 -0.072808      0.063267  \n",
       "WL_SO              0.026839     0.006227 -0.052848  0.052848      0.053033  \n",
       "Entry_fee         -0.006640    -0.006176  0.036295 -0.036295      0.150438  \n",
       "PPM               -0.017046     0.017571  0.000985 -0.000985      0.066751  \n",
       "Age_Rank           0.766592     0.177129  0.000289 -0.000289      0.007534  \n",
       "Gender_Rank        1.000000     0.157633  0.003349 -0.003349      0.002545  \n",
       "Total_races        0.157633     1.000000 -0.001369  0.001369      0.008308  \n",
       "gender_F           0.003349    -0.001369  1.000000 -1.000000      0.015681  \n",
       "gender_M          -0.003349     0.001369 -1.000000  1.000000     -0.015681  \n",
       "status_coded       0.002545     0.008308  0.015681 -0.015681      1.000000  "
      ]
     },
     "execution_count": 1183,
     "metadata": {},
     "output_type": "execute_result"
    }
   ],
   "source": [
    "fe4.corr()"
   ]
  },
  {
   "cell_type": "markdown",
   "metadata": {},
   "source": [
    "Once adding gender dummies, it appears that gender in and of itself may not be a great predictor of race status. Appears to be ~75% male and 25% female particitation in these races."
   ]
  },
  {
   "cell_type": "code",
   "execution_count": 1184,
   "metadata": {
    "collapsed": false
   },
   "outputs": [],
   "source": [
    "y = fe4.pop('status_coded')\n",
    "clean = fe4.drop(['gender', 'participant_id', 'race_name', 'race_id', 'Age_Rank', 'Gender_Rank', 'Total_races'\\\n",
    "                 , 'gender_M'], axis=1)\n",
    "X = clean\n",
    "\n",
    "X_train,X_test,y_train,y_test = train_test_split(X, y, test_size=0.3)"
   ]
  },
  {
   "cell_type": "code",
   "execution_count": null,
   "metadata": {
    "collapsed": false
   },
   "outputs": [],
   "source": []
  },
  {
   "cell_type": "code",
   "execution_count": 1185,
   "metadata": {
    "collapsed": false
   },
   "outputs": [
    {
     "data": {
      "text/plain": [
       "LogisticRegression(C=100, class_weight=None, dual=False, fit_intercept=True,\n",
       "          intercept_scaling=1, max_iter=100, multi_class='ovr', n_jobs=1,\n",
       "          penalty='l2', random_state=None, solver='liblinear', tol=0.0001,\n",
       "          verbose=0, warm_start=False)"
      ]
     },
     "execution_count": 1185,
     "metadata": {},
     "output_type": "execute_result"
    }
   ],
   "source": [
    "model = LR(C=100)\n",
    "model.fit(X_train, y_train)"
   ]
  },
  {
   "cell_type": "code",
   "execution_count": 1186,
   "metadata": {
    "collapsed": false
   },
   "outputs": [],
   "source": [
    "predicted = model.predict_proba(X_test)"
   ]
  },
  {
   "cell_type": "code",
   "execution_count": 1187,
   "metadata": {
    "collapsed": false
   },
   "outputs": [
    {
     "data": {
      "text/plain": [
       "0.20506065648496094"
      ]
     },
     "execution_count": 1187,
     "metadata": {},
     "output_type": "execute_result"
    }
   ],
   "source": [
    "log_loss(y_test, predicted)"
   ]
  },
  {
   "cell_type": "code",
   "execution_count": 1188,
   "metadata": {
    "collapsed": false
   },
   "outputs": [
    {
     "data": {
      "text/plain": [
       "array([[ -2.60655838e-04,  -1.53956285e-03,   7.57770170e-02,\n",
       "          4.64655688e-01,   2.70842412e-02,   1.61221998e+00,\n",
       "         -7.49635486e-02,  -7.51114810e-03]])"
      ]
     },
     "execution_count": 1188,
     "metadata": {},
     "output_type": "execute_result"
    }
   ],
   "source": [
    "model.coef_"
   ]
  },
  {
   "cell_type": "code",
   "execution_count": 1189,
   "metadata": {
    "collapsed": false
   },
   "outputs": [
    {
     "data": {
      "text/plain": [
       "0.49899198485487145"
      ]
     },
     "execution_count": 1189,
     "metadata": {},
     "output_type": "execute_result"
    }
   ],
   "source": [
    "model2 = RFC(n_estimators=500, criterion='entropy', random_state=1, n_jobs=2)\n",
    "model2.fit(X_train, y_train)\n",
    "predicted2 = model2.predict_proba(X_test)\n",
    "log_loss(y_test, predicted2)"
   ]
  },
  {
   "cell_type": "code",
   "execution_count": 1211,
   "metadata": {
    "collapsed": false
   },
   "outputs": [
    {
     "data": {
      "text/plain": [
       "0.20501420189126793"
      ]
     },
     "execution_count": 1211,
     "metadata": {},
     "output_type": "execute_result"
    }
   ],
   "source": [
    "model3 = GBC(n_estimators=50, max_depth=4, learning_rate=0.1)\n",
    "model3.fit(X_train, y_train)\n",
    "predictions = model3.predict_proba(X_test)\n",
    "log_loss(y_test, predictions)"
   ]
  },
  {
   "cell_type": "code",
   "execution_count": 1197,
   "metadata": {
    "collapsed": false
   },
   "outputs": [],
   "source": [
    "#X_test"
   ]
  },
  {
   "cell_type": "code",
   "execution_count": 1198,
   "metadata": {
    "collapsed": false
   },
   "outputs": [
    {
     "data": {
      "text/plain": [
       "0.60023586690070518"
      ]
     },
     "execution_count": 1198,
     "metadata": {},
     "output_type": "execute_result"
    }
   ],
   "source": [
    "#Logistic Regression\n",
    "roc_auc_score(y_test, predicted[:,1])"
   ]
  },
  {
   "cell_type": "code",
   "execution_count": 1199,
   "metadata": {
    "collapsed": false
   },
   "outputs": [
    {
     "data": {
      "text/plain": [
       "0.70605915019822652"
      ]
     },
     "execution_count": 1199,
     "metadata": {},
     "output_type": "execute_result"
    }
   ],
   "source": [
    "#Random Forest\n",
    "roc_auc_score(y_test, predicted2[:,1])"
   ]
  },
  {
   "cell_type": "code",
   "execution_count": 1212,
   "metadata": {
    "collapsed": false
   },
   "outputs": [
    {
     "name": "stdout",
     "output_type": "stream",
     "text": [
      "0.660563508156\n"
     ]
    }
   ],
   "source": [
    "#GBC\n",
    "fpr, tpr, thresholds = roc_curve(y_test, predictions[:,1])\n",
    "print auc(fpr, tpr)\n"
   ]
  },
  {
   "cell_type": "code",
   "execution_count": 1195,
   "metadata": {
    "collapsed": false
   },
   "outputs": [
    {
     "data": {
      "text/plain": [
       "0.20869373865250765"
      ]
     },
     "execution_count": 1195,
     "metadata": {},
     "output_type": "execute_result"
    }
   ],
   "source": [
    "neighbor = knn(n_neighbors=1000, p=2, metric='minkowski')\n",
    "neighbor.fit(X_train, y_train)\n",
    "knn_predict = neighbor.predict_proba(X_test)\n",
    "log_loss(y_test, knn_predict)"
   ]
  },
  {
   "cell_type": "code",
   "execution_count": 1049,
   "metadata": {
    "collapsed": false
   },
   "outputs": [
    {
     "data": {
      "text/plain": [
       "(array([ 0.67891741,  0.57597346,  0.56421275,  0.48059792,  0.63268156,\n",
       "         0.60716443,  0.5425034 ,  0.67692133,  0.54367356,  0.61506828]),\n",
       " array([ 0.71757322,  0.69535226,  0.70470052,  0.70064548,  0.67076853,\n",
       "         0.5811377 ,  0.64600634,  0.66231315,  0.60523932,  0.66183659]),\n",
       " array([ 0.68918919,  0.70879038,  0.67765464,  0.65591499,  0.63290805,\n",
       "         0.68350823,  0.68548996,  0.66978711,  0.62379209,  0.65140053]))"
      ]
     },
     "execution_count": 1049,
     "metadata": {},
     "output_type": "execute_result"
    }
   ],
   "source": [
    "LR_cvscores = cross_val_score(estimator=model, X=X_train, y=y_train, cv=10, scoring='roc_auc')\n",
    "RF_cvscores = cross_val_score(estimator=model2, X=X_train, y=y_train, cv=10, scoring='roc_auc')\n",
    "GBC_cvscores = cross_val_score(estimator=model3, X=X_train, y=y_train, cv=10, scoring='roc_auc')\n",
    "LR_cvscores, RF_cvscores, GBC_cvscores"
   ]
  },
  {
   "cell_type": "code",
   "execution_count": 1050,
   "metadata": {
    "collapsed": false
   },
   "outputs": [
    {
     "data": {
      "text/plain": [
       "(0.59177141044412729, 0.6645573110305556, 0.66784351620092086)"
      ]
     },
     "execution_count": 1050,
     "metadata": {},
     "output_type": "execute_result"
    }
   ],
   "source": [
    "LR_cvscores.mean(), RF_cvscores.mean(), GBC_cvscores.mean()"
   ]
  },
  {
   "cell_type": "code",
   "execution_count": null,
   "metadata": {
    "collapsed": false
   },
   "outputs": [],
   "source": []
  },
  {
   "cell_type": "code",
   "execution_count": 957,
   "metadata": {
    "collapsed": false
   },
   "outputs": [
    {
     "name": "stdout",
     "output_type": "stream",
     "text": [
      "10-fold cross validation:\n",
      "ROC AUC: 0.63 (+/- 0.05) [Logistic Regression]\n",
      "ROC AUC: 0.68 (+/- 0.05) [Random Forest]\n",
      "ROC AUC: 0.68 (+/- 0.05) [Gradient Boost]\n"
     ]
    }
   ],
   "source": [
    "# clf1 = LR(C=10, random_state=0)\n",
    "# clf2 = RFC(n_estimators=500, criterion='entropy', random_state=1, n_jobs=2)\n",
    "# clf3 = GBC()\n",
    "# pipe1 = Pipeline([['sc', StandardScaler()], ['clf', clf1]])\n",
    "# pipe3 = Pipeline([['sc', StandardScaler()], ['clf', clf3]])\n",
    "# clf_labels = ['Logistic Regression', 'Random Forest', 'Gradient Boost']\n",
    "# print '10-fold cross validation:'\n",
    "# for clf, label in zip([pipe1, clf2, pipe3], clf_labels):\n",
    "#     scores = cross_val_score(estimator=clf, X=X_train, y=y_train, cv=10, scoring='roc_auc')\n",
    "#     print 'ROC AUC: %0.2f (+/- %0.2f) [%s]' % (scores.mean(), scores.std(), label)"
   ]
  },
  {
   "cell_type": "code",
   "execution_count": 955,
   "metadata": {
    "collapsed": false
   },
   "outputs": [],
   "source": [
    "# lst = ['r', 'b']\n",
    "# new = ['r' if each == 1 else 'b' for each in y_test]\n",
    "# plt.scatter(X_test['age'], y_test, c=new)"
   ]
  },
  {
   "cell_type": "code",
   "execution_count": 866,
   "metadata": {
    "collapsed": false
   },
   "outputs": [
    {
     "name": "stdout",
     "output_type": "stream",
     "text": [
      "0.199248924202\n",
      "0.557000588285\n"
     ]
    }
   ],
   "source": [
    "param_grid = {'C': [0.001, 0.01, 0.1, 1, 10, 100, 1000] }\n",
    "LR_GS = GridSearchCV(model, param_grid=param_grid)\n",
    "LR_GS.fit(X_train, y_train)\n",
    "LR_GS_pred = LR_GS.predict_proba(X_test)\n",
    "print log_loss(y_test, LR_GS_pred)\n",
    "fpr, tpr, thresholds = roc_curve(y_test, LR_GS_pred[:,1], pos_label=1)\n",
    "print auc(fpr, tpr)"
   ]
  },
  {
   "cell_type": "code",
   "execution_count": 861,
   "metadata": {
    "collapsed": false
   },
   "outputs": [
    {
     "name": "stdout",
     "output_type": "stream",
     "text": [
      "0.332532940743\n",
      "0.713905530277\n"
     ]
    }
   ],
   "source": [
    "param_grid = {\"max_depth\": [3, None],\n",
    "              \"max_features\": [1, 4, 8],\n",
    "              \"min_samples_split\": [1, 4, 8],\n",
    "              \"min_samples_leaf\": [1, 4, 8],\n",
    "              \"bootstrap\": [True, False],\n",
    "              \"criterion\": [\"gini\", \"entropy\"]}\n",
    "RF_GS = GridSearchCV(model2, param_grid=param_grid)\n",
    "RF_GS.fit(X_train, y_train)\n",
    "RF_GS_pred = RF_GS.predict_proba(X_test)\n",
    "print log_loss(y_test, RF_GS_pred)\n",
    "fpr, tpr, thresholds = roc_curve(y_test, RF_GS_pred[:,1])\n",
    "print auc(fpr, tpr)"
   ]
  },
  {
   "cell_type": "code",
   "execution_count": 867,
   "metadata": {
    "collapsed": false
   },
   "outputs": [
    {
     "name": "stdout",
     "output_type": "stream",
     "text": [
      "0.212166156317\n",
      "0.658629776812\n"
     ]
    }
   ],
   "source": [
    "param_grid = {'n_estimators':[100, 500, 1000],\n",
    "              'max_depth':[1,4,8], 'min_samples_split':[1,4,8], \"max_features\": [1, 4, 8],\n",
    "             'subsample':[0.6,0.7,0.75,0.8,0.85,0.9]}\n",
    "GBC_GS = GridSearchCV(model3, param_grid=param_grid)\n",
    "GBC_GS.fit(X_train, y_train)\n",
    "GBC_GS_pred = GBC_GS.predict_proba(X_test)\n",
    "print log_loss(y_test, GBC_GS_pred)\n",
    "fpr, tpr, thresholds = roc_curve(y_test, GBC_GS_pred[:,1])\n",
    "print auc(fpr, tpr)"
   ]
  },
  {
   "cell_type": "code",
   "execution_count": 872,
   "metadata": {
    "collapsed": false
   },
   "outputs": [],
   "source": [
    "fpr, tpr, thresholds = roc_curve(y_test, RF_GS_pred[:,1])"
   ]
  },
  {
   "cell_type": "code",
   "execution_count": 904,
   "metadata": {
    "collapsed": false
   },
   "outputs": [
    {
     "data": {
      "text/plain": [
       "array([[  9.74516667e-01,   2.54833333e-02],\n",
       "       [  9.67238095e-01,   3.27619048e-02],\n",
       "       [  9.98000000e-01,   2.00000000e-03],\n",
       "       ..., \n",
       "       [  9.78900000e-01,   2.11000000e-02],\n",
       "       [  9.99500000e-01,   5.00000000e-04],\n",
       "       [  9.94857143e-01,   5.14285714e-03]])"
      ]
     },
     "execution_count": 904,
     "metadata": {},
     "output_type": "execute_result"
    }
   ],
   "source": [
    "RF_GS_pred"
   ]
  },
  {
   "cell_type": "code",
   "execution_count": 1072,
   "metadata": {
    "collapsed": false
   },
   "outputs": [],
   "source": [
    "def modelfit(alg, X_train, y_train, X_test, y_test, performCV=True, printFeatureImportance=True, cv_folds=5):\n",
    "    #Fit the algorithm on the data\n",
    "    predictors = [x for x in X_train.columns if x not in y]\n",
    "    alg.fit(X_train, y_train)\n",
    "        \n",
    "    #Predict training set:\n",
    "    dtrain_predictions = alg.predict(X_test)\n",
    "    dtrain_predprob = alg.predict_proba(X_test)[:,1]\n",
    "    \n",
    "    #Perform cross-validation:\n",
    "    if performCV:\n",
    "        cv_score = cross_val_score(alg, X_train, y_train, cv=cv_folds, scoring='roc_auc')\n",
    "    \n",
    "    #Print model report:\n",
    "    print \"\\nModel Report: %s\" % alg\n",
    "    print \"Accuracy : %.4g\" % accuracy_score(y_test, dtrain_predictions)\n",
    "    print \"AUC Score (Train): %f\" % roc_auc_score(y_test, dtrain_predprob)\n",
    "    \n",
    "    if performCV:\n",
    "        print \"CV Score : Mean - %.7g | Std - %.7g | Min - %.7g | Max - %.7g\" % (np.mean(cv_score),np.std(cv_score),np.min(cv_score),np.max(cv_score))\n",
    "        \n",
    "    #Print Feature Importance:\n",
    "    if printFeatureImportance:\n",
    "        feat_imp = pd.Series(alg.feature_importances_, X_test.columns).sort_values(ascending=False)\n",
    "        feat_imp.plot(kind='bar', title='Feature Importances')\n",
    "        plt.ylabel('Feature Importance Score')"
   ]
  },
  {
   "cell_type": "code",
   "execution_count": 1073,
   "metadata": {
    "collapsed": false
   },
   "outputs": [
    {
     "name": "stdout",
     "output_type": "stream",
     "text": [
      "\n",
      "Model Report: RandomForestClassifier(bootstrap=True, class_weight=None, criterion='entropy',\n",
      "            max_depth=None, max_features='auto', max_leaf_nodes=None,\n",
      "            min_impurity_split=1e-07, min_samples_leaf=1,\n",
      "            min_samples_split=2, min_weight_fraction_leaf=0.0,\n",
      "            n_estimators=500, n_jobs=2, oob_score=False, random_state=1,\n",
      "            verbose=0, warm_start=False)\n",
      "Accuracy : 0.9523\n",
      "AUC Score (Train): 0.677220\n",
      "CV Score : Mean - 0.6620223 | Std - 0.03623075 | Min - 0.6215499 | Max - 0.7223014\n",
      "\n",
      "Model Report: GradientBoostingClassifier(criterion='friedman_mse', init=None,\n",
      "              learning_rate=0.1, loss='deviance', max_depth=3,\n",
      "              max_features=None, max_leaf_nodes=None,\n",
      "              min_impurity_split=1e-07, min_samples_leaf=1,\n",
      "              min_samples_split=2, min_weight_fraction_leaf=0.0,\n",
      "              n_estimators=100, presort='auto', random_state=None,\n",
      "              subsample=1.0, verbose=0, warm_start=False)\n",
      "Accuracy : 0.952\n",
      "AUC Score (Train): 0.653342\n",
      "CV Score : Mean - 0.6797614 | Std - 0.03185798 | Min - 0.6452019 | Max - 0.7315124\n"
     ]
    },
    {
     "data": {
      "image/png": "[encoded data removed]",
      "text/plain": [
       "<matplotlib.figure.Figure at 0x3c3f72e90>"
      ]
     },
     "metadata": {},
     "output_type": "display_data"
    }
   ],
   "source": [
    "models = [model2, model3]\n",
    "\n",
    "modelfit(model2, X_train, y_train, X_test, y_test)\n",
    "modelfit(model3, X_train, y_train, X_test, y_test)"
   ]
  },
  {
   "cell_type": "code",
   "execution_count": 1077,
   "metadata": {
    "collapsed": false
   },
   "outputs": [
    {
     "data": {
      "text/plain": [
       "GridSearchCV(cv=5, error_score='raise',\n",
       "       estimator=GradientBoostingClassifier(criterion='friedman_mse', init=None,\n",
       "              learning_rate=0.1, loss='deviance', max_depth=8,\n",
       "              max_features='sqrt', max_leaf_nodes=None,\n",
       "              min_impurity_split=1e-07, min_samples_leaf=50,\n",
       "              min_samples_split=50, min_weight_fraction_leaf=0.0,\n",
       "              n_estimators=100, presort='auto', random_state=10,\n",
       "              subsample=0.8, verbose=0, warm_start=False),\n",
       "       fit_params={}, iid=False, n_jobs=4,\n",
       "       param_grid={'n_estimators': [20, 30, 40, 50, 60, 70, 80]},\n",
       "       pre_dispatch='2*n_jobs', refit=True, scoring='roc_auc', verbose=0)"
      ]
     },
     "execution_count": 1077,
     "metadata": {},
     "output_type": "execute_result"
    }
   ],
   "source": [
    "param_test1 = {'n_estimators':range(20,81,10)}\n",
    "gsearch1 = GridSearchCV(estimator = GBC(learning_rate=0.1, min_samples_split=50,min_samples_leaf=50,max_depth=8,max_features='sqrt',subsample=0.8,random_state=10),\n",
    "                        param_grid = param_test1, scoring='roc_auc',n_jobs=4,iid=False, cv=5)\n",
    "gsearch1.fit(X_train,y_train)"
   ]
  },
  {
   "cell_type": "code",
   "execution_count": 1155,
   "metadata": {
    "collapsed": false
   },
   "outputs": [
    {
     "name": "stdout",
     "output_type": "stream",
     "text": [
      "0.649840565938\n"
     ]
    }
   ],
   "source": [
    "param_test2 = {'max_depth':range(5,16,2), 'min_samples_split':range(200,1001,200)}\n",
    "gsearch2 = GridSearchCV(estimator = GBC(learning_rate=0.1, n_estimators=20, max_features='sqrt', subsample=0.8, random_state=10), \n",
    "param_grid = param_test2, scoring='roc_auc',n_jobs=4,iid=False, cv=5)\n",
    "gsearch2.fit(X_train,y_train)\n",
    "gsearch2.grid_scores_, gsearch2.best_params_, gsearch2.best_score_\n",
    "psearch = gsearch2.predict_proba(X_test)\n",
    "fpr, tpr, thresholds = roc_curve(y_test, psearch[:,1])\n",
    "print auc(fpr, tpr)"
   ]
  },
  {
   "cell_type": "code",
   "execution_count": 1156,
   "metadata": {
    "collapsed": false
   },
   "outputs": [],
   "source": [
    "#modelfit(gsearch1, X_train, y_train, X_test, y_test)"
   ]
  },
  {
   "cell_type": "code",
   "execution_count": 1079,
   "metadata": {
    "collapsed": false
   },
   "outputs": [
    {
     "data": {
      "text/plain": [
       "([mean: 0.67064, std: 0.02891, params: {'n_estimators': 20},\n",
       "  mean: 0.66522, std: 0.03129, params: {'n_estimators': 30},\n",
       "  mean: 0.66365, std: 0.03181, params: {'n_estimators': 40},\n",
       "  mean: 0.66117, std: 0.03330, params: {'n_estimators': 50},\n",
       "  mean: 0.65608, std: 0.03523, params: {'n_estimators': 60},\n",
       "  mean: 0.66043, std: 0.03306, params: {'n_estimators': 70},\n",
       "  mean: 0.66434, std: 0.03163, params: {'n_estimators': 80}],\n",
       " {'n_estimators': 20},\n",
       " 0.6706365364910878)"
      ]
     },
     "execution_count": 1079,
     "metadata": {},
     "output_type": "execute_result"
    }
   ],
   "source": [
    "gsearch1.grid_scores_, gsearch1.best_params_, gsearch1.best_score_"
   ]
  },
  {
   "cell_type": "code",
   "execution_count": 1093,
   "metadata": {
    "collapsed": false
   },
   "outputs": [
    {
     "data": {
      "text/plain": [
       "([mean: 0.67949, std: 0.02647, params: {'min_samples_split': 1000, 'min_samples_leaf': 30},\n",
       "  mean: 0.68234, std: 0.02162, params: {'min_samples_split': 1200, 'min_samples_leaf': 30},\n",
       "  mean: 0.67251, std: 0.02539, params: {'min_samples_split': 1400, 'min_samples_leaf': 30},\n",
       "  mean: 0.66786, std: 0.02394, params: {'min_samples_split': 1600, 'min_samples_leaf': 30},\n",
       "  mean: 0.67317, std: 0.02511, params: {'min_samples_split': 1800, 'min_samples_leaf': 30},\n",
       "  mean: 0.67498, std: 0.02223, params: {'min_samples_split': 2000, 'min_samples_leaf': 30},\n",
       "  mean: 0.67854, std: 0.02783, params: {'min_samples_split': 1000, 'min_samples_leaf': 40},\n",
       "  mean: 0.68438, std: 0.02359, params: {'min_samples_split': 1200, 'min_samples_leaf': 40},\n",
       "  mean: 0.67213, std: 0.02466, params: {'min_samples_split': 1400, 'min_samples_leaf': 40},\n",
       "  mean: 0.66776, std: 0.02422, params: {'min_samples_split': 1600, 'min_samples_leaf': 40},\n",
       "  mean: 0.67471, std: 0.02442, params: {'min_samples_split': 1800, 'min_samples_leaf': 40},\n",
       "  mean: 0.67719, std: 0.02349, params: {'min_samples_split': 2000, 'min_samples_leaf': 40},\n",
       "  mean: 0.67741, std: 0.02783, params: {'min_samples_split': 1000, 'min_samples_leaf': 50},\n",
       "  mean: 0.68207, std: 0.02599, params: {'min_samples_split': 1200, 'min_samples_leaf': 50},\n",
       "  mean: 0.67769, std: 0.02812, params: {'min_samples_split': 1400, 'min_samples_leaf': 50},\n",
       "  mean: 0.66891, std: 0.02460, params: {'min_samples_split': 1600, 'min_samples_leaf': 50},\n",
       "  mean: 0.67628, std: 0.02688, params: {'min_samples_split': 1800, 'min_samples_leaf': 50},\n",
       "  mean: 0.67748, std: 0.02376, params: {'min_samples_split': 2000, 'min_samples_leaf': 50},\n",
       "  mean: 0.68240, std: 0.03072, params: {'min_samples_split': 1000, 'min_samples_leaf': 60},\n",
       "  mean: 0.68356, std: 0.02734, params: {'min_samples_split': 1200, 'min_samples_leaf': 60},\n",
       "  mean: 0.67829, std: 0.02853, params: {'min_samples_split': 1400, 'min_samples_leaf': 60},\n",
       "  mean: 0.67152, std: 0.02671, params: {'min_samples_split': 1600, 'min_samples_leaf': 60},\n",
       "  mean: 0.67684, std: 0.02757, params: {'min_samples_split': 1800, 'min_samples_leaf': 60},\n",
       "  mean: 0.67984, std: 0.02634, params: {'min_samples_split': 2000, 'min_samples_leaf': 60},\n",
       "  mean: 0.68382, std: 0.03008, params: {'min_samples_split': 1000, 'min_samples_leaf': 70},\n",
       "  mean: 0.68037, std: 0.02433, params: {'min_samples_split': 1200, 'min_samples_leaf': 70},\n",
       "  mean: 0.67807, std: 0.02887, params: {'min_samples_split': 1400, 'min_samples_leaf': 70},\n",
       "  mean: 0.67370, std: 0.02545, params: {'min_samples_split': 1600, 'min_samples_leaf': 70},\n",
       "  mean: 0.67693, std: 0.02823, params: {'min_samples_split': 1800, 'min_samples_leaf': 70},\n",
       "  mean: 0.67928, std: 0.02644, params: {'min_samples_split': 2000, 'min_samples_leaf': 70}],\n",
       " {'min_samples_leaf': 40, 'min_samples_split': 1200},\n",
       " 0.6843817039575235)"
      ]
     },
     "execution_count": 1093,
     "metadata": {},
     "output_type": "execute_result"
    }
   ],
   "source": [
    "param_test3 = {'min_samples_split':range(1000,2100,200), 'min_samples_leaf':range(30,71,10)}\n",
    "gsearch3 = GridSearchCV(estimator = GBC(learning_rate=0.1, n_estimators=20,max_depth=5,max_features='sqrt', subsample=0.8, random_state=10), \n",
    "param_grid = param_test3, scoring='roc_auc',n_jobs=4,iid=False, cv=5)\n",
    "gsearch3.fit(X_train,y_train)\n",
    "gsearch3.grid_scores_, gsearch3.best_params_, gsearch3.best_score_"
   ]
  },
  {
   "cell_type": "code",
   "execution_count": 1115,
   "metadata": {
    "collapsed": false
   },
   "outputs": [
    {
     "name": "stdout",
     "output_type": "stream",
     "text": [
      "\n",
      "Model Report: GradientBoostingClassifier(criterion='friedman_mse', init=None,\n",
      "              learning_rate=0.1, loss='deviance', max_depth=5,\n",
      "              max_features='sqrt', max_leaf_nodes=None,\n",
      "              min_impurity_split=1e-07, min_samples_leaf=40,\n",
      "              min_samples_split=1200, min_weight_fraction_leaf=0.0,\n",
      "              n_estimators=20, presort='auto', random_state=10,\n",
      "              subsample=0.8, verbose=0, warm_start=False)\n",
      "Accuracy : 0.9523\n",
      "AUC Score (Train): 0.644234\n",
      "CV Score : Mean - 0.6843817 | Std - 0.02358628 | Min - 0.6515409 | Max - 0.7114398\n"
     ]
    },
    {
     "data": {
      "image/png": "[encoded data removed]",
      "text/plain": [
       "<matplotlib.figure.Figure at 0x1439a5850>"
      ]
     },
     "metadata": {},
     "output_type": "display_data"
    }
   ],
   "source": [
    "modelfit(gsearch3.best_estimator_, X_train, y_train, X_test, y_test)"
   ]
  },
  {
   "cell_type": "code",
   "execution_count": 1119,
   "metadata": {
    "collapsed": false
   },
   "outputs": [
    {
     "data": {
      "text/plain": [
       "([mean: 0.65159, std: 0.02653, params: {'max_features': 1},\n",
       "  mean: 0.67288, std: 0.02768, params: {'max_features': 2},\n",
       "  mean: 0.67171, std: 0.02604, params: {'max_features': 3},\n",
       "  mean: 0.67884, std: 0.02182, params: {'max_features': 4},\n",
       "  mean: 0.67550, std: 0.01269, params: {'max_features': 5},\n",
       "  mean: 0.68055, std: 0.02184, params: {'max_features': 6},\n",
       "  mean: 0.67915, std: 0.02438, params: {'max_features': 7},\n",
       "  mean: 0.67826, std: 0.02419, params: {'max_features': 8},\n",
       "  mean: 0.67518, std: 0.01990, params: {'max_features': 9}],\n",
       " {'max_features': 6},\n",
       " 0.680550543103162)"
      ]
     },
     "execution_count": 1119,
     "metadata": {},
     "output_type": "execute_result"
    }
   ],
   "source": [
    "param_test4 = {'max_features':range(1,10,1)}\n",
    "gsearch4 = GridSearchCV(estimator = GBC(learning_rate=0.1, n_estimators=20,max_depth=5, min_samples_split=50, min_samples_leaf=5, subsample=0.8, random_state=10),\n",
    "param_grid = param_test4, scoring='roc_auc',n_jobs=4,iid=False, cv=5)\n",
    "gsearch4.fit(X_train,y_train)\n",
    "gsearch4.grid_scores_, gsearch4.best_params_, gsearch4.best_score_"
   ]
  },
  {
   "cell_type": "code",
   "execution_count": null,
   "metadata": {
    "collapsed": true
   },
   "outputs": [],
   "source": []
  }
 ],
 "metadata": {
  "kernelspec": {
   "display_name": "Python 2",
   "language": "python",
   "name": "python2"
  },
  "language_info": {
   "codemirror_mode": {
    "name": "ipython",
    "version": 2
   },
   "file_extension": ".py",
   "mimetype": "text/x-python",
   "name": "python",
   "nbconvert_exporter": "python",
   "pygments_lexer": "ipython2",
   "version": "2.7.12"
  }
 },
 "nbformat": 4,
 "nbformat_minor": 0
}
