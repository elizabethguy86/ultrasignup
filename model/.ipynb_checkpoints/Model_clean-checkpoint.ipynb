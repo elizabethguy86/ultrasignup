{
 "cells": [
  {
   "cell_type": "code",
   "execution_count": 273,
   "metadata": {
    "collapsed": false
   },
   "outputs": [],
   "source": [
    "import pandas as pd\n",
    "import numpy as np\n",
    "import matplotlib.pyplot as plt\n",
    "from sklearn.linear_model import LogisticRegression as LR\n",
    "from sklearn.ensemble import RandomForestClassifier as RFC\n",
    "from sklearn.ensemble import GradientBoostingClassifier as GBC\n",
    "from sklearn.cross_validation import train_test_split\n",
    "from sklearn.metrics import log_loss, auc, roc_curve, roc_auc_score, accuracy_score, precision_recall_curve, confusion_matrix\n",
    "from sklearn.cross_validation import cross_val_score\n",
    "from sklearn.grid_search import GridSearchCV\n",
    "%matplotlib inline"
   ]
  },
  {
   "cell_type": "code",
   "execution_count": 274,
   "metadata": {
    "collapsed": false
   },
   "outputs": [],
   "source": [
    "##Load data for final model\n",
    "data = pd.read_csv('../ult_sign_scrape/race_master/master_database_fe4.csv')"
   ]
  },
  {
   "cell_type": "code",
   "execution_count": 275,
   "metadata": {
    "collapsed": false
   },
   "outputs": [],
   "source": [
    "##Clean data by dropping extraneous columns\n",
    "cleaned_data = data.drop(['Unnamed: 0', 'Unnamed: 0.1'], axis=1)\n",
    "##Second stage of cleaning by removing na values from dataframe\n",
    "cleaned_data = cleaned_data.dropna()"
   ]
  },
  {
   "cell_type": "code",
   "execution_count": 276,
   "metadata": {
    "collapsed": false
   },
   "outputs": [],
   "source": [
    "##Create gender dummy variables for model\n",
    "gender_dummies = pd.get_dummies(cleaned_data.gender, prefix='gender')\n",
    "cleaned_data = cleaned_data.join(gender_dummies)"
   ]
  },
  {
   "cell_type": "code",
   "execution_count": 277,
   "metadata": {
    "collapsed": false
   },
   "outputs": [
    {
     "name": "stdout",
     "output_type": "stream",
     "text": [
      "Before Coding:\n",
      "1    6291\n",
      "2    3930\n",
      "3     540\n",
      "Name: status, dtype: int64\n",
      "\n",
      "After Coding:\n",
      "0    10221\n",
      "1      540\n",
      "Name: status_coded, dtype: int64\n"
     ]
    }
   ],
   "source": [
    "##Consolidate all starts (code DNF with finishers) for modeling\n",
    "def coding(col, codeDict):\n",
    "    colCoded = pd.Series(col, copy=True)\n",
    "    for key, value in codeDict.items():\n",
    "        colCoded.replace(key, value, inplace=True)\n",
    "    return colCoded\n",
    " \n",
    "print 'Before Coding:'\n",
    "print pd.value_counts(cleaned_data[\"status\"])\n",
    "cleaned_data[\"status_coded\"] = coding(cleaned_data[\"status\"], {'1':0,'2':0, '3':1})\n",
    "print '\\nAfter Coding:'\n",
    "print pd.value_counts(cleaned_data[\"status_coded\"])\n",
    "status_coded = cleaned_data.drop(['status'], axis=1)"
   ]
  },
  {
   "cell_type": "code",
   "execution_count": 278,
   "metadata": {
    "collapsed": true
   },
   "outputs": [],
   "source": [
    "##Set response variable for coded dataframe\n",
    "y_DNS = status_coded.pop('status_coded')\n",
    "##Set response variable for uncoded dataframe\n",
    "y_DNF = cleaned_data.pop('status')"
   ]
  },
  {
   "cell_type": "code",
   "execution_count": 279,
   "metadata": {
    "collapsed": false
   },
   "outputs": [],
   "source": [
    "##Set predictors for coded dataframe\n",
    "codedX = status_coded.drop(['gender', 'participant_id', 'race_name', 'race_id', 'Age_Rank', \\\n",
    "                  'Gender_Rank', 'Total_races'\\\n",
    "                 , 'gender_M'], axis=1)\n",
    "##Set predictors for uncoded dataframe\n",
    "uncodedX = cleaned_data.drop(['gender', 'participant_id', 'race_name', 'race_id', 'Age_Rank', \\\n",
    "                  'Gender_Rank', 'Total_races'\\\n",
    "                 , 'gender_M'], axis=1)"
   ]
  },
  {
   "cell_type": "code",
   "execution_count": 280,
   "metadata": {
    "collapsed": true
   },
   "outputs": [],
   "source": [
    "##Create test/train splits for both datasets\n",
    "##coded dataframe\n",
    "cX_train, cX_test, cy_train, cy_test = train_test_split(codedX, y_DNS, test_size=0.3)\n",
    "##uncoded dataframe\n",
    "uX_train, uX_test, uy_train, uy_test = train_test_split(uncodedX, y_DNF, test_size=0.3)"
   ]
  },
  {
   "cell_type": "code",
   "execution_count": 309,
   "metadata": {
    "collapsed": false
   },
   "outputs": [
    {
     "data": {
      "text/html": [
       "<div>\n",
       "<table border=\"1\" class=\"dataframe\">\n",
       "  <thead>\n",
       "    <tr style=\"text-align: right;\">\n",
       "      <th></th>\n",
       "      <th>age</th>\n",
       "      <th>runner_rank</th>\n",
       "      <th>Season</th>\n",
       "      <th>Metro_area</th>\n",
       "      <th>WL_SO</th>\n",
       "      <th>Entry_fee</th>\n",
       "      <th>PPM</th>\n",
       "      <th>gender_F</th>\n",
       "    </tr>\n",
       "  </thead>\n",
       "  <tbody>\n",
       "    <tr>\n",
       "      <th>1695</th>\n",
       "      <td>49</td>\n",
       "      <td>60.64</td>\n",
       "      <td>2</td>\n",
       "      <td>0</td>\n",
       "      <td>0</td>\n",
       "      <td>0</td>\n",
       "      <td>1.85</td>\n",
       "      <td>0.0</td>\n",
       "    </tr>\n",
       "    <tr>\n",
       "      <th>4950</th>\n",
       "      <td>37</td>\n",
       "      <td>64.51</td>\n",
       "      <td>3</td>\n",
       "      <td>1</td>\n",
       "      <td>0</td>\n",
       "      <td>1</td>\n",
       "      <td>2.65</td>\n",
       "      <td>1.0</td>\n",
       "    </tr>\n",
       "    <tr>\n",
       "      <th>8321</th>\n",
       "      <td>38</td>\n",
       "      <td>64.56</td>\n",
       "      <td>2</td>\n",
       "      <td>1</td>\n",
       "      <td>1</td>\n",
       "      <td>1</td>\n",
       "      <td>4.10</td>\n",
       "      <td>0.0</td>\n",
       "    </tr>\n",
       "    <tr>\n",
       "      <th>1524</th>\n",
       "      <td>48</td>\n",
       "      <td>69.45</td>\n",
       "      <td>1</td>\n",
       "      <td>1</td>\n",
       "      <td>1</td>\n",
       "      <td>1</td>\n",
       "      <td>3.20</td>\n",
       "      <td>0.0</td>\n",
       "    </tr>\n",
       "    <tr>\n",
       "      <th>5606</th>\n",
       "      <td>42</td>\n",
       "      <td>57.91</td>\n",
       "      <td>3</td>\n",
       "      <td>1</td>\n",
       "      <td>0</td>\n",
       "      <td>1</td>\n",
       "      <td>2.65</td>\n",
       "      <td>0.0</td>\n",
       "    </tr>\n",
       "  </tbody>\n",
       "</table>\n",
       "</div>"
      ],
      "text/plain": [
       "      age  runner_rank  Season  Metro_area  WL_SO  Entry_fee   PPM  gender_F\n",
       "1695   49        60.64       2           0      0          0  1.85       0.0\n",
       "4950   37        64.51       3           1      0          1  2.65       1.0\n",
       "8321   38        64.56       2           1      1          1  4.10       0.0\n",
       "1524   48        69.45       1           1      1          1  3.20       0.0\n",
       "5606   42        57.91       3           1      0          1  2.65       0.0"
      ]
     },
     "execution_count": 309,
     "metadata": {},
     "output_type": "execute_result"
    }
   ],
   "source": [
    "cX_train.head()"
   ]
  },
  {
   "cell_type": "markdown",
   "metadata": {},
   "source": [
    "# Logistic Regression Modeling"
   ]
  },
  {
   "cell_type": "code",
   "execution_count": 281,
   "metadata": {
    "collapsed": false
   },
   "outputs": [
    {
     "name": "stdout",
     "output_type": "stream",
     "text": [
      "0.188766700155\n",
      "0.630910541191\n",
      "[[3068    0]\n",
      " [ 161    0]]\n"
     ]
    }
   ],
   "source": [
    "##coded dataframe\n",
    "cLR = LR(C=10)\n",
    "cLR.fit(cX_train, cy_train)\n",
    "cLRp = cLR.predict_proba(cX_test)\n",
    "cLRpr = cLR.predict(cX_test)\n",
    "print log_loss(cy_test, cLRp)\n",
    "print roc_auc_score(cy_test, cLRp[:,1])\n",
    "print confusion_matrix(cy_test, cLRpr)"
   ]
  },
  {
   "cell_type": "code",
   "execution_count": 282,
   "metadata": {
    "collapsed": false
   },
   "outputs": [
    {
     "name": "stdout",
     "output_type": "stream",
     "text": [
      "0.596366196934\n",
      "0.678847940539\n"
     ]
    }
   ],
   "source": [
    "##uncoded dataframe\n",
    "uLR = LR(C=10)\n",
    "uLR.fit(uX_train, uy_train)\n",
    "uLRp = uLR.predict_proba(uX_test)\n",
    "uLRa = uLR.predict(uX_test)\n",
    "print log_loss(uy_test, uLRp)\n",
    "print accuracy_score(uy_test, uLRa)"
   ]
  },
  {
   "cell_type": "code",
   "execution_count": 283,
   "metadata": {
    "collapsed": false
   },
   "outputs": [
    {
     "data": {
      "image/png": "[encoded data removed]",
      "text/plain": [
       "<matplotlib.figure.Figure at 0x129f42ed0>"
      ]
     },
     "metadata": {},
     "output_type": "display_data"
    },
    {
     "data": {
      "text/plain": [
       "0.067589975360027324"
      ]
     },
     "execution_count": 283,
     "metadata": {},
     "output_type": "execute_result"
    }
   ],
   "source": [
    "##ROC curve\n",
    "fpr, tpr, thresholds = roc_curve(cy_test, cLRp[:,1]) \n",
    "plt.plot(fpr, tpr)\n",
    "plt.show()\n",
    "thresholds.mean()"
   ]
  },
  {
   "cell_type": "markdown",
   "metadata": {},
   "source": [
    "# Random Forest"
   ]
  },
  {
   "cell_type": "code",
   "execution_count": 284,
   "metadata": {
    "collapsed": false
   },
   "outputs": [
    {
     "name": "stdout",
     "output_type": "stream",
     "text": [
      "0.467412315786\n",
      "0.710825835918\n",
      "[[3035   33]\n",
      " [ 128   33]]\n"
     ]
    }
   ],
   "source": [
    "##coded dataframe\n",
    "cRF = RFC(n_estimators=500, criterion='entropy', random_state=1, n_jobs=2)\n",
    "cRF.fit(cX_train, cy_train)\n",
    "cRFp = cRF.predict_proba(cX_test)\n",
    "cRFpr = cRF.predict(cX_test)\n",
    "\n",
    "print log_loss(cy_test, cRFp)\n",
    "print roc_auc_score(cy_test, cRFp[:,1])\n",
    "print confusion_matrix(cy_test, cRFpr)"
   ]
  },
  {
   "cell_type": "code",
   "execution_count": 308,
   "metadata": {
    "collapsed": false
   },
   "outputs": [
    {
     "data": {
      "text/plain": [
       "array([[1614, 1454],\n",
       "       [ 123,   38]])"
      ]
     },
     "execution_count": 308,
     "metadata": {},
     "output_type": "execute_result"
    }
   ],
   "source": [
    "positive = []\n",
    "negative = []\n",
    "for each in cRFp[:,1]:\n",
    "    if each > 0.002:\n",
    "        positive.append(1)\n",
    "        negative.append(0)\n",
    "    else:\n",
    "        positive.append(0)\n",
    "        negative.append(1)\n",
    "confusion_matrix(cy_test, negative)   "
   ]
  },
  {
   "cell_type": "code",
   "execution_count": 298,
   "metadata": {
    "collapsed": false
   },
   "outputs": [
    {
     "name": "stdout",
     "output_type": "stream",
     "text": [
      "0.613236230487\n",
      "0.698048931558\n",
      "[[1449  431    0]\n",
      " [ 544  663    0]\n",
      " [   0    0  142]]\n"
     ]
    }
   ],
   "source": [
    "##uncoded dataframe\n",
    "uRF = RFC(n_estimators=500, criterion='entropy', random_state=1, n_jobs=2)\n",
    "uRF.fit(uX_train, uy_train)\n",
    "uRFp = uRF.predict_proba(uX_test)\n",
    "uRFa = uRF.predict(uX_test)\n",
    "print log_loss(uy_test, uRFp)\n",
    "print accuracy_score(uy_test, uRFa)\n",
    "print confusion_matrix(uy_test, uRFa)"
   ]
  },
  {
   "cell_type": "code",
   "execution_count": 305,
   "metadata": {
    "collapsed": false
   },
   "outputs": [
    {
     "data": {
      "image/png": "[encoded data removed]",
      "text/plain": [
       "<matplotlib.figure.Figure at 0x11848fc90>"
      ]
     },
     "metadata": {},
     "output_type": "display_data"
    }
   ],
   "source": [
    "##ROC curve\n",
    "fpr, tpr, thresholds = roc_curve(cy_test, cRFp[:,1]) \n",
    "labels = ['fpr', 'tpr']\n",
    "RFP = plt.plot(fpr, tpr, 'r', label='Random Forest')\n"
   ]
  },
  {
   "cell_type": "markdown",
   "metadata": {},
   "source": [
    "# Gradient Boosted Classifier"
   ]
  },
  {
   "cell_type": "code",
   "execution_count": 300,
   "metadata": {
    "collapsed": false
   },
   "outputs": [
    {
     "name": "stdout",
     "output_type": "stream",
     "text": [
      "0.185329314474\n",
      "0.687221124491\n",
      "[[3065    3]\n",
      " [ 158    3]]\n"
     ]
    }
   ],
   "source": [
    "##coded dataframe\n",
    "cGBC = GBC(n_estimators=50, max_depth=4, learning_rate=0.1)\n",
    "cGBC.fit(cX_train, cy_train)\n",
    "cGBCp = cGBC.predict_proba(cX_test)\n",
    "cGBCpr = cGBC.predict(cX_test)\n",
    "print log_loss(cy_test, cGBCp)\n",
    "print roc_auc_score(cy_test, cGBCp[:,1])\n",
    "print confusion_matrix(cy_test, cGBCpr)"
   ]
  },
  {
   "cell_type": "code",
   "execution_count": 301,
   "metadata": {
    "collapsed": false
   },
   "outputs": [
    {
     "name": "stdout",
     "output_type": "stream",
     "text": [
      "0.586103871786\n",
      "0.686590275627\n"
     ]
    }
   ],
   "source": [
    "##uncoded dataframe\n",
    "uGBC = GBC(n_estimators=50, max_depth=4, learning_rate=0.1)\n",
    "uGBC.fit(uX_train, uy_train)\n",
    "uGBCp = uGBC.predict_proba(uX_test)\n",
    "uGBCa = uGBC.predict(uX_test)\n",
    "print log_loss(uy_test, uGBCp)\n",
    "print accuracy_score(uy_test, uGBCa)"
   ]
  },
  {
   "cell_type": "code",
   "execution_count": 304,
   "metadata": {
    "collapsed": false
   },
   "outputs": [
    {
     "data": {
      "image/png": "[encoded data removed]",
      "text/plain": [
       "<matplotlib.figure.Figure at 0x129fdd350>"
      ]
     },
     "metadata": {},
     "output_type": "display_data"
    }
   ],
   "source": [
    "##ROC curve\n",
    "fpr, tpr, thresholds = roc_curve(cy_test, cGBCp[:,1]) \n",
    "labels = ['fpr', 'tpr']\n",
    "plt.plot(fpr, tpr, 'r')\n",
    "plt.show()"
   ]
  },
  {
   "cell_type": "code",
   "execution_count": 303,
   "metadata": {
    "collapsed": false
   },
   "outputs": [
    {
     "data": {
      "image/png": "[encoded data removed]",
      "text/plain": [
       "<matplotlib.figure.Figure at 0x1284ea410>"
      ]
     },
     "metadata": {},
     "output_type": "display_data"
    }
   ],
   "source": [
    "fpr, tpr, thresholds = roc_curve(cy_test, cRFp[:,1]) \n",
    "labels = ['fpr', 'tpr']\n",
    "RFP = plt.plot(fpr, tpr, 'r', label='Random Forest')\n",
    "fpr, tpr, thresholds = roc_curve(cy_test, cGBCp[:,1]) \n",
    "GBCP = plt.plot(fpr, tpr, 'b', label='Gradient Boosted Classifier')\n",
    "fpr, tpr, thresholds = roc_curve(cy_test, cLRp[:,1]) \n",
    "LRP = plt.plot(fpr, tpr, 'k', label='Logistic Regression')\n",
    "plt.ylabel('Pred Y, NS +$2.50')\n",
    "plt.xlabel('Pred Y, S -Reputation')\n",
    "plt.title('ROC curves for model selection')\n",
    "plt.legend(['RF', 'GBC', 'LR'], loc=4)\n",
    "plt.show()"
   ]
  },
  {
   "cell_type": "code",
   "execution_count": 329,
   "metadata": {
    "collapsed": false
   },
   "outputs": [
    {
     "data": {
      "image/png": "[encoded data removed]",
      "text/plain": [
       "<matplotlib.figure.Figure at 0x1285a2a90>"
      ]
     },
     "metadata": {},
     "output_type": "display_data"
    }
   ],
   "source": [
    "TPC = 250.\n",
    "FPC = -100.\n",
    "FNC = 0.\n",
    "TNC = 100.\n",
    "fpr, tpr, thresholds = roc_curve(cy_test, cRFp[:,1]) \n",
    "labels = ['fpr', 'tpr']\n",
    "cost = (tpr * TPC) + ((1 - fpr) * TNC) + (fpr * FPC) + ((1 - tpr) * FNC)\n",
    "RFP = plt.plot(thresholds, cost, 'r', label='Random Forest')\n",
    "fpr, tpr, thresholds = roc_curve(cy_test, cGBCp[:,1])\n",
    "cost = (tpr * TPC) + ((1 - fpr) * TNC) + (fpr * FPC) + ((1 - tpr) * FNC)\n",
    "GBcost = plt.plot(thresholds, cost, 'b', label='Gradient Boosted Classifier')\n",
    "fpr, tpr, thresholds = roc_curve(cy_test, cLRp[:,1]) \n",
    "cost = (tpr * TPC) + ((1 - fpr) * TNC) + (fpr * FPC) + ((1 - tpr) * FNC)\n",
    "LRP = plt.plot(thresholds, cost, 'k', label='Logistic Regression')\n",
    "plt.axhline(0, color='g')\n",
    "plt.ylabel('cost')\n",
    "plt.xlabel('thresholds')\n",
    "plt.title('Cost Functions for model selection')\n",
    "plt.legend(['RF', 'GBC', 'LR'], loc=1)\n",
    "plt.show()"
   ]
  },
  {
   "cell_type": "code",
   "execution_count": null,
   "metadata": {
    "collapsed": true
   },
   "outputs": [],
   "source": []
  }
 ],
 "metadata": {
  "kernelspec": {
   "display_name": "Python 2",
   "language": "python",
   "name": "python2"
  },
  "language_info": {
   "codemirror_mode": {
    "name": "ipython",
    "version": 2
   },
   "file_extension": ".py",
   "mimetype": "text/x-python",
   "name": "python",
   "nbconvert_exporter": "python",
   "pygments_lexer": "ipython2",
   "version": "2.7.12"
  }
 },
 "nbformat": 4,
 "nbformat_minor": 0
}
