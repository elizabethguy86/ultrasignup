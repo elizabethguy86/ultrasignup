{
 "cells": [
  {
   "cell_type": "code",
   "execution_count": 1,
   "metadata": {
    "collapsed": false
   },
   "outputs": [
    {
     "name": "stderr",
     "output_type": "stream",
     "text": [
      "/Users/stef/anaconda2/lib/python2.7/site-packages/sklearn/cross_validation.py:44: DeprecationWarning: This module was deprecated in version 0.18 in favor of the model_selection module into which all the refactored classes and functions are moved. Also note that the interface of the new CV iterators are different from that of this module. This module will be removed in 0.20.\n",
      "  \"This module will be removed in 0.20.\", DeprecationWarning)\n",
      "/Users/stef/anaconda2/lib/python2.7/site-packages/sklearn/grid_search.py:43: DeprecationWarning: This module was deprecated in version 0.18 in favor of the model_selection module into which all the refactored classes and functions are moved. This module will be removed in 0.20.\n",
      "  DeprecationWarning)\n"
     ]
    }
   ],
   "source": [
    "import pandas as pd\n",
    "import numpy as np\n",
    "import matplotlib.pyplot as plt\n",
    "from sklearn.linear_model import LogisticRegression as LR\n",
    "from sklearn.ensemble import RandomForestClassifier as RFC\n",
    "from sklearn.ensemble import GradientBoostingClassifier as GBC\n",
    "from sklearn.cross_validation import train_test_split\n",
    "from sklearn.metrics import log_loss, auc, roc_curve, roc_auc_score, accuracy_score, precision_recall_curve, confusion_matrix\n",
    "from sklearn.cross_validation import cross_val_score\n",
    "from sklearn.grid_search import GridSearchCV\n",
    "%matplotlib inline"
   ]
  },
  {
   "cell_type": "code",
   "execution_count": 483,
   "metadata": {
    "collapsed": false
   },
   "outputs": [],
   "source": [
    "##Load data for final model\n",
    "data = pd.read_csv('../ult_sign_scrape/race_master/master_database_fe4.csv')"
   ]
  },
  {
   "cell_type": "code",
   "execution_count": 484,
   "metadata": {
    "collapsed": false
   },
   "outputs": [],
   "source": [
    "##Clean data by dropping extraneous columns\n",
    "cleaned_data = data.drop(['Unnamed: 0', 'Unnamed: 0.1'], axis=1)\n",
    "##Second stage of cleaning by removing na values from dataframe\n",
    "cleaned_data = cleaned_data.dropna()\n",
    "cleaned_data['success_metric'] = cleaned_data['Total_races'] * cleaned_data['Success_rate']"
   ]
  },
  {
   "cell_type": "code",
   "execution_count": 485,
   "metadata": {
    "collapsed": false
   },
   "outputs": [],
   "source": [
    "##Create gender dummy variables for model\n",
    "gender_dummies = pd.get_dummies(cleaned_data.gender, prefix='gender')\n",
    "cleaned_data = cleaned_data.join(gender_dummies)"
   ]
  },
  {
   "cell_type": "code",
   "execution_count": 486,
   "metadata": {
    "collapsed": false
   },
   "outputs": [
    {
     "name": "stdout",
     "output_type": "stream",
     "text": [
      "Before Coding:\n",
      "1    6203\n",
      "2    3809\n",
      "3     498\n",
      "Name: status, dtype: int64\n",
      "\n",
      "After Coding:\n",
      "0    10012\n",
      "1      498\n",
      "Name: status_coded, dtype: int64\n",
      "\n",
      "After DNF Coding:\n",
      "1    6203\n",
      "0    4307\n",
      "Name: DNF_DNS_coded, dtype: int64\n"
     ]
    }
   ],
   "source": [
    "##Consolidate all starts (code DNF with finishers) for modeling\n",
    "def coding(col, codeDict):\n",
    "    colCoded = pd.Series(col, copy=True)\n",
    "    for key, value in codeDict.items():\n",
    "        colCoded.replace(key, value, inplace=True)\n",
    "    return colCoded\n",
    " \n",
    "print 'Before Coding:'\n",
    "print pd.value_counts(cleaned_data[\"status\"])\n",
    "cleaned_data[\"status_coded\"] = coding(cleaned_data[\"status\"], {'1':0,'2':0, '3':1})\n",
    "cleaned_data['DNF_DNS_coded'] = coding(cleaned_data[\"status\"], {'1':1,'2':0, '3':0})\n",
    "print '\\nAfter Coding:'\n",
    "print pd.value_counts(cleaned_data[\"status_coded\"])\n",
    "print '\\nAfter DNF Coding:'\n",
    "print pd.value_counts(cleaned_data[\"DNF_DNS_coded\"])\n",
    "status_coded = cleaned_data.drop(['status'], axis=1)\n",
    "status_DNF = cleaned_data.copy()\n",
    "status_DNF = cleaned_data.drop(['status', 'status_coded'], axis=1)"
   ]
  },
  {
   "cell_type": "code",
   "execution_count": 487,
   "metadata": {
    "collapsed": false
   },
   "outputs": [
    {
     "data": {
      "text/html": [
       "<div>\n",
       "<table border=\"1\" class=\"dataframe\">\n",
       "  <thead>\n",
       "    <tr style=\"text-align: right;\">\n",
       "      <th></th>\n",
       "      <th>age</th>\n",
       "      <th>gender</th>\n",
       "      <th>participant_id</th>\n",
       "      <th>runner_rank</th>\n",
       "      <th>race_id</th>\n",
       "      <th>race_name</th>\n",
       "      <th>Season</th>\n",
       "      <th>Metro_area</th>\n",
       "      <th>WL_SO</th>\n",
       "      <th>Entry_fee</th>\n",
       "      <th>PPM</th>\n",
       "      <th>Age_Rank</th>\n",
       "      <th>Gender_Rank</th>\n",
       "      <th>Total_races</th>\n",
       "      <th>Success_rate</th>\n",
       "      <th>success_metric</th>\n",
       "      <th>gender_F</th>\n",
       "      <th>gender_M</th>\n",
       "      <th>status_coded</th>\n",
       "      <th>DNF_DNS_coded</th>\n",
       "    </tr>\n",
       "  </thead>\n",
       "  <tbody>\n",
       "    <tr>\n",
       "      <th>10505</th>\n",
       "      <td>33</td>\n",
       "      <td>F</td>\n",
       "      <td>401678</td>\n",
       "      <td>78.58</td>\n",
       "      <td>34749</td>\n",
       "      <td>Bear</td>\n",
       "      <td>3</td>\n",
       "      <td>0</td>\n",
       "      <td>1</td>\n",
       "      <td>1</td>\n",
       "      <td>2.5</td>\n",
       "      <td>0.5776</td>\n",
       "      <td>0.5268</td>\n",
       "      <td>10.0</td>\n",
       "      <td>0.900000</td>\n",
       "      <td>9.0</td>\n",
       "      <td>1.0</td>\n",
       "      <td>0.0</td>\n",
       "      <td>0</td>\n",
       "      <td>1</td>\n",
       "    </tr>\n",
       "    <tr>\n",
       "      <th>10506</th>\n",
       "      <td>34</td>\n",
       "      <td>M</td>\n",
       "      <td>497556</td>\n",
       "      <td>61.71</td>\n",
       "      <td>34749</td>\n",
       "      <td>Bear</td>\n",
       "      <td>3</td>\n",
       "      <td>0</td>\n",
       "      <td>1</td>\n",
       "      <td>1</td>\n",
       "      <td>2.5</td>\n",
       "      <td>0.7733</td>\n",
       "      <td>0.6866</td>\n",
       "      <td>19.0</td>\n",
       "      <td>1.000000</td>\n",
       "      <td>19.0</td>\n",
       "      <td>0.0</td>\n",
       "      <td>1.0</td>\n",
       "      <td>0</td>\n",
       "      <td>1</td>\n",
       "    </tr>\n",
       "    <tr>\n",
       "      <th>10507</th>\n",
       "      <td>39</td>\n",
       "      <td>F</td>\n",
       "      <td>1123555</td>\n",
       "      <td>72.98</td>\n",
       "      <td>34749</td>\n",
       "      <td>Bear</td>\n",
       "      <td>3</td>\n",
       "      <td>0</td>\n",
       "      <td>1</td>\n",
       "      <td>1</td>\n",
       "      <td>2.5</td>\n",
       "      <td>0.6480</td>\n",
       "      <td>0.5925</td>\n",
       "      <td>5.0</td>\n",
       "      <td>1.000000</td>\n",
       "      <td>5.0</td>\n",
       "      <td>1.0</td>\n",
       "      <td>0.0</td>\n",
       "      <td>0</td>\n",
       "      <td>1</td>\n",
       "    </tr>\n",
       "    <tr>\n",
       "      <th>10508</th>\n",
       "      <td>43</td>\n",
       "      <td>F</td>\n",
       "      <td>290831</td>\n",
       "      <td>79.94</td>\n",
       "      <td>34749</td>\n",
       "      <td>Bear</td>\n",
       "      <td>3</td>\n",
       "      <td>0</td>\n",
       "      <td>1</td>\n",
       "      <td>1</td>\n",
       "      <td>2.5</td>\n",
       "      <td>0.7441</td>\n",
       "      <td>0.5918</td>\n",
       "      <td>2.0</td>\n",
       "      <td>1.000000</td>\n",
       "      <td>2.0</td>\n",
       "      <td>1.0</td>\n",
       "      <td>0.0</td>\n",
       "      <td>0</td>\n",
       "      <td>1</td>\n",
       "    </tr>\n",
       "    <tr>\n",
       "      <th>10509</th>\n",
       "      <td>31</td>\n",
       "      <td>F</td>\n",
       "      <td>474092</td>\n",
       "      <td>77.69</td>\n",
       "      <td>34749</td>\n",
       "      <td>Bear</td>\n",
       "      <td>3</td>\n",
       "      <td>0</td>\n",
       "      <td>1</td>\n",
       "      <td>1</td>\n",
       "      <td>2.5</td>\n",
       "      <td>0.8804</td>\n",
       "      <td>0.8119</td>\n",
       "      <td>76.0</td>\n",
       "      <td>0.960526</td>\n",
       "      <td>73.0</td>\n",
       "      <td>1.0</td>\n",
       "      <td>0.0</td>\n",
       "      <td>0</td>\n",
       "      <td>1</td>\n",
       "    </tr>\n",
       "  </tbody>\n",
       "</table>\n",
       "</div>"
      ],
      "text/plain": [
       "       age gender  participant_id  runner_rank  race_id race_name  Season  \\\n",
       "10505   33      F          401678        78.58    34749      Bear       3   \n",
       "10506   34      M          497556        61.71    34749      Bear       3   \n",
       "10507   39      F         1123555        72.98    34749      Bear       3   \n",
       "10508   43      F          290831        79.94    34749      Bear       3   \n",
       "10509   31      F          474092        77.69    34749      Bear       3   \n",
       "\n",
       "       Metro_area  WL_SO  Entry_fee  PPM  Age_Rank  Gender_Rank  Total_races  \\\n",
       "10505           0      1          1  2.5    0.5776       0.5268         10.0   \n",
       "10506           0      1          1  2.5    0.7733       0.6866         19.0   \n",
       "10507           0      1          1  2.5    0.6480       0.5925          5.0   \n",
       "10508           0      1          1  2.5    0.7441       0.5918          2.0   \n",
       "10509           0      1          1  2.5    0.8804       0.8119         76.0   \n",
       "\n",
       "       Success_rate  success_metric  gender_F  gender_M  status_coded  \\\n",
       "10505      0.900000             9.0       1.0       0.0             0   \n",
       "10506      1.000000            19.0       0.0       1.0             0   \n",
       "10507      1.000000             5.0       1.0       0.0             0   \n",
       "10508      1.000000             2.0       1.0       0.0             0   \n",
       "10509      0.960526            73.0       1.0       0.0             0   \n",
       "\n",
       "       DNF_DNS_coded  \n",
       "10505              1  \n",
       "10506              1  \n",
       "10507              1  \n",
       "10508              1  \n",
       "10509              1  "
      ]
     },
     "execution_count": 487,
     "metadata": {},
     "output_type": "execute_result"
    }
   ],
   "source": [
    "status_coded.tail()"
   ]
  },
  {
   "cell_type": "code",
   "execution_count": 488,
   "metadata": {
    "collapsed": true
   },
   "outputs": [],
   "source": [
    "##Set response variable for coded dataframe\n",
    "y_DNS = status_coded.pop('status_coded')\n",
    "##Set response variable for uncoded dataframe\n",
    "y_DNF = cleaned_data.pop('status')\n",
    "##Set response variable for DNF/DNS to finishers DF\n",
    "y_Finish = cleaned_data.pop('DNF_DNS_coded')"
   ]
  },
  {
   "cell_type": "code",
   "execution_count": 501,
   "metadata": {
    "collapsed": false
   },
   "outputs": [],
   "source": [
    "##Set predictors for coded dataframe\n",
    "codedX = status_coded.drop(['gender', 'participant_id', 'race_name', 'race_id', 'Age_Rank', \\\n",
    "                  'Gender_Rank', 'Total_races'\\\n",
    "                 , 'gender_M', 'DNF_DNS_coded', 'success_metric'], axis=1)\n",
    "##Set predictors for uncoded dataframe\n",
    "uncodedX = cleaned_data.drop(['gender', 'participant_id', 'race_name', 'race_id', 'Age_Rank', \\\n",
    "                  'Gender_Rank', 'Total_races'\\\n",
    "                 , 'gender_M', 'status_coded'], axis=1)\n",
    "##Set predictors for predicting DNF/DNS to finishers\n",
    "finish_model = cleaned_data.drop(['gender', 'participant_id', 'race_name', 'race_id', 'Age_Rank', \\\n",
    "                  'Gender_Rank'\\\n",
    "                 , 'gender_M', 'status_coded', 'Success_rate'], axis=1)"
   ]
  },
  {
   "cell_type": "code",
   "execution_count": 502,
   "metadata": {
    "collapsed": true
   },
   "outputs": [],
   "source": [
    "##Create test/train splits for both datasets\n",
    "##coded dataframe\n",
    "cX_train, cX_test, cy_train, cy_test = train_test_split(codedX, y_DNS, test_size=0.3)\n",
    "##uncoded dataframe\n",
    "uX_train, uX_test, uy_train, uy_test = train_test_split(uncodedX, y_DNF, test_size=0.3)\n",
    "##finisher dataframe\n",
    "fX_train, fX_test, fy_train, fy_test = train_test_split(finish_model, y_Finish, test_size=0.3)"
   ]
  },
  {
   "cell_type": "code",
   "execution_count": null,
   "metadata": {
    "collapsed": false
   },
   "outputs": [],
   "source": []
  },
  {
   "cell_type": "markdown",
   "metadata": {},
   "source": [
    "# Logistic Regression Modeling"
   ]
  },
  {
   "cell_type": "code",
   "execution_count": 503,
   "metadata": {
    "collapsed": false
   },
   "outputs": [
    {
     "name": "stdout",
     "output_type": "stream",
     "text": [
      "0.175596703355\n",
      "0.611383846085\n",
      "[[3011    0]\n",
      " [ 142    0]]\n"
     ]
    }
   ],
   "source": [
    "##coded dataframe\n",
    "cLR = LR(C=10, penalty='l1')\n",
    "cLR.fit(cX_train, cy_train)\n",
    "cLRp = cLR.predict_proba(cX_test)\n",
    "cLRpr = cLR.predict(cX_test)\n",
    "print log_loss(cy_test, cLRp)\n",
    "print roc_auc_score(cy_test, cLRp[:,1])\n",
    "print confusion_matrix(cy_test, cLRpr)"
   ]
  },
  {
   "cell_type": "code",
   "execution_count": 504,
   "metadata": {
    "collapsed": false
   },
   "outputs": [
    {
     "name": "stdout",
     "output_type": "stream",
     "text": [
      "0.762718048678\n",
      "0.635585156993\n"
     ]
    }
   ],
   "source": [
    "##uncoded dataframe\n",
    "uLR = LR(C=10)\n",
    "uLR.fit(uX_train, uy_train)\n",
    "uLRp = uLR.predict_proba(uX_test)\n",
    "uLRa = uLR.predict(uX_test)\n",
    "print log_loss(uy_test, uLRp)\n",
    "print accuracy_score(uy_test, uLRa)"
   ]
  },
  {
   "cell_type": "code",
   "execution_count": 505,
   "metadata": {
    "collapsed": false
   },
   "outputs": [
    {
     "name": "stdout",
     "output_type": "stream",
     "text": [
      "0.636569527593\n",
      "0.654750470853\n"
     ]
    }
   ],
   "source": [
    "##Finisher dataframe\n",
    "fLR = LR(C=100, penalty='l2', solver='newton-cg')\n",
    "fLR.fit(fX_train, fy_train)\n",
    "fLRp = fLR.predict_proba(fX_test)\n",
    "fLRpr = fLR.predict(fX_test)\n",
    "print log_loss(fy_test, fLRp)\n",
    "print roc_auc_score(fy_test, fLRp[:,1])\n",
    "#print confusion_matrix(cy_test, cLRpr)"
   ]
  },
  {
   "cell_type": "code",
   "execution_count": 506,
   "metadata": {
    "collapsed": false
   },
   "outputs": [
    {
     "data": {
      "image/png": "[encoded data removed]",
      "text/plain": [
       "<matplotlib.figure.Figure at 0x118d29f10>"
      ]
     },
     "metadata": {},
     "output_type": "display_data"
    },
    {
     "data": {
      "text/plain": [
       "0.5915517617769428"
      ]
     },
     "execution_count": 506,
     "metadata": {},
     "output_type": "execute_result"
    }
   ],
   "source": [
    "##ROC curve\n",
    "fpr, tpr, thresholds = roc_curve(fy_test, fLRp[:,1]) \n",
    "plt.plot(fpr, tpr)\n",
    "plt.show()\n",
    "thresholds.mean()"
   ]
  },
  {
   "cell_type": "markdown",
   "metadata": {},
   "source": [
    "# Random Forest"
   ]
  },
  {
   "cell_type": "code",
   "execution_count": 517,
   "metadata": {
    "collapsed": false
   },
   "outputs": [
    {
     "name": "stdout",
     "output_type": "stream",
     "text": [
      "0.270409042701\n",
      "0.696574999649\n",
      "[[3000   11]\n",
      " [ 138    4]]\n"
     ]
    }
   ],
   "source": [
    "##coded dataframe\n",
    "cRF = RFC(n_estimators=1000, criterion='gini', random_state=1, n_jobs=2)\n",
    "cRF.fit(cX_train, cy_train)\n",
    "cRFp = cRF.predict_proba(cX_test)\n",
    "cRFpr = cRF.predict(cX_test)\n",
    "\n",
    "print log_loss(cy_test, cRFp)\n",
    "print roc_auc_score(cy_test, cRFp[:,1])\n",
    "print confusion_matrix(cy_test, cRFpr)"
   ]
  },
  {
   "cell_type": "code",
   "execution_count": 508,
   "metadata": {
    "collapsed": false
   },
   "outputs": [
    {
     "data": {
      "text/plain": [
       "array([[2104,  907],\n",
       "       [ 126,   16]])"
      ]
     },
     "execution_count": 508,
     "metadata": {},
     "output_type": "execute_result"
    }
   ],
   "source": [
    "positive = []\n",
    "negative = []\n",
    "for each in cRFp[:,1]:\n",
    "    if each > 0.002:\n",
    "        positive.append(1)\n",
    "        negative.append(0)\n",
    "    else:\n",
    "        positive.append(0)\n",
    "        negative.append(1)\n",
    "confusion_matrix(cy_test, negative)   "
   ]
  },
  {
   "cell_type": "code",
   "execution_count": 509,
   "metadata": {
    "collapsed": false
   },
   "outputs": [
    {
     "name": "stdout",
     "output_type": "stream",
     "text": [
      "0.864747178363\n",
      "0.629241991754\n",
      "[[1475  374   11]\n",
      " [ 643  504    9]\n",
      " [  91   41    5]]\n"
     ]
    }
   ],
   "source": [
    "##uncoded dataframe\n",
    "uRF = RFC(n_estimators=500, criterion='gini', random_state=1, n_jobs=2)\n",
    "uRF.fit(uX_train, uy_train)\n",
    "uRFp = uRF.predict_proba(uX_test)\n",
    "uRFa = uRF.predict(uX_test)\n",
    "print log_loss(uy_test, uRFp)\n",
    "print accuracy_score(uy_test, uRFa)\n",
    "print confusion_matrix(uy_test, uRFa)"
   ]
  },
  {
   "cell_type": "code",
   "execution_count": 419,
   "metadata": {
    "collapsed": false
   },
   "outputs": [
    {
     "data": {
      "text/html": [
       "<div>\n",
       "<table border=\"1\" class=\"dataframe\">\n",
       "  <thead>\n",
       "    <tr style=\"text-align: right;\">\n",
       "      <th></th>\n",
       "      <th>age</th>\n",
       "      <th>runner_rank</th>\n",
       "      <th>Season</th>\n",
       "      <th>Metro_area</th>\n",
       "      <th>WL_SO</th>\n",
       "      <th>Entry_fee</th>\n",
       "      <th>PPM</th>\n",
       "      <th>Success_rate</th>\n",
       "      <th>gender_F</th>\n",
       "    </tr>\n",
       "  </thead>\n",
       "  <tbody>\n",
       "    <tr>\n",
       "      <th>965</th>\n",
       "      <td>51</td>\n",
       "      <td>76.97</td>\n",
       "      <td>3</td>\n",
       "      <td>0</td>\n",
       "      <td>1</td>\n",
       "      <td>1</td>\n",
       "      <td>2.50</td>\n",
       "      <td>1.000000</td>\n",
       "      <td>0.0</td>\n",
       "    </tr>\n",
       "    <tr>\n",
       "      <th>3804</th>\n",
       "      <td>53</td>\n",
       "      <td>68.50</td>\n",
       "      <td>3</td>\n",
       "      <td>1</td>\n",
       "      <td>0</td>\n",
       "      <td>1</td>\n",
       "      <td>2.65</td>\n",
       "      <td>1.000000</td>\n",
       "      <td>0.0</td>\n",
       "    </tr>\n",
       "    <tr>\n",
       "      <th>8344</th>\n",
       "      <td>45</td>\n",
       "      <td>70.23</td>\n",
       "      <td>2</td>\n",
       "      <td>1</td>\n",
       "      <td>1</td>\n",
       "      <td>1</td>\n",
       "      <td>4.10</td>\n",
       "      <td>0.947368</td>\n",
       "      <td>1.0</td>\n",
       "    </tr>\n",
       "    <tr>\n",
       "      <th>4716</th>\n",
       "      <td>56</td>\n",
       "      <td>64.90</td>\n",
       "      <td>3</td>\n",
       "      <td>1</td>\n",
       "      <td>0</td>\n",
       "      <td>1</td>\n",
       "      <td>2.65</td>\n",
       "      <td>1.000000</td>\n",
       "      <td>0.0</td>\n",
       "    </tr>\n",
       "    <tr>\n",
       "      <th>9416</th>\n",
       "      <td>47</td>\n",
       "      <td>75.90</td>\n",
       "      <td>1</td>\n",
       "      <td>1</td>\n",
       "      <td>1</td>\n",
       "      <td>1</td>\n",
       "      <td>2.50</td>\n",
       "      <td>0.967742</td>\n",
       "      <td>0.0</td>\n",
       "    </tr>\n",
       "  </tbody>\n",
       "</table>\n",
       "</div>"
      ],
      "text/plain": [
       "      age  runner_rank  Season  Metro_area  WL_SO  Entry_fee   PPM  \\\n",
       "965    51        76.97       3           0      1          1  2.50   \n",
       "3804   53        68.50       3           1      0          1  2.65   \n",
       "8344   45        70.23       2           1      1          1  4.10   \n",
       "4716   56        64.90       3           1      0          1  2.65   \n",
       "9416   47        75.90       1           1      1          1  2.50   \n",
       "\n",
       "      Success_rate  gender_F  \n",
       "965       1.000000       0.0  \n",
       "3804      1.000000       0.0  \n",
       "8344      0.947368       1.0  \n",
       "4716      1.000000       0.0  \n",
       "9416      0.967742       0.0  "
      ]
     },
     "execution_count": 419,
     "metadata": {},
     "output_type": "execute_result"
    }
   ],
   "source": [
    "cX_train.head()"
   ]
  },
  {
   "cell_type": "code",
   "execution_count": 510,
   "metadata": {
    "collapsed": false
   },
   "outputs": [
    {
     "name": "stdout",
     "output_type": "stream",
     "text": [
      "0.659679634799\n",
      "0.665285623013\n",
      "[[ 604  682]\n",
      " [ 459 1408]]\n"
     ]
    }
   ],
   "source": [
    "##Finisher dataframe\n",
    "fRF = RFC(n_estimators=500, criterion='gini', random_state=1, n_jobs=2)\n",
    "fRF.fit(fX_train, fy_train)\n",
    "fRFp = fRF.predict_proba(fX_test)\n",
    "fRFpr = fRF.predict(fX_test)\n",
    "\n",
    "print log_loss(fy_test, fRFp)\n",
    "print roc_auc_score(fy_test, fRFp[:,1])\n",
    "print confusion_matrix(fy_test, fRFpr)"
   ]
  },
  {
   "cell_type": "code",
   "execution_count": 416,
   "metadata": {
    "collapsed": false
   },
   "outputs": [
    {
     "data": {
      "image/png": "[encoded data removed]",
      "text/plain": [
       "<matplotlib.figure.Figure at 0x130c86310>"
      ]
     },
     "metadata": {},
     "output_type": "display_data"
    }
   ],
   "source": [
    "##ROC curve\n",
    "fpr, tpr, thresholds = roc_curve(fy_test, fRFp[:,1]) \n",
    "labels = ['fpr', 'tpr']\n",
    "RFP = plt.plot(fpr, tpr, 'r', label='Random Forest')\n"
   ]
  },
  {
   "cell_type": "markdown",
   "metadata": {},
   "source": [
    "# Gradient Boosted Classifier"
   ]
  },
  {
   "cell_type": "code",
   "execution_count": 514,
   "metadata": {
    "collapsed": false
   },
   "outputs": [
    {
     "name": "stdout",
     "output_type": "stream",
     "text": [
      "0.174526532999\n",
      "0.681274294722\n",
      "[[3010    1]\n",
      " [ 142    0]]\n"
     ]
    }
   ],
   "source": [
    "##coded dataframe\n",
    "cGBC = GBC(n_estimators=1000, max_depth=8, learning_rate=0.001)\n",
    "cGBC.fit(cX_train, cy_train)\n",
    "cGBCp = cGBC.predict_proba(cX_test)\n",
    "cGBCpr = cGBC.predict(cX_test)\n",
    "print log_loss(cy_test, cGBCp)\n",
    "print roc_auc_score(cy_test, cGBCp[:,1])\n",
    "print confusion_matrix(cy_test, cGBCpr)"
   ]
  },
  {
   "cell_type": "code",
   "execution_count": 418,
   "metadata": {
    "collapsed": false
   },
   "outputs": [
    {
     "name": "stdout",
     "output_type": "stream",
     "text": [
      "0.743648264395\n",
      "0.642562638757\n"
     ]
    }
   ],
   "source": [
    "##uncoded dataframe\n",
    "uGBC = GBC(n_estimators=50, max_depth=4, learning_rate=0.1)\n",
    "uGBC.fit(uX_train, uy_train)\n",
    "uGBCp = uGBC.predict_proba(uX_test)\n",
    "uGBCa = uGBC.predict(uX_test)\n",
    "print log_loss(uy_test, uGBCp)\n",
    "print accuracy_score(uy_test, uGBCa)"
   ]
  },
  {
   "cell_type": "code",
   "execution_count": 513,
   "metadata": {
    "collapsed": false
   },
   "outputs": [
    {
     "name": "stdout",
     "output_type": "stream",
     "text": [
      "0.626406732289\n",
      "0.690026122862\n",
      "[[ 555  731]\n",
      " [ 360 1507]]\n",
      "0.653980336188\n"
     ]
    }
   ],
   "source": [
    "##Finisher dataframe\n",
    "fGBC = GBC(n_estimators=1000, max_depth=8, learning_rate=0.01)\n",
    "fGBC.fit(fX_train, fy_train)\n",
    "fGBCp = fGBC.predict_proba(fX_test)\n",
    "fGBCpr = fGBC.predict(fX_test)\n",
    "print log_loss(fy_test, fGBCp)\n",
    "print roc_auc_score(fy_test, fGBCp[:,1])\n",
    "print confusion_matrix(fy_test, fGBCpr)\n",
    "print accuracy_score(fy_test, fGBCpr)"
   ]
  },
  {
   "cell_type": "code",
   "execution_count": 151,
   "metadata": {
    "collapsed": false
   },
   "outputs": [
    {
     "data": {
      "image/png": "[encoded data removed]",
      "text/plain": [
       "<matplotlib.figure.Figure at 0x133abaed0>"
      ]
     },
     "metadata": {},
     "output_type": "display_data"
    }
   ],
   "source": [
    "##ROC curve\n",
    "fpr, tpr, thresholds = roc_curve(cy_test, cGBCp[:,1]) \n",
    "labels = ['fpr', 'tpr']\n",
    "plt.plot(fpr, tpr, 'r')\n",
    "plt.show()"
   ]
  },
  {
   "cell_type": "code",
   "execution_count": 518,
   "metadata": {
    "collapsed": false
   },
   "outputs": [
    {
     "data": {
      "image/png": "[encoded data removed]",
      "text/plain": [
       "<matplotlib.figure.Figure at 0x1a0fc5290>"
      ]
     },
     "metadata": {},
     "output_type": "display_data"
    }
   ],
   "source": [
    "fpr, tpr, thresholds = roc_curve(cy_test, cRFp[:,1]) \n",
    "labels = ['fpr', 'tpr']\n",
    "RFP = plt.plot(fpr, tpr, 'r', label='Random Forest')\n",
    "fpr, tpr, thresholds = roc_curve(cy_test, cGBCp[:,1]) \n",
    "GBCP = plt.plot(fpr, tpr, 'b', label='Gradient Boosted Classifier')\n",
    "fpr, tpr, thresholds = roc_curve(cy_test, cLRp[:,1]) \n",
    "LRP = plt.plot(fpr, tpr, 'k', label='Logistic Regression')\n",
    "plt.ylabel('Pred Y, NS +$2.50')\n",
    "plt.xlabel('Pred Y, S -Reputation')\n",
    "plt.title('ROC curves for model selection')\n",
    "plt.legend(['RF', 'GBC', 'LR'], loc=4)\n",
    "plt.show()"
   ]
  },
  {
   "cell_type": "code",
   "execution_count": 519,
   "metadata": {
    "collapsed": false
   },
   "outputs": [
    {
     "data": {
      "image/png": "[encoded data removed]",
      "text/plain": [
       "<matplotlib.figure.Figure at 0x1309a2550>"
      ]
     },
     "metadata": {},
     "output_type": "display_data"
    }
   ],
   "source": [
    "TPC = 250.\n",
    "FPC = -100.\n",
    "FNC = 0.\n",
    "TNC = 100.\n",
    "fpr, tpr, thresholds = roc_curve(cy_test, cRFp[:,1]) \n",
    "labels = ['fpr', 'tpr']\n",
    "cost = (tpr * TPC) + ((1 - fpr) * TNC) + (fpr * FPC) + ((1 - tpr) * FNC)\n",
    "RFP = plt.plot(thresholds, cost, 'r', label='Random Forest')\n",
    "fpr, tpr, thresholds = roc_curve(cy_test, cGBCp[:,1])\n",
    "cost = (tpr * TPC) + ((1 - fpr) * TNC) + (fpr * FPC) + ((1 - tpr) * FNC)\n",
    "GBcost = plt.plot(thresholds, cost, 'b', label='Gradient Boosted Classifier')\n",
    "fpr, tpr, thresholds = roc_curve(cy_test, cLRp[:,1]) \n",
    "cost = (tpr * TPC) + ((1 - fpr) * TNC) + (fpr * FPC) + ((1 - tpr) * FNC)\n",
    "LRP = plt.plot(thresholds, cost, 'k', label='Logistic Regression')\n",
    "plt.axhline(0, color='g')\n",
    "plt.ylabel('cost')\n",
    "plt.xlabel('thresholds')\n",
    "plt.title('Profit Curves for model selection')\n",
    "plt.axis([0, 1, -500, 500])\n",
    "plt.legend(['RF', 'GBC', 'LR'], loc=1)\n",
    "plt.show()"
   ]
  },
  {
   "cell_type": "code",
   "execution_count": 253,
   "metadata": {
    "collapsed": false
   },
   "outputs": [
    {
     "data": {
      "image/png": "[encoded data removed]",
      "text/plain": [
       "<matplotlib.figure.Figure at 0x156cb8650>"
      ]
     },
     "metadata": {},
     "output_type": "display_data"
    }
   ],
   "source": [
    "fpr, tpr, thresholds = roc_curve(fy_test, fRFp[:,1]) \n",
    "labels = ['fpr', 'tpr']\n",
    "RFP = plt.plot(fpr, tpr, 'r', label='Random Forest')\n",
    "fpr, tpr, thresholds = roc_curve(fy_test, fGBCp[:,1]) \n",
    "GBCP = plt.plot(fpr, tpr, 'b', label='Gradient Boosted Classifier')\n",
    "fpr, tpr, thresholds = roc_curve(fy_test, fLRp[:,1]) \n",
    "LRP = plt.plot(fpr, tpr, 'k', label='Logistic Regression')\n",
    "plt.ylabel('Pred Y, DNF/DNS')\n",
    "plt.xlabel('Pred Y, Finished')\n",
    "plt.title('ROC curves for model selection')\n",
    "plt.legend(['RF', 'GBC', 'LR'], loc=4)\n",
    "plt.show()"
   ]
  },
  {
   "cell_type": "code",
   "execution_count": 269,
   "metadata": {
    "collapsed": false
   },
   "outputs": [],
   "source": [
    "# TPC = 175.\n",
    "# FPC = -250.\n",
    "# FNC = 175.\n",
    "# TNC = -250.\n",
    "# fpr, tpr, thresholds = roc_curve(fy_test, fRFp[:,1]) \n",
    "# labels = ['fpr', 'tpr']\n",
    "# cost = (tpr * TPC) + ((1 - fpr) * TNC) + (fpr * FPC) + ((1 - tpr) * FNC)\n",
    "# RFP = plt.plot(thresholds, cost, 'r', label='Random Forest')\n",
    "# fpr, tpr, thresholds = roc_curve(fy_test, fGBCp[:,1])\n",
    "# cost = (tpr * TPC) + ((1 - fpr) * TNC) + (fpr * FPC) + ((1 - tpr) * FNC)\n",
    "# GBcost = plt.plot(thresholds, cost, 'b', label='Gradient Boosted Classifier')\n",
    "# fpr, tpr, thresholds = roc_curve(fy_test, fLRp[:,1]) \n",
    "# cost = (tpr * TPC) + ((1 - fpr) * TNC) + (fpr * FPC) + ((1 - tpr) * FNC)\n",
    "# LRP = plt.plot(thresholds, cost, 'k', label='Logistic Regression')\n",
    "# plt.axhline(0, color='g')\n",
    "# plt.ylabel('cost')\n",
    "# plt.xlabel('thresholds')\n",
    "# plt.title('Profit Curves for model selection')\n",
    "# plt.axis([0, 1, -500, 500])\n",
    "# plt.legend(['RF', 'GBC', 'LR'], loc=1)\n",
    "# plt.show()"
   ]
  },
  {
   "cell_type": "code",
   "execution_count": null,
   "metadata": {
    "collapsed": true
   },
   "outputs": [],
   "source": []
  }
 ],
 "metadata": {
  "kernelspec": {
   "display_name": "Python 2",
   "language": "python",
   "name": "python2"
  },
  "language_info": {
   "codemirror_mode": {
    "name": "ipython",
    "version": 2
   },
   "file_extension": ".py",
   "mimetype": "text/x-python",
   "name": "python",
   "nbconvert_exporter": "python",
   "pygments_lexer": "ipython2",
   "version": "2.7.12"
  }
 },
 "nbformat": 4,
 "nbformat_minor": 0
}
