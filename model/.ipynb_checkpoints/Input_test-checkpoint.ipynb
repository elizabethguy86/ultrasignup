{
 "cells": [
  {
   "cell_type": "code",
   "execution_count": 33,
   "metadata": {
    "collapsed": true
   },
   "outputs": [],
   "source": [
    "import pickle\n",
    "import pandas as pd\n",
    "from sklearn.metrics import log_loss, auc, roc_curve, roc_auc_score, accuracy_score, precision_recall_curve, confusion_matrix\n",
    "from sklearn.ensemble import GradientBoostingClassifier\n",
    "import matplotlib.pyplot as plt\n",
    "import requests\n",
    "import json\n",
    "import numpy as np\n",
    "%matplotlib inline"
   ]
  },
  {
   "cell_type": "code",
   "execution_count": 12,
   "metadata": {
    "collapsed": false
   },
   "outputs": [],
   "source": [
    "with open('Finish_model.pkl', 'rb') as handle:\n",
    "    b = pickle.load(handle)"
   ]
  },
  {
   "cell_type": "code",
   "execution_count": 125,
   "metadata": {
    "collapsed": false
   },
   "outputs": [],
   "source": [
    "data = [34, 88.39, 3, 0, 1, 1, 2.5, 0.7174, 0.6806, 23.0, 0.90, 1]"
   ]
  },
  {
   "cell_type": "code",
   "execution_count": 126,
   "metadata": {
    "collapsed": false
   },
   "outputs": [
    {
     "name": "stderr",
     "output_type": "stream",
     "text": [
      "/Users/stef/anaconda2/lib/python2.7/site-packages/sklearn/utils/validation.py:395: DeprecationWarning: Passing 1d arrays as data is deprecated in 0.17 and will raise ValueError in 0.19. Reshape your data either using X.reshape(-1, 1) if your data has a single feature or X.reshape(1, -1) if it contains a single sample.\n",
      "  DeprecationWarning)\n"
     ]
    }
   ],
   "source": [
    "probabilities = b.predict_proba(data)"
   ]
  },
  {
   "cell_type": "code",
   "execution_count": 128,
   "metadata": {
    "collapsed": false
   },
   "outputs": [
    {
     "data": {
      "text/plain": [
       "0.84210408936773429"
      ]
     },
     "execution_count": 128,
     "metadata": {},
     "output_type": "execute_result"
    }
   ],
   "source": [
    "probabilities[0][1]"
   ]
  },
  {
   "cell_type": "code",
   "execution_count": 13,
   "metadata": {
    "collapsed": false
   },
   "outputs": [],
   "source": [
    "with open('DNS_model.pkl', 'rb') as handle:\n",
    "    c = pickle.load(handle)"
   ]
  },
  {
   "cell_type": "code",
   "execution_count": 14,
   "metadata": {
    "collapsed": true
   },
   "outputs": [],
   "source": [
    "data2 = [34, 88.39, 3, 0, 1, 1, 2.5, 0.7174, 0.6806, 23.0, 0.90, 1, 1]"
   ]
  },
  {
   "cell_type": "code",
   "execution_count": 15,
   "metadata": {
    "collapsed": false
   },
   "outputs": [
    {
     "name": "stderr",
     "output_type": "stream",
     "text": [
      "/Users/stef/anaconda2/lib/python2.7/site-packages/sklearn/utils/validation.py:395: DeprecationWarning: Passing 1d arrays as data is deprecated in 0.17 and will raise ValueError in 0.19. Reshape your data either using X.reshape(-1, 1) if your data has a single feature or X.reshape(1, -1) if it contains a single sample.\n",
      "  DeprecationWarning)\n"
     ]
    }
   ],
   "source": [
    "probability = c.predict_proba(data2)"
   ]
  },
  {
   "cell_type": "code",
   "execution_count": 16,
   "metadata": {
    "collapsed": false
   },
   "outputs": [
    {
     "data": {
      "text/plain": [
       "0.049202452112608749"
      ]
     },
     "execution_count": 16,
     "metadata": {},
     "output_type": "execute_result"
    }
   ],
   "source": [
    "probability[0][1]"
   ]
  },
  {
   "cell_type": "code",
   "execution_count": 17,
   "metadata": {
    "collapsed": true
   },
   "outputs": [],
   "source": [
    "with open('y_test.pkl', 'rb') as handle:\n",
    "    y_test = pickle.load(handle)"
   ]
  },
  {
   "cell_type": "code",
   "execution_count": 18,
   "metadata": {
    "collapsed": true
   },
   "outputs": [],
   "source": [
    "with open('X_test.pkl', 'rb') as handle:\n",
    "    X_test = pickle.load(handle)"
   ]
  },
  {
   "cell_type": "code",
   "execution_count": 19,
   "metadata": {
    "collapsed": false
   },
   "outputs": [],
   "source": [
    "test_proba = c.predict_proba(X_test)"
   ]
  },
  {
   "cell_type": "code",
   "execution_count": 20,
   "metadata": {
    "collapsed": false
   },
   "outputs": [
    {
     "name": "stdout",
     "output_type": "stream",
     "text": [
      "0.19540495509\n",
      "0.691496199947\n"
     ]
    }
   ],
   "source": [
    "print log_loss(y_test, test_proba)\n",
    "print roc_auc_score(y_test, test_proba[:,1])"
   ]
  },
  {
   "cell_type": "code",
   "execution_count": 43,
   "metadata": {
    "collapsed": false
   },
   "outputs": [
    {
     "data": {
      "text/plain": [
       "<matplotlib.legend.Legend at 0x11a5dcd50>"
      ]
     },
     "execution_count": 43,
     "metadata": {},
     "output_type": "execute_result"
    },
    {
     "data": {
      "image/png": "[encoded data removed]",
      "text/plain": [
       "<matplotlib.figure.Figure at 0x117ee3510>"
      ]
     },
     "metadata": {},
     "output_type": "display_data"
    }
   ],
   "source": [
    "fpr, tpr, thresholds = roc_curve(y_test, test_proba[:,1]) \n",
    "labels = ['fpr', 'tpr']\n",
    "plt.ylabel('TP')\n",
    "plt.xlabel('FP')\n",
    "plt.title('Final ROC curve')\n",
    "plt.plot(fpr, tpr, 'r')\n",
    "X = [0, 1]\n",
    "y = [0, 1]\n",
    "plt.plot(X, y, 'b')\n",
    "plt.plot(0.4392, 0.7044, 'ko')\n",
    "plt.legend(['GBC', 'Baseline'], loc=2)"
   ]
  },
  {
   "cell_type": "code",
   "execution_count": 22,
   "metadata": {
    "collapsed": false
   },
   "outputs": [
    {
     "name": "stdout",
     "output_type": "stream",
     "text": [
      "[[2992    2]\n",
      " [ 158    1]]\n",
      "0.949254678084\n"
     ]
    }
   ],
   "source": [
    "test2 = c.predict(X_test)\n",
    "print confusion_matrix(y_test, test2)\n",
    "print accuracy_score(y_test, test2)"
   ]
  },
  {
   "cell_type": "code",
   "execution_count": 171,
   "metadata": {
    "collapsed": false
   },
   "outputs": [
    {
     "data": {
      "text/plain": [
       "3153"
      ]
     },
     "execution_count": 171,
     "metadata": {},
     "output_type": "execute_result"
    }
   ],
   "source": [
    "3015 + 1 + 2 + 135"
   ]
  },
  {
   "cell_type": "code",
   "execution_count": 23,
   "metadata": {
    "collapsed": false
   },
   "outputs": [
    {
     "data": {
      "text/plain": [
       "0    2994\n",
       "1     159\n",
       "Name: status_coded, dtype: int64"
      ]
     },
     "execution_count": 23,
     "metadata": {},
     "output_type": "execute_result"
    }
   ],
   "source": [
    "y_test.value_counts()"
   ]
  },
  {
   "cell_type": "code",
   "execution_count": 28,
   "metadata": {
    "collapsed": false
   },
   "outputs": [
    {
     "data": {
      "image/png": "[encoded data removed]",
      "text/plain": [
       "<matplotlib.figure.Figure at 0x11ae4a910>"
      ]
     },
     "metadata": {},
     "output_type": "display_data"
    }
   ],
   "source": [
    "TPC = 250.\n",
    "FPC = -100.\n",
    "FNC = 0.\n",
    "TNC = 100.\n",
    "fpr, tpr, thresholds = roc_curve(y_test, test_proba[:,1])\n",
    "cost = (tpr * TPC) + ((1 - fpr) * TNC) + (fpr * FPC) + ((1 - tpr) * FNC)\n",
    "GBcost = plt.plot(thresholds, cost, 'r', label='Gradient Boosted Classifier')\n",
    "plt.axhline(0, color='b')\n",
    "plt.ylabel('profit')\n",
    "plt.xlabel('thresholds')\n",
    "plt.title('Profit Curve for Final Model')\n",
    "plt.axis([0, 0.5, -100, 500])\n",
    "plt.legend(['GBC', 'Baseline'], loc=1)\n",
    "plt.show()"
   ]
  },
  {
   "cell_type": "code",
   "execution_count": 198,
   "metadata": {
    "collapsed": true
   },
   "outputs": [],
   "source": [
    "json_request = [{\"name\":\"age\",\"value\":\"34\"},{\"name\":\"gender\",\"value\":\"Female\"},{\"name\":\"race\",\"value\":\"Bear 100\"}]"
   ]
  },
  {
   "cell_type": "code",
   "execution_count": 201,
   "metadata": {
    "collapsed": false
   },
   "outputs": [],
   "source": [
    "request_df = pd.DataFrame(json_request)"
   ]
  },
  {
   "cell_type": "code",
   "execution_count": 206,
   "metadata": {
    "collapsed": false
   },
   "outputs": [
    {
     "data": {
      "text/plain": [
       "'Bear 100'"
      ]
     },
     "execution_count": 206,
     "metadata": {},
     "output_type": "execute_result"
    }
   ],
   "source": [
    "request_df['value'][2]"
   ]
  },
  {
   "cell_type": "code",
   "execution_count": 38,
   "metadata": {
    "collapsed": false
   },
   "outputs": [
    {
     "data": {
      "text/plain": [
       "array([ 0.60275635,  0.36017476,  0.35757155,  0.33602234,  0.33406291,\n",
       "        0.28876894,  0.28570552,  0.285197  ,  0.28308333,  0.25363799,\n",
       "        0.25291648,  0.25223913,  0.25145512,  0.2385534 ,  0.23848515,\n",
       "        0.23506865,  0.2350172 ,  0.23391608,  0.23326614,  0.2274035 ,\n",
       "        0.22677414,  0.21821547,  0.21761283,  0.21444491,  0.21419561,\n",
       "        0.19301243,  0.19273312,  0.18706733,  0.18627524,  0.18342943,\n",
       "        0.18131192,  0.18099398,  0.17987449,  0.1759263 ,  0.17591853,\n",
       "        0.17219741,  0.17186867,  0.16748655,  0.16746778,  0.16545528,\n",
       "        0.16460725,  0.16142914,  0.15998731,  0.13937531,  0.13892911,\n",
       "        0.13871237,  0.13851023,  0.12007156,  0.12006399,  0.11515257,\n",
       "        0.11505792,  0.11195863,  0.11185291,  0.10556121,  0.10554728,\n",
       "        0.1051228 ,  0.10510326,  0.10276014,  0.10237163,  0.10087791,\n",
       "        0.10083438,  0.10082233,  0.10071419,  0.0993437 ,  0.09926373,\n",
       "        0.09703194,  0.09673521,  0.09574552,  0.09572705,  0.09460254,\n",
       "        0.09457531,  0.09357832,  0.0934007 ,  0.09315752,  0.09313557,\n",
       "        0.09166889,  0.0916547 ,  0.09032488,  0.09031597,  0.08423492,\n",
       "        0.08422545,  0.08388847,  0.08387562,  0.08235926,  0.08224397,\n",
       "        0.08180334,  0.081752  ,  0.07602231,  0.07560231,  0.07491594,\n",
       "        0.07452353,  0.07113231,  0.07104735,  0.07030447,  0.06988074,\n",
       "        0.06843382,  0.06833842,  0.06824259,  0.06811102,  0.06793083,\n",
       "        0.06780284,  0.06708102,  0.06678921,  0.06648056,  0.06645334,\n",
       "        0.06559622,  0.06557882,  0.06461637,  0.06456379,  0.06441399,\n",
       "        0.06432376,  0.06308637,  0.06273146,  0.06180744,  0.06176606,\n",
       "        0.06046339,  0.06038193,  0.06022658,  0.06021642,  0.06016249,\n",
       "        0.06000429,  0.05984709,  0.05974624,  0.05694736,  0.05686787,\n",
       "        0.0567262 ,  0.05662292,  0.05559079,  0.05559021,  0.0553767 ,\n",
       "        0.05531217,  0.05474827,  0.05471715,  0.05433555,  0.05432315,\n",
       "        0.05412362,  0.05399299,  0.05306102,  0.0530078 ,  0.05255489,\n",
       "        0.05244939,  0.05226507,  0.05224223,  0.05221241,  0.05217915,\n",
       "        0.05216629,  0.05211702,  0.05101022,  0.05090119,  0.05045553,\n",
       "        0.05045214,  0.04976217,  0.04966824,  0.04920742,  0.04913603,\n",
       "        0.04801307,  0.0479968 ,  0.04571041,  0.04568059,  0.04480777,\n",
       "        0.04479356,  0.04315293,  0.0431424 ,  0.04266169,  0.04262831,\n",
       "        0.04216511,  0.04211582,  0.04109919,  0.04103866,  0.04039747,\n",
       "        0.04033405,  0.04007222,  0.04002924,  0.03966157,  0.03963414,\n",
       "        0.03478186,  0.03466585,  0.0344692 ,  0.03439458,  0.03321284,\n",
       "        0.03319168,  0.03247531,  0.03246573,  0.03208235,  0.03207695,\n",
       "        0.03203901,  0.03200683,  0.03167725,  0.03165823,  0.03138465,\n",
       "        0.03136848,  0.02985885,  0.02983986,  0.02949269,  0.02949153,\n",
       "        0.02908944,  0.02908306,  0.02868122,  0.02865753,  0.02801575,\n",
       "        0.02801376,  0.02760157,  0.02758053,  0.02721483,  0.02717132,\n",
       "        0.02579923,  0.02578902,  0.02461926,  0.02455283,  0.02358961,\n",
       "        0.02357294,  0.02310988,  0.0231051 ,  0.0228749 ,  0.02284436,\n",
       "        0.02270071,  0.02267992,  0.0224223 ,  0.02240868,  0.02171064,\n",
       "        0.02170203,  0.02133257,  0.02132645,  0.02050391,  0.02048242,\n",
       "        0.01990531,  0.0199032 ,  0.01835262,  0.01834398,  0.01818187,\n",
       "        0.01817934,  0.01777667,  0.01775542,  0.01726261,  0.01721855,\n",
       "        0.01680895,  0.01680574,  0.0166822 ,  0.01667584,  0.01666572,\n",
       "        0.01664889,  0.01664779,  0.01662519,  0.01561355,  0.01559682,\n",
       "        0.01528567,  0.01528186,  0.01516604,  0.01515753,  0.01446523,\n",
       "        0.01446337,  0.01408228,  0.01407996,  0.01407301,  0.01405167,\n",
       "        0.01400929,  0.01400546,  0.01244163,  0.01243904,  0.01175662,\n",
       "        0.01175592,  0.01149125,  0.0114818 ,  0.01122126,  0.01120939,\n",
       "        0.01113552,  0.01113523,  0.0110607 ,  0.01105716,  0.01098257,\n",
       "        0.01097809,  0.01075061,  0.0107477 ,  0.0100809 ,  0.01004666,\n",
       "        0.00977218,  0.0097717 ,  0.00967   ,  0.00966935,  0.00909906,\n",
       "        0.00909335,  0.0090363 ,  0.00903432,  0.00741868,  0.00741111,\n",
       "        0.00734168,  0.00732807,  0.00598726,  0.0059531 ,  0.00431637,\n",
       "        0.00430903,  0.00406327,  0.00405545,  0.00405071,  0.00403018,\n",
       "        0.00381124,  0.0038108 ,  0.00247996,  0.00245053,  0.00084894])"
      ]
     },
     "execution_count": 38,
     "metadata": {},
     "output_type": "execute_result"
    }
   ],
   "source": [
    "thresholds"
   ]
  },
  {
   "cell_type": "code",
   "execution_count": 37,
   "metadata": {
    "collapsed": false
   },
   "outputs": [
    {
     "data": {
      "text/plain": [
       "array([ 0.00628931,  0.00628931,  0.01886792,  0.01886792,  0.02515723,\n",
       "        0.02515723,  0.03144654,  0.03144654,  0.03773585,  0.03773585,\n",
       "        0.04402516,  0.04402516,  0.05031447,  0.05031447,  0.05660377,\n",
       "        0.05660377,  0.06289308,  0.06289308,  0.06918239,  0.06918239,\n",
       "        0.0754717 ,  0.0754717 ,  0.08176101,  0.08176101,  0.08805031,\n",
       "        0.08805031,  0.09433962,  0.09433962,  0.10062893,  0.10062893,\n",
       "        0.11320755,  0.11320755,  0.11949686,  0.11949686,  0.12578616,\n",
       "        0.12578616,  0.13207547,  0.13207547,  0.13836478,  0.13836478,\n",
       "        0.14465409,  0.14465409,  0.1509434 ,  0.1509434 ,  0.1572327 ,\n",
       "        0.1572327 ,  0.16981132,  0.16981132,  0.17610063,  0.17610063,\n",
       "        0.18238994,  0.18238994,  0.18867925,  0.18867925,  0.19496855,\n",
       "        0.19496855,  0.20125786,  0.20125786,  0.21383648,  0.21383648,\n",
       "        0.22012579,  0.22012579,  0.22641509,  0.22641509,  0.2327044 ,\n",
       "        0.2327044 ,  0.24528302,  0.24528302,  0.25157233,  0.25157233,\n",
       "        0.25786164,  0.25786164,  0.26415094,  0.26415094,  0.27044025,\n",
       "        0.27044025,  0.27672956,  0.27672956,  0.28301887,  0.28301887,\n",
       "        0.28930818,  0.28930818,  0.29559748,  0.29559748,  0.30188679,\n",
       "        0.30188679,  0.3081761 ,  0.3081761 ,  0.31446541,  0.31446541,\n",
       "        0.32704403,  0.32704403,  0.33333333,  0.33333333,  0.33962264,\n",
       "        0.33962264,  0.34591195,  0.34591195,  0.35220126,  0.35220126,\n",
       "        0.35849057,  0.35849057,  0.36477987,  0.36477987,  0.37106918,\n",
       "        0.37106918,  0.37735849,  0.37735849,  0.3836478 ,  0.3836478 ,\n",
       "        0.38993711,  0.38993711,  0.39622642,  0.39622642,  0.40251572,\n",
       "        0.40251572,  0.40880503,  0.40880503,  0.41509434,  0.41509434,\n",
       "        0.42767296,  0.42767296,  0.43396226,  0.43396226,  0.44025157,\n",
       "        0.44025157,  0.44654088,  0.44654088,  0.45283019,  0.45283019,\n",
       "        0.4591195 ,  0.4591195 ,  0.46540881,  0.46540881,  0.47169811,\n",
       "        0.47169811,  0.47798742,  0.47798742,  0.48427673,  0.48427673,\n",
       "        0.49056604,  0.49056604,  0.49685535,  0.49685535,  0.50314465,\n",
       "        0.50314465,  0.50943396,  0.50943396,  0.51572327,  0.51572327,\n",
       "        0.52201258,  0.52201258,  0.52830189,  0.52830189,  0.53459119,\n",
       "        0.53459119,  0.5408805 ,  0.5408805 ,  0.54716981,  0.54716981,\n",
       "        0.55345912,  0.55345912,  0.55974843,  0.55974843,  0.56603774,\n",
       "        0.56603774,  0.57232704,  0.57232704,  0.57861635,  0.57861635,\n",
       "        0.58490566,  0.58490566,  0.59119497,  0.59119497,  0.59748428,\n",
       "        0.59748428,  0.60377358,  0.60377358,  0.6163522 ,  0.6163522 ,\n",
       "        0.62264151,  0.62264151,  0.62893082,  0.62893082,  0.63522013,\n",
       "        0.63522013,  0.64150943,  0.64150943,  0.64779874,  0.64779874,\n",
       "        0.65408805,  0.65408805,  0.66037736,  0.66037736,  0.66666667,\n",
       "        0.66666667,  0.67295597,  0.67295597,  0.67924528,  0.67924528,\n",
       "        0.68553459,  0.68553459,  0.6918239 ,  0.6918239 ,  0.69811321,\n",
       "        0.69811321,  0.70440252,  0.70440252,  0.71069182,  0.71069182,\n",
       "        0.71698113,  0.71698113,  0.72327044,  0.72327044,  0.72955975,\n",
       "        0.72955975,  0.73584906,  0.73584906,  0.74213836,  0.74213836,\n",
       "        0.74842767,  0.74842767,  0.75471698,  0.75471698,  0.76100629,\n",
       "        0.76100629,  0.7672956 ,  0.7672956 ,  0.77358491,  0.77358491,\n",
       "        0.77987421,  0.77987421,  0.78616352,  0.78616352,  0.79245283,\n",
       "        0.79245283,  0.79874214,  0.79874214,  0.80503145,  0.80503145,\n",
       "        0.81132075,  0.81132075,  0.81761006,  0.81761006,  0.82389937,\n",
       "        0.82389937,  0.83018868,  0.83018868,  0.8427673 ,  0.8427673 ,\n",
       "        0.8490566 ,  0.8490566 ,  0.85534591,  0.85534591,  0.86163522,\n",
       "        0.86163522,  0.86792453,  0.86792453,  0.87421384,  0.87421384,\n",
       "        0.88050314,  0.88050314,  0.88679245,  0.88679245,  0.89308176,\n",
       "        0.89308176,  0.89937107,  0.89937107,  0.90566038,  0.90566038,\n",
       "        0.91194969,  0.91194969,  0.91823899,  0.91823899,  0.9245283 ,\n",
       "        0.9245283 ,  0.93081761,  0.93081761,  0.93710692,  0.93710692,\n",
       "        0.94339623,  0.94339623,  0.94968553,  0.94968553,  0.95597484,\n",
       "        0.95597484,  0.96226415,  0.96226415,  0.96855346,  0.96855346,\n",
       "        0.97484277,  0.97484277,  0.98113208,  0.98113208,  0.98742138,\n",
       "        0.98742138,  0.99371069,  0.99371069,  1.        ,  1.        ])"
      ]
     },
     "execution_count": 37,
     "metadata": {},
     "output_type": "execute_result"
    }
   ],
   "source": [
    "tpr"
   ]
  },
  {
   "cell_type": "code",
   "execution_count": 39,
   "metadata": {
    "collapsed": false
   },
   "outputs": [
    {
     "data": {
      "text/plain": [
       "array([ 0.        ,  0.00467602,  0.00467602,  0.00501002,  0.00501002,\n",
       "        0.00835003,  0.00835003,  0.00901804,  0.00901804,  0.01336005,\n",
       "        0.01336005,  0.01369405,  0.01369405,  0.01670007,  0.01670007,\n",
       "        0.01703407,  0.01703407,  0.01736807,  0.01736807,  0.01837007,\n",
       "        0.01837007,  0.02004008,  0.02004008,  0.02104208,  0.02104208,\n",
       "        0.0247161 ,  0.0247161 ,  0.02672011,  0.02672011,  0.02839011,\n",
       "        0.02839011,  0.02905812,  0.02905812,  0.02972612,  0.02972612,\n",
       "        0.03139613,  0.03139613,  0.03373413,  0.03373413,  0.03440214,\n",
       "        0.03440214,  0.03540414,  0.03540414,  0.05243821,  0.05243821,\n",
       "        0.05277221,  0.05277221,  0.06579826,  0.06579826,  0.07080828,\n",
       "        0.07080828,  0.07281229,  0.07281229,  0.08149633,  0.08149633,\n",
       "        0.08216433,  0.08216433,  0.08684035,  0.08684035,  0.08851035,\n",
       "        0.08851035,  0.08884436,  0.08884436,  0.08984636,  0.08984636,\n",
       "        0.09185037,  0.09185037,  0.09385438,  0.09385438,  0.09652639,\n",
       "        0.09652639,  0.09752839,  0.09752839,  0.09853039,  0.09853039,\n",
       "        0.1005344 ,  0.1005344 ,  0.10187041,  0.10187041,  0.11422846,\n",
       "        0.11422846,  0.11489646,  0.11489646,  0.11723447,  0.11723447,\n",
       "        0.11823647,  0.11823647,  0.13393454,  0.13393454,  0.13727455,\n",
       "        0.13727455,  0.14495658,  0.14495658,  0.14762859,  0.14762859,\n",
       "        0.15163661,  0.15163661,  0.15230461,  0.15230461,  0.15330661,\n",
       "        0.15330661,  0.15531062,  0.15531062,  0.15564462,  0.15564462,\n",
       "        0.15865063,  0.15865063,  0.16098864,  0.16098864,  0.16132265,\n",
       "        0.16132265,  0.16733467,  0.16733467,  0.17034068,  0.17034068,\n",
       "        0.1743487 ,  0.1743487 ,  0.1750167 ,  0.1750167 ,  0.1756847 ,\n",
       "        0.1756847 ,  0.17635271,  0.17635271,  0.18670675,  0.18670675,\n",
       "        0.18837675,  0.18837675,  0.19171677,  0.19171677,  0.19238477,\n",
       "        0.19238477,  0.19505678,  0.19505678,  0.19739479,  0.19739479,\n",
       "        0.19839679,  0.19839679,  0.20273881,  0.20273881,  0.20574482,\n",
       "        0.20574482,  0.20708083,  0.20708083,  0.20774883,  0.20774883,\n",
       "        0.20808283,  0.20808283,  0.21309285,  0.21309285,  0.21609886,\n",
       "        0.21609886,  0.22044088,  0.22044088,  0.22244489,  0.22244489,\n",
       "        0.22712091,  0.22712091,  0.24148297,  0.24148297,  0.24549098,\n",
       "        0.24549098,  0.25484302,  0.25484302,  0.25718103,  0.25718103,\n",
       "        0.26085504,  0.26085504,  0.26753507,  0.26753507,  0.27221109,\n",
       "        0.27221109,  0.2748831 ,  0.2748831 ,  0.27788911,  0.27788911,\n",
       "        0.32030728,  0.32030728,  0.32164329,  0.32164329,  0.33400134,\n",
       "        0.33400134,  0.34168337,  0.34168337,  0.34468938,  0.34468938,\n",
       "        0.34602538,  0.34602538,  0.3490314 ,  0.3490314 ,  0.35337341,\n",
       "        0.35337341,  0.37107548,  0.37107548,  0.3760855 ,  0.3760855 ,\n",
       "        0.38176353,  0.38176353,  0.38577154,  0.38577154,  0.39645959,\n",
       "        0.39645959,  0.4001336 ,  0.4001336 ,  0.40647963,  0.40647963,\n",
       "        0.42150969,  0.42150969,  0.43921176,  0.43921176,  0.45357381,\n",
       "        0.45357381,  0.45858383,  0.45858383,  0.46459586,  0.46459586,\n",
       "        0.46793587,  0.46793587,  0.47027388,  0.47027388,  0.48062792,\n",
       "        0.48062792,  0.48697395,  0.48697395,  0.49799599,  0.49799599,\n",
       "        0.50701403,  0.50701403,  0.53540414,  0.53540414,  0.53774215,\n",
       "        0.53774215,  0.54742819,  0.54742819,  0.55778223,  0.55778223,\n",
       "        0.56947228,  0.56947228,  0.5738143 ,  0.5738143 ,  0.5744823 ,\n",
       "        0.5744823 ,  0.5748163 ,  0.5748163 ,  0.59786239,  0.59786239,\n",
       "        0.60621242,  0.60621242,  0.60921844,  0.60921844,  0.62658651,\n",
       "        0.62658651,  0.63560454,  0.63560454,  0.63627255,  0.63627255,\n",
       "        0.63694055,  0.63694055,  0.68436874,  0.68436874,  0.70507682,\n",
       "        0.70507682,  0.71342685,  0.71342685,  0.72010688,  0.72010688,\n",
       "        0.72177689,  0.72177689,  0.7244489 ,  0.7244489 ,  0.72645291,\n",
       "        0.72645291,  0.73513694,  0.73513694,  0.75851703,  0.75851703,\n",
       "        0.77154309,  0.77154309,  0.7738811 ,  0.7738811 ,  0.79559118,\n",
       "        0.79559118,  0.79859719,  0.79859719,  0.85303941,  0.85303941,\n",
       "        0.85537742,  0.85537742,  0.89579158,  0.89579158,  0.9502338 ,\n",
       "        0.9502338 ,  0.95557782,  0.95557782,  0.95591182,  0.95591182,\n",
       "        0.96125585,  0.96125585,  0.99031396,  0.99031396,  1.        ])"
      ]
     },
     "execution_count": 39,
     "metadata": {},
     "output_type": "execute_result"
    }
   ],
   "source": [
    "fpr"
   ]
  },
  {
   "cell_type": "code",
   "execution_count": null,
   "metadata": {
    "collapsed": true
   },
   "outputs": [],
   "source": []
  }
 ],
 "metadata": {
  "kernelspec": {
   "display_name": "Python 2",
   "language": "python",
   "name": "python2"
  },
  "language_info": {
   "codemirror_mode": {
    "name": "ipython",
    "version": 2
   },
   "file_extension": ".py",
   "mimetype": "text/x-python",
   "name": "python",
   "nbconvert_exporter": "python",
   "pygments_lexer": "ipython2",
   "version": "2.7.12"
  }
 },
 "nbformat": 4,
 "nbformat_minor": 0
}
