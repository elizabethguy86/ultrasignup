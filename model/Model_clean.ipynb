{
 "cells": [
  {
   "cell_type": "code",
   "execution_count": 33,
   "metadata": {
    "collapsed": false
   },
   "outputs": [],
   "source": [
    "import pandas as pd\n",
    "import numpy as np\n",
    "import matplotlib.pyplot as plt\n",
    "from sklearn.linear_model import LogisticRegression as LR\n",
    "from sklearn.ensemble import RandomForestClassifier as RFC\n",
    "from sklearn.ensemble import GradientBoostingClassifier as GBC\n",
    "from sklearn.cross_validation import train_test_split\n",
    "from sklearn.metrics import log_loss, auc, roc_curve, roc_auc_score, accuracy_score, precision_recall_curve, confusion_matrix\n",
    "from sklearn.cross_validation import cross_val_score\n",
    "from sklearn.grid_search import GridSearchCV\n",
    "from sklearn.naive_bayes import GaussianNB\n",
    "from sklearn.model_selection import cross_val_predict\n",
    "%matplotlib inline"
   ]
  },
  {
   "cell_type": "code",
   "execution_count": 83,
   "metadata": {
    "collapsed": false
   },
   "outputs": [],
   "source": [
    "##Load data for final model\n",
    "data = pd.read_csv('../ult_sign_scrape/race_master/master_database_fe4.csv')\n",
    "##Load Brazos Bend 100 data for model check\n",
    "cvdata = pd.read_csv('../ult_sign_scrape/race_master/BB2015.csv')"
   ]
  },
  {
   "cell_type": "code",
   "execution_count": 84,
   "metadata": {
    "collapsed": false
   },
   "outputs": [
    {
     "data": {
      "text/html": [
       "<div>\n",
       "<table border=\"1\" class=\"dataframe\">\n",
       "  <thead>\n",
       "    <tr style=\"text-align: right;\">\n",
       "      <th></th>\n",
       "      <th>Unnamed: 0</th>\n",
       "      <th>Unnamed: 0.1</th>\n",
       "      <th>Unnamed: 0.1</th>\n",
       "      <th>age</th>\n",
       "      <th>gender</th>\n",
       "      <th>participant_id</th>\n",
       "      <th>runner_rank</th>\n",
       "      <th>status</th>\n",
       "      <th>race_id</th>\n",
       "      <th>race_name</th>\n",
       "      <th>Season</th>\n",
       "      <th>Metro_area</th>\n",
       "      <th>WL_SO</th>\n",
       "      <th>Entry_fee</th>\n",
       "      <th>PPM</th>\n",
       "      <th>Age_Rank</th>\n",
       "      <th>Gender_Rank</th>\n",
       "      <th>Total_races</th>\n",
       "      <th>Success_rate</th>\n",
       "    </tr>\n",
       "  </thead>\n",
       "  <tbody>\n",
       "    <tr>\n",
       "      <th>0</th>\n",
       "      <td>0</td>\n",
       "      <td>0</td>\n",
       "      <td>0</td>\n",
       "      <td>26</td>\n",
       "      <td>M</td>\n",
       "      <td>7148</td>\n",
       "      <td>88.39</td>\n",
       "      <td>1</td>\n",
       "      <td>11470</td>\n",
       "      <td>Bear</td>\n",
       "      <td>3</td>\n",
       "      <td>0</td>\n",
       "      <td>1</td>\n",
       "      <td>1</td>\n",
       "      <td>2.5</td>\n",
       "      <td>0.7174</td>\n",
       "      <td>0.6806</td>\n",
       "      <td>23.0</td>\n",
       "      <td>0.956522</td>\n",
       "    </tr>\n",
       "    <tr>\n",
       "      <th>1</th>\n",
       "      <td>1</td>\n",
       "      <td>1</td>\n",
       "      <td>1</td>\n",
       "      <td>33</td>\n",
       "      <td>M</td>\n",
       "      <td>221721</td>\n",
       "      <td>90.00</td>\n",
       "      <td>1</td>\n",
       "      <td>11470</td>\n",
       "      <td>Bear</td>\n",
       "      <td>3</td>\n",
       "      <td>0</td>\n",
       "      <td>1</td>\n",
       "      <td>1</td>\n",
       "      <td>2.5</td>\n",
       "      <td>0.8132</td>\n",
       "      <td>0.6987</td>\n",
       "      <td>9.0</td>\n",
       "      <td>0.888889</td>\n",
       "    </tr>\n",
       "    <tr>\n",
       "      <th>2</th>\n",
       "      <td>2</td>\n",
       "      <td>2</td>\n",
       "      <td>2</td>\n",
       "      <td>43</td>\n",
       "      <td>M</td>\n",
       "      <td>20020</td>\n",
       "      <td>83.63</td>\n",
       "      <td>1</td>\n",
       "      <td>11470</td>\n",
       "      <td>Bear</td>\n",
       "      <td>3</td>\n",
       "      <td>0</td>\n",
       "      <td>1</td>\n",
       "      <td>1</td>\n",
       "      <td>2.5</td>\n",
       "      <td>0.8272</td>\n",
       "      <td>0.7145</td>\n",
       "      <td>17.0</td>\n",
       "      <td>0.882353</td>\n",
       "    </tr>\n",
       "    <tr>\n",
       "      <th>3</th>\n",
       "      <td>3</td>\n",
       "      <td>3</td>\n",
       "      <td>3</td>\n",
       "      <td>36</td>\n",
       "      <td>M</td>\n",
       "      <td>25441</td>\n",
       "      <td>73.22</td>\n",
       "      <td>1</td>\n",
       "      <td>11470</td>\n",
       "      <td>Bear</td>\n",
       "      <td>3</td>\n",
       "      <td>0</td>\n",
       "      <td>1</td>\n",
       "      <td>1</td>\n",
       "      <td>2.5</td>\n",
       "      <td>0.8995</td>\n",
       "      <td>0.8957</td>\n",
       "      <td>14.0</td>\n",
       "      <td>0.857143</td>\n",
       "    </tr>\n",
       "    <tr>\n",
       "      <th>4</th>\n",
       "      <td>4</td>\n",
       "      <td>4</td>\n",
       "      <td>4</td>\n",
       "      <td>33</td>\n",
       "      <td>M</td>\n",
       "      <td>22562</td>\n",
       "      <td>87.77</td>\n",
       "      <td>1</td>\n",
       "      <td>11470</td>\n",
       "      <td>Bear</td>\n",
       "      <td>3</td>\n",
       "      <td>0</td>\n",
       "      <td>1</td>\n",
       "      <td>1</td>\n",
       "      <td>2.5</td>\n",
       "      <td>0.6807</td>\n",
       "      <td>0.6522</td>\n",
       "      <td>7.0</td>\n",
       "      <td>1.000000</td>\n",
       "    </tr>\n",
       "  </tbody>\n",
       "</table>\n",
       "</div>"
      ],
      "text/plain": [
       "   Unnamed: 0  Unnamed: 0.1  Unnamed: 0.1  age gender  participant_id  \\\n",
       "0           0             0             0   26      M            7148   \n",
       "1           1             1             1   33      M          221721   \n",
       "2           2             2             2   43      M           20020   \n",
       "3           3             3             3   36      M           25441   \n",
       "4           4             4             4   33      M           22562   \n",
       "\n",
       "   runner_rank  status  race_id race_name  Season  Metro_area  WL_SO  \\\n",
       "0        88.39       1    11470      Bear       3           0      1   \n",
       "1        90.00       1    11470      Bear       3           0      1   \n",
       "2        83.63       1    11470      Bear       3           0      1   \n",
       "3        73.22       1    11470      Bear       3           0      1   \n",
       "4        87.77       1    11470      Bear       3           0      1   \n",
       "\n",
       "   Entry_fee  PPM  Age_Rank  Gender_Rank  Total_races  Success_rate  \n",
       "0          1  2.5    0.7174       0.6806         23.0      0.956522  \n",
       "1          1  2.5    0.8132       0.6987          9.0      0.888889  \n",
       "2          1  2.5    0.8272       0.7145         17.0      0.882353  \n",
       "3          1  2.5    0.8995       0.8957         14.0      0.857143  \n",
       "4          1  2.5    0.6807       0.6522          7.0      1.000000  "
      ]
     },
     "execution_count": 84,
     "metadata": {},
     "output_type": "execute_result"
    }
   ],
   "source": [
    "data.head()"
   ]
  },
  {
   "cell_type": "code",
   "execution_count": 85,
   "metadata": {
    "collapsed": false
   },
   "outputs": [],
   "source": [
    "##Clean data by dropping extraneous columns\n",
    "cleaned_data = data.drop(['Unnamed: 0', 'Unnamed: 0.1'], axis=1)\n",
    "##Clean BB100\n",
    "bb100 = cvdata.drop(['Unnamed: 0', 'Unnamed: 0.1'], axis=1)\n",
    "##Second stage of cleaning by removing na values from dataframe\n",
    "cleaned_data = cleaned_data.dropna()\n",
    "cleaned_data['success_metric'] = cleaned_data['Total_races'] * cleaned_data['Success_rate']"
   ]
  },
  {
   "cell_type": "code",
   "execution_count": 92,
   "metadata": {
    "collapsed": false
   },
   "outputs": [
    {
     "data": {
      "text/plain": [
       "14.259259166666666"
      ]
     },
     "execution_count": 92,
     "metadata": {},
     "output_type": "execute_result"
    }
   ],
   "source": [
    "(73.721818 + 79.389167 + 73.084667 + 74.070278 + 74.434483 + 73.750921 + 73.533558 + )"
   ]
  },
  {
   "cell_type": "code",
   "execution_count": 155,
   "metadata": {
    "collapsed": false
   },
   "outputs": [
    {
     "data": {
      "text/plain": [
       "70.38512305163684"
      ]
     },
     "execution_count": 155,
     "metadata": {},
     "output_type": "execute_result"
    }
   ],
   "source": [
    "cleaned_data.groupby(['age']).mean()[0:18]['runner_rank'].mean()"
   ]
  },
  {
   "cell_type": "code",
   "execution_count": 37,
   "metadata": {
    "collapsed": false
   },
   "outputs": [],
   "source": [
    "##Create gender dummy variables for model\n",
    "gender_dummies = pd.get_dummies(cleaned_data.gender, prefix='gender')\n",
    "cleaned_data = cleaned_data.join(gender_dummies)\n",
    "bbgender_dummies = pd.get_dummies(bb100.gender, prefix='gender')\n",
    "bb100 = bb100.join(bbgender_dummies)"
   ]
  },
  {
   "cell_type": "code",
   "execution_count": 38,
   "metadata": {
    "collapsed": false
   },
   "outputs": [
    {
     "name": "stdout",
     "output_type": "stream",
     "text": [
      "Before Coding:\n",
      "1    6203\n",
      "2    3809\n",
      "3     498\n",
      "Name: status, dtype: int64\n",
      "\n",
      "After Coding:\n",
      "0    10012\n",
      "1      498\n",
      "Name: status_coded, dtype: int64\n",
      "\n",
      "After DNF Coding:\n",
      "1    6203\n",
      "0    4307\n",
      "Name: DNF_DNS_coded, dtype: int64\n"
     ]
    }
   ],
   "source": [
    "##Consolidate all starts (code DNF with finishers) for modeling\n",
    "def coding(col, codeDict):\n",
    "    colCoded = pd.Series(col, copy=True)\n",
    "    for key, value in codeDict.items():\n",
    "        colCoded.replace(key, value, inplace=True)\n",
    "    return colCoded\n",
    " \n",
    "print 'Before Coding:'\n",
    "print pd.value_counts(cleaned_data[\"status\"])\n",
    "cleaned_data[\"status_coded\"] = coding(cleaned_data[\"status\"], {'1':0,'2':0, '3':1})\n",
    "cleaned_data['DNF_DNS_coded'] = coding(cleaned_data[\"status\"], {'1':1,'2':0, '3':0})\n",
    "##BB100 CV data:\n",
    "bb100[\"status_coded\"] = coding(bb100[\"status\"], {'1':0,'2':0, '3':1})\n",
    "bb100['DNF_DNS_coded'] = coding(bb100[\"status\"], {'1':1,'2':0, '3':0})\n",
    "print '\\nAfter Coding:'\n",
    "print pd.value_counts(cleaned_data[\"status_coded\"])\n",
    "print '\\nAfter DNF Coding:'\n",
    "print pd.value_counts(cleaned_data[\"DNF_DNS_coded\"])\n",
    "status_coded = cleaned_data.drop(['status'], axis=1)\n",
    "status_DNF = cleaned_data.copy()\n",
    "status_DNF = cleaned_data.drop(['status', 'status_coded'], axis=1)\n",
    "bb100_coded = bb100.drop(['status'], axis=1)"
   ]
  },
  {
   "cell_type": "code",
   "execution_count": 39,
   "metadata": {
    "collapsed": false
   },
   "outputs": [
    {
     "data": {
      "text/html": [
       "<div>\n",
       "<table border=\"1\" class=\"dataframe\">\n",
       "  <thead>\n",
       "    <tr style=\"text-align: right;\">\n",
       "      <th></th>\n",
       "      <th>age</th>\n",
       "      <th>gender</th>\n",
       "      <th>participant_id</th>\n",
       "      <th>runner_rank</th>\n",
       "      <th>race_id</th>\n",
       "      <th>race_name</th>\n",
       "      <th>Season</th>\n",
       "      <th>Metro_area</th>\n",
       "      <th>WL_SO</th>\n",
       "      <th>Entry_fee</th>\n",
       "      <th>PPM</th>\n",
       "      <th>Age_Rank</th>\n",
       "      <th>Gender_Rank</th>\n",
       "      <th>Total_races</th>\n",
       "      <th>Success_rate</th>\n",
       "      <th>gender_F</th>\n",
       "      <th>gender_M</th>\n",
       "      <th>status_coded</th>\n",
       "      <th>DNF_DNS_coded</th>\n",
       "    </tr>\n",
       "  </thead>\n",
       "  <tbody>\n",
       "    <tr>\n",
       "      <th>99</th>\n",
       "      <td>42</td>\n",
       "      <td>M</td>\n",
       "      <td>381672</td>\n",
       "      <td>66.53</td>\n",
       "      <td>31333</td>\n",
       "      <td>BB</td>\n",
       "      <td>4</td>\n",
       "      <td>1</td>\n",
       "      <td>0</td>\n",
       "      <td>0</td>\n",
       "      <td>1.9</td>\n",
       "      <td>0.0000</td>\n",
       "      <td>0.2562</td>\n",
       "      <td>1.0</td>\n",
       "      <td>1.000</td>\n",
       "      <td>0.0</td>\n",
       "      <td>1.0</td>\n",
       "      <td>1</td>\n",
       "      <td>0</td>\n",
       "    </tr>\n",
       "    <tr>\n",
       "      <th>100</th>\n",
       "      <td>50</td>\n",
       "      <td>M</td>\n",
       "      <td>215892</td>\n",
       "      <td>54.38</td>\n",
       "      <td>31333</td>\n",
       "      <td>BB</td>\n",
       "      <td>4</td>\n",
       "      <td>1</td>\n",
       "      <td>0</td>\n",
       "      <td>0</td>\n",
       "      <td>1.9</td>\n",
       "      <td>0.6605</td>\n",
       "      <td>0.6653</td>\n",
       "      <td>5.0</td>\n",
       "      <td>0.800</td>\n",
       "      <td>0.0</td>\n",
       "      <td>1.0</td>\n",
       "      <td>1</td>\n",
       "      <td>0</td>\n",
       "    </tr>\n",
       "    <tr>\n",
       "      <th>101</th>\n",
       "      <td>30</td>\n",
       "      <td>F</td>\n",
       "      <td>311007</td>\n",
       "      <td>83.48</td>\n",
       "      <td>31333</td>\n",
       "      <td>BB</td>\n",
       "      <td>4</td>\n",
       "      <td>1</td>\n",
       "      <td>0</td>\n",
       "      <td>0</td>\n",
       "      <td>1.9</td>\n",
       "      <td>0.7550</td>\n",
       "      <td>0.5721</td>\n",
       "      <td>0.0</td>\n",
       "      <td>0.000</td>\n",
       "      <td>1.0</td>\n",
       "      <td>0.0</td>\n",
       "      <td>1</td>\n",
       "      <td>0</td>\n",
       "    </tr>\n",
       "    <tr>\n",
       "      <th>102</th>\n",
       "      <td>38</td>\n",
       "      <td>M</td>\n",
       "      <td>749574</td>\n",
       "      <td>52.83</td>\n",
       "      <td>31333</td>\n",
       "      <td>BB</td>\n",
       "      <td>4</td>\n",
       "      <td>1</td>\n",
       "      <td>0</td>\n",
       "      <td>0</td>\n",
       "      <td>1.9</td>\n",
       "      <td>0.0000</td>\n",
       "      <td>0.0000</td>\n",
       "      <td>0.0</td>\n",
       "      <td>0.000</td>\n",
       "      <td>0.0</td>\n",
       "      <td>1.0</td>\n",
       "      <td>1</td>\n",
       "      <td>0</td>\n",
       "    </tr>\n",
       "    <tr>\n",
       "      <th>103</th>\n",
       "      <td>52</td>\n",
       "      <td>F</td>\n",
       "      <td>775499</td>\n",
       "      <td>47.53</td>\n",
       "      <td>31333</td>\n",
       "      <td>BB</td>\n",
       "      <td>4</td>\n",
       "      <td>1</td>\n",
       "      <td>0</td>\n",
       "      <td>0</td>\n",
       "      <td>1.9</td>\n",
       "      <td>0.9140</td>\n",
       "      <td>0.7973</td>\n",
       "      <td>8.0</td>\n",
       "      <td>0.875</td>\n",
       "      <td>1.0</td>\n",
       "      <td>0.0</td>\n",
       "      <td>1</td>\n",
       "      <td>0</td>\n",
       "    </tr>\n",
       "  </tbody>\n",
       "</table>\n",
       "</div>"
      ],
      "text/plain": [
       "     age gender  participant_id  runner_rank  race_id race_name  Season  \\\n",
       "99    42      M          381672        66.53    31333        BB       4   \n",
       "100   50      M          215892        54.38    31333        BB       4   \n",
       "101   30      F          311007        83.48    31333        BB       4   \n",
       "102   38      M          749574        52.83    31333        BB       4   \n",
       "103   52      F          775499        47.53    31333        BB       4   \n",
       "\n",
       "     Metro_area  WL_SO  Entry_fee  PPM  Age_Rank  Gender_Rank  Total_races  \\\n",
       "99            1      0          0  1.9    0.0000       0.2562          1.0   \n",
       "100           1      0          0  1.9    0.6605       0.6653          5.0   \n",
       "101           1      0          0  1.9    0.7550       0.5721          0.0   \n",
       "102           1      0          0  1.9    0.0000       0.0000          0.0   \n",
       "103           1      0          0  1.9    0.9140       0.7973          8.0   \n",
       "\n",
       "     Success_rate  gender_F  gender_M  status_coded  DNF_DNS_coded  \n",
       "99          1.000       0.0       1.0             1              0  \n",
       "100         0.800       0.0       1.0             1              0  \n",
       "101         0.000       1.0       0.0             1              0  \n",
       "102         0.000       0.0       1.0             1              0  \n",
       "103         0.875       1.0       0.0             1              0  "
      ]
     },
     "execution_count": 39,
     "metadata": {},
     "output_type": "execute_result"
    }
   ],
   "source": [
    "bb100_coded.tail()"
   ]
  },
  {
   "cell_type": "code",
   "execution_count": 40,
   "metadata": {
    "collapsed": false
   },
   "outputs": [],
   "source": [
    "##Set response variable for coded dataframe\n",
    "y_DNS = status_coded.pop('status_coded')\n",
    "##Set response variable for uncoded dataframe\n",
    "y_DNF = cleaned_data.pop('status')\n",
    "##Set response variable for DNF/DNS to finishers DF\n",
    "y_Finish = cleaned_data.pop('DNF_DNS_coded')\n",
    "##Set cross validation response for BB100\n",
    "y_BB100 = bb100_coded.pop('status_coded')\n",
    "##Set response variable for DNF/DNS to finishers DF for BB100\n",
    "y_Finish_BB100 = bb100_coded.pop('DNF_DNS_coded')"
   ]
  },
  {
   "cell_type": "code",
   "execution_count": 42,
   "metadata": {
    "collapsed": false
   },
   "outputs": [],
   "source": [
    "##Set predictors for coded dataframe\n",
    "codedX = status_coded.drop(['gender', 'participant_id', 'race_name', 'race_id'\\\n",
    "                 , 'gender_M', 'DNF_DNS_coded'], axis=1)\n",
    "##Set predictors for uncoded dataframe\n",
    "uncodedX = cleaned_data.drop(['gender', 'participant_id', 'race_name', 'race_id'\\\n",
    "                 , 'gender_M'], axis=1)\n",
    "##Set predictors for predicting DNF/DNS to finishers\n",
    "finish_model = cleaned_data.drop(['gender', 'participant_id', 'race_name', 'race_id'\\\n",
    "                 , 'gender_M', 'status_coded', 'success_metric'], axis=1)\n",
    "##Set predictors for BB100 cross validation\n",
    "BB100X = bb100_coded.drop(['gender', 'participant_id', 'race_name', 'race_id'\\\n",
    "                 , 'gender_M'], axis=1)\n",
    "##Set finisher predictors for BB100 cross validation\n",
    "BB100X_Finish = bb100_coded.drop(['gender', 'participant_id', 'race_name', 'race_id'\\\n",
    "                 , 'gender_M'], axis=1)"
   ]
  },
  {
   "cell_type": "code",
   "execution_count": 43,
   "metadata": {
    "collapsed": false
   },
   "outputs": [
    {
     "name": "stdout",
     "output_type": "stream",
     "text": [
      "<class 'pandas.core.frame.DataFrame'>\n",
      "Int64Index: 10510 entries, 0 to 10509\n",
      "Data columns (total 12 columns):\n",
      "age             10510 non-null int64\n",
      "runner_rank     10510 non-null float64\n",
      "Season          10510 non-null int64\n",
      "Metro_area      10510 non-null int64\n",
      "WL_SO           10510 non-null int64\n",
      "Entry_fee       10510 non-null int64\n",
      "PPM             10510 non-null float64\n",
      "Age_Rank        10510 non-null float64\n",
      "Gender_Rank     10510 non-null float64\n",
      "Total_races     10510 non-null float64\n",
      "Success_rate    10510 non-null float64\n",
      "gender_F        10510 non-null float64\n",
      "dtypes: float64(7), int64(5)\n",
      "memory usage: 1.0 MB\n"
     ]
    }
   ],
   "source": [
    "#BB100X_Finish.head()\n",
    "finish_model.info()"
   ]
  },
  {
   "cell_type": "code",
   "execution_count": 44,
   "metadata": {
    "collapsed": true
   },
   "outputs": [],
   "source": [
    "##Create test/train splits for both datasets\n",
    "##coded dataframe\n",
    "cX_train, cX_test, cy_train, cy_test = train_test_split(codedX, y_DNS, test_size=0.3)\n",
    "##uncoded dataframe\n",
    "uX_train, uX_test, uy_train, uy_test = train_test_split(uncodedX, y_DNF, test_size=0.3)\n",
    "##finisher dataframe\n",
    "fX_train, fX_test, fy_train, fy_test = train_test_split(finish_model, y_Finish, test_size=0.3)"
   ]
  },
  {
   "cell_type": "code",
   "execution_count": 45,
   "metadata": {
    "collapsed": false
   },
   "outputs": [
    {
     "name": "stdout",
     "output_type": "stream",
     "text": [
      "<class 'pandas.core.frame.DataFrame'>\n",
      "RangeIndex: 104 entries, 0 to 103\n",
      "Data columns (total 12 columns):\n",
      "age             104 non-null int64\n",
      "runner_rank     104 non-null float64\n",
      "Season          104 non-null int64\n",
      "Metro_area      104 non-null int64\n",
      "WL_SO           104 non-null int64\n",
      "Entry_fee       104 non-null int64\n",
      "PPM             104 non-null float64\n",
      "Age_Rank        104 non-null float64\n",
      "Gender_Rank     104 non-null float64\n",
      "Total_races     104 non-null float64\n",
      "Success_rate    104 non-null float64\n",
      "gender_F        104 non-null float64\n",
      "dtypes: float64(7), int64(5)\n",
      "memory usage: 9.8 KB\n",
      "<class 'pandas.core.frame.DataFrame'>\n",
      "Int64Index: 10510 entries, 0 to 10509\n",
      "Data columns (total 13 columns):\n",
      "age               10510 non-null int64\n",
      "runner_rank       10510 non-null float64\n",
      "Season            10510 non-null int64\n",
      "Metro_area        10510 non-null int64\n",
      "WL_SO             10510 non-null int64\n",
      "Entry_fee         10510 non-null int64\n",
      "PPM               10510 non-null float64\n",
      "Age_Rank          10510 non-null float64\n",
      "Gender_Rank       10510 non-null float64\n",
      "Total_races       10510 non-null float64\n",
      "Success_rate      10510 non-null float64\n",
      "success_metric    10510 non-null float64\n",
      "gender_F          10510 non-null float64\n",
      "dtypes: float64(8), int64(5)\n",
      "memory usage: 1.1 MB\n"
     ]
    },
    {
     "data": {
      "text/plain": [
       "(None, None)"
      ]
     },
     "execution_count": 45,
     "metadata": {},
     "output_type": "execute_result"
    }
   ],
   "source": [
    "BB100X.info(), codedX.info()"
   ]
  },
  {
   "cell_type": "markdown",
   "metadata": {},
   "source": [
    "# Logistic Regression Modeling"
   ]
  },
  {
   "cell_type": "code",
   "execution_count": 228,
   "metadata": {
    "collapsed": false
   },
   "outputs": [
    {
     "name": "stdout",
     "output_type": "stream",
     "text": [
      "0.184121759271\n",
      "0.618828811449\n",
      "[[3001    0]\n",
      " [ 152    0]]\n"
     ]
    }
   ],
   "source": [
    "##coded dataframe\n",
    "cLR = LR(C=10)\n",
    "cLR.fit(cX_train, cy_train)\n",
    "cLRp = cLR.predict_proba(cX_test)\n",
    "cLRpr = cLR.predict(cX_test)\n",
    "print log_loss(cy_test, cLRp)\n",
    "print roc_auc_score(cy_test, cLRp[:,1])\n",
    "print confusion_matrix(cy_test, cLRpr)"
   ]
  },
  {
   "cell_type": "code",
   "execution_count": 229,
   "metadata": {
    "collapsed": false
   },
   "outputs": [
    {
     "name": "stdout",
     "output_type": "stream",
     "text": [
      "0.595052065254\n",
      "0.669203932762\n"
     ]
    }
   ],
   "source": [
    "##uncoded dataframe\n",
    "uLR = LR(C=10)\n",
    "uLR.fit(uX_train, uy_train)\n",
    "uLRp = uLR.predict_proba(uX_test)\n",
    "uLRa = uLR.predict(uX_test)\n",
    "print log_loss(uy_test, uLRp)\n",
    "print accuracy_score(uy_test, uLRa)"
   ]
  },
  {
   "cell_type": "code",
   "execution_count": 230,
   "metadata": {
    "collapsed": false
   },
   "outputs": [
    {
     "name": "stdout",
     "output_type": "stream",
     "text": [
      "0.631364842041\n",
      "0.667350019074\n",
      "[[3001    0]\n",
      " [ 152    0]]\n"
     ]
    }
   ],
   "source": [
    "##Finisher dataframe\n",
    "fLR = LR(C=100, penalty='l2', solver='newton-cg')\n",
    "fLR.fit(fX_train, fy_train)\n",
    "fLRp = fLR.predict_proba(fX_test)\n",
    "fLRpr = fLR.predict(fX_test)\n",
    "print log_loss(fy_test, fLRp)\n",
    "print roc_auc_score(fy_test, fLRp[:,1])\n",
    "print confusion_matrix(cy_test, cLRpr)"
   ]
  },
  {
   "cell_type": "code",
   "execution_count": 231,
   "metadata": {
    "collapsed": false
   },
   "outputs": [
    {
     "name": "stdout",
     "output_type": "stream",
     "text": [
      "0.282646878537\n",
      "0.55078125\n",
      "[[96  0]\n",
      " [ 8  0]]\n"
     ]
    }
   ],
   "source": [
    "##Brazos Bend Cross Validation\n",
    "##coded dataframe\n",
    "cLR = LR(C=10)\n",
    "cLR.fit(cX_train, cy_train)\n",
    "cLRpb = cLR.predict_proba(BB100X)\n",
    "cLRpr = cLR.predict(BB100X)\n",
    "print log_loss(y_BB100, cLRpb)\n",
    "print roc_auc_score(y_BB100, cLRpb[:,1])\n",
    "print confusion_matrix(y_BB100, cLRpr)"
   ]
  },
  {
   "cell_type": "code",
   "execution_count": 232,
   "metadata": {
    "collapsed": false
   },
   "outputs": [
    {
     "data": {
      "image/png": "[encoded data removed]",
      "text/plain": [
       "<matplotlib.figure.Figure at 0x118e2de10>"
      ]
     },
     "metadata": {},
     "output_type": "display_data"
    }
   ],
   "source": [
    "##ROC curve\n",
    "fpr, tpr, thresholds = roc_curve(cy_test, cLRp[:,1]) \n",
    "plt.plot(fpr, tpr)\n",
    "plt.show()"
   ]
  },
  {
   "cell_type": "markdown",
   "metadata": {},
   "source": [
    "# Random Forest"
   ]
  },
  {
   "cell_type": "code",
   "execution_count": 254,
   "metadata": {
    "collapsed": false
   },
   "outputs": [
    {
     "name": "stdout",
     "output_type": "stream",
     "text": [
      "0.204624113361\n",
      "0.652396569565\n",
      "[[2995    6]\n",
      " [ 152    0]]\n"
     ]
    }
   ],
   "source": [
    "##coded dataframe\n",
    "cRF = RFC(n_estimators=1000, criterion='gini', random_state=1, n_jobs=2)\n",
    "cRF.fit(cX_train, cy_train)\n",
    "cRFp = cRF.predict_proba(cX_test)\n",
    "cRFpr = cRF.predict(cX_test)\n",
    "\n",
    "print log_loss(cy_test, cRFp)\n",
    "print roc_auc_score(cy_test, cRFp[:,1])\n",
    "print confusion_matrix(cy_test, cRFpr)"
   ]
  },
  {
   "cell_type": "code",
   "execution_count": 236,
   "metadata": {
    "collapsed": false
   },
   "outputs": [
    {
     "name": "stdout",
     "output_type": "stream",
     "text": [
      "0.323268680046\n",
      "0.626302083333\n",
      "[[96  0]\n",
      " [ 8  0]]\n"
     ]
    }
   ],
   "source": [
    "# cRF = RFC(n_estimators=1000, criterion='gini', random_state=1, n_jobs=2)\n",
    "# cRF.fit(cX_train, cy_train)\n",
    "cRFpb = cRF.predict_proba(BB100X)\n",
    "cRFpr = cRF.predict(BB100X)\n",
    "\n",
    "print log_loss(y_BB100, cRFpb)\n",
    "print roc_auc_score(y_BB100, cRFpb[:,1])\n",
    "print confusion_matrix(y_BB100, cRFpr)"
   ]
  },
  {
   "cell_type": "code",
   "execution_count": 237,
   "metadata": {
    "collapsed": false
   },
   "outputs": [
    {
     "ename": "ValueError",
     "evalue": "Found input variables with inconsistent numbers of samples: [3153, 104]",
     "output_type": "error",
     "traceback": [
      "\u001b[0;31m---------------------------------------------------------------------------\u001b[0m",
      "\u001b[0;31mValueError\u001b[0m                                Traceback (most recent call last)",
      "\u001b[0;32m<ipython-input-237-3d1509d2cd6b>\u001b[0m in \u001b[0;36m<module>\u001b[0;34m()\u001b[0m\n\u001b[1;32m      8\u001b[0m         \u001b[0mpositive\u001b[0m\u001b[0;34m.\u001b[0m\u001b[0mappend\u001b[0m\u001b[0;34m(\u001b[0m\u001b[0;36m0\u001b[0m\u001b[0;34m)\u001b[0m\u001b[0;34m\u001b[0m\u001b[0m\n\u001b[1;32m      9\u001b[0m         \u001b[0mnegative\u001b[0m\u001b[0;34m.\u001b[0m\u001b[0mappend\u001b[0m\u001b[0;34m(\u001b[0m\u001b[0;36m1\u001b[0m\u001b[0;34m)\u001b[0m\u001b[0;34m\u001b[0m\u001b[0m\n\u001b[0;32m---> 10\u001b[0;31m \u001b[0mconfusion_matrix\u001b[0m\u001b[0;34m(\u001b[0m\u001b[0mcy_test\u001b[0m\u001b[0;34m,\u001b[0m \u001b[0mnegative\u001b[0m\u001b[0;34m)\u001b[0m\u001b[0;34m\u001b[0m\u001b[0m\n\u001b[0m",
      "\u001b[0;32m/Users/stef/anaconda2/lib/python2.7/site-packages/sklearn/metrics/classification.pyc\u001b[0m in \u001b[0;36mconfusion_matrix\u001b[0;34m(y_true, y_pred, labels, sample_weight)\u001b[0m\n\u001b[1;32m    238\u001b[0m \u001b[0;34m\u001b[0m\u001b[0m\n\u001b[1;32m    239\u001b[0m     \"\"\"\n\u001b[0;32m--> 240\u001b[0;31m     \u001b[0my_type\u001b[0m\u001b[0;34m,\u001b[0m \u001b[0my_true\u001b[0m\u001b[0;34m,\u001b[0m \u001b[0my_pred\u001b[0m \u001b[0;34m=\u001b[0m \u001b[0m_check_targets\u001b[0m\u001b[0;34m(\u001b[0m\u001b[0my_true\u001b[0m\u001b[0;34m,\u001b[0m \u001b[0my_pred\u001b[0m\u001b[0;34m)\u001b[0m\u001b[0;34m\u001b[0m\u001b[0m\n\u001b[0m\u001b[1;32m    241\u001b[0m     \u001b[0;32mif\u001b[0m \u001b[0my_type\u001b[0m \u001b[0;32mnot\u001b[0m \u001b[0;32min\u001b[0m \u001b[0;34m(\u001b[0m\u001b[0;34m\"binary\"\u001b[0m\u001b[0;34m,\u001b[0m \u001b[0;34m\"multiclass\"\u001b[0m\u001b[0;34m)\u001b[0m\u001b[0;34m:\u001b[0m\u001b[0;34m\u001b[0m\u001b[0m\n\u001b[1;32m    242\u001b[0m         \u001b[0;32mraise\u001b[0m \u001b[0mValueError\u001b[0m\u001b[0;34m(\u001b[0m\u001b[0;34m\"%s is not supported\"\u001b[0m \u001b[0;34m%\u001b[0m \u001b[0my_type\u001b[0m\u001b[0;34m)\u001b[0m\u001b[0;34m\u001b[0m\u001b[0m\n",
      "\u001b[0;32m/Users/stef/anaconda2/lib/python2.7/site-packages/sklearn/metrics/classification.pyc\u001b[0m in \u001b[0;36m_check_targets\u001b[0;34m(y_true, y_pred)\u001b[0m\n\u001b[1;32m     70\u001b[0m     \u001b[0my_pred\u001b[0m \u001b[0;34m:\u001b[0m \u001b[0marray\u001b[0m \u001b[0;32mor\u001b[0m \u001b[0mindicator\u001b[0m \u001b[0mmatrix\u001b[0m\u001b[0;34m\u001b[0m\u001b[0m\n\u001b[1;32m     71\u001b[0m     \"\"\"\n\u001b[0;32m---> 72\u001b[0;31m     \u001b[0mcheck_consistent_length\u001b[0m\u001b[0;34m(\u001b[0m\u001b[0my_true\u001b[0m\u001b[0;34m,\u001b[0m \u001b[0my_pred\u001b[0m\u001b[0;34m)\u001b[0m\u001b[0;34m\u001b[0m\u001b[0m\n\u001b[0m\u001b[1;32m     73\u001b[0m     \u001b[0mtype_true\u001b[0m \u001b[0;34m=\u001b[0m \u001b[0mtype_of_target\u001b[0m\u001b[0;34m(\u001b[0m\u001b[0my_true\u001b[0m\u001b[0;34m)\u001b[0m\u001b[0;34m\u001b[0m\u001b[0m\n\u001b[1;32m     74\u001b[0m     \u001b[0mtype_pred\u001b[0m \u001b[0;34m=\u001b[0m \u001b[0mtype_of_target\u001b[0m\u001b[0;34m(\u001b[0m\u001b[0my_pred\u001b[0m\u001b[0;34m)\u001b[0m\u001b[0;34m\u001b[0m\u001b[0m\n",
      "\u001b[0;32m/Users/stef/anaconda2/lib/python2.7/site-packages/sklearn/utils/validation.pyc\u001b[0m in \u001b[0;36mcheck_consistent_length\u001b[0;34m(*arrays)\u001b[0m\n\u001b[1;32m    179\u001b[0m     \u001b[0;32mif\u001b[0m \u001b[0mlen\u001b[0m\u001b[0;34m(\u001b[0m\u001b[0muniques\u001b[0m\u001b[0;34m)\u001b[0m \u001b[0;34m>\u001b[0m \u001b[0;36m1\u001b[0m\u001b[0;34m:\u001b[0m\u001b[0;34m\u001b[0m\u001b[0m\n\u001b[1;32m    180\u001b[0m         raise ValueError(\"Found input variables with inconsistent numbers of\"\n\u001b[0;32m--> 181\u001b[0;31m                          \" samples: %r\" % [int(l) for l in lengths])\n\u001b[0m\u001b[1;32m    182\u001b[0m \u001b[0;34m\u001b[0m\u001b[0m\n\u001b[1;32m    183\u001b[0m \u001b[0;34m\u001b[0m\u001b[0m\n",
      "\u001b[0;31mValueError\u001b[0m: Found input variables with inconsistent numbers of samples: [3153, 104]"
     ]
    }
   ],
   "source": [
    "positive = []\n",
    "negative = []\n",
    "for each in cRFp[:,1]:\n",
    "    if each > 0.002:\n",
    "        positive.append(1)\n",
    "        negative.append(0)\n",
    "    else:\n",
    "        positive.append(0)\n",
    "        negative.append(1)\n",
    "confusion_matrix(cy_test, negative)   "
   ]
  },
  {
   "cell_type": "code",
   "execution_count": 238,
   "metadata": {
    "collapsed": false
   },
   "outputs": [
    {
     "name": "stdout",
     "output_type": "stream",
     "text": [
      "0.596672954424\n",
      "0.677767205836\n",
      "[[1522  300    0]\n",
      " [ 716  461    0]\n",
      " [   0    0  154]]\n"
     ]
    }
   ],
   "source": [
    "##uncoded dataframe\n",
    "uRF = RFC(n_estimators=1000, criterion='gini', random_state=1, n_jobs=2)\n",
    "uRF.fit(uX_train, uy_train)\n",
    "uRFp = uRF.predict_proba(uX_test)\n",
    "uRFa = uRF.predict(uX_test)\n",
    "print log_loss(uy_test, uRFp)\n",
    "print accuracy_score(uy_test, uRFa)\n",
    "print confusion_matrix(uy_test, uRFa)"
   ]
  },
  {
   "cell_type": "code",
   "execution_count": 30,
   "metadata": {
    "collapsed": false
   },
   "outputs": [
    {
     "data": {
      "text/html": [
       "<div>\n",
       "<table border=\"1\" class=\"dataframe\">\n",
       "  <thead>\n",
       "    <tr style=\"text-align: right;\">\n",
       "      <th></th>\n",
       "      <th>age</th>\n",
       "      <th>runner_rank</th>\n",
       "      <th>Season</th>\n",
       "      <th>Metro_area</th>\n",
       "      <th>WL_SO</th>\n",
       "      <th>Entry_fee</th>\n",
       "      <th>PPM</th>\n",
       "      <th>Age_Rank</th>\n",
       "      <th>Gender_Rank</th>\n",
       "      <th>Total_races</th>\n",
       "      <th>Success_rate</th>\n",
       "      <th>gender_F</th>\n",
       "    </tr>\n",
       "  </thead>\n",
       "  <tbody>\n",
       "    <tr>\n",
       "      <th>3894</th>\n",
       "      <td>46</td>\n",
       "      <td>76.29</td>\n",
       "      <td>3</td>\n",
       "      <td>1</td>\n",
       "      <td>0</td>\n",
       "      <td>1</td>\n",
       "      <td>2.65</td>\n",
       "      <td>0.0000</td>\n",
       "      <td>0.0000</td>\n",
       "      <td>1.0</td>\n",
       "      <td>0.000000</td>\n",
       "      <td>1.0</td>\n",
       "    </tr>\n",
       "    <tr>\n",
       "      <th>480</th>\n",
       "      <td>58</td>\n",
       "      <td>74.09</td>\n",
       "      <td>3</td>\n",
       "      <td>0</td>\n",
       "      <td>1</td>\n",
       "      <td>1</td>\n",
       "      <td>2.50</td>\n",
       "      <td>0.0000</td>\n",
       "      <td>0.6189</td>\n",
       "      <td>1.0</td>\n",
       "      <td>1.000000</td>\n",
       "      <td>0.0</td>\n",
       "    </tr>\n",
       "    <tr>\n",
       "      <th>7007</th>\n",
       "      <td>45</td>\n",
       "      <td>56.51</td>\n",
       "      <td>2</td>\n",
       "      <td>1</td>\n",
       "      <td>1</td>\n",
       "      <td>1</td>\n",
       "      <td>2.75</td>\n",
       "      <td>0.8750</td>\n",
       "      <td>0.8446</td>\n",
       "      <td>1.0</td>\n",
       "      <td>1.000000</td>\n",
       "      <td>1.0</td>\n",
       "    </tr>\n",
       "    <tr>\n",
       "      <th>9573</th>\n",
       "      <td>32</td>\n",
       "      <td>74.83</td>\n",
       "      <td>1</td>\n",
       "      <td>1</td>\n",
       "      <td>1</td>\n",
       "      <td>1</td>\n",
       "      <td>2.50</td>\n",
       "      <td>0.5907</td>\n",
       "      <td>0.5586</td>\n",
       "      <td>5.0</td>\n",
       "      <td>1.000000</td>\n",
       "      <td>0.0</td>\n",
       "    </tr>\n",
       "    <tr>\n",
       "      <th>9927</th>\n",
       "      <td>53</td>\n",
       "      <td>58.57</td>\n",
       "      <td>3</td>\n",
       "      <td>0</td>\n",
       "      <td>1</td>\n",
       "      <td>1</td>\n",
       "      <td>2.50</td>\n",
       "      <td>0.7459</td>\n",
       "      <td>0.6674</td>\n",
       "      <td>9.0</td>\n",
       "      <td>0.777778</td>\n",
       "      <td>0.0</td>\n",
       "    </tr>\n",
       "  </tbody>\n",
       "</table>\n",
       "</div>"
      ],
      "text/plain": [
       "      age  runner_rank  Season  Metro_area  WL_SO  Entry_fee   PPM  Age_Rank  \\\n",
       "3894   46        76.29       3           1      0          1  2.65    0.0000   \n",
       "480    58        74.09       3           0      1          1  2.50    0.0000   \n",
       "7007   45        56.51       2           1      1          1  2.75    0.8750   \n",
       "9573   32        74.83       1           1      1          1  2.50    0.5907   \n",
       "9927   53        58.57       3           0      1          1  2.50    0.7459   \n",
       "\n",
       "      Gender_Rank  Total_races  Success_rate  gender_F  \n",
       "3894       0.0000          1.0      0.000000       1.0  \n",
       "480        0.6189          1.0      1.000000       0.0  \n",
       "7007       0.8446          1.0      1.000000       1.0  \n",
       "9573       0.5586          5.0      1.000000       0.0  \n",
       "9927       0.6674          9.0      0.777778       0.0  "
      ]
     },
     "execution_count": 30,
     "metadata": {},
     "output_type": "execute_result"
    }
   ],
   "source": [
    "fX_train.head()"
   ]
  },
  {
   "cell_type": "code",
   "execution_count": 240,
   "metadata": {
    "collapsed": false
   },
   "outputs": [
    {
     "name": "stdout",
     "output_type": "stream",
     "text": [
      "0.628582381905\n",
      "0.676556617074\n",
      "[[ 576  729]\n",
      " [ 373 1475]]\n"
     ]
    }
   ],
   "source": [
    "##Finisher dataframe\n",
    "fRF = RFC(n_estimators=500, criterion='gini', random_state=1, n_jobs=2)\n",
    "fRF.fit(fX_train, fy_train)\n",
    "fRFp = fRF.predict_proba(fX_test)\n",
    "fRFpr = fRF.predict(fX_test)\n",
    "\n",
    "print log_loss(fy_test, fRFp)\n",
    "print roc_auc_score(fy_test, fRFp[:,1])\n",
    "print confusion_matrix(fy_test, fRFpr)"
   ]
  },
  {
   "cell_type": "code",
   "execution_count": 252,
   "metadata": {
    "collapsed": false
   },
   "outputs": [
    {
     "data": {
      "image/png": "[encoded data removed]",
      "text/plain": [
       "<matplotlib.figure.Figure at 0x11a569290>"
      ]
     },
     "metadata": {},
     "output_type": "display_data"
    }
   ],
   "source": [
    "##ROC curve\n",
    "fpr, tpr, thresholds = roc_curve(y_BB100, cRFpb[:,1]) \n",
    "labels = ['fpr', 'tpr']\n",
    "RFP = plt.plot(fpr, tpr, 'r', label='Random Forest')\n"
   ]
  },
  {
   "cell_type": "markdown",
   "metadata": {},
   "source": [
    "# Gradient Boosted Classifier"
   ]
  },
  {
   "cell_type": "code",
   "execution_count": 22,
   "metadata": {
    "collapsed": false
   },
   "outputs": [
    {
     "name": "stdout",
     "output_type": "stream",
     "text": [
      "0.183990558482\n",
      "0.674663848541\n",
      "[[2994   11]\n",
      " [ 145    3]]\n",
      "0.950523311132\n"
     ]
    }
   ],
   "source": [
    "##coded dataframe\n",
    "cGBC = GBC(n_estimators=10000, max_depth=5, learning_rate=0.001)\n",
    "cGBC.fit(cX_train, cy_train)\n",
    "cGBCp = cGBC.predict_proba(cX_test)\n",
    "cGBCpr = cGBC.predict(cX_test)\n",
    "print log_loss(cy_test, cGBCp)\n",
    "print roc_auc_score(cy_test, cGBCp[:,1])\n",
    "print confusion_matrix(cy_test, cGBCpr)\n",
    "print accuracy_score(cy_test, cGBCpr)"
   ]
  },
  {
   "cell_type": "code",
   "execution_count": 31,
   "metadata": {
    "collapsed": false
   },
   "outputs": [
    {
     "ename": "ValueError",
     "evalue": "Number of features of the model must match the input. Model n_features is 13 and input n_features is 12 ",
     "output_type": "error",
     "traceback": [
      "\u001b[0;31m---------------------------------------------------------------------------\u001b[0m",
      "\u001b[0;31mValueError\u001b[0m                                Traceback (most recent call last)",
      "\u001b[0;32m<ipython-input-31-75d06b139162>\u001b[0m in \u001b[0;36m<module>\u001b[0;34m()\u001b[0m\n\u001b[1;32m      2\u001b[0m \u001b[0;31m# cGBC = GBC(n_estimators=10000, max_depth=5, learning_rate=0.001)\u001b[0m\u001b[0;34m\u001b[0m\u001b[0;34m\u001b[0m\u001b[0m\n\u001b[1;32m      3\u001b[0m \u001b[0;31m# cGBC.fit(cX_train, cy_train)\u001b[0m\u001b[0;34m\u001b[0m\u001b[0;34m\u001b[0m\u001b[0m\n\u001b[0;32m----> 4\u001b[0;31m \u001b[0mcGBCpb\u001b[0m \u001b[0;34m=\u001b[0m \u001b[0mcGBC\u001b[0m\u001b[0;34m.\u001b[0m\u001b[0mpredict_proba\u001b[0m\u001b[0;34m(\u001b[0m\u001b[0mBB100X\u001b[0m\u001b[0;34m)\u001b[0m\u001b[0;34m\u001b[0m\u001b[0m\n\u001b[0m\u001b[1;32m      5\u001b[0m \u001b[0mcGBCpr\u001b[0m \u001b[0;34m=\u001b[0m \u001b[0mcGBC\u001b[0m\u001b[0;34m.\u001b[0m\u001b[0mpredict\u001b[0m\u001b[0;34m(\u001b[0m\u001b[0mBB100X\u001b[0m\u001b[0;34m)\u001b[0m\u001b[0;34m\u001b[0m\u001b[0m\n\u001b[1;32m      6\u001b[0m \u001b[0;32mprint\u001b[0m \u001b[0mlog_loss\u001b[0m\u001b[0;34m(\u001b[0m\u001b[0my_BB100\u001b[0m\u001b[0;34m,\u001b[0m \u001b[0mcGBCpb\u001b[0m\u001b[0;34m)\u001b[0m\u001b[0;34m\u001b[0m\u001b[0m\n",
      "\u001b[0;32m/Users/stef/anaconda2/lib/python2.7/site-packages/sklearn/ensemble/gradient_boosting.pyc\u001b[0m in \u001b[0;36mpredict_proba\u001b[0;34m(self, X)\u001b[0m\n\u001b[1;32m   1575\u001b[0m             \u001b[0mclasses\u001b[0m \u001b[0mcorresponds\u001b[0m \u001b[0mto\u001b[0m \u001b[0mthat\u001b[0m \u001b[0;32min\u001b[0m \u001b[0mthe\u001b[0m \u001b[0mattribute\u001b[0m \u001b[0;34m`\u001b[0m\u001b[0mclasses_\u001b[0m\u001b[0;34m`\u001b[0m\u001b[0;34m.\u001b[0m\u001b[0;34m\u001b[0m\u001b[0m\n\u001b[1;32m   1576\u001b[0m         \"\"\"\n\u001b[0;32m-> 1577\u001b[0;31m         \u001b[0mscore\u001b[0m \u001b[0;34m=\u001b[0m \u001b[0mself\u001b[0m\u001b[0;34m.\u001b[0m\u001b[0mdecision_function\u001b[0m\u001b[0;34m(\u001b[0m\u001b[0mX\u001b[0m\u001b[0;34m)\u001b[0m\u001b[0;34m\u001b[0m\u001b[0m\n\u001b[0m\u001b[1;32m   1578\u001b[0m         \u001b[0;32mtry\u001b[0m\u001b[0;34m:\u001b[0m\u001b[0;34m\u001b[0m\u001b[0m\n\u001b[1;32m   1579\u001b[0m             \u001b[0;32mreturn\u001b[0m \u001b[0mself\u001b[0m\u001b[0;34m.\u001b[0m\u001b[0mloss_\u001b[0m\u001b[0;34m.\u001b[0m\u001b[0m_score_to_proba\u001b[0m\u001b[0;34m(\u001b[0m\u001b[0mscore\u001b[0m\u001b[0;34m)\u001b[0m\u001b[0;34m\u001b[0m\u001b[0m\n",
      "\u001b[0;32m/Users/stef/anaconda2/lib/python2.7/site-packages/sklearn/ensemble/gradient_boosting.pyc\u001b[0m in \u001b[0;36mdecision_function\u001b[0;34m(self, X)\u001b[0m\n\u001b[1;32m   1491\u001b[0m         \"\"\"\n\u001b[1;32m   1492\u001b[0m         \u001b[0mX\u001b[0m \u001b[0;34m=\u001b[0m \u001b[0mcheck_array\u001b[0m\u001b[0;34m(\u001b[0m\u001b[0mX\u001b[0m\u001b[0;34m,\u001b[0m \u001b[0mdtype\u001b[0m\u001b[0;34m=\u001b[0m\u001b[0mDTYPE\u001b[0m\u001b[0;34m,\u001b[0m \u001b[0morder\u001b[0m\u001b[0;34m=\u001b[0m\u001b[0;34m\"C\"\u001b[0m\u001b[0;34m)\u001b[0m\u001b[0;34m\u001b[0m\u001b[0m\n\u001b[0;32m-> 1493\u001b[0;31m         \u001b[0mscore\u001b[0m \u001b[0;34m=\u001b[0m \u001b[0mself\u001b[0m\u001b[0;34m.\u001b[0m\u001b[0m_decision_function\u001b[0m\u001b[0;34m(\u001b[0m\u001b[0mX\u001b[0m\u001b[0;34m)\u001b[0m\u001b[0;34m\u001b[0m\u001b[0m\n\u001b[0m\u001b[1;32m   1494\u001b[0m         \u001b[0;32mif\u001b[0m \u001b[0mscore\u001b[0m\u001b[0;34m.\u001b[0m\u001b[0mshape\u001b[0m\u001b[0;34m[\u001b[0m\u001b[0;36m1\u001b[0m\u001b[0;34m]\u001b[0m \u001b[0;34m==\u001b[0m \u001b[0;36m1\u001b[0m\u001b[0;34m:\u001b[0m\u001b[0;34m\u001b[0m\u001b[0m\n\u001b[1;32m   1495\u001b[0m             \u001b[0;32mreturn\u001b[0m \u001b[0mscore\u001b[0m\u001b[0;34m.\u001b[0m\u001b[0mravel\u001b[0m\u001b[0;34m(\u001b[0m\u001b[0;34m)\u001b[0m\u001b[0;34m\u001b[0m\u001b[0m\n",
      "\u001b[0;32m/Users/stef/anaconda2/lib/python2.7/site-packages/sklearn/ensemble/gradient_boosting.pyc\u001b[0m in \u001b[0;36m_decision_function\u001b[0;34m(self, X)\u001b[0m\n\u001b[1;32m   1122\u001b[0m         \u001b[0;31m# for use in inner loop, not raveling the output in single-class case,\u001b[0m\u001b[0;34m\u001b[0m\u001b[0;34m\u001b[0m\u001b[0m\n\u001b[1;32m   1123\u001b[0m         \u001b[0;31m# not doing input validation.\u001b[0m\u001b[0;34m\u001b[0m\u001b[0;34m\u001b[0m\u001b[0m\n\u001b[0;32m-> 1124\u001b[0;31m         \u001b[0mscore\u001b[0m \u001b[0;34m=\u001b[0m \u001b[0mself\u001b[0m\u001b[0;34m.\u001b[0m\u001b[0m_init_decision_function\u001b[0m\u001b[0;34m(\u001b[0m\u001b[0mX\u001b[0m\u001b[0;34m)\u001b[0m\u001b[0;34m\u001b[0m\u001b[0m\n\u001b[0m\u001b[1;32m   1125\u001b[0m         \u001b[0mpredict_stages\u001b[0m\u001b[0;34m(\u001b[0m\u001b[0mself\u001b[0m\u001b[0;34m.\u001b[0m\u001b[0mestimators_\u001b[0m\u001b[0;34m,\u001b[0m \u001b[0mX\u001b[0m\u001b[0;34m,\u001b[0m \u001b[0mself\u001b[0m\u001b[0;34m.\u001b[0m\u001b[0mlearning_rate\u001b[0m\u001b[0;34m,\u001b[0m \u001b[0mscore\u001b[0m\u001b[0;34m)\u001b[0m\u001b[0;34m\u001b[0m\u001b[0m\n\u001b[1;32m   1126\u001b[0m         \u001b[0;32mreturn\u001b[0m \u001b[0mscore\u001b[0m\u001b[0;34m\u001b[0m\u001b[0m\n",
      "\u001b[0;32m/Users/stef/anaconda2/lib/python2.7/site-packages/sklearn/ensemble/gradient_boosting.pyc\u001b[0m in \u001b[0;36m_init_decision_function\u001b[0;34m(self, X)\u001b[0m\n\u001b[1;32m   1112\u001b[0m         \u001b[0;34m\"\"\"Check input and compute prediction of ``init``. \"\"\"\u001b[0m\u001b[0;34m\u001b[0m\u001b[0m\n\u001b[1;32m   1113\u001b[0m         \u001b[0mself\u001b[0m\u001b[0;34m.\u001b[0m\u001b[0m_check_initialized\u001b[0m\u001b[0;34m(\u001b[0m\u001b[0;34m)\u001b[0m\u001b[0;34m\u001b[0m\u001b[0m\n\u001b[0;32m-> 1114\u001b[0;31m         \u001b[0mX\u001b[0m \u001b[0;34m=\u001b[0m \u001b[0mself\u001b[0m\u001b[0;34m.\u001b[0m\u001b[0mestimators_\u001b[0m\u001b[0;34m[\u001b[0m\u001b[0;36m0\u001b[0m\u001b[0;34m,\u001b[0m \u001b[0;36m0\u001b[0m\u001b[0;34m]\u001b[0m\u001b[0;34m.\u001b[0m\u001b[0m_validate_X_predict\u001b[0m\u001b[0;34m(\u001b[0m\u001b[0mX\u001b[0m\u001b[0;34m,\u001b[0m \u001b[0mcheck_input\u001b[0m\u001b[0;34m=\u001b[0m\u001b[0mTrue\u001b[0m\u001b[0;34m)\u001b[0m\u001b[0;34m\u001b[0m\u001b[0m\n\u001b[0m\u001b[1;32m   1115\u001b[0m         \u001b[0;32mif\u001b[0m \u001b[0mX\u001b[0m\u001b[0;34m.\u001b[0m\u001b[0mshape\u001b[0m\u001b[0;34m[\u001b[0m\u001b[0;36m1\u001b[0m\u001b[0;34m]\u001b[0m \u001b[0;34m!=\u001b[0m \u001b[0mself\u001b[0m\u001b[0;34m.\u001b[0m\u001b[0mn_features\u001b[0m\u001b[0;34m:\u001b[0m\u001b[0;34m\u001b[0m\u001b[0m\n\u001b[1;32m   1116\u001b[0m             raise ValueError(\"X.shape[1] should be {0:d}, not {1:d}.\".format(\n",
      "\u001b[0;32m/Users/stef/anaconda2/lib/python2.7/site-packages/sklearn/tree/tree.pyc\u001b[0m in \u001b[0;36m_validate_X_predict\u001b[0;34m(self, X, check_input)\u001b[0m\n\u001b[1;32m    401\u001b[0m                              \u001b[0;34m\"match the input. Model n_features is %s and \"\u001b[0m\u001b[0;34m\u001b[0m\u001b[0m\n\u001b[1;32m    402\u001b[0m                              \u001b[0;34m\"input n_features is %s \"\u001b[0m\u001b[0;34m\u001b[0m\u001b[0m\n\u001b[0;32m--> 403\u001b[0;31m                              % (self.n_features_, n_features))\n\u001b[0m\u001b[1;32m    404\u001b[0m \u001b[0;34m\u001b[0m\u001b[0m\n\u001b[1;32m    405\u001b[0m         \u001b[0;32mreturn\u001b[0m \u001b[0mX\u001b[0m\u001b[0;34m\u001b[0m\u001b[0m\n",
      "\u001b[0;31mValueError\u001b[0m: Number of features of the model must match the input. Model n_features is 13 and input n_features is 12 "
     ]
    }
   ],
   "source": [
    "##BB100 Cross validation data\n",
    "# cGBC = GBC(n_estimators=10000, max_depth=5, learning_rate=0.001)\n",
    "# cGBC.fit(cX_train, cy_train)\n",
    "cGBCpb = cGBC.predict_proba(BB100X)\n",
    "cGBCpr = cGBC.predict(BB100X)\n",
    "print log_loss(y_BB100, cGBCpb)\n",
    "print roc_auc_score(y_BB100, cGBCpb[:,1])\n",
    "print confusion_matrix(y_BB100, cGBCpr)"
   ]
  },
  {
   "cell_type": "code",
   "execution_count": 246,
   "metadata": {
    "collapsed": false
   },
   "outputs": [
    {
     "name": "stdout",
     "output_type": "stream",
     "text": [
      "0.579985184229\n",
      "0.690453536315\n"
     ]
    }
   ],
   "source": [
    "##uncoded dataframe\n",
    "uGBC = GBC(n_estimators=50, max_depth=4, learning_rate=0.1)\n",
    "uGBC.fit(uX_train, uy_train)\n",
    "uGBCp = uGBC.predict_proba(uX_test)\n",
    "uGBCa = uGBC.predict(uX_test)\n",
    "print log_loss(uy_test, uGBCp)\n",
    "print accuracy_score(uy_test, uGBCa)"
   ]
  },
  {
   "cell_type": "code",
   "execution_count": 159,
   "metadata": {
    "collapsed": false
   },
   "outputs": [
    {
     "data": {
      "text/plain": [
       "(array([[ 0.27482046,  0.72517954],\n",
       "        [ 0.29810954,  0.70189046],\n",
       "        [ 0.43556611,  0.56443389],\n",
       "        ..., \n",
       "        [ 0.37481883,  0.62518117],\n",
       "        [ 0.20952632,  0.79047368],\n",
       "        [ 0.63109716,  0.36890284]]), 9647     1\n",
       " 422      1\n",
       " 4682     1\n",
       " 5388     0\n",
       " 3346     1\n",
       " 9195     1\n",
       " 7651     0\n",
       " 8937     1\n",
       " 543      1\n",
       " 4900     0\n",
       " 4486     0\n",
       " 7354     1\n",
       " 5920     1\n",
       " 5439     0\n",
       " 4591     1\n",
       " 4276     1\n",
       " 9397     1\n",
       " 1611     0\n",
       " 702      1\n",
       " 2473     0\n",
       " 2664     1\n",
       " 353      1\n",
       " 7631     0\n",
       " 3928     0\n",
       " 7925     1\n",
       " 4814     1\n",
       " 7717     1\n",
       " 7661     0\n",
       " 169      1\n",
       " 4042     1\n",
       "         ..\n",
       " 6809     1\n",
       " 6144     1\n",
       " 3837     0\n",
       " 5789     0\n",
       " 6637     1\n",
       " 5376     0\n",
       " 8385     1\n",
       " 2343     1\n",
       " 6726     0\n",
       " 1234     0\n",
       " 8682     1\n",
       " 3679     1\n",
       " 2600     1\n",
       " 6110     1\n",
       " 7255     1\n",
       " 2930     1\n",
       " 4553     0\n",
       " 9336     0\n",
       " 3341     1\n",
       " 5677     1\n",
       " 4686     1\n",
       " 6746     0\n",
       " 4660     1\n",
       " 10148    1\n",
       " 1261     1\n",
       " 6044     1\n",
       " 5594     0\n",
       " 5936     1\n",
       " 9174     0\n",
       " 1717     0\n",
       " Name: DNF_DNS_coded, dtype: int64)"
      ]
     },
     "execution_count": 159,
     "metadata": {},
     "output_type": "execute_result"
    }
   ],
   "source": [
    "##Finisher dataframe\n",
    "# fGBC = GBC(n_estimators=1000, max_depth=8, learning_rate=0.01)\n",
    "# fGBC.fit(fX_train, fy_train)\n",
    "# fGBCp = fGBC.predict_proba(fX_test)\n",
    "# fGBCpr = fGBC.predict(fX_test)\n",
    "# print log_loss(fy_test, fGBCp)\n",
    "# print roc_auc_score(fy_test, fGBCp[:,1])\n",
    "# print confusion_matrix(fy_test, fGBCpr)\n",
    "# print accuracy_score(fy_test, fGBCpr)\n",
    "fGBCp, fy_test\n"
   ]
  },
  {
   "cell_type": "code",
   "execution_count": 19,
   "metadata": {
    "collapsed": false
   },
   "outputs": [
    {
     "data": {
      "text/plain": [
       "(7357, 12)"
      ]
     },
     "execution_count": 19,
     "metadata": {},
     "output_type": "execute_result"
    }
   ],
   "source": [
    "fX_train.shape"
   ]
  },
  {
   "cell_type": "code",
   "execution_count": 248,
   "metadata": {
    "collapsed": false
   },
   "outputs": [
    {
     "name": "stdout",
     "output_type": "stream",
     "text": [
      "0.945481664487\n",
      "0.410766045549\n",
      "[[44 25]\n",
      " [30  5]]\n",
      "0.471153846154\n"
     ]
    }
   ],
   "source": [
    "##BB100 Finishers\n",
    "##Finisher dataframe\n",
    "# fGBC = GBC(n_estimators=1000, max_depth=8, learning_rate=0.01)\n",
    "# fGBC.fit(fX_train, fy_train)\n",
    "fGBCpb = fGBC.predict_proba(BB100X_Finish)\n",
    "fGBCpr = fGBC.predict(BB100X_Finish)\n",
    "print log_loss(y_Finish_BB100, fGBCpb)\n",
    "print roc_auc_score(y_Finish_BB100, fGBCpb[:,1])\n",
    "print confusion_matrix(y_Finish_BB100, fGBCpr)\n",
    "print accuracy_score(y_Finish_BB100, fGBCpr)\n"
   ]
  },
  {
   "cell_type": "code",
   "execution_count": 250,
   "metadata": {
    "collapsed": false
   },
   "outputs": [
    {
     "data": {
      "image/png": "[encoded data removed]",
      "text/plain": [
       "<matplotlib.figure.Figure at 0x11a277ad0>"
      ]
     },
     "metadata": {},
     "output_type": "display_data"
    }
   ],
   "source": [
    "##ROC curve\n",
    "fpr, tpr, thresholds = roc_curve(cy_test, cGBCp[:,1]) \n",
    "labels = ['fpr', 'tpr']\n",
    "plt.plot(fpr, tpr, 'r')\n",
    "fpr2, tpr2, thresholds = roc_curve(y_BB100, cGBCpb[:,1]) \n",
    "labels = ['fpr', 'tpr']\n",
    "plt.plot(fpr, tpr, 'r')\n",
    "plt.plot(fpr2, tpr2, 'b')\n",
    "plt.show()"
   ]
  },
  {
   "cell_type": "code",
   "execution_count": 156,
   "metadata": {
    "collapsed": false
   },
   "outputs": [
    {
     "ename": "NameError",
     "evalue": "name 'cRFp' is not defined",
     "output_type": "error",
     "traceback": [
      "\u001b[0;31m---------------------------------------------------------------------------\u001b[0m",
      "\u001b[0;31mNameError\u001b[0m                                 Traceback (most recent call last)",
      "\u001b[0;32m<ipython-input-156-773905ded274>\u001b[0m in \u001b[0;36m<module>\u001b[0;34m()\u001b[0m\n\u001b[0;32m----> 1\u001b[0;31m \u001b[0mfpr\u001b[0m\u001b[0;34m,\u001b[0m \u001b[0mtpr\u001b[0m\u001b[0;34m,\u001b[0m \u001b[0mthresholds\u001b[0m \u001b[0;34m=\u001b[0m \u001b[0mroc_curve\u001b[0m\u001b[0;34m(\u001b[0m\u001b[0mcy_test\u001b[0m\u001b[0;34m,\u001b[0m \u001b[0mcRFp\u001b[0m\u001b[0;34m[\u001b[0m\u001b[0;34m:\u001b[0m\u001b[0;34m,\u001b[0m\u001b[0;36m1\u001b[0m\u001b[0;34m]\u001b[0m\u001b[0;34m)\u001b[0m\u001b[0;34m\u001b[0m\u001b[0m\n\u001b[0m\u001b[1;32m      2\u001b[0m \u001b[0mlabels\u001b[0m \u001b[0;34m=\u001b[0m \u001b[0;34m[\u001b[0m\u001b[0;34m'fpr'\u001b[0m\u001b[0;34m,\u001b[0m \u001b[0;34m'tpr'\u001b[0m\u001b[0;34m]\u001b[0m\u001b[0;34m\u001b[0m\u001b[0m\n\u001b[1;32m      3\u001b[0m \u001b[0mRFP\u001b[0m \u001b[0;34m=\u001b[0m \u001b[0mplt\u001b[0m\u001b[0;34m.\u001b[0m\u001b[0mplot\u001b[0m\u001b[0;34m(\u001b[0m\u001b[0mfpr\u001b[0m\u001b[0;34m,\u001b[0m \u001b[0mtpr\u001b[0m\u001b[0;34m,\u001b[0m \u001b[0;34m'r'\u001b[0m\u001b[0;34m,\u001b[0m \u001b[0mlabel\u001b[0m\u001b[0;34m=\u001b[0m\u001b[0;34m'Random Forest'\u001b[0m\u001b[0;34m)\u001b[0m\u001b[0;34m\u001b[0m\u001b[0m\n\u001b[1;32m      4\u001b[0m \u001b[0mfpr\u001b[0m\u001b[0;34m,\u001b[0m \u001b[0mtpr\u001b[0m\u001b[0;34m,\u001b[0m \u001b[0mthresholds\u001b[0m \u001b[0;34m=\u001b[0m \u001b[0mroc_curve\u001b[0m\u001b[0;34m(\u001b[0m\u001b[0mcy_test\u001b[0m\u001b[0;34m,\u001b[0m \u001b[0mcGBCp\u001b[0m\u001b[0;34m[\u001b[0m\u001b[0;34m:\u001b[0m\u001b[0;34m,\u001b[0m\u001b[0;36m1\u001b[0m\u001b[0;34m]\u001b[0m\u001b[0;34m)\u001b[0m\u001b[0;34m\u001b[0m\u001b[0m\n\u001b[1;32m      5\u001b[0m \u001b[0mGBCP\u001b[0m \u001b[0;34m=\u001b[0m \u001b[0mplt\u001b[0m\u001b[0;34m.\u001b[0m\u001b[0mplot\u001b[0m\u001b[0;34m(\u001b[0m\u001b[0mfpr\u001b[0m\u001b[0;34m,\u001b[0m \u001b[0mtpr\u001b[0m\u001b[0;34m,\u001b[0m \u001b[0;34m'b'\u001b[0m\u001b[0;34m,\u001b[0m \u001b[0mlabel\u001b[0m\u001b[0;34m=\u001b[0m\u001b[0;34m'Gradient Boosted Classifier'\u001b[0m\u001b[0;34m)\u001b[0m\u001b[0;34m\u001b[0m\u001b[0m\n",
      "\u001b[0;31mNameError\u001b[0m: name 'cRFp' is not defined"
     ]
    }
   ],
   "source": [
    "fpr, tpr, thresholds = roc_curve(cy_test, cRFp[:,1]) \n",
    "labels = ['fpr', 'tpr']\n",
    "RFP = plt.plot(fpr, tpr, 'r', label='Random Forest')\n",
    "fpr, tpr, thresholds = roc_curve(cy_test, cGBCp[:,1]) \n",
    "GBCP = plt.plot(fpr, tpr, 'b', label='Gradient Boosted Classifier')\n",
    "fpr, tpr, thresholds = roc_curve(cy_test, cLRp[:,1]) \n",
    "LRP = plt.plot(fpr, tpr, 'k', label='Logistic Regression')\n",
    "plt.ylabel('Pred Y, NS +$2.50')\n",
    "plt.xlabel('Pred Y, S -Reputation')\n",
    "plt.title('ROC curves for model selection')\n",
    "plt.legend(['RF', 'GBC', 'LR'], loc=4)\n",
    "plt.show()"
   ]
  },
  {
   "cell_type": "markdown",
   "metadata": {},
   "source": [
    "# Naive Bayes"
   ]
  },
  {
   "cell_type": "code",
   "execution_count": 256,
   "metadata": {
    "collapsed": false
   },
   "outputs": [
    {
     "name": "stdout",
     "output_type": "stream",
     "text": [
      "0.360146885428\n",
      "0.645221329732\n",
      "[[2746  255]\n",
      " [ 107   45]]\n",
      "0.885188709166\n"
     ]
    }
   ],
   "source": [
    "##coded dataframe\n",
    "cGNB = GaussianNB()\n",
    "cGNB.fit(cX_train, cy_train)\n",
    "cGNBp = cGNB.predict_proba(cX_test)\n",
    "cGNBpr = cGNB.predict(cX_test)\n",
    "print log_loss(cy_test, cGNBp)\n",
    "print roc_auc_score(cy_test, cGNBp[:,1])\n",
    "print confusion_matrix(cy_test, cGNBpr)\n",
    "print accuracy_score(cy_test, cGNBpr)"
   ]
  },
  {
   "cell_type": "code",
   "execution_count": 257,
   "metadata": {
    "collapsed": false
   },
   "outputs": [
    {
     "name": "stdout",
     "output_type": "stream",
     "text": [
      "2.53247681437\n",
      "0.55078125\n",
      "[[ 5 91]\n",
      " [ 0  8]]\n"
     ]
    }
   ],
   "source": [
    "##BB100 CV data\n",
    "cGNBpb = cGNB.predict_proba(BB100X)\n",
    "cGNBpr = cGNB.predict(BB100X)\n",
    "print log_loss(y_BB100, cGNBpb)\n",
    "print roc_auc_score(y_BB100, cGNBpb[:,1])\n",
    "print confusion_matrix(y_BB100, cGNBpr)"
   ]
  },
  {
   "cell_type": "code",
   "execution_count": 259,
   "metadata": {
    "collapsed": false
   },
   "outputs": [
    {
     "name": "stdout",
     "output_type": "stream",
     "text": [
      "0.73803557805\n"
     ]
    },
    {
     "ename": "ValueError",
     "evalue": "Found input variables with inconsistent numbers of samples: [3153, 104]",
     "output_type": "error",
     "traceback": [
      "\u001b[0;31m---------------------------------------------------------------------------\u001b[0m",
      "\u001b[0;31mValueError\u001b[0m                                Traceback (most recent call last)",
      "\u001b[0;32m<ipython-input-259-e25417b5a536>\u001b[0m in \u001b[0;36m<module>\u001b[0;34m()\u001b[0m\n\u001b[1;32m      5\u001b[0m \u001b[0muGNBpr\u001b[0m \u001b[0;34m=\u001b[0m \u001b[0muGNB\u001b[0m\u001b[0;34m.\u001b[0m\u001b[0mpredict\u001b[0m\u001b[0;34m(\u001b[0m\u001b[0muX_test\u001b[0m\u001b[0;34m)\u001b[0m\u001b[0;34m\u001b[0m\u001b[0m\n\u001b[1;32m      6\u001b[0m \u001b[0;32mprint\u001b[0m \u001b[0mlog_loss\u001b[0m\u001b[0;34m(\u001b[0m\u001b[0muy_test\u001b[0m\u001b[0;34m,\u001b[0m \u001b[0muGNBp\u001b[0m\u001b[0;34m)\u001b[0m\u001b[0;34m\u001b[0m\u001b[0m\n\u001b[0;32m----> 7\u001b[0;31m \u001b[0;32mprint\u001b[0m \u001b[0mconfusion_matrix\u001b[0m\u001b[0;34m(\u001b[0m\u001b[0muy_test\u001b[0m\u001b[0;34m,\u001b[0m \u001b[0mcGNBpr\u001b[0m\u001b[0;34m)\u001b[0m\u001b[0;34m\u001b[0m\u001b[0m\n\u001b[0m\u001b[1;32m      8\u001b[0m \u001b[0;32mprint\u001b[0m \u001b[0maccuracy_score\u001b[0m\u001b[0;34m(\u001b[0m\u001b[0muy_test\u001b[0m\u001b[0;34m,\u001b[0m \u001b[0mcGNBpr\u001b[0m\u001b[0;34m)\u001b[0m\u001b[0;34m\u001b[0m\u001b[0m\n",
      "\u001b[0;32m/Users/stef/anaconda2/lib/python2.7/site-packages/sklearn/metrics/classification.pyc\u001b[0m in \u001b[0;36mconfusion_matrix\u001b[0;34m(y_true, y_pred, labels, sample_weight)\u001b[0m\n\u001b[1;32m    238\u001b[0m \u001b[0;34m\u001b[0m\u001b[0m\n\u001b[1;32m    239\u001b[0m     \"\"\"\n\u001b[0;32m--> 240\u001b[0;31m     \u001b[0my_type\u001b[0m\u001b[0;34m,\u001b[0m \u001b[0my_true\u001b[0m\u001b[0;34m,\u001b[0m \u001b[0my_pred\u001b[0m \u001b[0;34m=\u001b[0m \u001b[0m_check_targets\u001b[0m\u001b[0;34m(\u001b[0m\u001b[0my_true\u001b[0m\u001b[0;34m,\u001b[0m \u001b[0my_pred\u001b[0m\u001b[0;34m)\u001b[0m\u001b[0;34m\u001b[0m\u001b[0m\n\u001b[0m\u001b[1;32m    241\u001b[0m     \u001b[0;32mif\u001b[0m \u001b[0my_type\u001b[0m \u001b[0;32mnot\u001b[0m \u001b[0;32min\u001b[0m \u001b[0;34m(\u001b[0m\u001b[0;34m\"binary\"\u001b[0m\u001b[0;34m,\u001b[0m \u001b[0;34m\"multiclass\"\u001b[0m\u001b[0;34m)\u001b[0m\u001b[0;34m:\u001b[0m\u001b[0;34m\u001b[0m\u001b[0m\n\u001b[1;32m    242\u001b[0m         \u001b[0;32mraise\u001b[0m \u001b[0mValueError\u001b[0m\u001b[0;34m(\u001b[0m\u001b[0;34m\"%s is not supported\"\u001b[0m \u001b[0;34m%\u001b[0m \u001b[0my_type\u001b[0m\u001b[0;34m)\u001b[0m\u001b[0;34m\u001b[0m\u001b[0m\n",
      "\u001b[0;32m/Users/stef/anaconda2/lib/python2.7/site-packages/sklearn/metrics/classification.pyc\u001b[0m in \u001b[0;36m_check_targets\u001b[0;34m(y_true, y_pred)\u001b[0m\n\u001b[1;32m     70\u001b[0m     \u001b[0my_pred\u001b[0m \u001b[0;34m:\u001b[0m \u001b[0marray\u001b[0m \u001b[0;32mor\u001b[0m \u001b[0mindicator\u001b[0m \u001b[0mmatrix\u001b[0m\u001b[0;34m\u001b[0m\u001b[0m\n\u001b[1;32m     71\u001b[0m     \"\"\"\n\u001b[0;32m---> 72\u001b[0;31m     \u001b[0mcheck_consistent_length\u001b[0m\u001b[0;34m(\u001b[0m\u001b[0my_true\u001b[0m\u001b[0;34m,\u001b[0m \u001b[0my_pred\u001b[0m\u001b[0;34m)\u001b[0m\u001b[0;34m\u001b[0m\u001b[0m\n\u001b[0m\u001b[1;32m     73\u001b[0m     \u001b[0mtype_true\u001b[0m \u001b[0;34m=\u001b[0m \u001b[0mtype_of_target\u001b[0m\u001b[0;34m(\u001b[0m\u001b[0my_true\u001b[0m\u001b[0;34m)\u001b[0m\u001b[0;34m\u001b[0m\u001b[0m\n\u001b[1;32m     74\u001b[0m     \u001b[0mtype_pred\u001b[0m \u001b[0;34m=\u001b[0m \u001b[0mtype_of_target\u001b[0m\u001b[0;34m(\u001b[0m\u001b[0my_pred\u001b[0m\u001b[0;34m)\u001b[0m\u001b[0;34m\u001b[0m\u001b[0m\n",
      "\u001b[0;32m/Users/stef/anaconda2/lib/python2.7/site-packages/sklearn/utils/validation.pyc\u001b[0m in \u001b[0;36mcheck_consistent_length\u001b[0;34m(*arrays)\u001b[0m\n\u001b[1;32m    179\u001b[0m     \u001b[0;32mif\u001b[0m \u001b[0mlen\u001b[0m\u001b[0;34m(\u001b[0m\u001b[0muniques\u001b[0m\u001b[0;34m)\u001b[0m \u001b[0;34m>\u001b[0m \u001b[0;36m1\u001b[0m\u001b[0;34m:\u001b[0m\u001b[0;34m\u001b[0m\u001b[0m\n\u001b[1;32m    180\u001b[0m         raise ValueError(\"Found input variables with inconsistent numbers of\"\n\u001b[0;32m--> 181\u001b[0;31m                          \" samples: %r\" % [int(l) for l in lengths])\n\u001b[0m\u001b[1;32m    182\u001b[0m \u001b[0;34m\u001b[0m\u001b[0m\n\u001b[1;32m    183\u001b[0m \u001b[0;34m\u001b[0m\u001b[0m\n",
      "\u001b[0;31mValueError\u001b[0m: Found input variables with inconsistent numbers of samples: [3153, 104]"
     ]
    }
   ],
   "source": [
    "##uncoded dataframe\n",
    "uGNB = GaussianNB()\n",
    "uGNB.fit(uX_train, uy_train)\n",
    "uGNBp = uGNB.predict_proba(uX_test)\n",
    "uGNBpr = uGNB.predict(uX_test)\n",
    "print log_loss(uy_test, uGNBp)\n",
    "print confusion_matrix(uy_test, cGNBpr)\n",
    "print accuracy_score(uy_test, cGNBpr)"
   ]
  },
  {
   "cell_type": "code",
   "execution_count": 260,
   "metadata": {
    "collapsed": false
   },
   "outputs": [
    {
     "name": "stdout",
     "output_type": "stream",
     "text": [
      "0.76587416536\n",
      "0.636809805775\n",
      "[[ 480  825]\n",
      " [ 405 1443]]\n",
      "0.609895337774\n"
     ]
    }
   ],
   "source": [
    "##Finisher dataframe\n",
    "fGNB = GaussianNB()\n",
    "fGNB.fit(fX_train, fy_train)\n",
    "fGNBp = fGNB.predict_proba(fX_test)\n",
    "fGNBpr = fGNB.predict(fX_test)\n",
    "print log_loss(fy_test, fGNBp)\n",
    "print roc_auc_score(fy_test, fGNBp[:,1])\n",
    "print confusion_matrix(fy_test, fGNBpr)\n",
    "print accuracy_score(fy_test, fGNBpr)"
   ]
  },
  {
   "cell_type": "markdown",
   "metadata": {},
   "source": [
    "# Summary of Results"
   ]
  },
  {
   "cell_type": "code",
   "execution_count": 163,
   "metadata": {
    "collapsed": false,
    "scrolled": true
   },
   "outputs": [
    {
     "data": {
      "image/png": "[encoded data removed]",
      "text/plain": [
       "<matplotlib.figure.Figure at 0x118ac8310>"
      ]
     },
     "metadata": {},
     "output_type": "display_data"
    }
   ],
   "source": [
    "TPC = 250.\n",
    "FPC = -100.\n",
    "FNC = 0.\n",
    "TNC = 100.\n",
    "# fpr, tpr, thresholds = roc_curve(cy_test, cRFp[:,1]) \n",
    "labels = ['fpr', 'tpr']\n",
    "# cost = (tpr * TPC) + ((1 - fpr) * TNC) + (fpr * FPC) + ((1 - tpr) * FNC)\n",
    "# RFP = plt.plot(thresholds, cost, 'r', label='Random Forest')\n",
    "fpr, tpr, thresholds = roc_curve(cy_test, cGBCp[:,1])\n",
    "cost = (tpr * TPC) + ((1 - fpr) * TNC) + (fpr * FPC) + ((1 - tpr) * FNC)\n",
    "GBcost = plt.plot(thresholds, cost, 'b', label='Gradient Boosted Classifier')\n",
    "# fpr, tpr, thresholds = roc_curve(cy_test, cLRp[:,1]) \n",
    "# cost = (tpr * TPC) + ((1 - fpr) * TNC) + (fpr * FPC) + ((1 - tpr) * FNC)\n",
    "# LRP = plt.plot(thresholds, cost, 'k', label='Logistic Regression')\n",
    "plt.axhline(0, color='g')\n",
    "plt.ylabel('cost')\n",
    "plt.xlabel('thresholds')\n",
    "plt.title('Profit Curves for model selection')\n",
    "plt.axis([0, 1, -100, 500])\n",
    "plt.legend(['GBC', 'Baseline'], loc=1)\n",
    "plt.show()"
   ]
  },
  {
   "cell_type": "code",
   "execution_count": 537,
   "metadata": {
    "collapsed": false
   },
   "outputs": [
    {
     "data": {
      "image/png": "[encoded data removed]",
      "text/plain": [
       "<matplotlib.figure.Figure at 0x130d58b10>"
      ]
     },
     "metadata": {},
     "output_type": "display_data"
    }
   ],
   "source": [
    "fpr, tpr, thresholds = roc_curve(fy_test, fRFp[:,1]) \n",
    "labels = ['fpr', 'tpr']\n",
    "RFP = plt.plot(fpr, tpr, 'r', label='Random Forest')\n",
    "fpr, tpr, thresholds = roc_curve(fy_test, fGBCp[:,1]) \n",
    "GBCP = plt.plot(fpr, tpr, 'b', label='Gradient Boosted Classifier')\n",
    "fpr, tpr, thresholds = roc_curve(fy_test, fLRp[:,1]) \n",
    "LRP = plt.plot(fpr, tpr, 'k', label='Logistic Regression')\n",
    "plt.ylabel('Pred Y, DNF/DNS')\n",
    "plt.xlabel('Pred Y, Finished')\n",
    "plt.title('ROC curves for model selection')\n",
    "plt.legend(['RF', 'GBC', 'LR'], loc=4)\n",
    "plt.show()"
   ]
  },
  {
   "cell_type": "code",
   "execution_count": 269,
   "metadata": {
    "collapsed": false
   },
   "outputs": [],
   "source": [
    "# TPC = 175.\n",
    "# FPC = -250.\n",
    "# FNC = 175.\n",
    "# TNC = -250.\n",
    "# fpr, tpr, thresholds = roc_curve(fy_test, fRFp[:,1]) \n",
    "# labels = ['fpr', 'tpr']\n",
    "# cost = (tpr * TPC) + ((1 - fpr) * TNC) + (fpr * FPC) + ((1 - tpr) * FNC)\n",
    "# RFP = plt.plot(thresholds, cost, 'r', label='Random Forest')\n",
    "# fpr, tpr, thresholds = roc_curve(fy_test, fGBCp[:,1])\n",
    "# cost = (tpr * TPC) + ((1 - fpr) * TNC) + (fpr * FPC) + ((1 - tpr) * FNC)\n",
    "# GBcost = plt.plot(thresholds, cost, 'b', label='Gradient Boosted Classifier')\n",
    "# fpr, tpr, thresholds = roc_curve(fy_test, fLRp[:,1]) \n",
    "# cost = (tpr * TPC) + ((1 - fpr) * TNC) + (fpr * FPC) + ((1 - tpr) * FNC)\n",
    "# LRP = plt.plot(thresholds, cost, 'k', label='Logistic Regression')\n",
    "# plt.axhline(0, color='g')\n",
    "# plt.ylabel('cost')\n",
    "# plt.xlabel('thresholds')\n",
    "# plt.title('Profit Curves for model selection')\n",
    "# plt.axis([0, 1, -500, 500])\n",
    "# plt.legend(['RF', 'GBC', 'LR'], loc=1)\n",
    "# plt.show()"
   ]
  },
  {
   "cell_type": "code",
   "execution_count": 238,
   "metadata": {
    "collapsed": false
   },
   "outputs": [],
   "source": [
    "race_fields = ['Season', 'Metro_area', 'WL_SO', 'Entry_fee', 'PPM']"
   ]
  },
  {
   "cell_type": "code",
   "execution_count": 258,
   "metadata": {
    "collapsed": false
   },
   "outputs": [],
   "source": [
    "race_features= pd.DataFrame({'Season': [3], 'Metro_area': [0], 'WL_SO': [1], 'Entry_fee': [1], 'PPM': [2.5]})"
   ]
  },
  {
   "cell_type": "code",
   "execution_count": null,
   "metadata": {
    "collapsed": false
   },
   "outputs": [],
   "source": []
  },
  {
   "cell_type": "code",
   "execution_count": 259,
   "metadata": {
    "collapsed": false
   },
   "outputs": [
    {
     "data": {
      "text/html": [
       "<div>\n",
       "<table border=\"1\" class=\"dataframe\">\n",
       "  <thead>\n",
       "    <tr style=\"text-align: right;\">\n",
       "      <th></th>\n",
       "      <th>Entry_fee</th>\n",
       "      <th>Metro_area</th>\n",
       "      <th>PPM</th>\n",
       "      <th>Season</th>\n",
       "      <th>WL_SO</th>\n",
       "    </tr>\n",
       "  </thead>\n",
       "  <tbody>\n",
       "    <tr>\n",
       "      <th>0</th>\n",
       "      <td>1</td>\n",
       "      <td>0</td>\n",
       "      <td>2.5</td>\n",
       "      <td>3</td>\n",
       "      <td>1</td>\n",
       "    </tr>\n",
       "  </tbody>\n",
       "</table>\n",
       "</div>"
      ],
      "text/plain": [
       "   Entry_fee  Metro_area  PPM  Season  WL_SO\n",
       "0          1           0  2.5       3      1"
      ]
     },
     "execution_count": 259,
     "metadata": {},
     "output_type": "execute_result"
    }
   ],
   "source": [
    "race_features"
   ]
  },
  {
   "cell_type": "code",
   "execution_count": 264,
   "metadata": {
    "collapsed": false
   },
   "outputs": [
    {
     "data": {
      "text/plain": [
       "3"
      ]
     },
     "execution_count": 264,
     "metadata": {},
     "output_type": "execute_result"
    }
   ],
   "source": [
    "race_features['Season'][0]"
   ]
  },
  {
   "cell_type": "code",
   "execution_count": null,
   "metadata": {
    "collapsed": true
   },
   "outputs": [],
   "source": []
  }
 ],
 "metadata": {
  "kernelspec": {
   "display_name": "Python 2",
   "language": "python",
   "name": "python2"
  },
  "language_info": {
   "codemirror_mode": {
    "name": "ipython",
    "version": 2
   },
   "file_extension": ".py",
   "mimetype": "text/x-python",
   "name": "python",
   "nbconvert_exporter": "python",
   "pygments_lexer": "ipython2",
   "version": "2.7.12"
  }
 },
 "nbformat": 4,
 "nbformat_minor": 0
}
